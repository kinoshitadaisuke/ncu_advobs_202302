{
 "cells": [
  {
   "cell_type": "markdown",
   "id": "89c03a5d-4680-487f-8e60-3d44508e2ef9",
   "metadata": {},
   "source": [
    "# Advanced Astronomical Observations #\n",
    "\n",
    "## second semester, academic year 2022 (from Feb/2023 to Jun/2023) ##\n",
    "\n",
    "## Session 05: Reading and Writing FITS files ##\n",
    "\n",
    "## Kinoshita Daisuke ##\n",
    "\n",
    "## 17/Mar/2023 ##"
   ]
  },
  {
   "cell_type": "markdown",
   "id": "0559d592-82d7-46c4-a71e-036b78e85c31",
   "metadata": {},
   "source": [
    "## Downloading data ##"
   ]
  },
  {
   "cell_type": "code",
   "execution_count": null,
   "id": "bec0376e-f350-4e39-88c2-8cba460ca102",
   "metadata": {},
   "outputs": [],
   "source": [
    "# run this cell to show the source code #\n",
    "\n",
    "!cat advobs202302_s05_00_00.py"
   ]
  },
  {
   "cell_type": "code",
   "execution_count": null,
   "id": "d9964a78-20fb-4173-a052-daee66212366",
   "metadata": {},
   "outputs": [],
   "source": [
    "# run this cell to execute the script #\n",
    "\n",
    "!python3.9 advobs202302_s05_00_00.py"
   ]
  },
  {
   "cell_type": "code",
   "execution_count": null,
   "id": "c95c8d25-593c-4e0e-95a7-f81a1b9d688b",
   "metadata": {},
   "outputs": [],
   "source": [
    "# show the file information of downloaded file #\n",
    "\n",
    "!ls -lF data_s05.tar.xz"
   ]
  },
  {
   "cell_type": "code",
   "execution_count": null,
   "id": "fe051347-a358-46e3-8026-93158cd806db",
   "metadata": {},
   "outputs": [],
   "source": [
    "# show the file type of downloaded file #\n",
    "\n",
    "!file data_s05.tar.xz"
   ]
  },
  {
   "cell_type": "markdown",
   "id": "3a1abded-666a-4f70-8637-4297f2f388de",
   "metadata": {},
   "source": [
    "## Extracting data ##"
   ]
  },
  {
   "cell_type": "code",
   "execution_count": null,
   "id": "721388b4-25b1-464a-a15b-79ee13770770",
   "metadata": {},
   "outputs": [],
   "source": [
    "# run this cell to extract data #\n",
    "\n",
    "!tar xJvf data_s05.tar.xz"
   ]
  },
  {
   "cell_type": "code",
   "execution_count": null,
   "id": "9ba9df0f-0a5e-471e-891c-59962f6fc130",
   "metadata": {},
   "outputs": [],
   "source": [
    "# run this cell to check extracted files #\n",
    "\n",
    "!ls -lF"
   ]
  },
  {
   "cell_type": "code",
   "execution_count": null,
   "id": "5b8e3a5a-740f-4f57-b84a-effda92b51c4",
   "metadata": {},
   "outputs": [],
   "source": [
    "# run this cell to show extracted FITS files #\n",
    "\n",
    "!ls -lF data_s05"
   ]
  },
  {
   "cell_type": "code",
   "execution_count": null,
   "id": "d8b25b3d-8c3b-4e17-9c11-22ad0afe95f9",
   "metadata": {},
   "outputs": [],
   "source": [
    "# run this cell to count number of extracted FITS files #\n",
    "\n",
    "!ls data_s05/*.fits | wc"
   ]
  },
  {
   "cell_type": "markdown",
   "id": "a218fbfb-db58-4a57-af1b-3dca04f651ab",
   "metadata": {},
   "source": [
    "## Trying Astropy ##"
   ]
  },
  {
   "cell_type": "code",
   "execution_count": null,
   "id": "7341a938-53d8-47bf-837a-1a3c05a05985",
   "metadata": {},
   "outputs": [],
   "source": [
    "# run this cell to import Astropy #\n",
    "\n",
    "import astropy"
   ]
  },
  {
   "cell_type": "markdown",
   "id": "ee9b358e-e439-41e6-b95c-3a713d07f158",
   "metadata": {},
   "source": [
    "### Sample script 01-00 ###"
   ]
  },
  {
   "cell_type": "code",
   "execution_count": null,
   "id": "5a929e39-e2c2-47f4-836e-8dc16de32720",
   "metadata": {},
   "outputs": [],
   "source": [
    "# run this cell to show the source code of the script #\n",
    "\n",
    "!cat advobs202302_s05_01_00.py"
   ]
  },
  {
   "cell_type": "code",
   "execution_count": null,
   "id": "88d83817-19a7-4b6c-ab96-dba7eb42efae",
   "metadata": {},
   "outputs": [],
   "source": [
    "# run this cell to execute the script #\n",
    "\n",
    "!python3.9 advobs202302_s05_01_00.py"
   ]
  },
  {
   "cell_type": "markdown",
   "id": "0e3e1e88-6946-43fc-b8a0-1af3dea4205b",
   "metadata": {},
   "source": [
    "### Sample script 01-01 ###"
   ]
  },
  {
   "cell_type": "code",
   "execution_count": null,
   "id": "2457e4d0-4f2d-41a7-a0c4-c0d467046dcd",
   "metadata": {},
   "outputs": [],
   "source": [
    "# run this cell to show the source code of the script #\n",
    "\n",
    "!cat advobs202302_s05_01_01.py"
   ]
  },
  {
   "cell_type": "code",
   "execution_count": null,
   "id": "0e15a36c-b113-4968-a047-d8d2e02e43a6",
   "metadata": {},
   "outputs": [],
   "source": [
    "# run this cell to execute the script #\n",
    "\n",
    "!python3.9 advobs202302_s05_01_01.py"
   ]
  },
  {
   "cell_type": "markdown",
   "id": "625fd6e9-b5df-43fd-a9b7-e57657d6d562",
   "metadata": {},
   "source": [
    "### Sample script 01-02 ###"
   ]
  },
  {
   "cell_type": "code",
   "execution_count": null,
   "id": "7adcfa1e-17a5-4ea9-96b2-f81061c57f39",
   "metadata": {},
   "outputs": [],
   "source": [
    "# run this cell to show the source code of the script #\n",
    "\n",
    "!cat advobs202302_s05_01_02.py"
   ]
  },
  {
   "cell_type": "code",
   "execution_count": null,
   "id": "3cfbcab9-f3f4-48aa-9158-60b62ec8cd8c",
   "metadata": {},
   "outputs": [],
   "source": [
    "# run this cell to execute the script #\n",
    "\n",
    "!python3.9 advobs202302_s05_01_02.py"
   ]
  },
  {
   "cell_type": "markdown",
   "id": "b19d3cc8-6435-4de2-878e-485919a1d8ba",
   "metadata": {},
   "source": [
    "### Sample script 01-03 ###"
   ]
  },
  {
   "cell_type": "code",
   "execution_count": null,
   "id": "f5ce6816-a522-45bc-acbf-70904cb063b4",
   "metadata": {},
   "outputs": [],
   "source": [
    "# run this cell to show the source code of the script #\n",
    "\n",
    "!cat advobs202302_s05_01_03.py"
   ]
  },
  {
   "cell_type": "code",
   "execution_count": null,
   "id": "71bf1ba2-ced2-4b9e-8727-1e7e0d2db65b",
   "metadata": {},
   "outputs": [],
   "source": [
    "# run this cell to execute the script #\n",
    "\n",
    "!python3.9 advobs202302_s05_01_03.py"
   ]
  },
  {
   "cell_type": "markdown",
   "id": "fcd777c8-2277-40e5-b7eb-62b888117f74",
   "metadata": {},
   "source": [
    "### Sample script 01-04 ###"
   ]
  },
  {
   "cell_type": "code",
   "execution_count": null,
   "id": "d090afff-df75-457a-9346-209542de19df",
   "metadata": {},
   "outputs": [],
   "source": [
    "# run this cell to show the source code of the script #\n",
    "\n",
    "!cat advobs202302_s05_01_04.py"
   ]
  },
  {
   "cell_type": "code",
   "execution_count": null,
   "id": "c6253bcf-f635-4cff-8acf-9e04ea3df7cd",
   "metadata": {},
   "outputs": [],
   "source": [
    "# run this cell to execute the script #\n",
    "\n",
    "!python3.9 advobs202302_s05_01_04.py"
   ]
  },
  {
   "cell_type": "markdown",
   "id": "c9bb3359-dfce-4e76-b3e7-03caa95bb0dd",
   "metadata": {},
   "source": [
    "### Sample script 01-05 ###"
   ]
  },
  {
   "cell_type": "code",
   "execution_count": null,
   "id": "ada4a350-4da4-47b0-b000-5fc8f55ac761",
   "metadata": {},
   "outputs": [],
   "source": [
    "# run this cell to show the source code of the script #\n",
    "\n",
    "!cat advobs202302_s05_01_05.py"
   ]
  },
  {
   "cell_type": "code",
   "execution_count": null,
   "id": "a3c204da-4d1b-4cc7-badf-f616db288817",
   "metadata": {},
   "outputs": [],
   "source": [
    "# run this cell to execute the script #\n",
    "\n",
    "!python3.9 advobs202302_s05_01_05.py"
   ]
  },
  {
   "cell_type": "code",
   "execution_count": null,
   "id": "c1f35283-f9a3-4f43-9907-b84940c6af24",
   "metadata": {},
   "outputs": [],
   "source": [
    "# run this cell to display the plot #\n",
    "\n",
    "import IPython.display\n",
    "\n",
    "IPython.display.Image ('advobs202302_s05_01_05.png')"
   ]
  },
  {
   "cell_type": "markdown",
   "id": "75abcfda-cdf8-4042-b9b5-c273da2ba85a",
   "metadata": {},
   "source": [
    "## Reading and writing a plain text file ##"
   ]
  },
  {
   "cell_type": "markdown",
   "id": "de00e364-03ee-4b38-a273-ba4e07f15ef8",
   "metadata": {},
   "source": [
    "### Sample script 02-00 ###"
   ]
  },
  {
   "cell_type": "code",
   "execution_count": null,
   "id": "e534e486-b960-46f6-a71a-b387fd28d826",
   "metadata": {},
   "outputs": [],
   "source": [
    "# run this cell to show the source code of the script #\n",
    "\n",
    "!cat advobs202302_s05_02_00.py"
   ]
  },
  {
   "cell_type": "code",
   "execution_count": null,
   "id": "0fce41c3-96b3-4cea-b241-37613af63b0e",
   "metadata": {},
   "outputs": [],
   "source": [
    "# run this cell to execute the script #\n",
    "\n",
    "!python3.9 advobs202302_s05_02_00.py"
   ]
  },
  {
   "cell_type": "code",
   "execution_count": null,
   "id": "cd9e7f9e-33f8-4f1a-a5ce-8129d956b2a0",
   "metadata": {},
   "outputs": [],
   "source": [
    "# run this cell to check downloaded file #\n",
    "\n",
    "!ls -lF comets.data"
   ]
  },
  {
   "cell_type": "markdown",
   "id": "bd1dbc2e-4f0e-44f5-9801-9aff1ae3b199",
   "metadata": {},
   "source": [
    "### Sample script 02-01 ###"
   ]
  },
  {
   "cell_type": "code",
   "execution_count": null,
   "id": "fa8edeb0-c9e9-41f8-8308-efec82b2f8bd",
   "metadata": {},
   "outputs": [],
   "source": [
    "# run this cell to show the source code of the script #\n",
    "\n",
    "!cat advobs202302_s05_02_01.py"
   ]
  },
  {
   "cell_type": "code",
   "execution_count": null,
   "id": "c06b3282-b35b-41f8-985e-afc88ea4a705",
   "metadata": {},
   "outputs": [],
   "source": [
    "# run this cell to execute the script #\n",
    "\n",
    "!python3.9 advobs202302_s05_02_01.py"
   ]
  },
  {
   "cell_type": "markdown",
   "id": "1270e2c5-24a8-407d-b30a-2dc36a8b947f",
   "metadata": {},
   "source": [
    "### Sample script 02-02 ###"
   ]
  },
  {
   "cell_type": "code",
   "execution_count": null,
   "id": "b139bac8-0a73-429b-bbe2-9bc6468ac41f",
   "metadata": {},
   "outputs": [],
   "source": [
    "# run this cell to show the source code of the script #\n",
    "\n",
    "!cat advobs202302_s05_02_02.py"
   ]
  },
  {
   "cell_type": "code",
   "execution_count": null,
   "id": "269ba075-7f30-4713-9583-828f0bba7ab5",
   "metadata": {},
   "outputs": [],
   "source": [
    "# run this cell to execute the script #\n",
    "\n",
    "!python3.9 advobs202302_s05_02_02.py"
   ]
  },
  {
   "cell_type": "code",
   "execution_count": null,
   "id": "df43dc10-4ac3-47c1-befc-1f55e15b0a32",
   "metadata": {},
   "outputs": [],
   "source": [
    "# run this cell to check created file #\n",
    "\n",
    "!ls -lF *.data"
   ]
  },
  {
   "cell_type": "code",
   "execution_count": null,
   "id": "182ffe19-2406-43aa-8b91-747e2b33d7f3",
   "metadata": {},
   "outputs": [],
   "source": [
    "# run this cell to show the file content #\n",
    "\n",
    "!cat bright_stars.data"
   ]
  },
  {
   "cell_type": "markdown",
   "id": "e945eec5-c7d7-4ac0-b22b-4f2aaab98eb5",
   "metadata": {},
   "source": [
    "## Command-line argument analysis using argparse ##"
   ]
  },
  {
   "cell_type": "markdown",
   "id": "0c71dfa2-15b1-4ba7-9357-af44c3f81a67",
   "metadata": {},
   "source": [
    "### Sample script 03-00 ###"
   ]
  },
  {
   "cell_type": "code",
   "execution_count": null,
   "id": "fb9a3c0b-5dd4-46fe-822f-f26ebece1375",
   "metadata": {},
   "outputs": [],
   "source": [
    "# run this cell to show the source code of the script #\n",
    "\n",
    "!cat advobs202302_s05_03_00.py"
   ]
  },
  {
   "cell_type": "code",
   "execution_count": null,
   "id": "650ab231-2430-4b29-95aa-0ff3375975b0",
   "metadata": {
    "tags": []
   },
   "outputs": [],
   "source": [
    "# run this cell to execute the script #\n",
    "\n",
    "!python3.9 advobs202302_s05_03_00.py -h"
   ]
  },
  {
   "cell_type": "code",
   "execution_count": null,
   "id": "3fc64f54-4966-4807-809b-5dfc51af426e",
   "metadata": {
    "tags": []
   },
   "outputs": [],
   "source": [
    "# run this cell to execute the script #\n",
    "\n",
    "!python3.9 advobs202302_s05_03_00.py 1.2 3.4"
   ]
  },
  {
   "cell_type": "code",
   "execution_count": null,
   "id": "88435a88-400e-4f42-bbf1-8e256ac70474",
   "metadata": {
    "tags": []
   },
   "outputs": [],
   "source": [
    "# run this cell to execute the script #\n",
    "\n",
    "!python3.9 advobs202302_s05_03_00.py 5.6 -7.8"
   ]
  },
  {
   "cell_type": "markdown",
   "id": "d116f292-95a1-4606-b5ff-a1a429118315",
   "metadata": {},
   "source": [
    "### Sample script 03-01 ###"
   ]
  },
  {
   "cell_type": "code",
   "execution_count": null,
   "id": "af2d027d-507c-4367-9137-c086dcb15147",
   "metadata": {},
   "outputs": [],
   "source": [
    "# run this cell to show the source code of the script #\n",
    "\n",
    "!cat advobs202302_s05_03_01.py"
   ]
  },
  {
   "cell_type": "code",
   "execution_count": null,
   "id": "fa36ad70-da42-4539-8a6d-7d31bd5d0cfd",
   "metadata": {
    "tags": []
   },
   "outputs": [],
   "source": [
    "# run this cell to execute the script #\n",
    "\n",
    "!python3.9 advobs202302_s05_03_01.py -h"
   ]
  },
  {
   "cell_type": "code",
   "execution_count": null,
   "id": "dd895cd0-442d-4775-80c7-bc14822c5e69",
   "metadata": {
    "tags": []
   },
   "outputs": [],
   "source": [
    "# run this cell to execute the script #\n",
    "\n",
    "!python3.9 advobs202302_s05_03_01.py -a 1.2 -b 3.4"
   ]
  },
  {
   "cell_type": "code",
   "execution_count": null,
   "id": "318e5556-6620-46cf-971a-b7fbc6c1fc19",
   "metadata": {
    "tags": []
   },
   "outputs": [],
   "source": [
    "# run this cell to execute the script #\n",
    "\n",
    "!python3.9 advobs202302_s05_03_01.py -a 5.6 -b -7.8"
   ]
  },
  {
   "cell_type": "code",
   "execution_count": null,
   "id": "44de62e6-f1e5-4d68-bd43-8822d913d59a",
   "metadata": {
    "tags": []
   },
   "outputs": [],
   "source": [
    "# run this cell to execute the script #\n",
    "\n",
    "!python3.9 advobs202302_s05_03_01.py"
   ]
  },
  {
   "cell_type": "markdown",
   "id": "714b57fc-18a0-4305-9e54-44a583182107",
   "metadata": {},
   "source": [
    "### Sample script 03-02 ###"
   ]
  },
  {
   "cell_type": "code",
   "execution_count": null,
   "id": "b57e5702-ee4a-4068-a661-9cf5961d2664",
   "metadata": {},
   "outputs": [],
   "source": [
    "# run this cell to show the source code of the script #\n",
    "\n",
    "!cat advobs202302_s05_03_02.py"
   ]
  },
  {
   "cell_type": "code",
   "execution_count": null,
   "id": "202b02d8-487d-47be-a5f5-7fa2754f2ea8",
   "metadata": {
    "tags": []
   },
   "outputs": [],
   "source": [
    "# run this cell to execute the script #\n",
    "\n",
    "!python3.9 advobs202302_s05_03_02.py -h"
   ]
  },
  {
   "cell_type": "code",
   "execution_count": null,
   "id": "5ea2d940-a02d-4011-8e90-5ccbd3441b2d",
   "metadata": {
    "tags": []
   },
   "outputs": [],
   "source": [
    "# run this cell to execute the script #\n",
    "\n",
    "!python3.9 advobs202302_s05_03_02.py -f sin 30"
   ]
  },
  {
   "cell_type": "code",
   "execution_count": null,
   "id": "2aa6c302-23f2-4db0-95be-7bb0dd5063a2",
   "metadata": {
    "tags": []
   },
   "outputs": [],
   "source": [
    "# run this cell to execute the script #\n",
    "\n",
    "!python3.9 advobs202302_s05_03_02.py -f cos 30"
   ]
  },
  {
   "cell_type": "code",
   "execution_count": null,
   "id": "a0823a31-ecdd-4607-bdac-5cd6788d1cc2",
   "metadata": {
    "tags": []
   },
   "outputs": [],
   "source": [
    "# run this cell to execute the script #\n",
    "\n",
    "!python3.9 advobs202302_s05_03_02.py -f cos 45"
   ]
  },
  {
   "cell_type": "markdown",
   "id": "f3c2600f-79f6-4a76-b80d-4be547393c99",
   "metadata": {},
   "source": [
    "## Reading a FITS file ##"
   ]
  },
  {
   "cell_type": "markdown",
   "id": "8aa4d986-75a8-4913-9cb7-d10a3d738b34",
   "metadata": {},
   "source": [
    "### Sample script 04-00 ###"
   ]
  },
  {
   "cell_type": "code",
   "execution_count": null,
   "id": "9e6ec35f-85f0-4f55-aeac-742e53f54384",
   "metadata": {},
   "outputs": [],
   "source": [
    "# run this cell to show the source code of the script #\n",
    "\n",
    "!cat advobs202302_s05_04_00.py"
   ]
  },
  {
   "cell_type": "code",
   "execution_count": null,
   "id": "6495e6a0-3473-403a-876b-162c02949fde",
   "metadata": {
    "tags": []
   },
   "outputs": [],
   "source": [
    "# run this cell to execute the script #\n",
    "\n",
    "!python3.9 advobs202302_s05_04_00.py -h"
   ]
  },
  {
   "cell_type": "code",
   "execution_count": null,
   "id": "21ef8dde-2a56-4cd6-a0d2-3e7a9a335db4",
   "metadata": {
    "tags": []
   },
   "outputs": [],
   "source": [
    "# run this cell to execute the script #\n",
    "\n",
    "!python3.9 advobs202302_s05_04_00.py data_s05/lot_20210212_0245.fits"
   ]
  },
  {
   "cell_type": "code",
   "execution_count": null,
   "id": "235a39f8-d963-4850-9dc7-0cb14eb6bd32",
   "metadata": {
    "tags": []
   },
   "outputs": [],
   "source": [
    "# run this cell to execute the script #\n",
    "\n",
    "!python3.9 advobs202302_s05_04_00.py data_s05/lot_20210212_0500.fits"
   ]
  },
  {
   "cell_type": "markdown",
   "id": "90bdda81-6c41-4c0e-be19-554128c72f1a",
   "metadata": {},
   "source": [
    "### Sample script 04-01 ###"
   ]
  },
  {
   "cell_type": "code",
   "execution_count": null,
   "id": "c81e15cd-f157-4ca6-a1d7-3ed4ec81e480",
   "metadata": {},
   "outputs": [],
   "source": [
    "# run this cell to show the source code of the script #\n",
    "\n",
    "!cat advobs202302_s05_04_01.py"
   ]
  },
  {
   "cell_type": "code",
   "execution_count": null,
   "id": "12857acb-7f18-4133-a557-9c86354b5286",
   "metadata": {
    "tags": []
   },
   "outputs": [],
   "source": [
    "# run this cell to execute the script #\n",
    "\n",
    "!python3.9 advobs202302_s05_04_01.py -h"
   ]
  },
  {
   "cell_type": "code",
   "execution_count": null,
   "id": "03f81778-56b9-4dff-8bfe-1f65f84cf9a5",
   "metadata": {
    "tags": []
   },
   "outputs": [],
   "source": [
    "# run this cell to execute the script #\n",
    "\n",
    "!python3.9 advobs202302_s05_04_01.py data_s05/lot_20210212_0260.fits"
   ]
  },
  {
   "cell_type": "markdown",
   "id": "9132f6f3-fd38-43fe-8d94-a630d5663a40",
   "metadata": {},
   "source": [
    "### Sample script 04-02 ###"
   ]
  },
  {
   "cell_type": "code",
   "execution_count": null,
   "id": "3cc27a09-1292-417e-a11e-9da5485b2600",
   "metadata": {},
   "outputs": [],
   "source": [
    "# run this cell to show the source code of the script #\n",
    "\n",
    "!cat advobs202302_s05_04_02.py"
   ]
  },
  {
   "cell_type": "code",
   "execution_count": null,
   "id": "e10c76ef-932c-456b-b7fd-539fd8e85dcc",
   "metadata": {
    "tags": []
   },
   "outputs": [],
   "source": [
    "# run this cell to execute the script #\n",
    "\n",
    "!python3.9 advobs202302_s05_04_02.py -h"
   ]
  },
  {
   "cell_type": "code",
   "execution_count": null,
   "id": "7fdc270b-1444-468b-b8ee-f9ceb8683cc2",
   "metadata": {
    "tags": []
   },
   "outputs": [],
   "source": [
    "# run this cell to execute the script #\n",
    "\n",
    "!python3.9 advobs202302_s05_04_02.py data_s05/lot_20210212_0270.fits"
   ]
  },
  {
   "cell_type": "code",
   "execution_count": null,
   "id": "343e23e1-7699-41e9-b727-2133126071e4",
   "metadata": {
    "tags": []
   },
   "outputs": [],
   "source": [
    "# run this cell to execute the script #\n",
    "\n",
    "!python3.9 advobs202302_s05_04_02.py -k NAXIS1 data_s05/lot_20210212_0270.fits"
   ]
  },
  {
   "cell_type": "code",
   "execution_count": null,
   "id": "0e156635-a3cd-42d4-9f09-3882db2f60f9",
   "metadata": {
    "tags": []
   },
   "outputs": [],
   "source": [
    "# run this cell to execute the script #\n",
    "\n",
    "!python3.9 advobs202302_s05_04_02.py -k EXPTIME data_s05/lot_20210212_0270.fits"
   ]
  },
  {
   "cell_type": "code",
   "execution_count": null,
   "id": "223225be-fc66-499f-a535-2673ca5b4fec",
   "metadata": {
    "tags": []
   },
   "outputs": [],
   "source": [
    "# run this cell to execute the script #\n",
    "\n",
    "!python3.9 advobs202302_s05_04_02.py -k IMAGETYP data_s05/lot_20210212_0270.fits"
   ]
  },
  {
   "cell_type": "code",
   "execution_count": null,
   "id": "208c5713-8055-46cb-ac45-b51aaaedf2c4",
   "metadata": {
    "tags": []
   },
   "outputs": [],
   "source": [
    "# run this cell to execute the script #\n",
    "\n",
    "!python3.9 advobs202302_s05_04_02.py -k IMAGETYP data_s05/lot_20210212_0460.fits"
   ]
  },
  {
   "cell_type": "markdown",
   "id": "c1ad15b2-c47e-4981-b7d8-43f925042b09",
   "metadata": {},
   "source": [
    "### Sample script 04-03 ###"
   ]
  },
  {
   "cell_type": "code",
   "execution_count": null,
   "id": "99e939f9-77d2-4c33-8271-df4dd3e67740",
   "metadata": {},
   "outputs": [],
   "source": [
    "# run this cell to show the source code of the script #\n",
    "\n",
    "!cat advobs202302_s05_04_03.py"
   ]
  },
  {
   "cell_type": "code",
   "execution_count": null,
   "id": "8b2b7620-6826-4f7d-83bb-d726613a4133",
   "metadata": {
    "tags": []
   },
   "outputs": [],
   "source": [
    "# run this cell to execute the script #\n",
    "\n",
    "!python3.9 advobs202302_s05_04_03.py -h"
   ]
  },
  {
   "cell_type": "code",
   "execution_count": null,
   "id": "e1633728-dcee-4d9d-a27b-9cd30f4bce67",
   "metadata": {
    "tags": []
   },
   "outputs": [],
   "source": [
    "# run this cell to execute the script #\n",
    "\n",
    "!python3.9 advobs202302_s05_04_03.py data_s05/lot_20210212_02??.fits"
   ]
  },
  {
   "cell_type": "code",
   "execution_count": null,
   "id": "64eb63fd-67e1-4c02-80c1-0c3255ede903",
   "metadata": {
    "tags": []
   },
   "outputs": [],
   "source": [
    "# run this cell to execute the script #\n",
    "\n",
    "!python3.9 advobs202302_s05_04_03.py data_s05/lot_20210212_*.fits"
   ]
  },
  {
   "cell_type": "markdown",
   "id": "4153efb0-0dd3-43bd-a0ed-26af0fa17fd4",
   "metadata": {},
   "source": [
    "### Sample script 04-04 ###"
   ]
  },
  {
   "cell_type": "code",
   "execution_count": null,
   "id": "4df24b9f-5901-43b9-a092-dbe100a662e2",
   "metadata": {},
   "outputs": [],
   "source": [
    "# run this cell to show the source code of the script #\n",
    "\n",
    "!cat advobs202302_s05_04_04.py"
   ]
  },
  {
   "cell_type": "code",
   "execution_count": null,
   "id": "c7f4c681-013d-4e0b-bed8-65cca2c7027f",
   "metadata": {
    "tags": []
   },
   "outputs": [],
   "source": [
    "# run this cell to execute the script #\n",
    "\n",
    "!python3.9 advobs202302_s05_04_04.py -h"
   ]
  },
  {
   "cell_type": "code",
   "execution_count": null,
   "id": "22d3a1aa-61ba-49a2-b2f8-fc8e2102c603",
   "metadata": {
    "tags": []
   },
   "outputs": [],
   "source": [
    "# run this cell to execute the script #\n",
    "\n",
    "!python3.9 advobs202302_s05_04_04.py data_s05/lot_20210212_0500.fits"
   ]
  },
  {
   "cell_type": "code",
   "execution_count": null,
   "id": "9904424f-f84f-4cfb-8a03-5405a028f835",
   "metadata": {
    "tags": []
   },
   "outputs": [],
   "source": [
    "# run this cell to execute the script #\n",
    "\n",
    "!python3.9 advobs202302_s05_04_04.py data_s05/lot_20210212_0510.fits"
   ]
  },
  {
   "cell_type": "markdown",
   "id": "ebc3fd9c-9116-45e7-a1c7-f778b57775f3",
   "metadata": {},
   "source": [
    "### Sample script 04-05 ###"
   ]
  },
  {
   "cell_type": "code",
   "execution_count": null,
   "id": "60be002e-d97a-4ff4-adeb-fadd060d8b66",
   "metadata": {},
   "outputs": [],
   "source": [
    "# run this cell to show the source code of the script #\n",
    "\n",
    "!cat advobs202302_s05_04_05.py"
   ]
  },
  {
   "cell_type": "code",
   "execution_count": null,
   "id": "15fb2f1a-7c64-4e11-9570-73c2e50976b5",
   "metadata": {
    "tags": []
   },
   "outputs": [],
   "source": [
    "# run this cell to execute the script #\n",
    "\n",
    "!python3.9 advobs202302_s05_04_05.py -h"
   ]
  },
  {
   "cell_type": "code",
   "execution_count": null,
   "id": "7601ab1c-0d02-424f-a147-a148f6da97a5",
   "metadata": {
    "tags": []
   },
   "outputs": [],
   "source": [
    "# run this cell to execute the script #\n",
    "\n",
    "!python3.9 advobs202302_s05_04_05.py data_s05/lot_20210212_0520.fits"
   ]
  },
  {
   "cell_type": "markdown",
   "id": "44ab49b5-a7ae-416b-9eca-ad226e74d5f0",
   "metadata": {},
   "source": [
    "### Sample script 04-06 ###"
   ]
  },
  {
   "cell_type": "code",
   "execution_count": null,
   "id": "079184bf-acee-41e1-9a75-09abbe636a3d",
   "metadata": {},
   "outputs": [],
   "source": [
    "# run this cell to show the source code of the script #\n",
    "\n",
    "!cat advobs202302_s05_04_06.py"
   ]
  },
  {
   "cell_type": "code",
   "execution_count": null,
   "id": "20101708-e696-405f-8e89-78baea2d8ca8",
   "metadata": {
    "tags": []
   },
   "outputs": [],
   "source": [
    "# run this cell to execute the script #\n",
    "\n",
    "!python3.9 advobs202302_s05_04_06.py -h"
   ]
  },
  {
   "cell_type": "code",
   "execution_count": null,
   "id": "79fb83f0-7d25-4b1d-b682-19a922dbc054",
   "metadata": {
    "tags": []
   },
   "outputs": [],
   "source": [
    "# run this cell to execute the script #\n",
    "\n",
    "!python3.9 advobs202302_s05_04_06.py -x 500 -y 1000 data_s05/lot_20210212_0250.fits"
   ]
  },
  {
   "cell_type": "code",
   "execution_count": null,
   "id": "c5c10090-7a38-4971-ab56-df9208886e71",
   "metadata": {
    "tags": []
   },
   "outputs": [],
   "source": [
    "# run this cell to execute the script #\n",
    "\n",
    "!python3.9 advobs202302_s05_04_06.py -x 1200 -y 800 data_s05/lot_20210212_0250.fits"
   ]
  },
  {
   "cell_type": "code",
   "execution_count": null,
   "id": "caf64765-b76d-4ab9-9669-93391abe7698",
   "metadata": {
    "tags": []
   },
   "outputs": [],
   "source": [
    "# run this cell to execute the script #\n",
    "\n",
    "!python3.9 advobs202302_s05_04_06.py -x 1000 -y 1000 data_s05/lot_20210212_0260.fits"
   ]
  },
  {
   "cell_type": "markdown",
   "id": "aa82e14c-6710-4221-87d9-e72b03c62c73",
   "metadata": {},
   "source": [
    "## Calculating statistical values of image data ##"
   ]
  },
  {
   "cell_type": "markdown",
   "id": "b55d762e-9854-4224-b324-350e6ea3df87",
   "metadata": {
    "tags": []
   },
   "source": [
    "### Sample script 05-00 ###"
   ]
  },
  {
   "cell_type": "code",
   "execution_count": null,
   "id": "9e841bd6-25ec-4f85-b245-6a4ca95ded8c",
   "metadata": {},
   "outputs": [],
   "source": [
    "# run this cell to show the source code of the script #\n",
    "\n",
    "!cat advobs202302_s05_05_00.py"
   ]
  },
  {
   "cell_type": "code",
   "execution_count": null,
   "id": "8cd979ca-ada0-402b-9aa6-337e37d83ae4",
   "metadata": {
    "tags": []
   },
   "outputs": [],
   "source": [
    "# run this cell to execute the script #\n",
    "\n",
    "!python3.9 advobs202302_s05_05_00.py -h"
   ]
  },
  {
   "cell_type": "code",
   "execution_count": null,
   "id": "3dbbdce0-6cc1-4e71-a2df-87a6ed4e8c4f",
   "metadata": {
    "tags": []
   },
   "outputs": [],
   "source": [
    "# run this cell to execute the script #\n",
    "\n",
    "!python3.9 advobs202302_s05_05_00.py data_s05/lot_20210212_0250.fits"
   ]
  },
  {
   "cell_type": "code",
   "execution_count": null,
   "id": "470432a9-b1e7-495d-a7ee-ed08b6498dad",
   "metadata": {
    "tags": []
   },
   "outputs": [],
   "source": [
    "# run this cell to execute the script #\n",
    "\n",
    "!python3.9 advobs202302_s05_05_00.py data_s05/lot_20210212_0255.fits"
   ]
  },
  {
   "cell_type": "code",
   "execution_count": null,
   "id": "aeb645c3-cf4f-458e-bc7f-0ad79f1f0c23",
   "metadata": {
    "tags": []
   },
   "outputs": [],
   "source": [
    "# run this cell to execute the script #\n",
    "\n",
    "!python3.9 advobs202302_s05_05_00.py data_s05/lot_20210212_0460.fits"
   ]
  },
  {
   "cell_type": "markdown",
   "id": "661832a9-3304-4de2-952e-439adaec0a92",
   "metadata": {
    "tags": []
   },
   "source": [
    "### Sample script 05-01 ###"
   ]
  },
  {
   "cell_type": "code",
   "execution_count": null,
   "id": "bbeb6d1c-eff6-4214-b837-e9eb6a851f34",
   "metadata": {},
   "outputs": [],
   "source": [
    "# run this cell to show the source code of the script #\n",
    "\n",
    "!cat advobs202302_s05_05_01.py"
   ]
  },
  {
   "cell_type": "code",
   "execution_count": null,
   "id": "1d4c6828-b68a-4661-af2b-6c2817af9e44",
   "metadata": {
    "tags": []
   },
   "outputs": [],
   "source": [
    "# run this cell to execute the script #\n",
    "\n",
    "!python3.9 advobs202302_s05_05_01.py -h"
   ]
  },
  {
   "cell_type": "code",
   "execution_count": null,
   "id": "a669bb78-8506-47c6-858c-0fd140c4cf4d",
   "metadata": {
    "tags": []
   },
   "outputs": [],
   "source": [
    "# run this cell to execute the script #\n",
    "\n",
    "!python3.9 advobs202302_s05_05_01.py data_s05/lot_20210212_046?.fits"
   ]
  },
  {
   "cell_type": "code",
   "execution_count": null,
   "id": "ff17d6b1-b92b-4335-a663-41095681f948",
   "metadata": {
    "tags": []
   },
   "outputs": [],
   "source": [
    "# run this cell to execute the script #\n",
    "\n",
    "!python3.9 advobs202302_s05_05_01.py data_s05/lot_20210212_050?.fits"
   ]
  },
  {
   "cell_type": "markdown",
   "id": "58f7e5d1-0731-42bc-b4a4-778249f541c1",
   "metadata": {
    "tags": []
   },
   "source": [
    "### Sample script 05-02 ###"
   ]
  },
  {
   "cell_type": "code",
   "execution_count": null,
   "id": "b562808f-0edc-4172-8397-76e9e16137b2",
   "metadata": {},
   "outputs": [],
   "source": [
    "# run this cell to show the source code of the script #\n",
    "\n",
    "!cat advobs202302_s05_05_02.py"
   ]
  },
  {
   "cell_type": "code",
   "execution_count": null,
   "id": "a66e1b2c-f766-4c55-aa64-4f1dafea7bb8",
   "metadata": {
    "tags": []
   },
   "outputs": [],
   "source": [
    "# run this cell to execute the script #\n",
    "\n",
    "!python3.9 advobs202302_s05_05_02.py -h"
   ]
  },
  {
   "cell_type": "code",
   "execution_count": null,
   "id": "0989da35-6ebd-420e-b792-d152e18a227a",
   "metadata": {
    "tags": []
   },
   "outputs": [],
   "source": [
    "# run this cell to execute the script #\n",
    "\n",
    "!python3.9 advobs202302_s05_05_02.py data_s05/lot_20210212_0480.fits"
   ]
  },
  {
   "cell_type": "code",
   "execution_count": null,
   "id": "4373ad02-1808-4b19-8948-205a460f44e5",
   "metadata": {
    "tags": []
   },
   "outputs": [],
   "source": [
    "# run this cell to execute the script #\n",
    "\n",
    "!python3.9 advobs202302_s05_05_02.py data_s05/lot_20210212_0500.fits"
   ]
  },
  {
   "cell_type": "markdown",
   "id": "a1fbf76e-e240-45e7-b3c4-48b95b9cc494",
   "metadata": {
    "tags": []
   },
   "source": [
    "### Sample script 05-03 ###"
   ]
  },
  {
   "cell_type": "code",
   "execution_count": null,
   "id": "97e497e8-d694-4d39-8707-b666b9f5f782",
   "metadata": {},
   "outputs": [],
   "source": [
    "# run this cell to show the source code of the script #\n",
    "\n",
    "!cat advobs202302_s05_05_03.py"
   ]
  },
  {
   "cell_type": "code",
   "execution_count": null,
   "id": "54d3ceab-bf2f-4b82-87ea-7d61c4a9c95d",
   "metadata": {
    "tags": []
   },
   "outputs": [],
   "source": [
    "# run this cell to execute the script #\n",
    "\n",
    "!python3.9 advobs202302_s05_05_03.py -h"
   ]
  },
  {
   "cell_type": "code",
   "execution_count": null,
   "id": "ece243c0-734d-457c-89d7-71feec685104",
   "metadata": {
    "tags": []
   },
   "outputs": [],
   "source": [
    "# run this cell to execute the script #\n",
    "\n",
    "!python3.9 advobs202302_s05_05_03.py data_s05/lot_20210212_048?.fits"
   ]
  },
  {
   "cell_type": "code",
   "execution_count": null,
   "id": "03b1080a-590b-4163-ad9f-a240a2ca6f0d",
   "metadata": {
    "tags": []
   },
   "outputs": [],
   "source": [
    "# run this cell to execute the script #\n",
    "\n",
    "!python3.9 advobs202302_s05_05_03.py data_s05/lot_20210212_049?.fits"
   ]
  },
  {
   "cell_type": "markdown",
   "id": "a1ea9a31-49ed-4438-b80d-94bcbeea85c3",
   "metadata": {},
   "source": [
    "## Writing a FITS file ##"
   ]
  },
  {
   "cell_type": "markdown",
   "id": "4700d4e9-0d38-43de-a208-6084c6e5b5a0",
   "metadata": {
    "tags": []
   },
   "source": [
    "### Sample script 06-00 ###"
   ]
  },
  {
   "cell_type": "code",
   "execution_count": null,
   "id": "f597065b-b634-416b-bda3-66c5c4af0ffe",
   "metadata": {},
   "outputs": [],
   "source": [
    "# run this cell to show the source code of the script #\n",
    "\n",
    "!cat advobs202302_s05_06_00.py"
   ]
  },
  {
   "cell_type": "code",
   "execution_count": null,
   "id": "443f05a3-90f9-4354-b04a-1eac4e882a57",
   "metadata": {
    "tags": []
   },
   "outputs": [],
   "source": [
    "# run this cell to execute the script #\n",
    "\n",
    "!python3.9 advobs202302_s05_06_00.py -h"
   ]
  },
  {
   "cell_type": "code",
   "execution_count": null,
   "id": "b14a5fdb-2d70-4ff7-87bf-3d5c934f991d",
   "metadata": {
    "tags": []
   },
   "outputs": [],
   "source": [
    "# run this cell to execute the script #\n",
    "\n",
    "!python3.9 advobs202302_s05_06_00.py new0.fits"
   ]
  },
  {
   "cell_type": "code",
   "execution_count": null,
   "id": "82fb1ede-e6fb-4a0f-8364-b8b55ed353f8",
   "metadata": {},
   "outputs": [],
   "source": [
    "# run this cell to check new FITS file #\n",
    "\n",
    "!ls -lF new0.fits"
   ]
  },
  {
   "cell_type": "code",
   "execution_count": null,
   "id": "9790d2ff-e27c-4e39-aeff-55e60a86474e",
   "metadata": {},
   "outputs": [],
   "source": [
    "# run this cell to check new FITS file #\n",
    "\n",
    "!file new0.fits"
   ]
  },
  {
   "cell_type": "code",
   "execution_count": null,
   "id": "fe9cb7ec-f3e2-4d1c-af27-59ef91e6c334",
   "metadata": {},
   "outputs": [],
   "source": [
    "# run this cell to check new FITS file #\n",
    "\n",
    "!python3.9 advobs202302_s05_04_00.py new0.fits"
   ]
  },
  {
   "cell_type": "code",
   "execution_count": null,
   "id": "df0876a6-0d5d-4891-a3b6-7a9419b9a238",
   "metadata": {},
   "outputs": [],
   "source": [
    "# run this cell to check new FITS file #\n",
    "\n",
    "!python3.9 advobs202302_s05_05_00.py new0.fits"
   ]
  },
  {
   "cell_type": "markdown",
   "id": "6ded8b76-4e07-4829-a814-14e7077bd490",
   "metadata": {
    "tags": []
   },
   "source": [
    "### Sample script 06-01 ###"
   ]
  },
  {
   "cell_type": "code",
   "execution_count": null,
   "id": "06c0cc87-0543-4805-81a0-5dfcd6705f60",
   "metadata": {},
   "outputs": [],
   "source": [
    "# run this cell to show the source code of the script #\n",
    "\n",
    "!cat advobs202302_s05_06_01.py"
   ]
  },
  {
   "cell_type": "code",
   "execution_count": null,
   "id": "9b3ce643-7517-4754-af51-60ad1cd3af50",
   "metadata": {
    "tags": []
   },
   "outputs": [],
   "source": [
    "# run this cell to execute the script #\n",
    "\n",
    "!python3.9 advobs202302_s05_06_01.py -h"
   ]
  },
  {
   "cell_type": "code",
   "execution_count": null,
   "id": "5af149bb-507d-426c-98d3-06291e7aa4c5",
   "metadata": {
    "tags": []
   },
   "outputs": [],
   "source": [
    "# run this cell to execute the script #\n",
    "\n",
    "!python3.9 advobs202302_s05_06_01.py new1.fits"
   ]
  },
  {
   "cell_type": "code",
   "execution_count": null,
   "id": "19132587-2263-4dad-a6a9-d31e54484bb9",
   "metadata": {},
   "outputs": [],
   "source": [
    "# run this cell to check new FITS file #\n",
    "\n",
    "!ls -lF new1.fits"
   ]
  },
  {
   "cell_type": "code",
   "execution_count": null,
   "id": "0180496e-6960-4792-b538-91f6baa7afe7",
   "metadata": {},
   "outputs": [],
   "source": [
    "# run this cell to check new FITS file #\n",
    "\n",
    "!file new1.fits"
   ]
  },
  {
   "cell_type": "code",
   "execution_count": null,
   "id": "d3d93309-5ebb-4610-98df-2808853582b6",
   "metadata": {},
   "outputs": [],
   "source": [
    "# run this cell to check new FITS file #\n",
    "\n",
    "!python3.9 advobs202302_s05_04_00.py new1.fits"
   ]
  },
  {
   "cell_type": "code",
   "execution_count": null,
   "id": "6fc14deb-449a-4645-baad-3d1a85c7463e",
   "metadata": {},
   "outputs": [],
   "source": [
    "# run this cell to check new FITS file #\n",
    "\n",
    "!python3.9 advobs202302_s05_05_00.py new1.fits"
   ]
  },
  {
   "cell_type": "markdown",
   "id": "20459a3c-40af-414f-9015-69dfe72548bd",
   "metadata": {
    "tags": []
   },
   "source": [
    "### Sample script 06-02 ###"
   ]
  },
  {
   "cell_type": "code",
   "execution_count": null,
   "id": "d9fb0a6f-7dab-42a6-9db1-ac4d2fc4f38b",
   "metadata": {},
   "outputs": [],
   "source": [
    "# run this cell to show the source code of the script #\n",
    "\n",
    "!cat advobs202302_s05_06_02.py"
   ]
  },
  {
   "cell_type": "code",
   "execution_count": null,
   "id": "23c8ff64-9278-4e6d-8021-08ee34a2f59b",
   "metadata": {
    "tags": []
   },
   "outputs": [],
   "source": [
    "# run this cell to execute the script #\n",
    "\n",
    "!python3.9 advobs202302_s05_06_02.py -h"
   ]
  },
  {
   "cell_type": "code",
   "execution_count": null,
   "id": "b06011fe-3017-461e-9a90-5ed00cfa2be3",
   "metadata": {
    "tags": []
   },
   "outputs": [],
   "source": [
    "# run this cell to execute the script #\n",
    "\n",
    "!python3.9 advobs202302_s05_06_02.py new2.fits"
   ]
  },
  {
   "cell_type": "code",
   "execution_count": null,
   "id": "6017e4b9-241c-44c7-ac84-b9039260bcb3",
   "metadata": {},
   "outputs": [],
   "source": [
    "# run this cell to check new FITS file #\n",
    "\n",
    "!ls -lF new2.fits"
   ]
  },
  {
   "cell_type": "code",
   "execution_count": null,
   "id": "32eec220-eb8f-4444-99fb-d5d4792abb7b",
   "metadata": {},
   "outputs": [],
   "source": [
    "# run this cell to check new FITS file #\n",
    "\n",
    "!file new2.fits"
   ]
  },
  {
   "cell_type": "code",
   "execution_count": null,
   "id": "cb030c7f-25bf-409b-b46c-4ddc1f0388d4",
   "metadata": {},
   "outputs": [],
   "source": [
    "# run this cell to check new FITS file #\n",
    "\n",
    "!python3.9 advobs202302_s05_04_00.py new2.fits"
   ]
  },
  {
   "cell_type": "code",
   "execution_count": null,
   "id": "986debc5-c9d0-40c9-837a-589770c7ef4c",
   "metadata": {},
   "outputs": [],
   "source": [
    "# run this cell to check new FITS file #\n",
    "\n",
    "!python3.9 advobs202302_s05_05_00.py new2.fits"
   ]
  },
  {
   "cell_type": "markdown",
   "id": "7d093c68-cc01-4707-890e-1d8b640c4990",
   "metadata": {},
   "source": [
    "## Adding a new keyword to FITS header ##"
   ]
  },
  {
   "cell_type": "markdown",
   "id": "e706dad4-7163-40a7-a299-f9acc7b4b4e6",
   "metadata": {
    "tags": []
   },
   "source": [
    "### Sample script 07-00 ###"
   ]
  },
  {
   "cell_type": "code",
   "execution_count": null,
   "id": "f1626a08-e398-4e3d-84e1-4856842f6638",
   "metadata": {},
   "outputs": [],
   "source": [
    "# run this cell to show the source code of the script #\n",
    "\n",
    "!cat advobs202302_s05_07_00.py"
   ]
  },
  {
   "cell_type": "code",
   "execution_count": null,
   "id": "6e521b87-eae3-4a1f-b76d-706332660315",
   "metadata": {
    "tags": []
   },
   "outputs": [],
   "source": [
    "# run this cell to execute the script #\n",
    "\n",
    "!python3.9 advobs202302_s05_07_00.py -h"
   ]
  },
  {
   "cell_type": "code",
   "execution_count": null,
   "id": "a6df732f-0f20-42be-9f85-19296acec812",
   "metadata": {
    "tags": []
   },
   "outputs": [],
   "source": [
    "# run this cell to execute the script #\n",
    "\n",
    "!python3.9 advobs202302_s05_07_00.py -k OBSERVER -v Daisuke -o new3.fits new2.fits"
   ]
  },
  {
   "cell_type": "code",
   "execution_count": null,
   "id": "214dbc29-e9e3-4c32-97a2-2cb3a513a3a3",
   "metadata": {},
   "outputs": [],
   "source": [
    "# run this cell to check new FITS file #\n",
    "\n",
    "!ls -lF new*.fits"
   ]
  },
  {
   "cell_type": "code",
   "execution_count": null,
   "id": "78cd9211-1482-4fc0-9524-0d4e67544d59",
   "metadata": {},
   "outputs": [],
   "source": [
    "# run this cell to check new FITS file #\n",
    "\n",
    "!file new3.fits"
   ]
  },
  {
   "cell_type": "code",
   "execution_count": null,
   "id": "126021c8-5c51-4c32-9b87-e87c536ffe81",
   "metadata": {},
   "outputs": [],
   "source": [
    "# run this cell to check new FITS file #\n",
    "\n",
    "!python3.9 advobs202302_s05_04_01.py new3.fits"
   ]
  },
  {
   "cell_type": "markdown",
   "id": "cf29e35b-da3e-4756-a63f-c1a9d1e23b67",
   "metadata": {
    "tags": []
   },
   "source": [
    "### Sample script 07-01 ###"
   ]
  },
  {
   "cell_type": "code",
   "execution_count": null,
   "id": "d011c2b5-1a15-4cbd-93f8-87d0db2e5947",
   "metadata": {},
   "outputs": [],
   "source": [
    "# run this cell to show the source code of the script #\n",
    "\n",
    "!cat advobs202302_s05_07_01.py"
   ]
  },
  {
   "cell_type": "code",
   "execution_count": null,
   "id": "a4783fc3-ca5b-4852-a3ca-6a228cd621dc",
   "metadata": {
    "tags": []
   },
   "outputs": [],
   "source": [
    "# run this cell to execute the script #\n",
    "\n",
    "!python3.9 advobs202302_s05_07_01.py -h"
   ]
  },
  {
   "cell_type": "code",
   "execution_count": null,
   "id": "edea86d5-3f60-491e-a577-b9118bbfb555",
   "metadata": {
    "tags": []
   },
   "outputs": [],
   "source": [
    "# run this cell to execute the script #\n",
    "\n",
    "!python3.9 advobs202302_s05_07_01.py -k EXPTIME -v 60.0 -o new4.fits new3.fits"
   ]
  },
  {
   "cell_type": "code",
   "execution_count": null,
   "id": "e8694207-120b-4df1-a898-369d71949e4e",
   "metadata": {},
   "outputs": [],
   "source": [
    "# run this cell to check new FITS file #\n",
    "\n",
    "!ls -lF new*.fits"
   ]
  },
  {
   "cell_type": "code",
   "execution_count": null,
   "id": "6a7758fd-62d0-4a85-a15e-04a1e6fa90d3",
   "metadata": {},
   "outputs": [],
   "source": [
    "# run this cell to check new FITS file #\n",
    "\n",
    "!file new4.fits"
   ]
  },
  {
   "cell_type": "code",
   "execution_count": null,
   "id": "3adba0ed-30d7-4bf5-90b9-fce9b6eb82a5",
   "metadata": {},
   "outputs": [],
   "source": [
    "# run this cell to check new FITS file #\n",
    "\n",
    "!python3.9 advobs202302_s05_04_01.py new4.fits"
   ]
  },
  {
   "cell_type": "markdown",
   "id": "c89a11b4-be2b-42f6-89d2-4725ad5ec3b3",
   "metadata": {
    "tags": []
   },
   "source": [
    "### Sample script 07-02 ###"
   ]
  },
  {
   "cell_type": "code",
   "execution_count": null,
   "id": "86e4d3c0-e0ad-45b6-8fed-e29a9fc8ce4a",
   "metadata": {},
   "outputs": [],
   "source": [
    "# run this cell to show the source code of the script #\n",
    "\n",
    "!cat advobs202302_s05_07_02.py"
   ]
  },
  {
   "cell_type": "code",
   "execution_count": null,
   "id": "0be7e8db-7646-49cf-b99d-08116c4d8b4f",
   "metadata": {
    "tags": []
   },
   "outputs": [],
   "source": [
    "# run this cell to execute the script #\n",
    "\n",
    "!python3.9 advobs202302_s05_07_02.py -h"
   ]
  },
  {
   "cell_type": "code",
   "execution_count": null,
   "id": "4fca0a94-efea-4b0f-9829-b6a8c84e4595",
   "metadata": {
    "tags": []
   },
   "outputs": [],
   "source": [
    "# run this cell to execute the script #\n",
    "\n",
    "!python3.9 advobs202302_s05_07_02.py -c 'created for session 05' -o new5.fits new4.fits"
   ]
  },
  {
   "cell_type": "code",
   "execution_count": null,
   "id": "e0c4ec64-de32-4a70-b0e1-fc5260b4282f",
   "metadata": {},
   "outputs": [],
   "source": [
    "# run this cell to check new FITS file #\n",
    "\n",
    "!ls -lF new*.fits"
   ]
  },
  {
   "cell_type": "code",
   "execution_count": null,
   "id": "657b1d94-5e5a-4314-aab2-be4b663b6448",
   "metadata": {},
   "outputs": [],
   "source": [
    "# run this cell to check new FITS file #\n",
    "\n",
    "!file new5.fits"
   ]
  },
  {
   "cell_type": "code",
   "execution_count": null,
   "id": "566a7388-daa2-49e4-93e1-e66aa16d7c4e",
   "metadata": {},
   "outputs": [],
   "source": [
    "# run this cell to check new FITS file #\n",
    "\n",
    "!python3.9 advobs202302_s05_04_01.py new5.fits"
   ]
  },
  {
   "cell_type": "markdown",
   "id": "2483f438-b558-4309-ac8d-41f1a712082a",
   "metadata": {
    "tags": []
   },
   "source": [
    "### Sample script 07-03 ###"
   ]
  },
  {
   "cell_type": "code",
   "execution_count": null,
   "id": "b3a7d8f5-ed07-4df8-9c02-9216d026d738",
   "metadata": {},
   "outputs": [],
   "source": [
    "# run this cell to show the source code of the script #\n",
    "\n",
    "!cat advobs202302_s05_07_03.py"
   ]
  },
  {
   "cell_type": "code",
   "execution_count": null,
   "id": "fdcd1a38-28d2-42b7-874b-a9ab8fe2af1b",
   "metadata": {
    "tags": []
   },
   "outputs": [],
   "source": [
    "# run this cell to execute the script #\n",
    "\n",
    "!python3.9 advobs202302_s05_07_03.py -h"
   ]
  },
  {
   "cell_type": "code",
   "execution_count": null,
   "id": "d2532c1b-84eb-45ce-bea7-85497976193a",
   "metadata": {
    "tags": []
   },
   "outputs": [],
   "source": [
    "# run this cell to execute the script #\n",
    "\n",
    "!python3.9 advobs202302_s05_07_03.py -t 'updated on 16/Mar/2023' -o new6.fits new5.fits"
   ]
  },
  {
   "cell_type": "code",
   "execution_count": null,
   "id": "18d0ab8c-faea-4d0a-9be4-af7bfecb8193",
   "metadata": {},
   "outputs": [],
   "source": [
    "# run this cell to check new FITS file #\n",
    "\n",
    "!ls -lF new*.fits"
   ]
  },
  {
   "cell_type": "code",
   "execution_count": null,
   "id": "68c8adbf-8c6b-4708-b359-49c64d06f71d",
   "metadata": {},
   "outputs": [],
   "source": [
    "# run this cell to check new FITS file #\n",
    "\n",
    "!file new6.fits"
   ]
  },
  {
   "cell_type": "code",
   "execution_count": null,
   "id": "28f9fa04-c714-46cb-b12e-a735ff89f3fe",
   "metadata": {},
   "outputs": [],
   "source": [
    "# run this cell to check new FITS file #\n",
    "\n",
    "!python3.9 advobs202302_s05_04_01.py new6.fits"
   ]
  },
  {
   "cell_type": "markdown",
   "id": "3d590c5d-9bfb-40df-89bb-dbe8f000af6e",
   "metadata": {},
   "source": [
    "## Making a synthetic image ##"
   ]
  },
  {
   "cell_type": "markdown",
   "id": "7747e211-c7f7-4bcc-a0b4-b9c294c2fd0b",
   "metadata": {
    "tags": []
   },
   "source": [
    "### Sample script 08-00 ###"
   ]
  },
  {
   "cell_type": "code",
   "execution_count": null,
   "id": "b57ee430-a81e-4950-acd2-d7e98c63b3f9",
   "metadata": {},
   "outputs": [],
   "source": [
    "# run this cell to show the source code of the script #\n",
    "\n",
    "!cat advobs202302_s05_08_00.py"
   ]
  },
  {
   "cell_type": "code",
   "execution_count": null,
   "id": "cdc61753-1f54-4c5a-80c1-52801539e24a",
   "metadata": {
    "tags": []
   },
   "outputs": [],
   "source": [
    "# run this cell to execute the script #\n",
    "\n",
    "!python3.9 advobs202302_s05_08_00.py -h"
   ]
  },
  {
   "cell_type": "code",
   "execution_count": null,
   "id": "af948335-5f16-4d5f-869f-88c86e83bff8",
   "metadata": {
    "tags": []
   },
   "outputs": [],
   "source": [
    "# run this cell to execute the script #\n",
    "\n",
    "!python3.9 advobs202302_s05_08_00.py -b 3000 -s 30 -x 1024 -y 1024 skybg0.fits"
   ]
  },
  {
   "cell_type": "code",
   "execution_count": null,
   "id": "6bdb0a3b-9682-4e8c-bef4-fe55faad2706",
   "metadata": {},
   "outputs": [],
   "source": [
    "# run this cell to check new FITS file #\n",
    "\n",
    "!ls -lF skybg0.fits"
   ]
  },
  {
   "cell_type": "code",
   "execution_count": null,
   "id": "98598181-bcae-4abb-98b1-c9ab995fa04b",
   "metadata": {},
   "outputs": [],
   "source": [
    "# run this cell to check new FITS file #\n",
    "\n",
    "!file skybg0.fits"
   ]
  },
  {
   "cell_type": "code",
   "execution_count": null,
   "id": "a76ccc7f-55da-4563-acc8-3f16c0686db5",
   "metadata": {},
   "outputs": [],
   "source": [
    "# run this cell to check new FITS file #\n",
    "\n",
    "!python3.9 advobs202302_s05_04_01.py skybg0.fits"
   ]
  },
  {
   "cell_type": "code",
   "execution_count": null,
   "id": "485eabbd-d89a-4414-a06b-6f63a880ab30",
   "metadata": {},
   "outputs": [],
   "source": [
    "# run this cell to check new FITS file #\n",
    "\n",
    "!python3.9 advobs202302_s05_05_00.py skybg0.fits"
   ]
  },
  {
   "cell_type": "code",
   "execution_count": null,
   "id": "4b2dcc01-fdfc-4555-a850-b60159015fd3",
   "metadata": {
    "tags": []
   },
   "outputs": [],
   "source": [
    "# run this cell to execute the script #\n",
    "\n",
    "!python3.9 advobs202302_s05_08_00.py -b 3000 -s 30 -x 1024 -y 1024 skybg1.fits"
   ]
  },
  {
   "cell_type": "code",
   "execution_count": null,
   "id": "4800a822-127f-4026-9201-a59a117f5fed",
   "metadata": {},
   "outputs": [],
   "source": [
    "# run this cell to check new FITS file #\n",
    "\n",
    "!ls -lF skybg?.fits"
   ]
  },
  {
   "cell_type": "code",
   "execution_count": null,
   "id": "458ec47e-2a4a-48b6-b8dc-84d57e6335ad",
   "metadata": {},
   "outputs": [],
   "source": [
    "# run this cell to check new FITS file #\n",
    "\n",
    "!file skybg1.fits"
   ]
  },
  {
   "cell_type": "code",
   "execution_count": null,
   "id": "3849a975-dbe2-44cf-8125-e47e5dd6ecb0",
   "metadata": {},
   "outputs": [],
   "source": [
    "# run this cell to check new FITS file #\n",
    "\n",
    "!python3.9 advobs202302_s05_04_01.py skybg1.fits"
   ]
  },
  {
   "cell_type": "code",
   "execution_count": null,
   "id": "2a0d171a-bdda-4c89-bf8a-adbe6d5ff212",
   "metadata": {},
   "outputs": [],
   "source": [
    "# run this cell to check new FITS file #\n",
    "\n",
    "!python3.9 advobs202302_s05_05_01.py skybg*.fits"
   ]
  },
  {
   "cell_type": "markdown",
   "id": "abc1f27b-d168-4939-b471-01098e6d86d3",
   "metadata": {},
   "source": [
    "## Arithmetic operations of FITS files ##"
   ]
  },
  {
   "cell_type": "markdown",
   "id": "76ff2a91-de12-44a9-ba23-53b191a1dcc3",
   "metadata": {
    "tags": []
   },
   "source": [
    "### Sample script 09-00 ###"
   ]
  },
  {
   "cell_type": "code",
   "execution_count": null,
   "id": "52768f53-f5f0-4179-a8ea-276820f1e5f7",
   "metadata": {},
   "outputs": [],
   "source": [
    "# run this cell to show the source code of the script #\n",
    "\n",
    "!cat advobs202302_s05_09_00.py"
   ]
  },
  {
   "cell_type": "code",
   "execution_count": null,
   "id": "972b3337-d79b-41e8-a2cd-5df89f6778ef",
   "metadata": {
    "tags": []
   },
   "outputs": [],
   "source": [
    "# run this cell to execute the script #\n",
    "\n",
    "!python3.9 advobs202302_s05_09_00.py -h"
   ]
  },
  {
   "cell_type": "code",
   "execution_count": null,
   "id": "d0ca05d7-2e0d-4f38-942e-61c0ceee61d4",
   "metadata": {
    "tags": []
   },
   "outputs": [],
   "source": [
    "# run this cell to execute the script #\n",
    "\n",
    "!python3.9 advobs202302_s05_09_00.py -o norm0.fits skybg0.fits"
   ]
  },
  {
   "cell_type": "code",
   "execution_count": null,
   "id": "a5be05dd-b0e0-4626-ba81-b5d81de6ea12",
   "metadata": {},
   "outputs": [],
   "source": [
    "# run this cell to check new FITS file #\n",
    "\n",
    "!ls -lF norm0.fits"
   ]
  },
  {
   "cell_type": "code",
   "execution_count": null,
   "id": "b9a31613-f1fd-40dd-8f02-350c91df03a5",
   "metadata": {},
   "outputs": [],
   "source": [
    "# run this cell to check new FITS file #\n",
    "\n",
    "!file norm0.fits"
   ]
  },
  {
   "cell_type": "code",
   "execution_count": null,
   "id": "f6a023fa-7100-4750-929e-e3a21ea69e30",
   "metadata": {},
   "outputs": [],
   "source": [
    "# run this cell to check new FITS file #\n",
    "\n",
    "!python3.9 advobs202302_s05_04_01.py norm0.fits"
   ]
  },
  {
   "cell_type": "code",
   "execution_count": null,
   "id": "93e6a1e1-6a62-4ce9-9561-9a9a8d7effab",
   "metadata": {},
   "outputs": [],
   "source": [
    "# run this cell to check new FITS file #\n",
    "\n",
    "!python3.9 advobs202302_s05_05_01.py skybg0.fits norm0.fits"
   ]
  },
  {
   "cell_type": "markdown",
   "id": "bb9b854c-a6f9-4e05-bc2f-0fb5e9e1bda5",
   "metadata": {
    "tags": []
   },
   "source": [
    "### Sample script 09-01 ###"
   ]
  },
  {
   "cell_type": "code",
   "execution_count": null,
   "id": "97f01fb4-6c6a-4ebe-950e-a7dd70dc73c3",
   "metadata": {},
   "outputs": [],
   "source": [
    "# run this cell to show the source code of the script #\n",
    "\n",
    "!cat advobs202302_s05_09_01.py"
   ]
  },
  {
   "cell_type": "code",
   "execution_count": null,
   "id": "5caddc66-78a3-4738-87af-12f7fb597c95",
   "metadata": {
    "tags": []
   },
   "outputs": [],
   "source": [
    "# run this cell to execute the script #\n",
    "\n",
    "!python3.9 advobs202302_s05_09_01.py -h"
   ]
  },
  {
   "cell_type": "code",
   "execution_count": null,
   "id": "c826f1a1-3064-4325-ac3f-d9c901dfcc5d",
   "metadata": {
    "tags": []
   },
   "outputs": [],
   "source": [
    "# run this cell to execute the script #\n",
    "\n",
    "!python3.9 advobs202302_s05_09_01.py -o diff0.fits skybg0.fits skybg1.fits"
   ]
  },
  {
   "cell_type": "code",
   "execution_count": null,
   "id": "d49b4419-a6c0-4d0a-8004-872d5fc5b729",
   "metadata": {},
   "outputs": [],
   "source": [
    "# run this cell to check new FITS file #\n",
    "\n",
    "!ls -lF diff0.fits"
   ]
  },
  {
   "cell_type": "code",
   "execution_count": null,
   "id": "0439bb5a-ebbb-448d-884d-a6f64f86bf55",
   "metadata": {},
   "outputs": [],
   "source": [
    "# run this cell to check new FITS file #\n",
    "\n",
    "!file norm0.fits"
   ]
  },
  {
   "cell_type": "code",
   "execution_count": null,
   "id": "b5a15458-4504-42ab-a365-ec3fc1cc86e7",
   "metadata": {},
   "outputs": [],
   "source": [
    "# run this cell to check new FITS file #\n",
    "\n",
    "!python3.9 advobs202302_s05_04_01.py diff0.fits"
   ]
  },
  {
   "cell_type": "code",
   "execution_count": null,
   "id": "fd11a937-3a2e-4c99-af3d-88aa039dc727",
   "metadata": {},
   "outputs": [],
   "source": [
    "# run this cell to check new FITS file #\n",
    "\n",
    "!python3.9 advobs202302_s05_05_01.py skybg0.fits skybg0.fits diff0.fits"
   ]
  },
  {
   "cell_type": "markdown",
   "id": "6df86c48-ac58-47e3-bf72-4e511755b0f8",
   "metadata": {},
   "source": [
    "## Visualisation of a FITS file ##"
   ]
  },
  {
   "cell_type": "markdown",
   "id": "987a4a70-0458-40f9-9e4a-8d6940f39209",
   "metadata": {
    "tags": []
   },
   "source": [
    "### Sample script 10-00 ###"
   ]
  },
  {
   "cell_type": "code",
   "execution_count": null,
   "id": "0a0c8a3c-6396-4066-9cba-f18f2512a33c",
   "metadata": {},
   "outputs": [],
   "source": [
    "# run this cell to show the source code of the script #\n",
    "\n",
    "!cat advobs202302_s05_10_00.py"
   ]
  },
  {
   "cell_type": "code",
   "execution_count": null,
   "id": "1c44a586-5cac-4d4a-a275-88302bd967ad",
   "metadata": {
    "tags": []
   },
   "outputs": [],
   "source": [
    "# run this cell to execute the script #\n",
    "\n",
    "!python3.9 advobs202302_s05_10_00.py -h"
   ]
  },
  {
   "cell_type": "code",
   "execution_count": null,
   "id": "aaa58fb1-b308-4007-b7ea-9ef34f22d0ad",
   "metadata": {
    "tags": []
   },
   "outputs": [],
   "source": [
    "# run this cell to execute the script #\n",
    "\n",
    "!python3.9 advobs202302_s05_10_00.py -o 0245.png data_s05/lot_20210212_0245.fits"
   ]
  },
  {
   "cell_type": "code",
   "execution_count": null,
   "id": "66938817-73f8-497e-af8e-ba8f37eb6fb2",
   "metadata": {},
   "outputs": [],
   "source": [
    "# run this cell to check created PNG file #\n",
    "\n",
    "!ls -lF 0245.png"
   ]
  },
  {
   "cell_type": "code",
   "execution_count": null,
   "id": "2c9ded0e-af47-4d30-97f6-038f38f8efd2",
   "metadata": {},
   "outputs": [],
   "source": [
    "# run this cell to display the plot #\n",
    "\n",
    "import IPython.display\n",
    "\n",
    "IPython.display.Image ('0245.png')"
   ]
  },
  {
   "cell_type": "code",
   "execution_count": null,
   "id": "9886b065-867a-46ec-8fba-5845196e7a92",
   "metadata": {
    "tags": []
   },
   "outputs": [],
   "source": [
    "# run this cell to execute the script #\n",
    "\n",
    "!python3.9 advobs202302_s05_10_00.py -o 0470.png data_s05/lot_20210212_0470.fits"
   ]
  },
  {
   "cell_type": "code",
   "execution_count": null,
   "id": "d4777810-ddbd-4c74-a4e3-8ade44ba40be",
   "metadata": {},
   "outputs": [],
   "source": [
    "# run this cell to check created PNG file #\n",
    "\n",
    "!ls -lF 0470.png"
   ]
  },
  {
   "cell_type": "code",
   "execution_count": null,
   "id": "4e35a818-ea26-4c16-bb6f-d3453b0028a8",
   "metadata": {},
   "outputs": [],
   "source": [
    "# run this cell to display the plot #\n",
    "\n",
    "import IPython.display\n",
    "\n",
    "IPython.display.Image ('0470.png')"
   ]
  },
  {
   "cell_type": "code",
   "execution_count": null,
   "id": "a0092834-ce00-4747-9de2-36db12c5ff88",
   "metadata": {
    "tags": []
   },
   "outputs": [],
   "source": [
    "# run this cell to execute the script #\n",
    "\n",
    "!python3.9 advobs202302_s05_10_00.py -o 0245.png data_s05/lot_20210212_0250.fits"
   ]
  },
  {
   "cell_type": "code",
   "execution_count": null,
   "id": "5023bd6a-7b67-4c31-926f-656cc1bf73aa",
   "metadata": {},
   "outputs": [],
   "source": [
    "# run this cell to check created PNG file #\n",
    "\n",
    "!ls -lF 0250.png"
   ]
  },
  {
   "cell_type": "code",
   "execution_count": null,
   "id": "224b9c6d-93f7-4ed4-ba64-5c888712a3a0",
   "metadata": {},
   "outputs": [],
   "source": [
    "# run this cell to display the plot #\n",
    "\n",
    "import IPython.display\n",
    "\n",
    "IPython.display.Image ('0250.png')"
   ]
  },
  {
   "cell_type": "markdown",
   "id": "35826271-085f-4531-9828-c82437a1afaf",
   "metadata": {},
   "source": [
    "## end of this notebook ##"
   ]
  },
  {
   "cell_type": "code",
   "execution_count": null,
   "id": "118c33c7-76d2-4460-a7dd-d3695bc5a714",
   "metadata": {},
   "outputs": [],
   "source": []
  }
 ],
 "metadata": {
  "kernelspec": {
   "display_name": "Python 3 (ipykernel)",
   "language": "python",
   "name": "python3"
  },
  "language_info": {
   "codemirror_mode": {
    "name": "ipython",
    "version": 3
   },
   "file_extension": ".py",
   "mimetype": "text/x-python",
   "name": "python",
   "nbconvert_exporter": "python",
   "pygments_lexer": "ipython3",
   "version": "3.9.14"
  }
 },
 "nbformat": 4,
 "nbformat_minor": 5
}
