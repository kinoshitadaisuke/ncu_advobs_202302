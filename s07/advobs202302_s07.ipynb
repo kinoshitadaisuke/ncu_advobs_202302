{
 "cells": [
  {
   "cell_type": "markdown",
   "id": "3c97be30-4067-46e3-99f8-72f1cb22c6c5",
   "metadata": {},
   "source": [
    "# Advanced Astronomical Observations #\n",
    "\n",
    "## 2nd semester, academic year 2022 ##\n",
    "\n",
    "## from Feb/2023 to Jun/2023 ##\n",
    "\n",
    "## Session 07: Dark current ##\n",
    "\n",
    "## Kinoshita Daisuke ##\n",
    "\n",
    "## 31/Mar/2023 ##"
   ]
  },
  {
   "cell_type": "markdown",
   "id": "c029a023-9bfa-4c49-ac00-e4e410898afa",
   "metadata": {},
   "source": [
    "## Downloading data for this session ##"
   ]
  },
  {
   "cell_type": "code",
   "execution_count": null,
   "id": "0c943935-77d2-4c8a-9782-3c5ec99737b1",
   "metadata": {},
   "outputs": [],
   "source": [
    "# run this cell to download the data for this session #\n",
    "\n",
    "!python3.9 advobs202302_s07_00_00.py"
   ]
  },
  {
   "cell_type": "code",
   "execution_count": null,
   "id": "2df158b4-c87a-463e-bc85-b82ae7c05d90",
   "metadata": {},
   "outputs": [],
   "source": [
    "# run this cell to check downloaded file #\n",
    "\n",
    "!ls -lF data_s07.tar.xz"
   ]
  },
  {
   "cell_type": "code",
   "execution_count": null,
   "id": "9870d6ec-7ef2-425e-bea6-6d68c5c23c2e",
   "metadata": {},
   "outputs": [],
   "source": [
    "# run this cell to check downloaded file #\n",
    "\n",
    "!file data_s07.tar.xz"
   ]
  },
  {
   "cell_type": "markdown",
   "id": "99da7aa6-7a8b-47ef-8c42-f5cb9e338473",
   "metadata": {},
   "source": [
    "## Extracting data ##"
   ]
  },
  {
   "cell_type": "code",
   "execution_count": null,
   "id": "69e343ed-df2c-481a-8fbe-de3add9af1ed",
   "metadata": {},
   "outputs": [],
   "source": [
    "# run this cell to extract data #\n",
    "\n",
    "!tar xJvf data_s07.tar.xz"
   ]
  },
  {
   "cell_type": "code",
   "execution_count": null,
   "id": "83bb6cbb-ea9d-46f5-8d68-526e953ab3c2",
   "metadata": {},
   "outputs": [],
   "source": [
    "# run this cell to check extracted files #\n",
    "\n",
    "!ls -lF"
   ]
  },
  {
   "cell_type": "code",
   "execution_count": null,
   "id": "6533e9df-f73c-453a-a995-e721fecf782b",
   "metadata": {},
   "outputs": [],
   "source": [
    "# run this cell to show extracted files #\n",
    "\n",
    "!ls -lF data_s07"
   ]
  },
  {
   "cell_type": "markdown",
   "id": "b16205c2-42fc-4c05-a20c-5562593b2337",
   "metadata": {},
   "source": [
    "## Sample Python script 01-00 ##"
   ]
  },
  {
   "cell_type": "code",
   "execution_count": null,
   "id": "27e6886e-719a-465b-bfc1-29f504ed896b",
   "metadata": {},
   "outputs": [],
   "source": [
    "# run this cell to show the source code of the script #\n",
    "\n",
    "!cat advobs202302_s07_01_00.py"
   ]
  },
  {
   "cell_type": "code",
   "execution_count": null,
   "id": "80fba4ef-2231-4704-a34e-ad91f380f9de",
   "metadata": {},
   "outputs": [],
   "source": [
    "# run this cell to execute the script #\n",
    "\n",
    "!python3.9 advobs202302_s07_01_00.py"
   ]
  },
  {
   "cell_type": "markdown",
   "id": "eb564712-7a4c-440c-9745-b70ffa231ddf",
   "metadata": {},
   "source": [
    "## Sample Python script 01-01 ##"
   ]
  },
  {
   "cell_type": "code",
   "execution_count": null,
   "id": "2dd36a4a-2d4d-4787-907d-9d24682a48e2",
   "metadata": {},
   "outputs": [],
   "source": [
    "# run this cell to show the source code of the script #\n",
    "\n",
    "!cat advobs202302_s07_01_01.py"
   ]
  },
  {
   "cell_type": "code",
   "execution_count": null,
   "id": "ef1d5298-dad5-4ae6-8eaa-9f06e70325e9",
   "metadata": {},
   "outputs": [],
   "source": [
    "# run this cell to execute the script #\n",
    "\n",
    "!python3.9 advobs202302_s07_01_01.py"
   ]
  },
  {
   "cell_type": "markdown",
   "id": "e3d8bf14-953c-462a-a1e7-5c17c6c747a1",
   "metadata": {},
   "source": [
    "## Sample Python script 01-02 ##"
   ]
  },
  {
   "cell_type": "code",
   "execution_count": null,
   "id": "edf744f5-c8e3-4e73-a0a5-53d86ac80f09",
   "metadata": {},
   "outputs": [],
   "source": [
    "# run this cell to show the source code of the script #\n",
    "\n",
    "!cat advobs202302_s07_01_02.py"
   ]
  },
  {
   "cell_type": "code",
   "execution_count": null,
   "id": "181b0f19-e4b6-43c6-b343-87180f1c86a9",
   "metadata": {},
   "outputs": [],
   "source": [
    "# run this cell to execute the script #\n",
    "\n",
    "!python3.9 advobs202302_s07_01_02.py"
   ]
  },
  {
   "cell_type": "markdown",
   "id": "097b73a6-be9d-47d2-a041-74ecedce78cd",
   "metadata": {},
   "source": [
    "## Sample Python script 01-03 ##"
   ]
  },
  {
   "cell_type": "code",
   "execution_count": null,
   "id": "c97a4980-fdd1-43c0-b320-bd1384c8913e",
   "metadata": {},
   "outputs": [],
   "source": [
    "# run this cell to show the source code of the script #\n",
    "\n",
    "!cat advobs202302_s07_01_03.py"
   ]
  },
  {
   "cell_type": "code",
   "execution_count": null,
   "id": "d88f5393-e184-4420-b744-7f14d72539dc",
   "metadata": {},
   "outputs": [],
   "source": [
    "# run this cell to execute the script #\n",
    "\n",
    "!python3.9 advobs202302_s07_01_03.py"
   ]
  },
  {
   "cell_type": "markdown",
   "id": "16222f5d-d85f-4c03-9108-afe52d928d2d",
   "metadata": {},
   "source": [
    "## Sample Python script 01-04 ##"
   ]
  },
  {
   "cell_type": "code",
   "execution_count": null,
   "id": "e173aa69-1508-49a8-a623-eea37536b144",
   "metadata": {},
   "outputs": [],
   "source": [
    "# run this cell to show the source code of the script #\n",
    "\n",
    "!cat advobs202302_s07_01_04.py"
   ]
  },
  {
   "cell_type": "code",
   "execution_count": null,
   "id": "355b14bb-015c-448d-a1e1-5ba830d291c1",
   "metadata": {},
   "outputs": [],
   "source": [
    "# run this cell to execute the script #\n",
    "\n",
    "!python3.9 advobs202302_s07_01_04.py"
   ]
  },
  {
   "cell_type": "markdown",
   "id": "72e25951-86f9-49ed-9811-1dbf3bd5d83d",
   "metadata": {},
   "source": [
    "## Sample Python script 01-05 ##"
   ]
  },
  {
   "cell_type": "code",
   "execution_count": null,
   "id": "0cd0846e-d8b4-40c5-b8bc-eb3e79abc0ec",
   "metadata": {},
   "outputs": [],
   "source": [
    "# run this cell to show the source code of the script #\n",
    "\n",
    "!cat advobs202302_s07_01_05.py"
   ]
  },
  {
   "cell_type": "code",
   "execution_count": null,
   "id": "0a3721ba-4694-42c3-8199-b37b6fab4a66",
   "metadata": {},
   "outputs": [],
   "source": [
    "# run this cell to execute the script #\n",
    "\n",
    "!python3.9 advobs202302_s07_01_05.py"
   ]
  },
  {
   "cell_type": "markdown",
   "id": "234cb205-464a-4c37-a4f5-d1d8cdcfc046",
   "metadata": {},
   "source": [
    "## Sample Python script 01-06 ##"
   ]
  },
  {
   "cell_type": "code",
   "execution_count": null,
   "id": "952a4f7c-2304-43ed-88e1-672ebcc924f7",
   "metadata": {},
   "outputs": [],
   "source": [
    "# run this cell to show the source code of the script #\n",
    "\n",
    "!cat advobs202302_s07_01_06.py"
   ]
  },
  {
   "cell_type": "code",
   "execution_count": null,
   "id": "fcfe7f62-79b8-4388-9087-e2154baf2260",
   "metadata": {},
   "outputs": [],
   "source": [
    "# run this cell to execute the script #\n",
    "\n",
    "!python3.9 advobs202302_s07_01_06.py"
   ]
  },
  {
   "cell_type": "markdown",
   "id": "c6821c60-4880-458b-94aa-688d0542094d",
   "metadata": {},
   "source": [
    "## Sample Python script 01-07 ##"
   ]
  },
  {
   "cell_type": "code",
   "execution_count": null,
   "id": "1355e0c7-7525-4915-a2a1-6b48e7a41084",
   "metadata": {},
   "outputs": [],
   "source": [
    "# run this cell to show the source code of the script #\n",
    "\n",
    "!cat advobs202302_s07_01_07.py"
   ]
  },
  {
   "cell_type": "code",
   "execution_count": null,
   "id": "ea837ad0-1c03-43aa-b70f-900b2aad2ae3",
   "metadata": {},
   "outputs": [],
   "source": [
    "# run this cell to execute the script #\n",
    "\n",
    "!python3.9 advobs202302_s07_01_07.py"
   ]
  },
  {
   "cell_type": "markdown",
   "id": "9b10f295-adbc-4b2f-a289-49684341949b",
   "metadata": {},
   "source": [
    "## Sample Python script 01-08 ##"
   ]
  },
  {
   "cell_type": "code",
   "execution_count": null,
   "id": "58191527-eeb7-4947-bffd-8c79ff832a9f",
   "metadata": {},
   "outputs": [],
   "source": [
    "# run this cell to show the source code of the script #\n",
    "\n",
    "!cat advobs202302_s07_01_08.py"
   ]
  },
  {
   "cell_type": "code",
   "execution_count": null,
   "id": "dcce6c7f-6069-4f0a-bd25-f99afcf7e1a6",
   "metadata": {},
   "outputs": [],
   "source": [
    "# run this cell to execute the script #\n",
    "\n",
    "!python3.9 advobs202302_s07_01_08.py"
   ]
  },
  {
   "cell_type": "markdown",
   "id": "21085e5f-7252-452c-b0fb-fc718d6ac03d",
   "metadata": {},
   "source": [
    "## Sample Python script 01-09 ##"
   ]
  },
  {
   "cell_type": "code",
   "execution_count": null,
   "id": "59770afc-426b-44db-adf7-38d7e4f0911c",
   "metadata": {},
   "outputs": [],
   "source": [
    "# run this cell to show the source code of the script #\n",
    "\n",
    "!cat advobs202302_s07_01_09.py"
   ]
  },
  {
   "cell_type": "code",
   "execution_count": null,
   "id": "13af68d9-fe76-4408-a2b2-63346e1e020d",
   "metadata": {},
   "outputs": [],
   "source": [
    "# run this cell to execute the script #\n",
    "\n",
    "!python3.9 advobs202302_s07_01_09.py"
   ]
  },
  {
   "cell_type": "markdown",
   "id": "0e862d38-8622-4e03-ac0b-9e8333f44e36",
   "metadata": {},
   "source": [
    "## Sample Python script 01-10 ##"
   ]
  },
  {
   "cell_type": "code",
   "execution_count": null,
   "id": "4816e9e2-ed02-4407-95ee-ad37d4cd8620",
   "metadata": {},
   "outputs": [],
   "source": [
    "# run this cell to show the source code of the script #\n",
    "\n",
    "!cat advobs202302_s07_01_10.py"
   ]
  },
  {
   "cell_type": "code",
   "execution_count": null,
   "id": "539ffef3-4679-4469-8b0d-787a4d3e6b1b",
   "metadata": {},
   "outputs": [],
   "source": [
    "# run this cell to execute the script #\n",
    "\n",
    "!python3.9 advobs202302_s07_01_10.py"
   ]
  },
  {
   "cell_type": "markdown",
   "id": "8252e40c-1377-492d-b451-9b9d8ae681e7",
   "metadata": {},
   "source": [
    "## Sample Python script 01-11 ##"
   ]
  },
  {
   "cell_type": "code",
   "execution_count": null,
   "id": "95f5c0b7-eccb-4558-88d5-d59f014fa544",
   "metadata": {},
   "outputs": [],
   "source": [
    "# run this cell to show the source code of the script #\n",
    "\n",
    "!cat advobs202302_s07_01_11.py"
   ]
  },
  {
   "cell_type": "code",
   "execution_count": null,
   "id": "e4052e91-4315-4d21-a573-42c106fc3dd3",
   "metadata": {},
   "outputs": [],
   "source": [
    "# run this cell to execute the script #\n",
    "\n",
    "!python3.9 advobs202302_s07_01_11.py"
   ]
  },
  {
   "cell_type": "markdown",
   "id": "85110784-35ab-4abd-8d45-315a81f0a85a",
   "metadata": {},
   "source": [
    "## Sample Python script 01-12 ##"
   ]
  },
  {
   "cell_type": "code",
   "execution_count": null,
   "id": "84f511c7-35f5-45e5-85f0-0ae132b07078",
   "metadata": {},
   "outputs": [],
   "source": [
    "# run this cell to show the source code of the script #\n",
    "\n",
    "!cat advobs202302_s07_01_12.py"
   ]
  },
  {
   "cell_type": "code",
   "execution_count": null,
   "id": "70f698c4-15ca-41a2-b15d-90ba07ce9b3c",
   "metadata": {},
   "outputs": [],
   "source": [
    "# run this cell to execute the script #\n",
    "\n",
    "!python3.9 advobs202302_s07_01_12.py"
   ]
  },
  {
   "cell_type": "markdown",
   "id": "8bf84c56-41ee-4886-bdd8-72ca3ac2c17b",
   "metadata": {},
   "source": [
    "## Sample Python script 01-13 ##"
   ]
  },
  {
   "cell_type": "code",
   "execution_count": null,
   "id": "b8ef4e52-1616-41b3-b8c5-1f35ef9da139",
   "metadata": {},
   "outputs": [],
   "source": [
    "# run this cell to show the source code of the script #\n",
    "\n",
    "!cat advobs202302_s07_01_13.py"
   ]
  },
  {
   "cell_type": "code",
   "execution_count": null,
   "id": "424704cf-0ae4-4cba-8730-40c214ebba30",
   "metadata": {},
   "outputs": [],
   "source": [
    "# run this cell to execute the script #\n",
    "\n",
    "!python3.9 advobs202302_s07_01_13.py"
   ]
  },
  {
   "cell_type": "markdown",
   "id": "cd28c635-e0be-4a23-991a-4f6ed064be86",
   "metadata": {},
   "source": [
    "## Sample Python script 02-00 ##"
   ]
  },
  {
   "cell_type": "code",
   "execution_count": null,
   "id": "05d604a9-a04b-4ac9-998b-adb2bbbbee57",
   "metadata": {},
   "outputs": [],
   "source": [
    "# run this cell to show the source code of the script #\n",
    "\n",
    "!cat advobs202302_s07_02_00.py"
   ]
  },
  {
   "cell_type": "code",
   "execution_count": null,
   "id": "a643081f-2c74-4ea9-94e7-8bd049355d4a",
   "metadata": {},
   "outputs": [],
   "source": [
    "# run this cell to execute the script #\n",
    "\n",
    "!python3.9 advobs202302_s07_02_00.py -h"
   ]
  },
  {
   "cell_type": "code",
   "execution_count": null,
   "id": "9874efe8-7669-4e36-ad5e-64d7cda184f9",
   "metadata": {},
   "outputs": [],
   "source": [
    "# run this cell to execute the script #\n",
    "\n",
    "!python3.9 advobs202302_s07_02_00.py data_s07/*.fits"
   ]
  },
  {
   "cell_type": "markdown",
   "id": "d7959e6d-47f3-4ba4-a4c1-5f10b724d217",
   "metadata": {},
   "source": [
    "## Sample Python script 03-00 ##"
   ]
  },
  {
   "cell_type": "code",
   "execution_count": null,
   "id": "8e269ef2-f848-4be8-af7a-659bf28ab1c1",
   "metadata": {},
   "outputs": [],
   "source": [
    "# run this cell to show the source code of the script #\n",
    "\n",
    "!cat advobs202302_s07_03_00.py"
   ]
  },
  {
   "cell_type": "code",
   "execution_count": null,
   "id": "c35a336f-9dac-492c-8451-3a10db388bcb",
   "metadata": {},
   "outputs": [],
   "source": [
    "# run this cell to execute the script #\n",
    "\n",
    "!python3.9 advobs202302_s07_03_00.py -h"
   ]
  },
  {
   "cell_type": "code",
   "execution_count": null,
   "id": "a054f0b8-54b1-417c-81b0-c34ac797d59e",
   "metadata": {},
   "outputs": [],
   "source": [
    "# run this cell to execute the script #\n",
    "\n",
    "!python3.9 advobs202302_s07_03_00.py data_s07/lot_20210210_102?.fits"
   ]
  },
  {
   "cell_type": "markdown",
   "id": "8274b678-0b13-412a-9dc8-d919a285395c",
   "metadata": {},
   "source": [
    "## Sample Python script 03-01 ##"
   ]
  },
  {
   "cell_type": "code",
   "execution_count": null,
   "id": "8c017ad3-0697-468a-b101-c6935a8ccc8a",
   "metadata": {},
   "outputs": [],
   "source": [
    "# run this cell to show the source code of the script #\n",
    "\n",
    "!cat advobs202302_s07_03_01.py"
   ]
  },
  {
   "cell_type": "code",
   "execution_count": null,
   "id": "f3ebec64-a1fb-4cad-85f6-4a18c5fa63e7",
   "metadata": {},
   "outputs": [],
   "source": [
    "# run this cell to execute the script #\n",
    "\n",
    "!python3.9 advobs202302_s07_03_01.py"
   ]
  },
  {
   "cell_type": "markdown",
   "id": "b0505f66-f53b-48c9-8953-50764aced828",
   "metadata": {},
   "source": [
    "## Sample Python script 03-02 ##"
   ]
  },
  {
   "cell_type": "code",
   "execution_count": null,
   "id": "2644d8dd-6e88-44b0-9881-e31767bb424b",
   "metadata": {},
   "outputs": [],
   "source": [
    "# run this cell to show the source code of the script #\n",
    "\n",
    "!cat advobs202302_s07_03_02.py"
   ]
  },
  {
   "cell_type": "code",
   "execution_count": null,
   "id": "0939a9ca-4e43-4662-9ea1-99ca775153fa",
   "metadata": {},
   "outputs": [],
   "source": [
    "# run this cell to execute the script #\n",
    "\n",
    "!python3.9 advobs202302_s07_03_02.py -h"
   ]
  },
  {
   "cell_type": "code",
   "execution_count": null,
   "id": "401300e5-ab23-46f5-be39-7cbe16883776",
   "metadata": {},
   "outputs": [],
   "source": [
    "# run this cell to execute the script #\n",
    "\n",
    "!python3.9 advobs202302_s07_03_02.py data_s07/lot_20210210_102?.fits"
   ]
  },
  {
   "cell_type": "markdown",
   "id": "0b561249-1a34-42af-ac6b-43c8a6663a10",
   "metadata": {},
   "source": [
    "## Sample Python script 03-03 ##"
   ]
  },
  {
   "cell_type": "code",
   "execution_count": null,
   "id": "dd891052-095c-4f08-bd1d-e69f92665147",
   "metadata": {},
   "outputs": [],
   "source": [
    "# run this cell to show the source code of the script #\n",
    "\n",
    "!cat advobs202302_s07_03_03.py"
   ]
  },
  {
   "cell_type": "code",
   "execution_count": null,
   "id": "459a6d7e-718d-499b-bde5-23a9fea2bc59",
   "metadata": {},
   "outputs": [],
   "source": [
    "# run this cell to execute the script #\n",
    "\n",
    "!python3.9 advobs202302_s07_03_03.py -h"
   ]
  },
  {
   "cell_type": "code",
   "execution_count": null,
   "id": "4c82f337-f057-452e-b5e8-8a7eaa42eb1d",
   "metadata": {},
   "outputs": [],
   "source": [
    "# run this cell to execute the script #\n",
    "\n",
    "!python3.9 advobs202302_s07_03_03.py data_s07/lot_20210210_102?.fits"
   ]
  },
  {
   "cell_type": "code",
   "execution_count": null,
   "id": "f8909bbd-eff1-4329-b210-fe2ec15a25a1",
   "metadata": {},
   "outputs": [],
   "source": [
    "# run this cell to execute the script #\n",
    "\n",
    "!python3.9 advobs202302_s07_03_03.py -r sigclip data_s07/lot_20210210_102?.fits"
   ]
  },
  {
   "cell_type": "code",
   "execution_count": null,
   "id": "12877ff5-7e05-4765-aad4-9bc2d2b7b01b",
   "metadata": {},
   "outputs": [],
   "source": [
    "# run this cell to execute the script #\n",
    "\n",
    "!python3.9 advobs202302_s07_03_03.py data_s07/lot_20210210_113?.fits"
   ]
  },
  {
   "cell_type": "code",
   "execution_count": null,
   "id": "20711afa-8468-4e96-b1f5-c2c69852f38f",
   "metadata": {},
   "outputs": [],
   "source": [
    "# run this cell to execute the script #\n",
    "\n",
    "!python3.9 advobs202302_s07_03_03.py -r sigclip data_s07/lot_20210210_113?.fits"
   ]
  },
  {
   "cell_type": "markdown",
   "id": "74971db5-1265-4588-b3f8-d8078f81a755",
   "metadata": {},
   "source": [
    "## Sample Python script 03-04 ##"
   ]
  },
  {
   "cell_type": "code",
   "execution_count": null,
   "id": "5d153ebe-06f2-4b88-936b-ad6d3aeaabc2",
   "metadata": {},
   "outputs": [],
   "source": [
    "# run this cell to show the source code of the script #\n",
    "\n",
    "!cat advobs202302_s07_03_04.py"
   ]
  },
  {
   "cell_type": "code",
   "execution_count": null,
   "id": "f4c69111-b985-4e7b-b311-5b1630f21c29",
   "metadata": {},
   "outputs": [],
   "source": [
    "# run this cell to execute the script #\n",
    "\n",
    "!python3.9 advobs202302_s07_03_04.py -h"
   ]
  },
  {
   "cell_type": "code",
   "execution_count": null,
   "id": "cd89b26f-1e61-4554-bbf6-02fc3446924d",
   "metadata": {},
   "outputs": [],
   "source": [
    "# run this cell to execute the script #\n",
    "\n",
    "!python3.9 advobs202302_s07_03_04.py data_s07/lot_20210210_102?.fits"
   ]
  },
  {
   "cell_type": "code",
   "execution_count": null,
   "id": "adbfb038-f483-4f0c-a88a-466073c8a86f",
   "metadata": {},
   "outputs": [],
   "source": [
    "# run this cell to execute the script #\n",
    "\n",
    "!python3.9 advobs202302_s07_03_04.py -r sigclip data_s07/lot_20210210_102?.fits"
   ]
  },
  {
   "cell_type": "code",
   "execution_count": null,
   "id": "18db0667-3a57-4ab2-b03d-81ca20f75b58",
   "metadata": {},
   "outputs": [],
   "source": [
    "# run this cell to execute the script #\n",
    "\n",
    "!python3.9 advobs202302_s07_03_04.py data_s07/lot_20210210_113?.fits"
   ]
  },
  {
   "cell_type": "code",
   "execution_count": null,
   "id": "32b8001d-139c-4090-8a28-7e32749436bf",
   "metadata": {},
   "outputs": [],
   "source": [
    "# run this cell to execute the script #\n",
    "\n",
    "!python3.9 advobs202302_s07_03_04.py -r sigclip data_s07/lot_20210210_113?.fits"
   ]
  },
  {
   "cell_type": "markdown",
   "id": "c7f66892-849d-4d36-93cc-1f31989ad1ec",
   "metadata": {},
   "source": [
    "## Sample Python script 04-00 ##"
   ]
  },
  {
   "cell_type": "code",
   "execution_count": null,
   "id": "950eb23a-74ca-4277-aace-30364d9cb98b",
   "metadata": {},
   "outputs": [],
   "source": [
    "# run this cell to show the source code of the script #\n",
    "\n",
    "!cat advobs202302_s07_04_00.py"
   ]
  },
  {
   "cell_type": "code",
   "execution_count": null,
   "id": "2d495e2d-a268-42d4-bfbe-b30e76523c56",
   "metadata": {},
   "outputs": [],
   "source": [
    "# run this cell to execute the script #\n",
    "\n",
    "!python3.9 advobs202302_s07_04_00.py -h"
   ]
  },
  {
   "cell_type": "code",
   "execution_count": null,
   "id": "bef5612d-15d6-418b-aed7-53b923bbc272",
   "metadata": {},
   "outputs": [],
   "source": [
    "# run this cell to execute the script #\n",
    "\n",
    "!python3.9 advobs202302_s07_04_00.py -o 1130_0.png data_s07/lot_20210210_1130.fits"
   ]
  },
  {
   "cell_type": "code",
   "execution_count": null,
   "id": "4fb8ce78-1fba-4884-91ed-a5aa468338b5",
   "metadata": {},
   "outputs": [],
   "source": [
    "# run this cell to check generated PNG file #\n",
    "\n",
    "!ls -lF *.png"
   ]
  },
  {
   "cell_type": "code",
   "execution_count": null,
   "id": "ad069e5a-31c7-4eba-8a39-abb243618f18",
   "metadata": {},
   "outputs": [],
   "source": [
    "# run this cell to display the plot #\n",
    "\n",
    "import IPython.display\n",
    "\n",
    "IPython.display.Image ('1130_0.png')"
   ]
  },
  {
   "cell_type": "markdown",
   "id": "c29d5674-4528-42d5-b09e-1773a2ad2b93",
   "metadata": {},
   "source": [
    "## Sample Python script 04-01 ##"
   ]
  },
  {
   "cell_type": "code",
   "execution_count": null,
   "id": "18644685-3862-4a9f-810a-2f297e0f30f0",
   "metadata": {},
   "outputs": [],
   "source": [
    "# run this cell to calculate statistical values of pixel data #\n",
    "\n",
    "!python3.9 advobs202302_s07_03_04.py -r sigclip data_s07/lot_20210210_1130.fits"
   ]
  },
  {
   "cell_type": "code",
   "execution_count": null,
   "id": "058db4dd-adf4-42c0-94c7-123eb9102e87",
   "metadata": {},
   "outputs": [],
   "source": [
    "# run this cell to show the source code of the script #\n",
    "\n",
    "!cat advobs202302_s07_04_01.py"
   ]
  },
  {
   "cell_type": "code",
   "execution_count": null,
   "id": "2910cab5-1025-4cbc-bc7b-b33bea688c5b",
   "metadata": {},
   "outputs": [],
   "source": [
    "# run this cell to execute the script #\n",
    "\n",
    "!python3.9 advobs202302_s07_04_01.py -h"
   ]
  },
  {
   "cell_type": "code",
   "execution_count": null,
   "id": "974fa3f0-54e5-4b90-a4af-447da8f1c156",
   "metadata": {},
   "outputs": [],
   "source": [
    "# run this cell to execute the script #\n",
    "\n",
    "!python3.9 advobs202302_s07_04_01.py -o 1130_1.png -a 575 -b 640 data_s07/lot_20210210_1130.fits"
   ]
  },
  {
   "cell_type": "code",
   "execution_count": null,
   "id": "ae14fa3d-0dcc-4e3f-a1f0-4219715f59ea",
   "metadata": {},
   "outputs": [],
   "source": [
    "# run this cell to check generated PNG file #\n",
    "\n",
    "!ls -lF *.png"
   ]
  },
  {
   "cell_type": "code",
   "execution_count": null,
   "id": "10d41e84-aebe-42fe-b841-9173af850d32",
   "metadata": {},
   "outputs": [],
   "source": [
    "# run this cell to display the plot #\n",
    "\n",
    "import IPython.display\n",
    "\n",
    "IPython.display.Image ('1130_1.png')"
   ]
  },
  {
   "cell_type": "markdown",
   "id": "9f08a809-e383-424c-8e6f-9c98d590e829",
   "metadata": {},
   "source": [
    "## Sample Python script 04-02 ##"
   ]
  },
  {
   "cell_type": "code",
   "execution_count": null,
   "id": "5dd8ded9-665d-4d45-8c9d-faa3ff900518",
   "metadata": {},
   "outputs": [],
   "source": [
    "# run this cell to show the source code of the script #\n",
    "\n",
    "!cat advobs202302_s07_04_02.py"
   ]
  },
  {
   "cell_type": "code",
   "execution_count": null,
   "id": "9402e966-e421-4f6f-a283-b71298f3468c",
   "metadata": {},
   "outputs": [],
   "source": [
    "# run this cell to execute the script #\n",
    "\n",
    "!python3.9 advobs202302_s07_04_02.py -h"
   ]
  },
  {
   "cell_type": "code",
   "execution_count": null,
   "id": "73f1b041-96f5-43d6-8dd3-de420974653a",
   "metadata": {},
   "outputs": [],
   "source": [
    "# run this cell to execute the script #\n",
    "\n",
    "!python3.9 advobs202302_s07_04_02.py -o 1130_2.png -a 575 -b 640 -c viridis data_s07/lot_20210210_1130.fits"
   ]
  },
  {
   "cell_type": "code",
   "execution_count": null,
   "id": "3c496fbf-fdca-4373-92a0-433b52ef7e56",
   "metadata": {},
   "outputs": [],
   "source": [
    "# run this cell to check generated PNG file #\n",
    "\n",
    "!ls -lF *.png"
   ]
  },
  {
   "cell_type": "code",
   "execution_count": null,
   "id": "cf1fdb74-d75b-4f65-8cbb-89f1146f7a13",
   "metadata": {},
   "outputs": [],
   "source": [
    "# run this cell to display the plot #\n",
    "\n",
    "import IPython.display\n",
    "\n",
    "IPython.display.Image ('1130_2.png')"
   ]
  },
  {
   "cell_type": "code",
   "execution_count": null,
   "id": "15157e36-8f90-4e08-b3dd-218b031446eb",
   "metadata": {},
   "outputs": [],
   "source": [
    "# run this cell to execute the script #\n",
    "\n",
    "!python3.9 advobs202302_s07_04_02.py -o 1130_3.png -a 575 -b 640 -c plasma data_s07/lot_20210210_1130.fits"
   ]
  },
  {
   "cell_type": "code",
   "execution_count": null,
   "id": "35571ec2-142f-4a2a-a5f3-ac4b9d0c5e8e",
   "metadata": {},
   "outputs": [],
   "source": [
    "# run this cell to check generated PNG file #\n",
    "\n",
    "!ls -lF *.png"
   ]
  },
  {
   "cell_type": "code",
   "execution_count": null,
   "id": "0f053c60-672a-4d94-8806-35af3924ea7c",
   "metadata": {},
   "outputs": [],
   "source": [
    "# run this cell to display the plot #\n",
    "\n",
    "import IPython.display\n",
    "\n",
    "IPython.display.Image ('1130_3.png')"
   ]
  },
  {
   "cell_type": "markdown",
   "id": "309813b2-65b6-4625-8154-a05da0b08bd6",
   "metadata": {},
   "source": [
    "## Sample Python script 05-00 ##"
   ]
  },
  {
   "cell_type": "code",
   "execution_count": null,
   "id": "1cf97053-837e-4200-957f-6640f339f4ca",
   "metadata": {},
   "outputs": [],
   "source": [
    "# run this cell to show the source code of the script #\n",
    "\n",
    "!cat advobs202302_s07_05_00.py"
   ]
  },
  {
   "cell_type": "code",
   "execution_count": null,
   "id": "a7926b14-526e-48a1-bc96-a12b4f295437",
   "metadata": {},
   "outputs": [],
   "source": [
    "# run this cell to execute the script #\n",
    "\n",
    "!python3.9 advobs202302_s07_05_00.py -h"
   ]
  },
  {
   "cell_type": "code",
   "execution_count": null,
   "id": "3b115508-f08d-4bd2-8b8a-0d103cfa7fa6",
   "metadata": {},
   "outputs": [],
   "source": [
    "# run this cell to execute the script #\n",
    "\n",
    "!python3.9 advobs202302_s07_05_00.py -o dark3600_simple.fits data_s07/lot_20210210_113?.fits"
   ]
  },
  {
   "cell_type": "code",
   "execution_count": null,
   "id": "b9856eb2-d96a-4855-b1f2-93a7ca9dc047",
   "metadata": {},
   "outputs": [],
   "source": [
    "# run this cell to check created file #\n",
    "\n",
    "!ls -lF dark3600_*.fits"
   ]
  },
  {
   "cell_type": "markdown",
   "id": "08988a0f-35a1-43d1-b54c-4428097e14a1",
   "metadata": {},
   "source": [
    "## Sample Python script 05-01 ##"
   ]
  },
  {
   "cell_type": "code",
   "execution_count": null,
   "id": "3f2c7e63-8c04-4c6c-b791-102a2d55b692",
   "metadata": {},
   "outputs": [],
   "source": [
    "# run this cell to show the source code of the script #\n",
    "\n",
    "!cat advobs202302_s07_05_01.py"
   ]
  },
  {
   "cell_type": "code",
   "execution_count": null,
   "id": "4e958acd-559e-43b1-849b-b22cb9981760",
   "metadata": {},
   "outputs": [],
   "source": [
    "# run this cell to execute the script #\n",
    "\n",
    "!python3.9 advobs202302_s07_05_01.py -h"
   ]
  },
  {
   "cell_type": "code",
   "execution_count": null,
   "id": "4f7c619e-3e17-4c57-894e-3294a459a745",
   "metadata": {},
   "outputs": [],
   "source": [
    "# run this cell to execute the script #\n",
    "\n",
    "!python3.9 advobs202302_s07_05_01.py dark3600_simple.fits"
   ]
  },
  {
   "cell_type": "code",
   "execution_count": null,
   "id": "fd6e2fc7-6cbc-4b6e-bcca-0d3840e75ebd",
   "metadata": {},
   "outputs": [],
   "source": [
    "# run this cell to execute the script #\n",
    "\n",
    "!python3.9 advobs202302_s07_05_00.py -o dark3600_sigclip.fits -r sigclip -t 3 -c median data_s07/lot_20210210_113?.fits"
   ]
  },
  {
   "cell_type": "code",
   "execution_count": null,
   "id": "2f4a02bd-b004-4e8e-b47f-db5e09961e8c",
   "metadata": {},
   "outputs": [],
   "source": [
    "# run this cell to execute the script #\n",
    "\n",
    "!python3.9 advobs202302_s07_05_01.py dark3600_sigclip.fits"
   ]
  },
  {
   "cell_type": "code",
   "execution_count": null,
   "id": "e4725c30-c85e-4525-8a45-c62d342574a2",
   "metadata": {},
   "outputs": [],
   "source": [
    "# run this cell to compare two FITS files #\n",
    "\n",
    "!python3.9 advobs202302_s07_03_00.py dark3600_*.fits"
   ]
  },
  {
   "cell_type": "code",
   "execution_count": null,
   "id": "17266743-ae96-44bc-a7e6-0a8b32b04ed3",
   "metadata": {},
   "outputs": [],
   "source": [
    "# run this cell to visualise FITS file #\n",
    "\n",
    "!python3.9 advobs202302_s07_04_02.py -a 590 -b 630 -c inferno -o dark3600_simple.png dark3600_simple.fits"
   ]
  },
  {
   "cell_type": "code",
   "execution_count": null,
   "id": "fa771f98-863c-494a-917d-e477990e9e45",
   "metadata": {},
   "outputs": [],
   "source": [
    "# run this cell to display the plot #\n",
    "\n",
    "import IPython.display\n",
    "\n",
    "IPython.display.Image ('dark3600_simple.png')"
   ]
  },
  {
   "cell_type": "code",
   "execution_count": null,
   "id": "11cc4273-1504-4718-97a2-b21cea7c2001",
   "metadata": {},
   "outputs": [],
   "source": [
    "# run this cell to visualise FITS file #\n",
    "\n",
    "!python3.9 advobs202302_s07_04_02.py -a 590 -b 630 -c inferno -o dark3600_sigclip.png dark3600_sigclip.fits"
   ]
  },
  {
   "cell_type": "code",
   "execution_count": null,
   "id": "9c2471d8-e938-455d-a3c5-a6dd2f65a067",
   "metadata": {},
   "outputs": [],
   "source": [
    "# run this cell to display the plot #\n",
    "\n",
    "import IPython.display\n",
    "\n",
    "IPython.display.Image ('dark3600_sigclip.png')"
   ]
  },
  {
   "cell_type": "markdown",
   "id": "2651ab00-4063-4936-af26-0a81d50a1d81",
   "metadata": {},
   "source": [
    "# combining dark frames #"
   ]
  },
  {
   "cell_type": "code",
   "execution_count": null,
   "id": "1c85457c-b731-4c1a-b11c-f4872057af6a",
   "metadata": {},
   "outputs": [],
   "source": [
    "!python3.9 advobs202302_s07_05_00.py -r sigclip -t 3 -c median -o d0010.fits  data_s07/lot_20210210_103?.fits"
   ]
  },
  {
   "cell_type": "code",
   "execution_count": null,
   "id": "253e4caf-bad1-47df-968d-0bdf0e0b0998",
   "metadata": {},
   "outputs": [],
   "source": [
    "!python3.9 advobs202302_s07_03_04.py -r sigclip d0010.fits"
   ]
  },
  {
   "cell_type": "code",
   "execution_count": null,
   "id": "416ba543-904e-4e86-9969-14d1eb92043b",
   "metadata": {},
   "outputs": [],
   "source": [
    "!python3.9 advobs202302_s07_05_00.py -r sigclip -t 3 -c median -o d0030.fits  data_s07/lot_20210210_105?.fits"
   ]
  },
  {
   "cell_type": "code",
   "execution_count": null,
   "id": "08b6de88-2b55-46b8-b300-274259b957cd",
   "metadata": {},
   "outputs": [],
   "source": [
    "!python3.9 advobs202302_s07_05_00.py -r sigclip -t 3 -c median -o d0900.fits  data_s07/lot_20210210_107?.fits"
   ]
  },
  {
   "cell_type": "code",
   "execution_count": null,
   "id": "373e723f-fbb8-4943-a69a-984573ff87b5",
   "metadata": {},
   "outputs": [],
   "source": [
    "!python3.9 advobs202302_s07_05_00.py -r sigclip -t 3 -c median -o d0300.fits  data_s07/lot_20210210_109?.fits"
   ]
  },
  {
   "cell_type": "code",
   "execution_count": null,
   "id": "882e7b6a-1ff4-49c2-a576-8c1f71a525a7",
   "metadata": {},
   "outputs": [],
   "source": [
    "!python3.9 advobs202302_s07_05_00.py -r sigclip -t 3 -c median -o d0900.fits  data_s07/lot_20210210_111?.fits"
   ]
  },
  {
   "cell_type": "code",
   "execution_count": null,
   "id": "6cb8eb7a-77ef-4d9f-ad40-6dd51b395b54",
   "metadata": {},
   "outputs": [],
   "source": [
    "!python3.9 advobs202302_s07_05_00.py -r sigclip -t 3 -c median -o d3600.fits  data_s07/lot_20210210_113?.fits"
   ]
  },
  {
   "cell_type": "code",
   "execution_count": null,
   "id": "1f09f1d7-6734-46bf-80d6-02b12926b8ec",
   "metadata": {},
   "outputs": [],
   "source": [
    "!python3.9 advobs202302_s07_03_04.py -r sigclip d????.fits"
   ]
  },
  {
   "cell_type": "markdown",
   "id": "906b2974-fdcf-4092-a78d-9f04b05cf1f2",
   "metadata": {},
   "source": [
    "# Sample Python script 06-00 #"
   ]
  },
  {
   "cell_type": "code",
   "execution_count": null,
   "id": "ea5c3217-cc12-44ee-8610-bb5c22b59048",
   "metadata": {},
   "outputs": [],
   "source": [
    "# run this cell to show the source code of the script #\n",
    "\n",
    "!cat advobs202302_s07_06_00.py"
   ]
  },
  {
   "cell_type": "code",
   "execution_count": null,
   "id": "c6b4baa3-65d0-45fb-ad5c-b48455093aa0",
   "metadata": {},
   "outputs": [],
   "source": [
    "# run this cell to execute the script #\n",
    "\n",
    "!python3.9 advobs202302_s07_06_00.py -h"
   ]
  },
  {
   "cell_type": "code",
   "execution_count": null,
   "id": "d10dd353-60e2-40ba-8a04-1e8ed0d28f44",
   "metadata": {},
   "outputs": [],
   "source": [
    "# run this cell to execute the script #\n",
    "\n",
    "!python3.9 advobs202302_s07_06_00.py -r sigclip -t 3.0 -o darkrate.png d????.fits"
   ]
  },
  {
   "cell_type": "code",
   "execution_count": null,
   "id": "6fa7aae8-525a-4133-a904-486b65711e97",
   "metadata": {},
   "outputs": [],
   "source": [
    "# run this cell to check generated file #\n",
    "\n",
    "!ls -lF *.png"
   ]
  },
  {
   "cell_type": "code",
   "execution_count": null,
   "id": "ebbc43a1-7e13-4e1a-8e10-a6896f1817c2",
   "metadata": {},
   "outputs": [],
   "source": [
    "# run this cell to display the plot #\n",
    "\n",
    "import IPython.display\n",
    "\n",
    "IPython.display.Image ('darkrate.png')"
   ]
  },
  {
   "cell_type": "markdown",
   "id": "abf79778-6e65-4d24-9ba3-859316cbe2ac",
   "metadata": {},
   "source": [
    "# Sample Python script 06-01 #"
   ]
  },
  {
   "cell_type": "code",
   "execution_count": null,
   "id": "b3909e7b-9830-4e02-827d-44658f7359cc",
   "metadata": {},
   "outputs": [],
   "source": [
    "# run this cell to show the source code of the script #\n",
    "\n",
    "!cat advobs202302_s07_06_01.py"
   ]
  },
  {
   "cell_type": "code",
   "execution_count": null,
   "id": "640b4400-7632-4c4f-9aee-03ab5d81d503",
   "metadata": {},
   "outputs": [],
   "source": [
    "# run this cell to execute the script #\n",
    "\n",
    "!python3.9 advobs202302_s07_06_01.py -h"
   ]
  },
  {
   "cell_type": "code",
   "execution_count": null,
   "id": "b319742d-633f-42fb-b982-d50a5a1d9d43",
   "metadata": {},
   "outputs": [],
   "source": [
    "# run this cell to execute the script #\n",
    "\n",
    "!python3.9 advobs202302_s07_06_01.py -r sigclip -t 3.0 -o darkrate_fit.png d????.fits"
   ]
  },
  {
   "cell_type": "code",
   "execution_count": null,
   "id": "24280056-a4f2-41fd-9ec2-10825f713820",
   "metadata": {},
   "outputs": [],
   "source": [
    "# run this cell to check generated file #\n",
    "\n",
    "!ls -lF *.png"
   ]
  },
  {
   "cell_type": "code",
   "execution_count": null,
   "id": "c53e1360-8542-4012-90f9-d1fb530733ab",
   "metadata": {},
   "outputs": [],
   "source": [
    "# run this cell to display the plot #\n",
    "\n",
    "import IPython.display\n",
    "\n",
    "IPython.display.Image ('darkrate_fit.png')"
   ]
  },
  {
   "cell_type": "markdown",
   "id": "eed1786e-a3a2-4768-87a4-6e872bca30a7",
   "metadata": {},
   "source": [
    "## end of this notebook ##"
   ]
  },
  {
   "cell_type": "code",
   "execution_count": null,
   "id": "f74d4f4d-c171-4d5a-890d-df5431bae317",
   "metadata": {},
   "outputs": [],
   "source": []
  }
 ],
 "metadata": {
  "kernelspec": {
   "display_name": "Python 3 (ipykernel)",
   "language": "python",
   "name": "python3"
  },
  "language_info": {
   "codemirror_mode": {
    "name": "ipython",
    "version": 3
   },
   "file_extension": ".py",
   "mimetype": "text/x-python",
   "name": "python",
   "nbconvert_exporter": "python",
   "pygments_lexer": "ipython3",
   "version": "3.9.14"
  }
 },
 "nbformat": 4,
 "nbformat_minor": 5
}
