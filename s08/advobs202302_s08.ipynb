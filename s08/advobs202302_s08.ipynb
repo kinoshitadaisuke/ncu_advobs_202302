{
 "cells": [
  {
   "cell_type": "markdown",
   "id": "0c287e90-87f7-4302-b6ea-3b8726092e65",
   "metadata": {},
   "source": [
    "# Advanced Astronomical Observations #\n",
    "\n",
    "## 2nd semester, academic year 2022 ##\n",
    "\n",
    "## from Feb/2023 to Jun/2023 ##\n",
    "\n",
    "## Session 08: Making flatfield ##\n",
    "\n",
    "## Kinoshita Daisuke ##\n",
    "\n",
    "## 07/Apr/2023 ##"
   ]
  },
  {
   "cell_type": "markdown",
   "id": "eaa18448-2a8d-460c-bd0b-e31c143d6115",
   "metadata": {},
   "source": [
    "## Downloading data ##"
   ]
  },
  {
   "cell_type": "code",
   "execution_count": null,
   "id": "b3f42df4-b112-48fd-825c-d6a3c2680e68",
   "metadata": {},
   "outputs": [],
   "source": [
    "# run this cell to download data #\n",
    "\n",
    "!python3.9 advobs202302_s08_00_00.py"
   ]
  },
  {
   "cell_type": "code",
   "execution_count": null,
   "id": "45aa3fd5-ea42-47bf-8c96-4fdcf3904bed",
   "metadata": {},
   "outputs": [],
   "source": [
    "# run this cell to check downloaded file #\n",
    "\n",
    "!ls -lF data_s08.tar.xz"
   ]
  },
  {
   "cell_type": "code",
   "execution_count": null,
   "id": "51dfaa0c-0217-4e5c-8547-80425d716984",
   "metadata": {},
   "outputs": [],
   "source": [
    "# run this cell to check file type of downloaded file #\n",
    "\n",
    "!file data_s08.tar.xz"
   ]
  },
  {
   "cell_type": "markdown",
   "id": "8d538a48-59ff-4924-a911-a68117935f86",
   "metadata": {},
   "source": [
    "## Extracting data ##"
   ]
  },
  {
   "cell_type": "code",
   "execution_count": null,
   "id": "ad693a2a-417b-4c52-8c81-bd1c28ced1ea",
   "metadata": {},
   "outputs": [],
   "source": [
    "# run this cell to extract data #\n",
    "\n",
    "!tar xJvf data_s08.tar.xz"
   ]
  },
  {
   "cell_type": "code",
   "execution_count": null,
   "id": "83f7313b-e47d-4749-8413-9a48b25026db",
   "metadata": {},
   "outputs": [],
   "source": [
    "# run this cell to show extracted directories and files #\n",
    "\n",
    "!ls -lF"
   ]
  },
  {
   "cell_type": "code",
   "execution_count": null,
   "id": "980237fe-08d9-4023-9eb3-5535ccd6edf9",
   "metadata": {},
   "outputs": [],
   "source": [
    "# run this cell to show extracted FITS files #\n",
    "\n",
    "!ls -lF data_s08"
   ]
  },
  {
   "cell_type": "markdown",
   "id": "33106c91-2688-4549-8ec7-a0a4cd61e436",
   "metadata": {},
   "source": [
    "## Sample Python script 01-00 ##"
   ]
  },
  {
   "cell_type": "code",
   "execution_count": null,
   "id": "8bcf5d1e-2e79-4815-a90a-7e6dd2ebe34c",
   "metadata": {},
   "outputs": [],
   "source": [
    "# run this cell to show the source code of the script #\n",
    "\n",
    "!cat advobs202302_s08_01_00.py"
   ]
  },
  {
   "cell_type": "code",
   "execution_count": null,
   "id": "5d25a6fe-49e3-402f-802c-714178a51ec3",
   "metadata": {},
   "outputs": [],
   "source": [
    "# run this cell to execute the script #\n",
    "\n",
    "!python3.9 advobs202302_s08_01_00.py -h"
   ]
  },
  {
   "cell_type": "code",
   "execution_count": null,
   "id": "8167f6fd-f63e-4b87-961f-acbf52f8064f",
   "metadata": {},
   "outputs": [],
   "source": [
    "# run this cell to execute the script #\n",
    "\n",
    "!python3.9 advobs202302_s08_01_00.py data_s08/*.fits"
   ]
  },
  {
   "cell_type": "markdown",
   "id": "de82d097-253a-43b4-91bb-5e8b37ec4914",
   "metadata": {},
   "source": [
    "## Making dome flatfield ##"
   ]
  },
  {
   "cell_type": "markdown",
   "id": "5e94f87f-351c-41ef-84e8-c4569f972a6b",
   "metadata": {},
   "source": [
    "## Sample Python script 02-00 ##"
   ]
  },
  {
   "cell_type": "code",
   "execution_count": null,
   "id": "66e22874-b29d-44c4-a065-07fb1c1bebd9",
   "metadata": {},
   "outputs": [],
   "source": [
    "# run this cell to show the source code of the script #\n",
    "\n",
    "!cat advobs202302_s08_02_00.py"
   ]
  },
  {
   "cell_type": "code",
   "execution_count": null,
   "id": "d1b9f925-beb2-44f0-a9b2-c83e061fbac8",
   "metadata": {},
   "outputs": [],
   "source": [
    "# run this cell to execute the script #\n",
    "\n",
    "!python3.9 advobs202302_s08_02_00.py -h"
   ]
  },
  {
   "cell_type": "code",
   "execution_count": null,
   "id": "4c3d8177-1140-4cd6-9777-9a159449ce5a",
   "metadata": {},
   "outputs": [],
   "source": [
    "# run this cell to execute the script #\n",
    "\n",
    "!python3.9 advobs202302_s08_02_00.py -d 2021-02-15 -t FLAT -f gp_Astrodon_2019 data_s08/*.fits"
   ]
  },
  {
   "cell_type": "code",
   "execution_count": null,
   "id": "9c4e55a4-2ef3-4596-9b5d-e3fd1657c035",
   "metadata": {},
   "outputs": [],
   "source": [
    "# run this cell to execute the script #\n",
    "\n",
    "!python3.9 advobs202302_s08_01_00.py data_s08/*.fits | grep 2021-02-15 | grep FLAT | grep gp_Astrodon_2019"
   ]
  },
  {
   "cell_type": "markdown",
   "id": "85358a7f-e4c9-4983-b3d6-83dea976c8da",
   "metadata": {},
   "source": [
    "## Sample Python script 02-01 ##"
   ]
  },
  {
   "cell_type": "code",
   "execution_count": null,
   "id": "6cffa724-17f6-4d96-9176-94df34601c0a",
   "metadata": {},
   "outputs": [],
   "source": [
    "# run this cell to show the source code of the script #\n",
    "\n",
    "!cat advobs202302_s08_02_01.py"
   ]
  },
  {
   "cell_type": "code",
   "execution_count": null,
   "id": "72ddce2a-4fd4-4e3c-90b0-96a2e3ead8da",
   "metadata": {},
   "outputs": [],
   "source": [
    "# run this cell to execute the script #\n",
    "\n",
    "!python3.9 advobs202302_s08_02_01.py -h"
   ]
  },
  {
   "cell_type": "code",
   "execution_count": null,
   "id": "b7983e09-0243-415b-b99b-564a549c5900",
   "metadata": {},
   "outputs": [],
   "source": [
    "# run this cell to execute the script #\n",
    "\n",
    "!python3.9 advobs202302_s08_02_01.py https://www.minorplanetcenter.net/iau/MPCORB/NEA.txt"
   ]
  },
  {
   "cell_type": "code",
   "execution_count": null,
   "id": "f548cc49-c1d4-498d-aa29-30615482249f",
   "metadata": {},
   "outputs": [],
   "source": [
    "# run this cell to check downloaded file #\n",
    "\n",
    "!ls -lF NEA.txt"
   ]
  },
  {
   "cell_type": "code",
   "execution_count": null,
   "id": "432ba3c8-f95a-42dc-9148-9b2d4d5554f0",
   "metadata": {},
   "outputs": [],
   "source": [
    "# run this cell to check downloaded file #\n",
    "\n",
    "!file NEA.txt"
   ]
  },
  {
   "cell_type": "code",
   "execution_count": null,
   "id": "76234929-360c-4fad-9782-fb1a4bf017ad",
   "metadata": {},
   "outputs": [],
   "source": [
    "# run this cell to check downloaded file #\n",
    "\n",
    "!head NEA.txt | cut -b -80"
   ]
  },
  {
   "cell_type": "code",
   "execution_count": null,
   "id": "80347369-73b3-408d-9690-3abf52e7b98d",
   "metadata": {},
   "outputs": [],
   "source": [
    "# try grep command #\n",
    "\n",
    "!grep Toutatis NEA.txt"
   ]
  },
  {
   "cell_type": "code",
   "execution_count": null,
   "id": "409a0363-04e0-4469-bd7d-9db0a3e0c4e9",
   "metadata": {},
   "outputs": [],
   "source": [
    "# try grep command #\n",
    "\n",
    "!grep ^25143 NEA.txt"
   ]
  },
  {
   "cell_type": "code",
   "execution_count": null,
   "id": "dfce83ec-931e-4cbd-bb36-487ce6be6e04",
   "metadata": {},
   "outputs": [],
   "source": [
    "# run this cell to execute the script #\n",
    "\n",
    "!python3.9 advobs202302_s08_02_00.py -d 2021-02-15 -t DARK -e 30 data_s08/*.fits"
   ]
  },
  {
   "cell_type": "markdown",
   "id": "165ee4e7-7c99-4983-b692-6cc48826a811",
   "metadata": {},
   "source": [
    "## Sample Python script 02-02 ##"
   ]
  },
  {
   "cell_type": "code",
   "execution_count": null,
   "id": "928e8abe-dc33-4b13-a361-9aac3a6c23ff",
   "metadata": {},
   "outputs": [],
   "source": [
    "# run this cell to show the source code of the script #\n",
    "\n",
    "!cat advobs202302_s08_02_02.py"
   ]
  },
  {
   "cell_type": "code",
   "execution_count": null,
   "id": "d0a8d14d-72c6-4e06-a1ef-8feb09030a41",
   "metadata": {},
   "outputs": [],
   "source": [
    "# run this cell to execute the script #\n",
    "\n",
    "!python3.9 advobs202302_s08_02_02.py -h"
   ]
  },
  {
   "cell_type": "code",
   "execution_count": null,
   "id": "83d7ea61-e046-4be0-87ac-f79f98cae5c4",
   "metadata": {},
   "outputs": [],
   "source": [
    "# run this cell to execute the script #\n",
    "\n",
    "!python3.9 advobs202302_s08_02_02.py -t FLAT -e 30 -f gp_Astrodon_2019 -r sigclip data_s08/*.fits"
   ]
  },
  {
   "cell_type": "code",
   "execution_count": null,
   "id": "57ff35e0-29c5-40a0-b48c-66972232948b",
   "metadata": {},
   "outputs": [],
   "source": [
    "# run this cell to execute the script #\n",
    "\n",
    "!python3.9 advobs202302_s08_02_02.py -t DARK -e 30 -r sigclip data_s08/*.fits"
   ]
  },
  {
   "cell_type": "markdown",
   "id": "ebfb098a-ed54-453a-9406-92c70dd9b1df",
   "metadata": {},
   "source": [
    "## Sample Python script 02-03 ##"
   ]
  },
  {
   "cell_type": "code",
   "execution_count": null,
   "id": "cf125d50-aac2-4ca0-8d75-687bb214a59e",
   "metadata": {},
   "outputs": [],
   "source": [
    "# run this cell to show the source code of the script #\n",
    "\n",
    "!cat advobs202302_s08_02_03.py"
   ]
  },
  {
   "cell_type": "code",
   "execution_count": null,
   "id": "d68d5891-8cef-4ac3-9a1c-4a588801748d",
   "metadata": {},
   "outputs": [],
   "source": [
    "# run this cell to execute the script #\n",
    "\n",
    "!python3.9 advobs202302_s08_02_03.py -h"
   ]
  },
  {
   "cell_type": "code",
   "execution_count": null,
   "id": "a8bcc562-c614-4191-a338-b42d7d449496",
   "metadata": {},
   "outputs": [],
   "source": [
    "# run this cell to execute the script #\n",
    "\n",
    "!python3.9 advobs202302_s08_02_03.py -a 10000 -b 20000 -c gray -o 0294_0.png data_s08/lot_20210215_0294.fits"
   ]
  },
  {
   "cell_type": "code",
   "execution_count": null,
   "id": "41207a43-9965-4728-8374-f43696d5970c",
   "metadata": {},
   "outputs": [],
   "source": [
    "# run this cell to show newly created file #\n",
    "\n",
    "!ls -lF *.png"
   ]
  },
  {
   "cell_type": "code",
   "execution_count": null,
   "id": "f5b74be8-9995-4d14-ac96-d47f41e6898c",
   "metadata": {},
   "outputs": [],
   "source": [
    "# run this cell to display the plot #\n",
    "\n",
    "import IPython.display\n",
    "\n",
    "IPython.display.Image ('0294_0.png')"
   ]
  },
  {
   "cell_type": "code",
   "execution_count": null,
   "id": "a76306d9-1186-4f53-8f85-7e610a64dbd8",
   "metadata": {},
   "outputs": [],
   "source": [
    "# run this cell to execute the script #\n",
    "\n",
    "!python3.9 advobs202302_s08_02_03.py -a 12500 -b 14500 -c twilight -o 0294_1.png data_s08/lot_20210215_0294.fits"
   ]
  },
  {
   "cell_type": "code",
   "execution_count": null,
   "id": "96978ff2-028d-424a-b6c2-e020db954f66",
   "metadata": {},
   "outputs": [],
   "source": [
    "# run this cell to show newly created file #\n",
    "\n",
    "!ls -lF *.png"
   ]
  },
  {
   "cell_type": "code",
   "execution_count": null,
   "id": "e49ce8aa-c173-4c09-9085-c757dbc7b96c",
   "metadata": {},
   "outputs": [],
   "source": [
    "# run this cell to display the plot #\n",
    "\n",
    "import IPython.display\n",
    "\n",
    "IPython.display.Image ('0294_1.png')"
   ]
  },
  {
   "cell_type": "code",
   "execution_count": null,
   "id": "dafc5faa-07a6-4bce-823e-9947d11b7fcb",
   "metadata": {},
   "outputs": [],
   "source": [
    "# run this cell to execute the script #\n",
    "\n",
    "!python3.9 advobs202302_s08_02_03.py -a 14500 -b 17000 -c cubehelix -o 0333_0.png data_s08/lot_20210215_0333.fits"
   ]
  },
  {
   "cell_type": "code",
   "execution_count": null,
   "id": "fc01c427-7e3c-437a-80b1-51a61a093046",
   "metadata": {},
   "outputs": [],
   "source": [
    "# run this cell to show newly created file #\n",
    "\n",
    "!ls -lF *.png"
   ]
  },
  {
   "cell_type": "code",
   "execution_count": null,
   "id": "d91c92d8-efd9-49ff-afc8-103cb3269f0a",
   "metadata": {},
   "outputs": [],
   "source": [
    "# run this cell to display the plot #\n",
    "\n",
    "import IPython.display\n",
    "\n",
    "IPython.display.Image ('0333_0.png')"
   ]
  },
  {
   "cell_type": "markdown",
   "id": "548b7d55-ec07-4ae8-a65a-75601f1ffdd9",
   "metadata": {},
   "source": [
    "## Sample Python script 02-04 ##"
   ]
  },
  {
   "cell_type": "code",
   "execution_count": null,
   "id": "0cdcb10b-e9f5-4cfb-81bc-d2692bfeaca6",
   "metadata": {},
   "outputs": [],
   "source": [
    "# run this cell to show the source code of the script #\n",
    "\n",
    "!cat advobs202302_s08_02_04.py"
   ]
  },
  {
   "cell_type": "code",
   "execution_count": null,
   "id": "7fe44db5-198c-456a-9427-d604edb9f63c",
   "metadata": {},
   "outputs": [],
   "source": [
    "# run this cell to execute the script #\n",
    "\n",
    "!python3.9 advobs202302_s08_02_04.py -h"
   ]
  },
  {
   "cell_type": "code",
   "execution_count": null,
   "id": "c227d60c-a9e0-4cae-b992-a827154d48ad",
   "metadata": {},
   "outputs": [],
   "source": [
    "# run this cell to execute the script #\n",
    "\n",
    "!python3.9 advobs202302_s08_02_04.py -t DARK -e 30 -r sigclip -o dark_0030.fits data_s08/*.fits"
   ]
  },
  {
   "cell_type": "markdown",
   "id": "cb0d8705-5389-43c4-af79-b3676fb4be95",
   "metadata": {},
   "source": [
    "## Sample Python script 02-05 ##"
   ]
  },
  {
   "cell_type": "code",
   "execution_count": null,
   "id": "092ffd3a-5461-4c58-840b-94234bf39828",
   "metadata": {},
   "outputs": [],
   "source": [
    "# run this cell to show the source code of the script #\n",
    "\n",
    "!cat advobs202302_s08_02_05.py"
   ]
  },
  {
   "cell_type": "code",
   "execution_count": null,
   "id": "a2f77502-15c6-4985-8ce3-b93c2d758476",
   "metadata": {},
   "outputs": [],
   "source": [
    "# run this cell to execute the script #\n",
    "\n",
    "!python3.9 advobs202302_s08_02_05.py -h"
   ]
  },
  {
   "cell_type": "code",
   "execution_count": null,
   "id": "10b9567c-1ebd-4981-b25c-8bf944a8f279",
   "metadata": {},
   "outputs": [],
   "source": [
    "# run this cell to execute the script #\n",
    "\n",
    "!python3.9 advobs202302_s08_02_05.py dark_0030.fits"
   ]
  },
  {
   "cell_type": "markdown",
   "id": "7b2d9084-2ef4-4497-a01e-3914576ba255",
   "metadata": {},
   "source": [
    "## Sample Python script 02-06 ##"
   ]
  },
  {
   "cell_type": "code",
   "execution_count": null,
   "id": "377652d0-b547-40fa-95b4-bb8ae5e2b76c",
   "metadata": {},
   "outputs": [],
   "source": [
    "# run this cell to show the source code of the script #\n",
    "\n",
    "!cat advobs202302_s08_02_06.py"
   ]
  },
  {
   "cell_type": "code",
   "execution_count": null,
   "id": "127c7898-822f-43f7-9b27-5254cde7052d",
   "metadata": {},
   "outputs": [],
   "source": [
    "# run this cell to execute the script #\n",
    "\n",
    "!python3.9 advobs202302_s08_02_06.py -h"
   ]
  },
  {
   "cell_type": "code",
   "execution_count": null,
   "id": "02656d89-9243-4098-b0fa-424668c10a7a",
   "metadata": {},
   "outputs": [],
   "source": [
    "# run this cell to execute the script #\n",
    "\n",
    "!python3.9 advobs202302_s08_02_06.py -r sigclip data_s08/lot_20210215_0296.fits dark_0030.fits"
   ]
  },
  {
   "cell_type": "code",
   "execution_count": null,
   "id": "ba583dc4-efe6-43a9-a9cd-83d2e1703ccd",
   "metadata": {},
   "outputs": [],
   "source": [
    "# run this cell to execute the script #\n",
    "\n",
    "!python3.9 advobs202302_s08_02_03.py -a 600 -b 612 -c turbo -o dark_0030.png dark_0030.fits"
   ]
  },
  {
   "cell_type": "code",
   "execution_count": null,
   "id": "27d163ee-0955-4810-91e8-4c8053021ef6",
   "metadata": {},
   "outputs": [],
   "source": [
    "# run this cell to show newly created file #\n",
    "\n",
    "!ls -lF *.png"
   ]
  },
  {
   "cell_type": "code",
   "execution_count": null,
   "id": "ce3151cb-2d71-4c68-9e07-b1fc7bde67c0",
   "metadata": {},
   "outputs": [],
   "source": [
    "# run this cell to display the plot #\n",
    "\n",
    "import IPython.display\n",
    "\n",
    "IPython.display.Image ('dark_0030.png')"
   ]
  },
  {
   "cell_type": "code",
   "execution_count": null,
   "id": "639f8671-499b-40cd-b99b-1c82546cc864",
   "metadata": {},
   "outputs": [],
   "source": [
    "# run this cell to execute the script #\n",
    "\n",
    "!python3.9 advobs202302_s08_02_03.py -a 590 -b 622 -c turbo -o 0296_0.png data_s08/lot_20210215_0296.fits"
   ]
  },
  {
   "cell_type": "code",
   "execution_count": null,
   "id": "4dcddb18-1b06-4d80-9f11-89dfa51fac0f",
   "metadata": {},
   "outputs": [],
   "source": [
    "# run this cell to show newly created file #\n",
    "\n",
    "!ls -lF *.png"
   ]
  },
  {
   "cell_type": "code",
   "execution_count": null,
   "id": "00907a1a-a2aa-4ce7-a10b-c4d5f98a5b5a",
   "metadata": {},
   "outputs": [],
   "source": [
    "# run this cell to display the plot #\n",
    "\n",
    "import IPython.display\n",
    "\n",
    "IPython.display.Image ('0296_0.png')"
   ]
  },
  {
   "cell_type": "markdown",
   "id": "63148bb7-71f0-49fb-8be4-b6058bb909a6",
   "metadata": {},
   "source": [
    "## Sample Python script 02-07 ##"
   ]
  },
  {
   "cell_type": "code",
   "execution_count": null,
   "id": "2f9a1502-1886-47b6-afc1-2056559ac8e8",
   "metadata": {},
   "outputs": [],
   "source": [
    "# run this cell to show the source code of the script #\n",
    "\n",
    "!cat advobs202302_s08_02_07.py"
   ]
  },
  {
   "cell_type": "code",
   "execution_count": null,
   "id": "c0389271-bf8a-4f5e-b4cd-99c0014fe8fd",
   "metadata": {},
   "outputs": [],
   "source": [
    "# run this cell to execute the script #\n",
    "\n",
    "!python3.9 advobs202302_s08_02_07.py -h"
   ]
  },
  {
   "cell_type": "code",
   "execution_count": null,
   "id": "c052c3b1-265f-4595-9c1b-c8d6c74ca732",
   "metadata": {},
   "outputs": [],
   "source": [
    "# run this cell to execute the script #\n",
    "\n",
    "!python3.9 advobs202302_s08_02_07.py -o test_sub.fits -s dark_0030.fits data_s08/lot_20210215_0294.fits"
   ]
  },
  {
   "cell_type": "code",
   "execution_count": null,
   "id": "e1536308-25de-41e9-b758-bbde69a9469c",
   "metadata": {},
   "outputs": [],
   "source": [
    "# run this cell to show newly created file #\n",
    "\n",
    "!ls -lF *.fits"
   ]
  },
  {
   "cell_type": "code",
   "execution_count": null,
   "id": "6a6464a2-b640-40ed-9a3e-505f251c4175",
   "metadata": {},
   "outputs": [],
   "source": [
    "# run this cell to execute the script #\n",
    "\n",
    "!python3.9 advobs202302_s08_02_05.py test_sub.fits"
   ]
  },
  {
   "cell_type": "code",
   "execution_count": null,
   "id": "6c8d2c46-f731-4f8d-9f0a-05bc1b37d50b",
   "metadata": {},
   "outputs": [],
   "source": [
    "# run this cell to execute the script #\n",
    "\n",
    "!python3.9 advobs202302_s08_02_06.py -r sigclip data_s08/lot_20210215_0294.fits dark_0030.fits test_sub.fits"
   ]
  },
  {
   "cell_type": "markdown",
   "id": "5c81c0b4-405e-4ce7-a241-ceb717bff98c",
   "metadata": {},
   "source": [
    "## Sample Python script 02-08 ##"
   ]
  },
  {
   "cell_type": "code",
   "execution_count": null,
   "id": "8cadbb46-78de-46bf-a74f-5ea53025a106",
   "metadata": {},
   "outputs": [],
   "source": [
    "# run this cell to show the source code of the script #\n",
    "\n",
    "!cat advobs202302_s08_02_08.py"
   ]
  },
  {
   "cell_type": "code",
   "execution_count": null,
   "id": "5420f41d-6482-4d43-b675-ed03b039817c",
   "metadata": {},
   "outputs": [],
   "source": [
    "# run this cell to execute the script #\n",
    "\n",
    "!python3.9 advobs202302_s08_02_08.py -h"
   ]
  },
  {
   "cell_type": "code",
   "execution_count": null,
   "id": "cfef1034-e101-482d-b6d8-44594164f7c9",
   "metadata": {},
   "outputs": [],
   "source": [
    "# run this cell to execute the script #\n",
    "\n",
    "!python3.9 advobs202302_s08_02_08.py -t FLAT -e 30 -f gp_Astrodon_2019 -s dark_0030.fits data_s08/*.fits"
   ]
  },
  {
   "cell_type": "markdown",
   "id": "9697c674-72f5-4e1b-8513-ccea90dfb6d0",
   "metadata": {},
   "source": [
    "## Sample Python script 02-09 ##"
   ]
  },
  {
   "cell_type": "code",
   "execution_count": null,
   "id": "879dbf62-c57f-48aa-a610-b7206f33532e",
   "metadata": {},
   "outputs": [],
   "source": [
    "# run this cell to show the source code of the script #\n",
    "\n",
    "!cat advobs202302_s08_02_09.py"
   ]
  },
  {
   "cell_type": "code",
   "execution_count": null,
   "id": "0d917e13-5142-4ab2-a6d6-4272c5813659",
   "metadata": {},
   "outputs": [],
   "source": [
    "# run this cell to execute the script #\n",
    "\n",
    "!python3.9 advobs202302_s08_02_09.py -h"
   ]
  },
  {
   "cell_type": "code",
   "execution_count": null,
   "id": "4e97ceee-cfec-4548-be6d-c9f1e5e68cdb",
   "metadata": {},
   "outputs": [],
   "source": [
    "# run this cell to execute the script #\n",
    "\n",
    "!python3.9 advobs202302_s08_02_09.py -r sigclip data_s08/lot_20210215_0294.fits lot_20210215_0294_d.fits"
   ]
  },
  {
   "cell_type": "code",
   "execution_count": null,
   "id": "2d67bd8c-fbc2-438c-bc5a-3215c049fe4c",
   "metadata": {},
   "outputs": [],
   "source": [
    "# run this cell to execute the script #\n",
    "\n",
    "!python3.9 advobs202302_s08_02_09.py -r sigclip data_s08/lot_20210215_0345.fits lot_20210215_0345_d.fits"
   ]
  },
  {
   "cell_type": "markdown",
   "id": "e05d755a-09b2-4bb1-a546-5fa3ef2ebb34",
   "metadata": {},
   "source": [
    "## Sample Python script 02-10 ##"
   ]
  },
  {
   "cell_type": "code",
   "execution_count": null,
   "id": "01f1b578-94f7-4c54-8d5e-e231d93b0e84",
   "metadata": {},
   "outputs": [],
   "source": [
    "# run this cell to show the source code of the script #\n",
    "\n",
    "!cat advobs202302_s08_02_10.py"
   ]
  },
  {
   "cell_type": "code",
   "execution_count": null,
   "id": "0a4b85ee-aa75-4299-accd-f62e40063544",
   "metadata": {},
   "outputs": [],
   "source": [
    "# run this cell to execute the script #\n",
    "\n",
    "!python3.9 advobs202302_s08_02_10.py -h"
   ]
  },
  {
   "cell_type": "code",
   "execution_count": null,
   "id": "296b8fa7-1303-4525-900e-6ef14c5cddd6",
   "metadata": {},
   "outputs": [],
   "source": [
    "# run this cell to execute the script #\n",
    "\n",
    "!python3.9 advobs202302_s08_02_10.py -t FLAT -e 30 -f gp_Astrodon_2019 -r sigclip -o domeflat_gp.fits lot_20210215_0*.fits"
   ]
  },
  {
   "cell_type": "code",
   "execution_count": null,
   "id": "e2e46265-e902-4394-a187-088ded3ef475",
   "metadata": {},
   "outputs": [],
   "source": [
    "# run this cell to show newly created file #\n",
    "\n",
    "!ls -lF *.fits"
   ]
  },
  {
   "cell_type": "code",
   "execution_count": null,
   "id": "fece9c33-4a9c-48dc-9489-86e8867f4337",
   "metadata": {},
   "outputs": [],
   "source": [
    "# run this cell to execute the script #\n",
    "\n",
    "!python3.9 advobs202302_s08_02_09.py domeflat_gp.fits"
   ]
  },
  {
   "cell_type": "code",
   "execution_count": null,
   "id": "c9cca143-c84c-4bd4-9e1d-b700bf814a50",
   "metadata": {},
   "outputs": [],
   "source": [
    "# run this cell to execute the script #\n",
    "\n",
    "!python3.9 advobs202302_s08_02_03.py -a 0.94 -b 1.06 -c gnuplot -o domeflat_gp.png domeflat_gp.fits"
   ]
  },
  {
   "cell_type": "code",
   "execution_count": null,
   "id": "8dcfcdb5-fa83-4a16-a0e1-3a200ff36663",
   "metadata": {},
   "outputs": [],
   "source": [
    "# run this cell to show newly created file #\n",
    "\n",
    "!ls -lF *.png"
   ]
  },
  {
   "cell_type": "code",
   "execution_count": null,
   "id": "4205d230-ad01-47b7-a902-500f95dd0d5f",
   "metadata": {},
   "outputs": [],
   "source": [
    "# run this cell to display the plot #\n",
    "\n",
    "import IPython.display\n",
    "\n",
    "IPython.display.Image ('domeflat_gp.png')"
   ]
  },
  {
   "cell_type": "markdown",
   "id": "7cd7322f-8414-40c2-aa4a-53548d5793bb",
   "metadata": {},
   "source": [
    "## Making twilight flatfield ##"
   ]
  },
  {
   "cell_type": "code",
   "execution_count": null,
   "id": "bb3af520-9576-4c87-888e-f8381f532f1c",
   "metadata": {},
   "outputs": [],
   "source": [
    "# run this cell to execute the script #\n",
    "\n",
    "!python3.9 advobs202302_s08_02_00.py -d 2021-02-14 -t FLAT -f gp_Astrodon_2019 data_s08/*.fits"
   ]
  },
  {
   "cell_type": "code",
   "execution_count": null,
   "id": "7caadb79-28dc-4759-a164-31466c185683",
   "metadata": {},
   "outputs": [],
   "source": [
    "# run this cell to execute the script #\n",
    "\n",
    "!python3.9 advobs202302_s08_02_00.py -d 2021-02-14 -t DARK -e 5 data_s08/*.fits"
   ]
  },
  {
   "cell_type": "code",
   "execution_count": null,
   "id": "8493d21a-b13d-4360-914c-de370ec59a2c",
   "metadata": {},
   "outputs": [],
   "source": [
    "# run this cell to execute the script #\n",
    "\n",
    "!python3.9 advobs202302_s08_02_00.py -d 2021-02-14 -t DARK -e 15 data_s08/*.fits"
   ]
  },
  {
   "cell_type": "code",
   "execution_count": null,
   "id": "abc56f8c-fcbf-49a6-ab52-67a26bf96ecd",
   "metadata": {},
   "outputs": [],
   "source": [
    "# run this cell to execute the script #\n",
    "\n",
    "!python3.9 advobs202302_s08_02_00.py -d 2021-02-14 -t DARK -e 45 data_s08/*.fits"
   ]
  },
  {
   "cell_type": "markdown",
   "id": "652d95c8-d396-4eca-b753-92f89305d271",
   "metadata": {},
   "source": [
    "## Sample Python script 03-00 ##"
   ]
  },
  {
   "cell_type": "code",
   "execution_count": null,
   "id": "240aab70-96e3-4017-9820-aad47250cfac",
   "metadata": {},
   "outputs": [],
   "source": [
    "# run this cell to show the source code of the script #\n",
    "\n",
    "!cat advobs202302_s08_03_00.py"
   ]
  },
  {
   "cell_type": "code",
   "execution_count": null,
   "id": "d04b111c-812a-47cf-8f6a-becce3e1f554",
   "metadata": {},
   "outputs": [],
   "source": [
    "# run this cell to execute the script #\n",
    "\n",
    "!python3.9 advobs202302_s08_03_00.py -h"
   ]
  },
  {
   "cell_type": "code",
   "execution_count": null,
   "id": "00f3f06b-b31f-4200-a8eb-eb70ecf27cfc",
   "metadata": {},
   "outputs": [],
   "source": [
    "# run this cell to execute the script #\n",
    "\n",
    "!python3.9 advobs202302_s08_03_00.py -d 2021-02-14 -t FLAT -f gp_Astrodon_2019 -r sigclip data_s08/*.fits"
   ]
  },
  {
   "cell_type": "markdown",
   "id": "0429c07e-1c60-44ab-80bc-d933fa80a823",
   "metadata": {},
   "source": [
    "## Sample Python script 03-01 ##"
   ]
  },
  {
   "cell_type": "code",
   "execution_count": null,
   "id": "d3bafacf-9c78-4b30-990d-ef5c2265a1c9",
   "metadata": {},
   "outputs": [],
   "source": [
    "# run this cell to show the source code of the script #\n",
    "\n",
    "!cat advobs202302_s08_03_01.py"
   ]
  },
  {
   "cell_type": "code",
   "execution_count": null,
   "id": "31442155-6920-45ef-9c7b-109afe93e825",
   "metadata": {},
   "outputs": [],
   "source": [
    "# run this cell to execute the script #\n",
    "\n",
    "!python3.9 advobs202302_s08_03_01.py -h"
   ]
  },
  {
   "cell_type": "code",
   "execution_count": null,
   "id": "d87a0b6c-d9fe-46bc-a8b8-f357a53dbb43",
   "metadata": {},
   "outputs": [],
   "source": [
    "# run this cell to execute the script #\n",
    "\n",
    "!python3.9 advobs202302_s08_03_01.py -d 2021-02-14 -t DARK -e 5 -r sigclip -o dark_0005.fits data_s08/*.fits"
   ]
  },
  {
   "cell_type": "code",
   "execution_count": null,
   "id": "e82c60cb-f63f-4745-9962-4db360961874",
   "metadata": {},
   "outputs": [],
   "source": [
    "# run this cell to show newly created file #\n",
    "\n",
    "!ls -lF dark_*.fits"
   ]
  },
  {
   "cell_type": "code",
   "execution_count": null,
   "id": "00448f70-b3c1-420c-8691-f871723757e8",
   "metadata": {},
   "outputs": [],
   "source": [
    "# run this cell to execute the script #\n",
    "\n",
    "!python3.9 advobs202302_s08_02_05.py dark_0005.fits"
   ]
  },
  {
   "cell_type": "code",
   "execution_count": null,
   "id": "ee3cd6a9-369c-4cae-8cc1-4e15d346ab70",
   "metadata": {},
   "outputs": [],
   "source": [
    "# run this cell to execute the script #\n",
    "\n",
    "!python3.9 advobs202302_s08_03_00.py -d 2021-02-14 -t DARK -e 5 -r sigclip dark_0005.fits data_s08/*.fits"
   ]
  },
  {
   "cell_type": "code",
   "execution_count": null,
   "id": "924fa8e2-a1d1-4ee7-95d0-2e491760acc6",
   "metadata": {},
   "outputs": [],
   "source": [
    "# run this cell to execute the script #\n",
    "\n",
    "!python3.9 advobs202302_s08_02_03.py -a 602 -b 610 -c cividis -o dark_0005.png dark_0005.fits"
   ]
  },
  {
   "cell_type": "code",
   "execution_count": null,
   "id": "86543aed-6951-4d4c-93e2-5b364e4fc730",
   "metadata": {},
   "outputs": [],
   "source": [
    "# run this cell to display the plot #\n",
    "\n",
    "import IPython.display\n",
    "\n",
    "IPython.display.Image ('dark_0005.png')"
   ]
  },
  {
   "cell_type": "code",
   "execution_count": null,
   "id": "331aa991-e9ff-4f89-8aec-941d132a15a1",
   "metadata": {},
   "outputs": [],
   "source": [
    "# run this cell to execute the script #\n",
    "\n",
    "!python3.9 advobs202302_s08_03_01.py -d 2021-02-14 -t DARK -e 15 -r sigclip -o dark_0015.fits data_s08/*.fits"
   ]
  },
  {
   "cell_type": "code",
   "execution_count": null,
   "id": "f79329a9-781f-49ed-b3ee-4fa4c65a379b",
   "metadata": {},
   "outputs": [],
   "source": [
    "# run this cell to show newly created file #\n",
    "\n",
    "!ls -lF dark_*.fits"
   ]
  },
  {
   "cell_type": "code",
   "execution_count": null,
   "id": "b10880fa-1bef-4126-a8c1-dd76cc3c81f3",
   "metadata": {},
   "outputs": [],
   "source": [
    "# run this cell to execute the script #\n",
    "\n",
    "!python3.9 advobs202302_s08_03_01.py -d 2021-02-14 -t DARK -e 45 -r sigclip -o dark_0045.fits data_s08/*.fits"
   ]
  },
  {
   "cell_type": "code",
   "execution_count": null,
   "id": "2d0874c7-1d84-47e5-8db6-e78e48a7c1b0",
   "metadata": {},
   "outputs": [],
   "source": [
    "# run this cell to show newly created file #\n",
    "\n",
    "!ls -lF dark_*.fits"
   ]
  },
  {
   "cell_type": "markdown",
   "id": "4e5adf15-0089-4d00-a145-a7c8206e791d",
   "metadata": {},
   "source": [
    "## Sample Python script 03-02 ##"
   ]
  },
  {
   "cell_type": "code",
   "execution_count": null,
   "id": "9c943e59-8661-440e-b494-c4327b6329d9",
   "metadata": {},
   "outputs": [],
   "source": [
    "# run this cell to show the source code of the script #\n",
    "\n",
    "!cat advobs202302_s08_03_02.py"
   ]
  },
  {
   "cell_type": "code",
   "execution_count": null,
   "id": "ac96c6cb-0313-4dd0-9f76-94084acd9d64",
   "metadata": {},
   "outputs": [],
   "source": [
    "# run this cell to execute the script #\n",
    "\n",
    "!python3.9 advobs202302_s08_03_02.py -h"
   ]
  },
  {
   "cell_type": "code",
   "execution_count": null,
   "id": "5e6a7ccb-4afa-4b86-9968-4c5faeaa0a7e",
   "metadata": {},
   "outputs": [],
   "source": [
    "# run this cell to execute the script #\n",
    "\n",
    "!python3.9 advobs202302_s08_03_02.py -d 2021-02-14 -t FLAT -f gp_Astrodon_2019 data_s08/*.fits"
   ]
  },
  {
   "cell_type": "code",
   "execution_count": null,
   "id": "08b9eb1c-76d3-454e-94ac-af8f2e417117",
   "metadata": {},
   "outputs": [],
   "source": [
    "# run this cell to show newly created files #\n",
    "\n",
    "!ls -lF *.fits"
   ]
  },
  {
   "cell_type": "code",
   "execution_count": null,
   "id": "8dfcd5e8-33af-4740-aa08-a501a84c0761",
   "metadata": {},
   "outputs": [],
   "source": [
    "# run this cell to execute the script #\n",
    "\n",
    "!python3.9 advobs202302_s08_03_00.py -d 2021-02-14 -t FLAT -f gp_Astrodon_2019 *.fits data_s08/*.fits"
   ]
  },
  {
   "cell_type": "code",
   "execution_count": null,
   "id": "3d994c93-d4ef-47a0-902a-171640aeb44e",
   "metadata": {},
   "outputs": [],
   "source": [
    "# run this cell to execute the script #\n",
    "\n",
    "!python3.9 advobs202302_s08_02_03.py -a 17000 -b 21000 -c copper -o 0425_d.png lot_20210214_0425_d.fits"
   ]
  },
  {
   "cell_type": "code",
   "execution_count": null,
   "id": "9d035045-709a-4f50-891f-716d384c0ac2",
   "metadata": {},
   "outputs": [],
   "source": [
    "# run this cell to show newly created file #\n",
    "\n",
    "!ls -lF *.png"
   ]
  },
  {
   "cell_type": "code",
   "execution_count": null,
   "id": "d653ea6d-1e7a-4194-a456-a9328ede8488",
   "metadata": {},
   "outputs": [],
   "source": [
    "# run this cell to display the plot #\n",
    "\n",
    "import IPython.display\n",
    "\n",
    "IPython.display.Image ('0425_d.png')"
   ]
  },
  {
   "cell_type": "markdown",
   "id": "20c99160-71e0-4e0e-a3c6-fa900e99a3e6",
   "metadata": {},
   "source": [
    "## Sample Python script 03-03 ##"
   ]
  },
  {
   "cell_type": "code",
   "execution_count": null,
   "id": "e0129756-403e-4778-874c-2e3735fcb7c7",
   "metadata": {},
   "outputs": [],
   "source": [
    "# run this cell to show the source code of the script #\n",
    "\n",
    "!cat advobs202302_s08_03_03.py"
   ]
  },
  {
   "cell_type": "code",
   "execution_count": null,
   "id": "486870b7-3a01-45d3-b72d-afc3ca350762",
   "metadata": {},
   "outputs": [],
   "source": [
    "# run this cell to execute the script #\n",
    "\n",
    "!python3.9 advobs202302_s08_03_03.py -h"
   ]
  },
  {
   "cell_type": "code",
   "execution_count": null,
   "id": "18012989-a79d-481d-a5d1-afdc1207c5cf",
   "metadata": {},
   "outputs": [],
   "source": [
    "# run this cell to execute the script #\n",
    "\n",
    "!python3.9 advobs202302_s08_03_03.py -d 2021-02-14 -t FLAT -f gp_Astrodon_2019 -r sigclip -m 32000 -o twiflat_gp.fits lot_20210214_0*.fits"
   ]
  },
  {
   "cell_type": "code",
   "execution_count": null,
   "id": "3331138d-1182-432d-ba5c-d2b7f7a11893",
   "metadata": {},
   "outputs": [],
   "source": [
    "# run this cell to show newly created file #\n",
    "\n",
    "!ls -lF *flat*.fits"
   ]
  },
  {
   "cell_type": "code",
   "execution_count": null,
   "id": "a2dfd876-66a2-42b4-8a6c-578e2b5c67e0",
   "metadata": {},
   "outputs": [],
   "source": [
    "# run this cell to execute the script #\n",
    "\n",
    "!python3.9 advobs202302_s08_03_00.py -d 2021-02-14 -t FLAT *flat*.fits"
   ]
  },
  {
   "cell_type": "code",
   "execution_count": null,
   "id": "2e6f240b-7a83-4aa1-97b9-b9ce85a38800",
   "metadata": {},
   "outputs": [],
   "source": [
    "# run this cell to execute the script #\n",
    "\n",
    "!python3.9 advobs202302_s08_02_03.py -a 0.91 -b 1.09 -c viridis -o twiflat_gp.png twiflat_gp.fits"
   ]
  },
  {
   "cell_type": "code",
   "execution_count": null,
   "id": "28dc3618-2890-4cbb-9ab0-68c53d82be8f",
   "metadata": {},
   "outputs": [],
   "source": [
    "# run this cell to show newly created file #\n",
    "\n",
    "!ls -lF *.png"
   ]
  },
  {
   "cell_type": "code",
   "execution_count": null,
   "id": "26705c3d-acd6-4496-a5f0-58209a7444ed",
   "metadata": {},
   "outputs": [],
   "source": [
    "# run this cell to display the plot #\n",
    "\n",
    "import IPython.display\n",
    "\n",
    "IPython.display.Image ('twiflat_gp.png')"
   ]
  },
  {
   "cell_type": "code",
   "execution_count": null,
   "id": "8aa2724d-2636-4c2b-95bd-1f32e4545610",
   "metadata": {},
   "outputs": [],
   "source": [
    "# run this cell to execute the script #\n",
    "\n",
    "!python3.9 advobs202302_s08_03_03.py -d 2021-02-14 -t FLAT -f gp_Astrodon_2019 -r sigclip -s 2.5 -m 32000 -o twiflat_gp2.fits lot_20210214_0*.fits"
   ]
  },
  {
   "cell_type": "code",
   "execution_count": null,
   "id": "bab8d548-8ae5-434a-b224-2d9c90be2aeb",
   "metadata": {},
   "outputs": [],
   "source": [
    "# run this cell to show newly created file #\n",
    "\n",
    "!ls -lF *flat*.fits"
   ]
  },
  {
   "cell_type": "code",
   "execution_count": null,
   "id": "2094f69c-f8b6-4401-a294-08ae2b856010",
   "metadata": {},
   "outputs": [],
   "source": [
    "# run this cell to execute the script #\n",
    "\n",
    "!python3.9 advobs202302_s08_03_00.py -d 2021-02-14 -t FLAT *flat*.fits"
   ]
  },
  {
   "cell_type": "code",
   "execution_count": null,
   "id": "67bf5167-cc16-46f5-97c4-a0d1a8d955e6",
   "metadata": {},
   "outputs": [],
   "source": [
    "# run this cell to execute the script #\n",
    "\n",
    "!python3.9 advobs202302_s08_02_03.py -a 0.91 -b 1.09 -c viridis -o twiflat_gp2.png twiflat_gp2.fits"
   ]
  },
  {
   "cell_type": "code",
   "execution_count": null,
   "id": "c4a8699d-5c37-4155-b18f-371fe2df102b",
   "metadata": {},
   "outputs": [],
   "source": [
    "# run this cell to show newly created file #\n",
    "\n",
    "!ls -lF *.png"
   ]
  },
  {
   "cell_type": "code",
   "execution_count": null,
   "id": "06c646a2-ca5a-457c-b7a8-7fb29829ea33",
   "metadata": {},
   "outputs": [],
   "source": [
    "# run this cell to display the plot #\n",
    "\n",
    "import IPython.display\n",
    "\n",
    "IPython.display.Image ('twiflat_gp2.png')"
   ]
  },
  {
   "cell_type": "markdown",
   "id": "ff81a027-92f8-48ff-9e06-9273bf0a30aa",
   "metadata": {},
   "source": [
    "## end of this notebook ##"
   ]
  },
  {
   "cell_type": "code",
   "execution_count": null,
   "id": "1bef93fd-9044-444c-a180-7c61e0272524",
   "metadata": {},
   "outputs": [],
   "source": []
  }
 ],
 "metadata": {
  "kernelspec": {
   "display_name": "Python 3 (ipykernel)",
   "language": "python",
   "name": "python3"
  },
  "language_info": {
   "codemirror_mode": {
    "name": "ipython",
    "version": 3
   },
   "file_extension": ".py",
   "mimetype": "text/x-python",
   "name": "python",
   "nbconvert_exporter": "python",
   "pygments_lexer": "ipython3",
   "version": "3.9.14"
  }
 },
 "nbformat": 4,
 "nbformat_minor": 5
}
