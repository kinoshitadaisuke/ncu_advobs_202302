{
 "cells": [
  {
   "cell_type": "markdown",
   "id": "fadc5889-17fe-4c1e-aacb-c56eae30b56c",
   "metadata": {},
   "source": [
    "# Advanced Astronomical Observations #\n",
    "\n",
    "## 2nd semester, academic year 2022 ##\n",
    "\n",
    "## from Feb/2023 to Jun/2023 ##\n",
    "\n",
    "## Session 10: Basic CCD data reduction 2 ##\n",
    "\n",
    "## Kinoshita Daisuke ##\n",
    "\n",
    "## 21 April 2023 ##"
   ]
  },
  {
   "cell_type": "markdown",
   "id": "59d7556d-a5c6-43da-a3d4-8c4d80ce7a66",
   "metadata": {},
   "source": [
    "## Downloading data ##"
   ]
  },
  {
   "cell_type": "code",
   "execution_count": null,
   "id": "6c5911a8-a6e9-4aa7-8356-3fd0930c9d0c",
   "metadata": {},
   "outputs": [],
   "source": [
    "# run this cell to show the source code of the script #\n",
    "\n",
    "!cat advobs202302_s10_00_00.py"
   ]
  },
  {
   "cell_type": "code",
   "execution_count": null,
   "id": "2dafa388-7a5b-4c13-a6d4-6df73eb4a69e",
   "metadata": {},
   "outputs": [],
   "source": [
    "# run this cell to execute the script #\n",
    "\n",
    "!python3.9 advobs202302_s10_00_00.py"
   ]
  },
  {
   "cell_type": "code",
   "execution_count": null,
   "id": "a735d9c4-e6ce-4c2b-be39-3a6eb5e497af",
   "metadata": {},
   "outputs": [],
   "source": [
    "# if above script fails, then try to run this cell to download the data #\n",
    "\n",
    "!wget --no-check-certificate https://s3b.astro.ncu.edu.tw/advobs_202302/data/data_s10.tar.xz"
   ]
  },
  {
   "cell_type": "code",
   "execution_count": null,
   "id": "ee0a401d-07ae-454f-a061-8243a3f5f533",
   "metadata": {},
   "outputs": [],
   "source": [
    "# run this cell to show downloaded file #\n",
    "\n",
    "!ls -lF data_s10.tar.xz"
   ]
  },
  {
   "cell_type": "code",
   "execution_count": null,
   "id": "ccd254db-b17e-40de-81fa-6be2b98aeacf",
   "metadata": {},
   "outputs": [],
   "source": [
    "# run this cell to find file type of downloaded file #\n",
    "\n",
    "!file data_s10.tar.xz"
   ]
  },
  {
   "cell_type": "markdown",
   "id": "98132804-98f7-4dc0-9c54-4f3e3c532eee",
   "metadata": {},
   "source": [
    "## Extracting data ##"
   ]
  },
  {
   "cell_type": "code",
   "execution_count": null,
   "id": "54e8f5f2-6a4c-44b2-8025-8ae2caf2d58e",
   "metadata": {},
   "outputs": [],
   "source": [
    "# run this cell to extract the data #\n",
    "\n",
    "!tar xJvf data_s10.tar.xz"
   ]
  },
  {
   "cell_type": "code",
   "execution_count": null,
   "id": "50eac0b9-00cc-40f0-ab40-c69ec848b772",
   "metadata": {},
   "outputs": [],
   "source": [
    "# run this cell to show extracted directory #\n",
    "\n",
    "!ls -lF"
   ]
  },
  {
   "cell_type": "code",
   "execution_count": null,
   "id": "28cad483-084d-443b-b8f8-a15e5c95ea3f",
   "metadata": {},
   "outputs": [],
   "source": [
    "# run this cell to show extracted FITS files #\n",
    "\n",
    "!ls -lF data_s10"
   ]
  },
  {
   "cell_type": "markdown",
   "id": "ca28bca3-aa99-4da4-a03c-65aead0d1dec",
   "metadata": {},
   "source": [
    "## Checking data ##"
   ]
  },
  {
   "cell_type": "code",
   "execution_count": 6,
   "id": "73e72fef-66b6-4db6-b7de-4bf986817023",
   "metadata": {},
   "outputs": [],
   "source": [
    "# Make a Python script to carry out existence check of all the necessary dark frames and flatfield frames #\n",
    "\n",
    "\n",
    "\n",
    "\n"
   ]
  },
  {
   "cell_type": "markdown",
   "id": "07f0791e-ba00-4c15-900f-231fb875393a",
   "metadata": {},
   "source": [
    "## Data reduction ##"
   ]
  },
  {
   "cell_type": "code",
   "execution_count": 7,
   "id": "1aedca34-3d17-42cc-bd40-425e9e28930f",
   "metadata": {},
   "outputs": [],
   "source": [
    "# Make a Python script to carry out basic CCD data reduction #\n",
    "\n",
    "\n",
    "\n",
    "\n",
    "\n"
   ]
  },
  {
   "cell_type": "markdown",
   "id": "89b0aaa5-3abc-4e7a-9620-edb4b85fdc47",
   "metadata": {},
   "source": [
    "## end of the notebook ##"
   ]
  },
  {
   "cell_type": "code",
   "execution_count": null,
   "id": "fd6cf77a-563f-45b0-95d5-4bd33af29234",
   "metadata": {},
   "outputs": [],
   "source": []
  }
 ],
 "metadata": {
  "kernelspec": {
   "display_name": "Python 3 (ipykernel)",
   "language": "python",
   "name": "python3"
  },
  "language_info": {
   "codemirror_mode": {
    "name": "ipython",
    "version": 3
   },
   "file_extension": ".py",
   "mimetype": "text/x-python",
   "name": "python",
   "nbconvert_exporter": "python",
   "pygments_lexer": "ipython3",
   "version": "3.9.14"
  }
 },
 "nbformat": 4,
 "nbformat_minor": 5
}
