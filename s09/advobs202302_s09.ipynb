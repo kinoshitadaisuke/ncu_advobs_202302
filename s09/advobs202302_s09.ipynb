{
 "cells": [
  {
   "cell_type": "markdown",
   "id": "2358afb4-b48b-4d6c-94a4-8eb1357d0a34",
   "metadata": {},
   "source": [
    "# Advanced Astronomical Observations #\n",
    "\n",
    "## second semester, academic year 2022 ##\n",
    "\n",
    "## from Feb/2023 to Jun/2023 ##\n",
    "\n",
    "## Session 09: Basic CCD Data Reduction ##\n",
    "\n",
    "## Kinoshita Daisuke ##\n",
    "\n",
    "## 14 April 2023 ##"
   ]
  },
  {
   "cell_type": "markdown",
   "id": "55d69ef3-cdc7-451a-9b79-54935a80840a",
   "metadata": {},
   "source": [
    "## Downloading data for this session ##"
   ]
  },
  {
   "cell_type": "code",
   "execution_count": null,
   "id": "f3941d0a-89a7-49f1-8bcf-3f85acb70869",
   "metadata": {},
   "outputs": [],
   "source": [
    "# run this cell to show the source code of the script #\n",
    "\n",
    "!cat advobs202302_s09_00_00.py"
   ]
  },
  {
   "cell_type": "code",
   "execution_count": null,
   "id": "2a99d74c-bd95-4d5b-ac6c-03714811821c",
   "metadata": {},
   "outputs": [],
   "source": [
    "# run this cell to execute the script #\n",
    "\n",
    "!python3.9 advobs202302_s09_00_00.py"
   ]
  },
  {
   "cell_type": "code",
   "execution_count": null,
   "id": "e3437c34-002c-4b0e-8a17-1a7b7b7cd847",
   "metadata": {},
   "outputs": [],
   "source": [
    "# run this cell to find downloaded file #\n",
    "\n",
    "!ls -lF"
   ]
  },
  {
   "cell_type": "code",
   "execution_count": null,
   "id": "1914643e-b971-4a9d-8da9-f0ba88a2b0d6",
   "metadata": {},
   "outputs": [],
   "source": [
    "# run this cell to show downloaded file #\n",
    "\n",
    "!ls -lF data_s09.tar.xz"
   ]
  },
  {
   "cell_type": "code",
   "execution_count": null,
   "id": "f1fd1ceb-9875-4500-b704-a04b1ba163d1",
   "metadata": {},
   "outputs": [],
   "source": [
    "# run this cell to show file type of downloaded file #\n",
    "\n",
    "!file data_s09.tar.xz"
   ]
  },
  {
   "cell_type": "markdown",
   "id": "29c69c65-9d67-4595-acb0-99966fc6416d",
   "metadata": {},
   "source": [
    "## Extracting data for this session ##"
   ]
  },
  {
   "cell_type": "code",
   "execution_count": null,
   "id": "2bff4f2e-1273-4d72-ac59-7340951a1174",
   "metadata": {},
   "outputs": [],
   "source": [
    "# run this cell to extract data for this session #\n",
    "\n",
    "!tar xJvf data_s09.tar.xz"
   ]
  },
  {
   "cell_type": "code",
   "execution_count": null,
   "id": "523d6fe3-c6e7-4cd4-b66f-07e5ff057233",
   "metadata": {},
   "outputs": [],
   "source": [
    "# run this cell to show extracted directory #\n",
    "\n",
    "!ls -lF"
   ]
  },
  {
   "cell_type": "code",
   "execution_count": null,
   "id": "1a5efc26-1166-4d27-b87c-135ef1210981",
   "metadata": {},
   "outputs": [],
   "source": [
    "# run this cell to show extracted files in the directory \"data_s09\" #\n",
    "\n",
    "!ls -lF data_s09"
   ]
  },
  {
   "cell_type": "code",
   "execution_count": null,
   "id": "afbd6296-6d72-4957-8e30-eb268cfa9e6d",
   "metadata": {},
   "outputs": [],
   "source": [
    "# run this cell to count the number of extracted FITS files #\n",
    "\n",
    "!ls data_s09/*.fits | wc"
   ]
  },
  {
   "cell_type": "markdown",
   "id": "eeaa4c5d-2c6e-47d6-a96e-73645b7f222d",
   "metadata": {},
   "source": [
    "## Checking data for this session ##"
   ]
  },
  {
   "cell_type": "markdown",
   "id": "382c2d73-d005-48a0-92b2-3bc65a18df2d",
   "metadata": {},
   "source": [
    "### generating a list of FITS files ###"
   ]
  },
  {
   "cell_type": "code",
   "execution_count": null,
   "id": "e86b2b40-6264-47bf-bdde-214a05638b70",
   "metadata": {},
   "outputs": [],
   "source": [
    "# run this cell to show the source code of the script #\n",
    "\n",
    "!cat advobs202302_s09_01_00.py"
   ]
  },
  {
   "cell_type": "code",
   "execution_count": null,
   "id": "8e116004-b55d-4bfe-a3ff-28ed77f8187d",
   "metadata": {},
   "outputs": [],
   "source": [
    "# run this cell to execute the script #\n",
    "\n",
    "!python3.9 advobs202302_s09_01_00.py -h"
   ]
  },
  {
   "cell_type": "code",
   "execution_count": null,
   "id": "18512ac0-63fb-438e-af77-d312414a41f1",
   "metadata": {},
   "outputs": [],
   "source": [
    "# run this cell to execute the script #\n",
    "\n",
    "!python3.9 advobs202302_s09_01_00.py data_s09/*.fits"
   ]
  },
  {
   "cell_type": "markdown",
   "id": "3c0a6296-7c25-4d6d-aea6-9726af455fc7",
   "metadata": {},
   "source": [
    "### checking filters used for the observations ###"
   ]
  },
  {
   "cell_type": "code",
   "execution_count": null,
   "id": "ac92c92d-140e-4b2f-97f1-b05180550148",
   "metadata": {},
   "outputs": [],
   "source": [
    "# run this cell to show the source code of the script #\n",
    "\n",
    "!cat advobs202302_s09_01_01.py"
   ]
  },
  {
   "cell_type": "code",
   "execution_count": null,
   "id": "70bb9e41-66f4-4b01-a3f7-e0726b1de18d",
   "metadata": {},
   "outputs": [],
   "source": [
    "# run this cell to execute the script #\n",
    "\n",
    "!python3.9 advobs202302_s09_01_01.py -h"
   ]
  },
  {
   "cell_type": "code",
   "execution_count": null,
   "id": "629f0c7e-5bca-4771-8d60-d237aaa175d9",
   "metadata": {},
   "outputs": [],
   "source": [
    "# run this cell to execute the script #\n",
    "\n",
    "!python3.9 advobs202302_s09_01_01.py data_s09/*.fits"
   ]
  },
  {
   "cell_type": "markdown",
   "id": "a1f586a7-9f1a-4e42-834f-714cd6b14159",
   "metadata": {},
   "source": [
    "### checking existence of flatfield frames ###"
   ]
  },
  {
   "cell_type": "code",
   "execution_count": null,
   "id": "e0d871c4-585f-4a8d-b072-513186522798",
   "metadata": {},
   "outputs": [],
   "source": [
    "# run this cell to show the source code of the script #\n",
    "\n",
    "!cat advobs202302_s09_01_02.py"
   ]
  },
  {
   "cell_type": "code",
   "execution_count": null,
   "id": "afc8f477-5664-4fbd-ae8c-6c58d38927f5",
   "metadata": {},
   "outputs": [],
   "source": [
    "# run this cell to execute the script #\n",
    "\n",
    "!python3.9 advobs202302_s09_01_02.py -h"
   ]
  },
  {
   "cell_type": "code",
   "execution_count": null,
   "id": "6747c4b9-f351-4eea-bce9-1a80c50f0150",
   "metadata": {},
   "outputs": [],
   "source": [
    "# run this cell to execute the script #\n",
    "\n",
    "!python3.9 advobs202302_s09_01_02.py data_s09/*.fits"
   ]
  },
  {
   "cell_type": "markdown",
   "id": "22185b49-1c96-44ca-bc1e-42d739ce3295",
   "metadata": {},
   "source": [
    "### listing exposure time of object and flatfield frames ###"
   ]
  },
  {
   "cell_type": "code",
   "execution_count": null,
   "id": "a28be088-650d-49af-a966-830c20b29e4a",
   "metadata": {},
   "outputs": [],
   "source": [
    "# run this cell to show the source code of the script #\n",
    "\n",
    "!cat advobs202302_s09_01_03.py"
   ]
  },
  {
   "cell_type": "code",
   "execution_count": null,
   "id": "717f1f8c-fa35-49c9-a973-67b71ad155d2",
   "metadata": {},
   "outputs": [],
   "source": [
    "# run this cell to execute the script #\n",
    "\n",
    "!python3.9 advobs202302_s09_01_03.py -h"
   ]
  },
  {
   "cell_type": "code",
   "execution_count": null,
   "id": "dbc993bf-6202-4584-b449-fa8da81018a3",
   "metadata": {},
   "outputs": [],
   "source": [
    "# run this cell to execute the script #\n",
    "\n",
    "!python3.9 advobs202302_s09_01_03.py data_s09/*.fits"
   ]
  },
  {
   "cell_type": "markdown",
   "id": "c189dca1-ea1d-4326-8c7b-9a4ee0283f43",
   "metadata": {},
   "source": [
    "### checking existence of dark frames ###"
   ]
  },
  {
   "cell_type": "code",
   "execution_count": null,
   "id": "7efbf0cf-dd24-42f9-a90b-68a90a39b680",
   "metadata": {},
   "outputs": [],
   "source": [
    "# run this cell to show the source code of the script #\n",
    "\n",
    "!cat advobs202302_s09_01_04.py"
   ]
  },
  {
   "cell_type": "code",
   "execution_count": null,
   "id": "c610c1e7-47c3-4a6a-9af8-1dc6e42bdf68",
   "metadata": {},
   "outputs": [],
   "source": [
    "# run this cell to execute the script #\n",
    "\n",
    "!python3.9 advobs202302_s09_01_04.py -h"
   ]
  },
  {
   "cell_type": "code",
   "execution_count": null,
   "id": "f02e1e2b-2de5-4f2d-8bf9-65284bed3b7d",
   "metadata": {},
   "outputs": [],
   "source": [
    "# run this cell to execute the script #\n",
    "\n",
    "!python3.9 advobs202302_s09_01_04.py data_s09/*.fits"
   ]
  },
  {
   "cell_type": "markdown",
   "id": "41b92227-b2d2-4b75-bdd0-448c11dfde25",
   "metadata": {},
   "source": [
    "## Dark frames ##"
   ]
  },
  {
   "cell_type": "markdown",
   "id": "ae8dbd73-1825-4985-b83a-d4bd7da20b25",
   "metadata": {},
   "source": [
    "### examining dark frames ###"
   ]
  },
  {
   "cell_type": "code",
   "execution_count": null,
   "id": "908b7341-816f-4255-ac32-9e40d98db99f",
   "metadata": {},
   "outputs": [],
   "source": [
    "# run this cell to show the source code of the script #\n",
    "\n",
    "!cat advobs202302_s09_02_00.py"
   ]
  },
  {
   "cell_type": "code",
   "execution_count": null,
   "id": "cd9f1323-eb8c-44b7-b929-14ddb45b22cb",
   "metadata": {},
   "outputs": [],
   "source": [
    "# run this cell to execute the script #\n",
    "\n",
    "!python3.9 advobs202302_s09_02_00.py -h"
   ]
  },
  {
   "cell_type": "code",
   "execution_count": null,
   "id": "81daf2ad-b6d3-41e3-9bff-6622812211dc",
   "metadata": {},
   "outputs": [],
   "source": [
    "# run this cell to execute the script #\n",
    "\n",
    "!python3.9 advobs202302_s09_02_00.py -t DARK -e 180 data_s09/*.fits"
   ]
  },
  {
   "cell_type": "code",
   "execution_count": null,
   "id": "6fd31d93-6c2a-4866-b38c-34570a1c5a8b",
   "metadata": {},
   "outputs": [],
   "source": [
    "# run this cell to execute the script #\n",
    "\n",
    "!python3.9 advobs202302_s09_02_00.py -t DARK -e 60 data_s09/*.fits"
   ]
  },
  {
   "cell_type": "code",
   "execution_count": null,
   "id": "978c6488-1646-45ae-8dff-6a2a956be1c1",
   "metadata": {},
   "outputs": [],
   "source": [
    "# run this cell to execute the script #\n",
    "\n",
    "!python3.9 advobs202302_s09_02_00.py -t DARK -e 30 data_s09/*.fits"
   ]
  },
  {
   "cell_type": "code",
   "execution_count": null,
   "id": "961178a3-a940-453b-8c6d-ab85b9c9298f",
   "metadata": {},
   "outputs": [],
   "source": [
    "# run this cell to execute the script #\n",
    "\n",
    "!python3.9 advobs202302_s09_02_00.py -t DARK -e 10 data_s09/*.fits"
   ]
  },
  {
   "cell_type": "code",
   "execution_count": null,
   "id": "301814b9-c69b-440b-8f94-21db52b90d52",
   "metadata": {},
   "outputs": [],
   "source": [
    "# run this cell to execute the script #\n",
    "\n",
    "!python3.9 advobs202302_s09_02_00.py -t DARK -e 5 data_s09/*.fits"
   ]
  },
  {
   "cell_type": "markdown",
   "id": "96ee83ea-f48d-4e5b-96e0-b54871d775e5",
   "metadata": {},
   "source": [
    "### combining dark frames ###"
   ]
  },
  {
   "cell_type": "code",
   "execution_count": null,
   "id": "7e6dd2fd-e7c2-45ca-b43a-5a01475f674c",
   "metadata": {},
   "outputs": [],
   "source": [
    "# run this cell to show the source code of the script #\n",
    "\n",
    "!cat advobs202302_s09_02_01.py"
   ]
  },
  {
   "cell_type": "code",
   "execution_count": null,
   "id": "68476bcd-8c1b-4d8f-b900-364c93e412ea",
   "metadata": {},
   "outputs": [],
   "source": [
    "# run this cell to execute the script #\n",
    "\n",
    "!python3.9 advobs202302_s09_02_01.py -h"
   ]
  },
  {
   "cell_type": "code",
   "execution_count": null,
   "id": "2488ea68-1d44-4cd7-8435-b40a27485a62",
   "metadata": {},
   "outputs": [],
   "source": [
    "# run this cell to execute the script #\n",
    "\n",
    "!python3.9 advobs202302_s09_02_01.py -t DARK -e 180 -o dark_0180.fits data_s09/*.fits"
   ]
  },
  {
   "cell_type": "code",
   "execution_count": null,
   "id": "a121771a-1ff6-4daa-b276-300e01584a3b",
   "metadata": {},
   "outputs": [],
   "source": [
    "# run this cell to show newly created file #\n",
    "\n",
    "!ls -lF *.fits"
   ]
  },
  {
   "cell_type": "code",
   "execution_count": null,
   "id": "438c3c68-6e98-428c-9c3c-69d33b79bd09",
   "metadata": {},
   "outputs": [],
   "source": [
    "# run this cell to show the source code of the script #\n",
    "\n",
    "!cat advobs202302_s09_02_02.py"
   ]
  },
  {
   "cell_type": "code",
   "execution_count": null,
   "id": "4a5a4a1a-3eba-4319-8c69-0a01034799aa",
   "metadata": {},
   "outputs": [],
   "source": [
    "# run this cell to execute the script #\n",
    "\n",
    "!python3.9 advobs202302_s09_02_02.py -h"
   ]
  },
  {
   "cell_type": "code",
   "execution_count": null,
   "id": "da2219d8-ea20-4a4b-a89c-8021b55d502e",
   "metadata": {},
   "outputs": [],
   "source": [
    "# run this cell to execute the script #\n",
    "\n",
    "!python3.9 advobs202302_s09_02_02.py dark_0180.fits"
   ]
  },
  {
   "cell_type": "code",
   "execution_count": null,
   "id": "ad0343c1-7406-4152-8e45-b6e7f6983682",
   "metadata": {},
   "outputs": [],
   "source": [
    "# run this cell to execute the script #\n",
    "\n",
    "!python3.9 advobs202302_s09_02_00.py data_s09/lot_20210215_0672.fits dark_0180.fits"
   ]
  },
  {
   "cell_type": "code",
   "execution_count": null,
   "id": "889f5013-4e8b-490c-8bfb-9c940dee8e58",
   "metadata": {},
   "outputs": [],
   "source": [
    "# run this cell to show newly created file #\n",
    "\n",
    "!ls -lF *.fits"
   ]
  },
  {
   "cell_type": "code",
   "execution_count": null,
   "id": "65d07ec7-a245-4d38-8052-c9e078509589",
   "metadata": {},
   "outputs": [],
   "source": [
    "# run this cell to show the source code of the script #\n",
    "\n",
    "!cat advobs202302_s09_02_03.py"
   ]
  },
  {
   "cell_type": "code",
   "execution_count": null,
   "id": "369fc114-38ba-40fe-b28c-2a850335da5b",
   "metadata": {},
   "outputs": [],
   "source": [
    "# run this cell to execute the script #\n",
    "\n",
    "!python3.9 advobs202302_s09_02_03.py -h"
   ]
  },
  {
   "cell_type": "code",
   "execution_count": null,
   "id": "fa28df6f-d40d-4ab2-8ff1-93e912885296",
   "metadata": {
    "tags": []
   },
   "outputs": [],
   "source": [
    "# run this cell to execute the script #\n",
    "\n",
    "!python3.9 advobs202302_s09_02_03.py -a 594 -b 618 -c viridis -o 0672.png data_s09/lot_20210215_0672.fits"
   ]
  },
  {
   "cell_type": "code",
   "execution_count": null,
   "id": "b1feebe0-6a7e-43c8-9330-2da81512b621",
   "metadata": {},
   "outputs": [],
   "source": [
    "# run this cell to show newly created file #\n",
    "\n",
    "!ls -lF *.png"
   ]
  },
  {
   "cell_type": "code",
   "execution_count": null,
   "id": "7c1c78e0-f6a5-483f-8633-0abb03f457f8",
   "metadata": {},
   "outputs": [],
   "source": [
    "# run this cell to display the image #\n",
    "\n",
    "import IPython.display\n",
    "\n",
    "IPython.display.Image ('0672.png')"
   ]
  },
  {
   "cell_type": "code",
   "execution_count": null,
   "id": "aef6dba0-816e-4ee4-b552-56ef11cb9ee3",
   "metadata": {},
   "outputs": [],
   "source": [
    "# run this cell to execute the script #\n",
    "\n",
    "!python3.9 advobs202302_s09_02_03.py -a 594 -b 618 -c viridis -o dark_0180.png dark_0180.fits"
   ]
  },
  {
   "cell_type": "code",
   "execution_count": null,
   "id": "549904a6-9e49-4a62-98f3-1c60fb31092e",
   "metadata": {},
   "outputs": [],
   "source": [
    "# run this cell to show newly created file #\n",
    "\n",
    "!ls -lF *.png"
   ]
  },
  {
   "cell_type": "code",
   "execution_count": null,
   "id": "a14fb447-e5ff-41f9-9e4a-992dcd1ef3e3",
   "metadata": {},
   "outputs": [],
   "source": [
    "# run this cell to display the image #\n",
    "\n",
    "import IPython.display\n",
    "\n",
    "IPython.display.Image ('dark_0180.png')"
   ]
  },
  {
   "cell_type": "code",
   "execution_count": null,
   "id": "5ca6ec2d-a80e-4a8e-bf40-6830282602cd",
   "metadata": {},
   "outputs": [],
   "source": [
    "# run this cell to execute the script #\n",
    "\n",
    "!python3.9 advobs202302_s09_02_01.py -t DARK -e 60 -o dark_0060.fits data_s09/*.fits"
   ]
  },
  {
   "cell_type": "code",
   "execution_count": null,
   "id": "aeeea6d7-7abc-4451-a314-594dd72b5e01",
   "metadata": {},
   "outputs": [],
   "source": [
    "# run this cell to show newly created file #\n",
    "\n",
    "!ls -lF *.fits"
   ]
  },
  {
   "cell_type": "code",
   "execution_count": null,
   "id": "2f63f98a-dfae-4f54-9e6c-9d9eb89b9bd5",
   "metadata": {},
   "outputs": [],
   "source": [
    "# run this cell to execute the script #\n",
    "\n",
    "!python3.9 advobs202302_s09_02_01.py -t DARK -e 30 -o dark_0030.fits data_s09/*.fits"
   ]
  },
  {
   "cell_type": "code",
   "execution_count": null,
   "id": "4041b14c-f8c4-4d37-b2c5-632b0cb7f993",
   "metadata": {},
   "outputs": [],
   "source": [
    "# run this cell to show newly created file #\n",
    "\n",
    "!ls -lF *.fits"
   ]
  },
  {
   "cell_type": "code",
   "execution_count": null,
   "id": "64433db4-db98-4872-b397-f23794e01083",
   "metadata": {},
   "outputs": [],
   "source": [
    "# run this cell to execute the script #\n",
    "\n",
    "!python3.9 advobs202302_s09_02_01.py -t DARK -e 10 -o dark_0010.fits data_s09/*.fits"
   ]
  },
  {
   "cell_type": "code",
   "execution_count": null,
   "id": "25648ac9-48e8-4aea-a618-aefe975fbeee",
   "metadata": {},
   "outputs": [],
   "source": [
    "# run this cell to show newly created file #\n",
    "\n",
    "!ls -lF *.fits"
   ]
  },
  {
   "cell_type": "code",
   "execution_count": null,
   "id": "de14e156-3c57-40a5-8fee-a073fa39138b",
   "metadata": {},
   "outputs": [],
   "source": [
    "# run this cell to execute the script #\n",
    "\n",
    "!python3.9 advobs202302_s09_02_01.py -t DARK -e 5 -o dark_00305fits data_s09/*.fits"
   ]
  },
  {
   "cell_type": "code",
   "execution_count": null,
   "id": "25d6feeb-8a80-400f-9b63-0872eaa3e6ab",
   "metadata": {},
   "outputs": [],
   "source": [
    "# run this cell to show newly created file #\n",
    "\n",
    "!ls -lF *.fits"
   ]
  },
  {
   "cell_type": "markdown",
   "id": "aa864a26-a435-4745-aec7-380438d5ec1a",
   "metadata": {},
   "source": [
    "## Dark subtraction ##"
   ]
  },
  {
   "cell_type": "markdown",
   "id": "be087b6c-8eb4-4c36-82c4-6581623c0563",
   "metadata": {},
   "source": [
    "### listing target FITS files for dark subtraction ###"
   ]
  },
  {
   "cell_type": "code",
   "execution_count": null,
   "id": "6792aefa-8b71-47e8-a13c-3e1656c63349",
   "metadata": {},
   "outputs": [],
   "source": [
    "# run this cell to show the source code of the script #\n",
    "\n",
    "!cat advobs202302_s09_03_00.py"
   ]
  },
  {
   "cell_type": "code",
   "execution_count": null,
   "id": "26ccf720-e9ba-4fb8-8af4-0a5169db9bc9",
   "metadata": {},
   "outputs": [],
   "source": [
    "# run this cell to execute the script #\n",
    "\n",
    "!python3.9 advobs202302_s09_03_00.py -h"
   ]
  },
  {
   "cell_type": "code",
   "execution_count": null,
   "id": "b8b7a408-594b-4bb7-9f54-93888485552f",
   "metadata": {},
   "outputs": [],
   "source": [
    "# run this cell to execute the script #\n",
    "\n",
    "!python3.9 advobs202302_s09_03_00.py data_s09/*.fits"
   ]
  },
  {
   "cell_type": "markdown",
   "id": "b1791a2c-7819-48f2-b381-fedbeebcddfc",
   "metadata": {},
   "source": [
    "### carrying out dark subtraction ###"
   ]
  },
  {
   "cell_type": "code",
   "execution_count": null,
   "id": "87e52ee4-f7c8-46a1-b328-f8b5803b88b5",
   "metadata": {},
   "outputs": [],
   "source": [
    "# run this cell to show the source code of the script #\n",
    "\n",
    "!cat advobs202302_s09_03_01.py"
   ]
  },
  {
   "cell_type": "code",
   "execution_count": null,
   "id": "7c2480dd-d94a-4fa7-ae01-a5b3a11266df",
   "metadata": {},
   "outputs": [],
   "source": [
    "# run this cell to execute the script #\n",
    "\n",
    "!python3.9 advobs202302_s09_03_01.py -h"
   ]
  },
  {
   "cell_type": "code",
   "execution_count": null,
   "id": "cd181228-b87e-4eb2-81b6-2c22c6d6bc91",
   "metadata": {},
   "outputs": [],
   "source": [
    "# run this cell to execute the script #\n",
    "\n",
    "!python3.9 advobs202302_s09_03_01.py data_s09/*.fits"
   ]
  },
  {
   "cell_type": "code",
   "execution_count": null,
   "id": "9b952dbe-8037-4f4f-a369-0558e2ed00c1",
   "metadata": {},
   "outputs": [],
   "source": [
    "# run this cell to show newly created FITS files #\n",
    "\n",
    "!ls -lF *.fits"
   ]
  },
  {
   "cell_type": "code",
   "execution_count": null,
   "id": "4ffb40fa-aa5d-4950-86c2-a2e85f8245b3",
   "metadata": {},
   "outputs": [],
   "source": [
    "# run this cell to show mean values of raw and dark-subtracted frames #\n",
    "\n",
    "!python3.9 advobs202302_s09_02_00.py data_s09/lot_20210215_0070.fits lot_20210215_0070_d.fits"
   ]
  },
  {
   "cell_type": "code",
   "execution_count": null,
   "id": "aea9e4ed-a90c-4373-a221-fabca2f71ae8",
   "metadata": {
    "tags": []
   },
   "outputs": [],
   "source": [
    "# run this cell to execute the script #\n",
    "\n",
    "!python3.9 advobs202302_s09_02_03.py -a 682 -b 772 -c plasma -o 0070r.png data_s09/lot_20210215_0070.fits"
   ]
  },
  {
   "cell_type": "code",
   "execution_count": null,
   "id": "c72a638d-4021-4445-a8d8-c3eed6b88488",
   "metadata": {},
   "outputs": [],
   "source": [
    "# run this cell to show newly created file #\n",
    "\n",
    "!ls -lF *.png"
   ]
  },
  {
   "cell_type": "code",
   "execution_count": null,
   "id": "84de636f-8150-473d-9a37-7f821e0023a3",
   "metadata": {},
   "outputs": [],
   "source": [
    "# run this cell to display the image #\n",
    "\n",
    "import IPython.display\n",
    "\n",
    "IPython.display.Image ('0070r.png')"
   ]
  },
  {
   "cell_type": "code",
   "execution_count": null,
   "id": "02a3faa8-0f6e-411e-bb7d-5c0d74932ef7",
   "metadata": {
    "tags": []
   },
   "outputs": [],
   "source": [
    "# run this cell to execute the script #\n",
    "\n",
    "!python3.9 advobs202302_s09_02_03.py -a 76 -b 166 -c plasma -o 0070d.png lot_20210215_0070_d.fits"
   ]
  },
  {
   "cell_type": "code",
   "execution_count": null,
   "id": "33e7d7e3-23ea-40ce-9d49-f7b540b3f7a9",
   "metadata": {},
   "outputs": [],
   "source": [
    "# run this cell to show newly created file #\n",
    "\n",
    "!ls -lF *.png"
   ]
  },
  {
   "cell_type": "code",
   "execution_count": null,
   "id": "198d013d-3ae8-410b-9bc2-d3c741027351",
   "metadata": {},
   "outputs": [],
   "source": [
    "# run this cell to display the image #\n",
    "\n",
    "import IPython.display\n",
    "\n",
    "IPython.display.Image ('0070d.png')"
   ]
  },
  {
   "cell_type": "markdown",
   "id": "410dc6d2-c143-4b65-a9b4-dbc4f9c76463",
   "metadata": {},
   "source": [
    "## Combining dark-subtracted flatfield ##"
   ]
  },
  {
   "cell_type": "markdown",
   "id": "2ffc8155-0967-4663-bce1-b33880146713",
   "metadata": {},
   "source": [
    "### listing dark-subtracted flatfield frames ###"
   ]
  },
  {
   "cell_type": "code",
   "execution_count": null,
   "id": "975cc329-eb09-42ed-b8a9-0a1e1ec531c1",
   "metadata": {},
   "outputs": [],
   "source": [
    "# run this cell to show the source code of the script #\n",
    "\n",
    "!cat advobs202302_s09_04_00.py"
   ]
  },
  {
   "cell_type": "code",
   "execution_count": null,
   "id": "956ed98c-90fc-473b-90a1-59f41e369a48",
   "metadata": {},
   "outputs": [],
   "source": [
    "# run this cell to execute the script #\n",
    "\n",
    "!python3.9 advobs202302_s09_04_00.py -h"
   ]
  },
  {
   "cell_type": "code",
   "execution_count": null,
   "id": "08c1b0b3-cef3-40c5-99cf-671ddb364182",
   "metadata": {},
   "outputs": [],
   "source": [
    "# run this cell to execute the script #\n",
    "\n",
    "!python3.9 advobs202302_s09_04_00.py *.fits"
   ]
  },
  {
   "cell_type": "markdown",
   "id": "da85cabd-7d6a-4f87-b63d-b65d956f5a6b",
   "metadata": {},
   "source": [
    "### combining dark-subtracted flatfield frames ###"
   ]
  },
  {
   "cell_type": "code",
   "execution_count": null,
   "id": "e2ba14c4-ff74-45e5-81d0-f1ad20133cc9",
   "metadata": {},
   "outputs": [],
   "source": [
    "# run this cell to show the source code of the script #\n",
    "\n",
    "!cat advobs202302_s09_04_01.py"
   ]
  },
  {
   "cell_type": "code",
   "execution_count": null,
   "id": "ea9a6a51-7fc7-404d-a15d-8840f0706876",
   "metadata": {},
   "outputs": [],
   "source": [
    "# run this cell to execute the script #\n",
    "\n",
    "!python3.9 advobs202302_s09_04_01.py -h"
   ]
  },
  {
   "cell_type": "code",
   "execution_count": null,
   "id": "bab779c9-96ae-4040-9da9-53d935d07a6f",
   "metadata": {},
   "outputs": [],
   "source": [
    "# run this cell to execute the script #\n",
    "\n",
    "!python3.9 advobs202302_s09_04_01.py -f gp_Astrodon_2019 -t FLAT -o flat_gp_Astrodon_2019.fits *_d.fits"
   ]
  },
  {
   "cell_type": "code",
   "execution_count": null,
   "id": "221fd2b7-cb4e-43e8-a8e9-3e3f978c8ed8",
   "metadata": {},
   "outputs": [],
   "source": [
    "# run this cell to show newly created FITS file #\n",
    "\n",
    "!ls -lF flat*.fits"
   ]
  },
  {
   "cell_type": "code",
   "execution_count": null,
   "id": "2f11f205-f094-4d0e-ab3e-0a140864c7bf",
   "metadata": {},
   "outputs": [],
   "source": [
    "# run this cell to execute the script #\n",
    "\n",
    "!python3.9 advobs202302_s09_04_01.py -f rp_Astrodon_2019 -t FLAT -o flat_rp_Astrodon_2019.fits *_d.fits"
   ]
  },
  {
   "cell_type": "code",
   "execution_count": null,
   "id": "81dfea57-c8a1-4d91-88ef-2e3131d1939a",
   "metadata": {},
   "outputs": [],
   "source": [
    "# run this cell to show newly created FITS file #\n",
    "\n",
    "!ls -lF flat*.fits"
   ]
  },
  {
   "cell_type": "code",
   "execution_count": null,
   "id": "c86050ce-764d-4398-86b5-899d65f5c8b0",
   "metadata": {},
   "outputs": [],
   "source": [
    "# run this cell to execute the script #\n",
    "\n",
    "!python3.9 advobs202302_s09_04_01.py -f ip_Astrodon_2019 -t FLAT -o flat_ip_Astrodon_2019.fits *_d.fits"
   ]
  },
  {
   "cell_type": "code",
   "execution_count": null,
   "id": "a2a0caac-e74a-4c7b-84bd-eded2ffef579",
   "metadata": {},
   "outputs": [],
   "source": [
    "# run this cell to show newly created FITS file #\n",
    "\n",
    "!ls -lF flat*.fits"
   ]
  },
  {
   "cell_type": "markdown",
   "id": "a01a870e-8e38-4149-94a5-3d935a7fc245",
   "metadata": {},
   "source": [
    "### normalising combined flatfield ###"
   ]
  },
  {
   "cell_type": "code",
   "execution_count": null,
   "id": "463f2a04-3a63-45b5-9cce-bb1ffe97451f",
   "metadata": {},
   "outputs": [],
   "source": [
    "# run this cell to execute the script #\n",
    "\n",
    "!python3.9 advobs202302_s09_02_00.py flat_*.fits"
   ]
  },
  {
   "cell_type": "code",
   "execution_count": null,
   "id": "133f4414-55ba-4bd5-99a7-795369cff79d",
   "metadata": {},
   "outputs": [],
   "source": [
    "# run this cell to show the source code of the script #\n",
    "\n",
    "!cat advobs202302_s09_04_02.py"
   ]
  },
  {
   "cell_type": "code",
   "execution_count": null,
   "id": "2de5fa6f-f511-4821-b2a6-6d3d9f1bf602",
   "metadata": {},
   "outputs": [],
   "source": [
    "# run this cell to execute the script #\n",
    "\n",
    "!python3.9 advobs202302_s09_04_02.py -h"
   ]
  },
  {
   "cell_type": "code",
   "execution_count": null,
   "id": "d88f8c6f-dbc4-4f2f-9135-5ee6f2cc8a94",
   "metadata": {},
   "outputs": [],
   "source": [
    "# run this cell to execute the script #\n",
    "\n",
    "!python3.9 advobs202302_s09_04_02.py -o nflat_gp_Astrodon_2019.fits flat_gp_Astrodon_2019.fits"
   ]
  },
  {
   "cell_type": "code",
   "execution_count": null,
   "id": "c15d8b45-db6b-4c33-b2b1-3ff40c915b4f",
   "metadata": {},
   "outputs": [],
   "source": [
    "# run this cell to show newly created FITS file #\n",
    "\n",
    "!ls -lF *flat*.fits"
   ]
  },
  {
   "cell_type": "code",
   "execution_count": null,
   "id": "a90a24ac-25e6-42e1-a9d2-4504ec052d4c",
   "metadata": {},
   "outputs": [],
   "source": [
    "# run this cell to execute the script #\n",
    "\n",
    "!python3.9 advobs202302_s09_02_00.py flat_gp_Astrodon_2019.fits nflat_gp_Astrodon_2019.fits"
   ]
  },
  {
   "cell_type": "code",
   "execution_count": null,
   "id": "4740c25d-c4ac-4e69-81ec-e5c2f8a0a3ad",
   "metadata": {},
   "outputs": [],
   "source": [
    "# run this cell to execute the script #\n",
    "\n",
    "!python3.9 advobs202302_s09_04_02.py -o nflat_rp_Astrodon_2019.fits flat_rp_Astrodon_2019.fits"
   ]
  },
  {
   "cell_type": "code",
   "execution_count": null,
   "id": "5c9ed3a1-c578-415c-8b58-1349da98d99a",
   "metadata": {},
   "outputs": [],
   "source": [
    "# run this cell to show newly created FITS file #\n",
    "\n",
    "!ls -lF *flat*.fits"
   ]
  },
  {
   "cell_type": "code",
   "execution_count": null,
   "id": "cf2c8752-7c05-4786-904b-dcfda948dd94",
   "metadata": {},
   "outputs": [],
   "source": [
    "# run this cell to execute the script #\n",
    "\n",
    "!python3.9 advobs202302_s09_02_00.py flat_rp_Astrodon_2019.fits nflat_rp_Astrodon_2019.fits"
   ]
  },
  {
   "cell_type": "code",
   "execution_count": null,
   "id": "36dc8ae7-0592-4bdc-b918-82a5165e36fe",
   "metadata": {},
   "outputs": [],
   "source": [
    "# run this cell to execute the script #\n",
    "\n",
    "!python3.9 advobs202302_s09_04_02.py -o nflat_ip_Astrodon_2019.fits flat_ip_Astrodon_2019.fits"
   ]
  },
  {
   "cell_type": "code",
   "execution_count": null,
   "id": "e786eab0-6532-4cc6-91e6-a09909d6b263",
   "metadata": {},
   "outputs": [],
   "source": [
    "# run this cell to show newly created FITS file #\n",
    "\n",
    "!ls -lF *flat*.fits"
   ]
  },
  {
   "cell_type": "code",
   "execution_count": null,
   "id": "d761af2b-e9cf-41d4-9626-bba6fd70b714",
   "metadata": {},
   "outputs": [],
   "source": [
    "# run this cell to execute the script #\n",
    "\n",
    "!python3.9 advobs202302_s09_02_00.py flat_ip_Astrodon_2019.fits nflat_ip_Astrodon_2019.fits"
   ]
  },
  {
   "cell_type": "code",
   "execution_count": null,
   "id": "08e7e334-be7b-42a8-96ca-7edf72a844ec",
   "metadata": {},
   "outputs": [],
   "source": [
    "# run this cell to execute the script #\n",
    "\n",
    "!python3.9 advobs202302_s09_02_00.py nflat_*.fits"
   ]
  },
  {
   "cell_type": "code",
   "execution_count": null,
   "id": "0dbf5b40-3f02-44ba-aa00-df5dda783934",
   "metadata": {
    "tags": []
   },
   "outputs": [],
   "source": [
    "# run this cell to execute the script #\n",
    "\n",
    "!python3.9 advobs202302_s09_02_03.py -a 0.9 -b 1.1 -c magma -o nflat_gp_Astrodon_2019.png nflat_gp_Astrodon_2019.fits"
   ]
  },
  {
   "cell_type": "code",
   "execution_count": null,
   "id": "84647df0-53ee-4195-9d2a-d271b2986176",
   "metadata": {},
   "outputs": [],
   "source": [
    "# run this cell to show newly created file #\n",
    "\n",
    "!ls -lF *.png"
   ]
  },
  {
   "cell_type": "code",
   "execution_count": null,
   "id": "af6e948d-05de-4520-9e4e-411b42f47d3f",
   "metadata": {},
   "outputs": [],
   "source": [
    "# run this cell to display the image #\n",
    "\n",
    "import IPython.display\n",
    "\n",
    "IPython.display.Image ('nflat_gp_Astrodon_2019.png')"
   ]
  },
  {
   "cell_type": "code",
   "execution_count": null,
   "id": "5e81b380-3836-4234-8be2-f1ea8b3463d0",
   "metadata": {
    "tags": []
   },
   "outputs": [],
   "source": [
    "# run this cell to execute the script #\n",
    "\n",
    "!python3.9 advobs202302_s09_02_03.py -a 0.9 -b 1.1 -c magma -o nflat_rp_Astrodon_2019.png nflat_rp_Astrodon_2019.fits"
   ]
  },
  {
   "cell_type": "code",
   "execution_count": null,
   "id": "d9c003c4-4fee-4fcf-bb69-400bf59f1926",
   "metadata": {},
   "outputs": [],
   "source": [
    "# run this cell to show newly created file #\n",
    "\n",
    "!ls -lF *.png"
   ]
  },
  {
   "cell_type": "code",
   "execution_count": null,
   "id": "d5d24868-3b04-4f45-956a-551b9acb5176",
   "metadata": {},
   "outputs": [],
   "source": [
    "# run this cell to display the image #\n",
    "\n",
    "import IPython.display\n",
    "\n",
    "IPython.display.Image ('nflat_rp_Astrodon_2019.png')"
   ]
  },
  {
   "cell_type": "code",
   "execution_count": null,
   "id": "d653dae8-b956-4af7-9af4-eb9d194fce44",
   "metadata": {
    "tags": []
   },
   "outputs": [],
   "source": [
    "# run this cell to execute the script #\n",
    "\n",
    "!python3.9 advobs202302_s09_02_03.py -a 0.9 -b 1.1 -c magma -o nflat_ip_Astrodon_2019.png nflat_ip_Astrodon_2019.fits"
   ]
  },
  {
   "cell_type": "code",
   "execution_count": null,
   "id": "eac50bf0-3f7c-4077-8102-a2f72987fef8",
   "metadata": {},
   "outputs": [],
   "source": [
    "# run this cell to show newly created file #\n",
    "\n",
    "!ls -lF *.png"
   ]
  },
  {
   "cell_type": "code",
   "execution_count": null,
   "id": "88b0b897-331e-4349-b3b3-67a992ee47bb",
   "metadata": {},
   "outputs": [],
   "source": [
    "# run this cell to display the image #\n",
    "\n",
    "import IPython.display\n",
    "\n",
    "IPython.display.Image ('nflat_ip_Astrodon_2019.png')"
   ]
  },
  {
   "cell_type": "markdown",
   "id": "eccc5742-1744-4f58-98df-8030a93ab4f5",
   "metadata": {},
   "source": [
    "## Flatfielding ##"
   ]
  },
  {
   "cell_type": "markdown",
   "id": "14983e37-8a10-4c92-854d-53c74c01feb4",
   "metadata": {},
   "source": [
    "### listing dark-subtracted object frames ###"
   ]
  },
  {
   "cell_type": "code",
   "execution_count": null,
   "id": "1eea191e-88e6-48b3-98ad-e7c3dcb13f58",
   "metadata": {},
   "outputs": [],
   "source": [
    "# run this cell to show the source code of the script #\n",
    "\n",
    "!cat advobs202302_s09_05_00.py"
   ]
  },
  {
   "cell_type": "code",
   "execution_count": null,
   "id": "4b8c34a0-0437-4163-ac56-97d3b99532c6",
   "metadata": {},
   "outputs": [],
   "source": [
    "# run this cell to execute the script #\n",
    "\n",
    "!python3.9 advobs202302_s09_05_00.py -h"
   ]
  },
  {
   "cell_type": "code",
   "execution_count": null,
   "id": "adbefbac-02e5-4cd0-8304-e25e41f6d670",
   "metadata": {},
   "outputs": [],
   "source": [
    "# run this cell to execute the script #\n",
    "\n",
    "!python3.9 advobs202302_s09_05_00.py *.fits"
   ]
  },
  {
   "cell_type": "markdown",
   "id": "84465f19-57f3-4863-ba25-7078432b9513",
   "metadata": {},
   "source": [
    "### carrying out flatfielding ###"
   ]
  },
  {
   "cell_type": "code",
   "execution_count": null,
   "id": "2c334e67-72c8-4101-a066-a6a14e831585",
   "metadata": {},
   "outputs": [],
   "source": [
    "# run this cell to show the source code of the script #\n",
    "\n",
    "!cat advobs202302_s09_05_01.py"
   ]
  },
  {
   "cell_type": "code",
   "execution_count": null,
   "id": "70acf545-f2c6-40f3-aa51-1a6a8fff0a0e",
   "metadata": {},
   "outputs": [],
   "source": [
    "# run this cell to execute the script #\n",
    "\n",
    "!python3.9 advobs202302_s09_05_01.py -h"
   ]
  },
  {
   "cell_type": "code",
   "execution_count": null,
   "id": "73a27d28-a6cb-494b-a016-30cc1b953257",
   "metadata": {},
   "outputs": [],
   "source": [
    "# run this cell to execute the script #\n",
    "\n",
    "!python3.9 advobs202302_s09_05_01.py *.fits"
   ]
  },
  {
   "cell_type": "code",
   "execution_count": null,
   "id": "51beea48-3a06-42e7-a3c3-a285bb747c61",
   "metadata": {},
   "outputs": [],
   "source": [
    "# run this cell to show newly created FITS files #\n",
    "\n",
    "!ls -lF *_df.fits"
   ]
  },
  {
   "cell_type": "code",
   "execution_count": null,
   "id": "9291720a-6dc0-4bec-bf83-d8047fbf2a6a",
   "metadata": {},
   "outputs": [],
   "source": [
    "# run this cell to scount number of created FITS files #\n",
    "\n",
    "!ls *_df.fits | wc"
   ]
  },
  {
   "cell_type": "code",
   "execution_count": null,
   "id": "2af08e96-4396-467c-858b-1f6e0eb68711",
   "metadata": {},
   "outputs": [],
   "source": [
    "# run this cell to execute the script #\n",
    "\n",
    "!python3.9 advobs202302_s09_02_00.py lot_20210215_0158_d*.fits"
   ]
  },
  {
   "cell_type": "code",
   "execution_count": null,
   "id": "83d9bd0d-210b-4e0b-9725-07d7c90a81d4",
   "metadata": {
    "tags": []
   },
   "outputs": [],
   "source": [
    "# run this cell to execute the script #\n",
    "\n",
    "!python3.9 advobs202302_s09_02_03.py -a 135 -b 205 -c bone -o -o 0158d.png lot_20210215_0158_d.fits"
   ]
  },
  {
   "cell_type": "code",
   "execution_count": null,
   "id": "3080ff2d-0c30-4598-91ed-68314e13f508",
   "metadata": {},
   "outputs": [],
   "source": [
    "# run this cell to show newly created file #\n",
    "\n",
    "!ls -lF *.png"
   ]
  },
  {
   "cell_type": "code",
   "execution_count": null,
   "id": "77d663d5-833b-4fba-bf85-97d13c5415f6",
   "metadata": {},
   "outputs": [],
   "source": [
    "# run this cell to display the image #\n",
    "\n",
    "import IPython.display\n",
    "\n",
    "IPython.display.Image ('0158d.png')"
   ]
  },
  {
   "cell_type": "code",
   "execution_count": null,
   "id": "c64b918f-a933-41a2-b643-21b600b501b0",
   "metadata": {
    "tags": []
   },
   "outputs": [],
   "source": [
    "# run this cell to execute the script #\n",
    "\n",
    "!python3.9 advobs202302_s09_02_03.py -a 135 -b 205 -c bone -o -o 0158df.png lot_20210215_0158_df.fits"
   ]
  },
  {
   "cell_type": "code",
   "execution_count": null,
   "id": "e16906ed-baec-456a-b7a3-888daa709a16",
   "metadata": {},
   "outputs": [],
   "source": [
    "# run this cell to show newly created file #\n",
    "\n",
    "!ls -lF *.png"
   ]
  },
  {
   "cell_type": "code",
   "execution_count": null,
   "id": "70ba1918-f50a-4915-a1a0-b1cbda1dc919",
   "metadata": {},
   "outputs": [],
   "source": [
    "# run this cell to display the image #\n",
    "\n",
    "import IPython.display\n",
    "\n",
    "IPython.display.Image ('0158df.png')"
   ]
  },
  {
   "cell_type": "markdown",
   "id": "bbe1a24c-ebbd-4228-a021-94b2a8724daf",
   "metadata": {},
   "source": [
    "## end of this notebook ##"
   ]
  },
  {
   "cell_type": "code",
   "execution_count": null,
   "id": "ebb02a03-a5b3-4b90-8342-71e94e5b5b66",
   "metadata": {},
   "outputs": [],
   "source": []
  }
 ],
 "metadata": {
  "kernelspec": {
   "display_name": "Python 3 (ipykernel)",
   "language": "python",
   "name": "python3"
  },
  "language_info": {
   "codemirror_mode": {
    "name": "ipython",
    "version": 3
   },
   "file_extension": ".py",
   "mimetype": "text/x-python",
   "name": "python",
   "nbconvert_exporter": "python",
   "pygments_lexer": "ipython3",
   "version": "3.9.14"
  }
 },
 "nbformat": 4,
 "nbformat_minor": 5
}
