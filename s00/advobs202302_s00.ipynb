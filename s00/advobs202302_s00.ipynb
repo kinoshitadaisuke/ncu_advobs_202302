{
 "cells": [
  {
   "cell_type": "markdown",
   "id": "0a2b132b-73a2-4894-b060-2fe9b0464862",
   "metadata": {},
   "source": [
    "# Advanced Astronomical Observations #\n",
    "\n",
    "## Session 00 ##\n",
    "\n",
    "This is a notebook for the session 00 of the course \"Advanced Astronomical Observations\".\n"
   ]
  },
  {
   "cell_type": "markdown",
   "id": "3c466303-1269-42e5-8839-68b5df383d14",
   "metadata": {},
   "source": [
    "### Sample script 00-00 ###"
   ]
  },
  {
   "cell_type": "code",
   "execution_count": null,
   "id": "eb1e64eb-1773-476b-ab89-104bb709300b",
   "metadata": {},
   "outputs": [],
   "source": [
    "# run this cell to show the source code of the script #\n",
    "\n",
    "!cat advobs202302_s00_00_00.py"
   ]
  },
  {
   "cell_type": "code",
   "execution_count": null,
   "id": "c235d0ee-d55b-4a2c-acd9-a5532fc80d29",
   "metadata": {},
   "outputs": [],
   "source": [
    "# run this cell to execute the script #\n",
    "\n",
    "!python3.9 advobs202302_s00_00_00.py"
   ]
  },
  {
   "cell_type": "markdown",
   "id": "4771e991-4742-4bad-b3a2-e6be4ecba2b7",
   "metadata": {},
   "source": [
    "### End of the notebook ###"
   ]
  },
  {
   "cell_type": "code",
   "execution_count": null,
   "id": "515a5462-6165-4ac1-9d4b-474b44848de6",
   "metadata": {},
   "outputs": [],
   "source": []
  }
 ],
 "metadata": {
  "kernelspec": {
   "display_name": "Python 3 (ipykernel)",
   "language": "python",
   "name": "python3"
  },
  "language_info": {
   "codemirror_mode": {
    "name": "ipython",
    "version": 3
   },
   "file_extension": ".py",
   "mimetype": "text/x-python",
   "name": "python",
   "nbconvert_exporter": "python",
   "pygments_lexer": "ipython3",
   "version": "3.9.14"
  }
 },
 "nbformat": 4,
 "nbformat_minor": 5
}
