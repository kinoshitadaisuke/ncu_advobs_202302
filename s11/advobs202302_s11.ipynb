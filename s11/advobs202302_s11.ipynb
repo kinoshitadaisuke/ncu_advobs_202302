{
 "cells": [
  {
   "cell_type": "markdown",
   "id": "44f69878-d558-469d-a2fa-807bf01727be",
   "metadata": {},
   "source": [
    "# Advanced Astronomical Observations #\n",
    "\n",
    "## 2nd semester, academic year 2022 ##\n",
    "\n",
    "## from Feb/2023 to Jun/2023 ##\n",
    "\n",
    "## Session 11: Using Ginga ##\n",
    "\n",
    "## Kinoshita Daisuke ##\n",
    "\n",
    "## 21 April 2023 ##"
   ]
  },
  {
   "cell_type": "markdown",
   "id": "650f6787-3627-47fb-b86f-4894e40cf936",
   "metadata": {},
   "source": [
    "## Using name resolver ##"
   ]
  },
  {
   "cell_type": "code",
   "execution_count": null,
   "id": "fe39322b-60dd-4493-a347-45e21ff189e9",
   "metadata": {},
   "outputs": [],
   "source": [
    "# run this cell to show the source code of the script #\n",
    "\n",
    "!cat advobs202302_s11_00_00.py"
   ]
  },
  {
   "cell_type": "code",
   "execution_count": null,
   "id": "301bfe73-68ff-4ae1-a382-3e2eb23f2bc9",
   "metadata": {},
   "outputs": [],
   "source": [
    "# run this cell to execute the script #\n",
    "\n",
    "!python3.9 advobs202302_s11_00_00.py -h"
   ]
  },
  {
   "cell_type": "code",
   "execution_count": null,
   "id": "940783b0-ddb3-4b52-b46c-b43aa729e9eb",
   "metadata": {},
   "outputs": [],
   "source": [
    "# run this cell to execute the script #\n",
    "\n",
    "!python3.9 advobs202302_s11_00_00.py -t Sirius"
   ]
  },
  {
   "cell_type": "code",
   "execution_count": null,
   "id": "ecdc7456-fb09-411b-8fee-9a23a803f015",
   "metadata": {},
   "outputs": [],
   "source": [
    "# run this cell to execute the script #\n",
    "\n",
    "!python3.9 advobs202302_s11_00_00.py -t Polaris"
   ]
  },
  {
   "cell_type": "code",
   "execution_count": null,
   "id": "243bb17b-ae54-4065-9d0a-eb2181029a1d",
   "metadata": {},
   "outputs": [],
   "source": [
    "# run this cell to execute the script #\n",
    "\n",
    "!python3.9 advobs202302_s11_00_00.py -t M1"
   ]
  },
  {
   "cell_type": "code",
   "execution_count": null,
   "id": "75a0b400-45cb-4670-9155-dd89a9e4f4a2",
   "metadata": {},
   "outputs": [],
   "source": [
    "# run this cell to execute the script #\n",
    "\n",
    "!python3.9 advobs202302_s11_00_00.py -t \"NGC 1234\""
   ]
  },
  {
   "cell_type": "code",
   "execution_count": null,
   "id": "22b62362-582f-4fa1-84ac-d7d31e872d08",
   "metadata": {},
   "outputs": [],
   "source": [
    "# run this cell to execute the script #\n",
    "\n",
    "!python3.9 advobs202302_s11_00_00.py -t SN1987A"
   ]
  },
  {
   "cell_type": "code",
   "execution_count": null,
   "id": "911967e3-6939-4a1f-8282-6ec5959346ef",
   "metadata": {},
   "outputs": [],
   "source": [
    "# run this cell to execute the script #\n",
    "\n",
    "!python3.9 advobs202302_s11_00_00.py -r ned -t Spica"
   ]
  },
  {
   "cell_type": "code",
   "execution_count": null,
   "id": "209ecae9-b0d0-426a-b74e-0ab329e30131",
   "metadata": {},
   "outputs": [],
   "source": [
    "# run this cell to execute the script #\n",
    "\n",
    "!python3.9 advobs202302_s11_00_00.py -r ned -t M101"
   ]
  },
  {
   "cell_type": "code",
   "execution_count": null,
   "id": "7cfaefb6-b812-4ebd-97f2-eace770e70a9",
   "metadata": {},
   "outputs": [],
   "source": [
    "# run this cell to execute the script #\n",
    "\n",
    "!python3.9 advobs202302_s11_00_00.py -r ned -t NGC4321"
   ]
  },
  {
   "cell_type": "code",
   "execution_count": null,
   "id": "79e01008-e81c-4ee5-b9f1-1c75394f2f0f",
   "metadata": {},
   "outputs": [],
   "source": [
    "# run this cell to execute the script #\n",
    "\n",
    "!python3.9 advobs202302_s11_00_00.py -r ned -t CasA"
   ]
  },
  {
   "cell_type": "markdown",
   "id": "c57371f4-bf06-4fb6-a96e-c8b7bf41dd23",
   "metadata": {},
   "source": [
    "## Name resolving for multiple objects ##"
   ]
  },
  {
   "cell_type": "code",
   "execution_count": null,
   "id": "3d58bbf0-c257-4944-bf59-ceb160de5e96",
   "metadata": {},
   "outputs": [],
   "source": [
    "# run this cell to show the source code of the script #\n",
    "\n",
    "!cat advobs202302_s11_00_01.py"
   ]
  },
  {
   "cell_type": "code",
   "execution_count": null,
   "id": "3075bf7f-3923-46e4-93aa-cf6dbf5d8be7",
   "metadata": {},
   "outputs": [],
   "source": [
    "# run this cell to execute the script #\n",
    "\n",
    "!python3.9 advobs202302_s11_00_01.py -h"
   ]
  },
  {
   "cell_type": "code",
   "execution_count": null,
   "id": "1966776d-8198-4ea0-a185-406a61085c0e",
   "metadata": {},
   "outputs": [],
   "source": [
    "# run this cell to execute the script #\n",
    "\n",
    "!python3.9 advobs202302_s11_00_01.py Sirius Polaris Vega M44 NGC7318 \"SgrA*\""
   ]
  },
  {
   "cell_type": "code",
   "execution_count": null,
   "id": "46ef5a97-fb84-425d-8ab7-59839324124f",
   "metadata": {},
   "outputs": [],
   "source": [
    "# run this cell to execute the script #\n",
    "\n",
    "!python3.9 advobs202302_s11_00_01.py -r ned Sirius Polaris Vega M44 NGC7318 \"SgrA*\""
   ]
  },
  {
   "cell_type": "markdown",
   "id": "00382492-297f-4bc8-a4b0-8fc84b543e2a",
   "metadata": {},
   "source": [
    "## Coordinate conversion using Astropy ##"
   ]
  },
  {
   "cell_type": "code",
   "execution_count": null,
   "id": "5806b741-f01a-470d-ae77-05bba8dd58bf",
   "metadata": {},
   "outputs": [],
   "source": [
    "# run this cell to show the source code of the script #\n",
    "\n",
    "!cat advobs202302_s11_00_02.py"
   ]
  },
  {
   "cell_type": "code",
   "execution_count": null,
   "id": "d30b8287-5bc9-4087-a767-2975ae730199",
   "metadata": {},
   "outputs": [],
   "source": [
    "# run this cell to execute the script #\n",
    "\n",
    "!python3.9 advobs202302_s11_00_02.py -h"
   ]
  },
  {
   "cell_type": "code",
   "execution_count": null,
   "id": "2c7386f6-c022-495c-a11a-4030f28e135f",
   "metadata": {},
   "outputs": [],
   "source": [
    "# run this cell to execute the script #\n",
    "\n",
    "!python3.9 advobs202302_s11_00_02.py Antares Canopus Capella \"Andromeda Galaxy\" Pleiades \"Cyg X-1\" \"Stephan's Quintet\" \"Einstein Cross\" \"Tadpole Galaxy\""
   ]
  },
  {
   "cell_type": "code",
   "execution_count": null,
   "id": "f7dd0f81-6f2a-4f98-b783-4d5a3d8dd904",
   "metadata": {},
   "outputs": [],
   "source": [
    "# run this cell to execute the script #\n",
    "\n",
    "!python3.9 advobs202302_s11_00_02.py -f degree Antares Canopus Capella \"Andromeda Galaxy\" Pleiades \"Cyg X-1\" \"Stephan's Quintet\" \"Einstein Cross\" \"Tadpole Galaxy\""
   ]
  },
  {
   "cell_type": "code",
   "execution_count": null,
   "id": "c99ba0d7-d244-49e2-9008-87ae82c11cfd",
   "metadata": {},
   "outputs": [],
   "source": [
    "# run this cell to execute the script #\n",
    "\n",
    "!python3.9 advobs202302_s11_00_02.py -r ned Antares Canopus Capella \"Andromeda Galaxy\" Pleiades \"Cyg X-1\" \"Stephan's Quintet\" \"Einstein Cross\" \"Tadpole Galaxy\""
   ]
  },
  {
   "cell_type": "code",
   "execution_count": null,
   "id": "a3a22c3b-846b-4843-8dc0-d2955951e9a4",
   "metadata": {},
   "outputs": [],
   "source": [
    "# run this cell to execute the script #\n",
    "\n",
    "!python3.9 advobs202302_s11_00_02.py -r ned -f degree Antares Canopus Capella \"Andromeda Galaxy\" Pleiades \"Cyg X-1\" \"Stephan's Quintet\" \"Einstein Cross\" \"Tadpole Galaxy\""
   ]
  },
  {
   "cell_type": "markdown",
   "id": "167dcef4-bb5f-4594-a339-03c59afe843b",
   "metadata": {},
   "source": [
    "## Downloading FITS files ##"
   ]
  },
  {
   "cell_type": "code",
   "execution_count": null,
   "id": "91842f42-98a2-44f0-ab6b-107e446f1c2f",
   "metadata": {},
   "outputs": [],
   "source": [
    "# run this cell to show the source code of the script #\n",
    "\n",
    "!cat advobs202302_s11_00_03.py"
   ]
  },
  {
   "cell_type": "code",
   "execution_count": null,
   "id": "f0caa02f-6865-4193-ab8e-def7bea83810",
   "metadata": {},
   "outputs": [],
   "source": [
    "# run this cell to execute the script #\n",
    "\n",
    "!python3.9 advobs202302_s11_00_03.py -h"
   ]
  },
  {
   "cell_type": "code",
   "execution_count": null,
   "id": "278309ab-12ea-405b-942e-6da81313a399",
   "metadata": {},
   "outputs": [],
   "source": [
    "# run this cell to execute the script #\n",
    "\n",
    "!python3.9 advobs202302_s11_00_03.py -s \"DSS2 Blue\" -f 2048 -o m1_dss2b.fits M1"
   ]
  },
  {
   "cell_type": "code",
   "execution_count": null,
   "id": "9f9e6b76-2ad5-4e05-b3dd-55740e9f321f",
   "metadata": {},
   "outputs": [],
   "source": [
    "# run this cell to execute the script #\n",
    "\n",
    "!python3.9 advobs202302_s11_00_03.py -s SDSSg -f 2048 -o m51_sdssg.fits M51"
   ]
  },
  {
   "cell_type": "markdown",
   "id": "bd44b536-9a22-4862-9446-122b45322924",
   "metadata": {},
   "source": [
    "## end of this notebook ##"
   ]
  },
  {
   "cell_type": "code",
   "execution_count": null,
   "id": "8c21f596-44de-4da4-ac71-3b3e3b5563bf",
   "metadata": {},
   "outputs": [],
   "source": []
  }
 ],
 "metadata": {
  "kernelspec": {
   "display_name": "Python 3 (ipykernel)",
   "language": "python",
   "name": "python3"
  },
  "language_info": {
   "codemirror_mode": {
    "name": "ipython",
    "version": 3
   },
   "file_extension": ".py",
   "mimetype": "text/x-python",
   "name": "python",
   "nbconvert_exporter": "python",
   "pygments_lexer": "ipython3",
   "version": "3.9.14"
  }
 },
 "nbformat": 4,
 "nbformat_minor": 5
}
