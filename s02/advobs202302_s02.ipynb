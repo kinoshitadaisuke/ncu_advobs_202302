{
 "cells": [
  {
   "cell_type": "markdown",
   "id": "afa3f496-12c1-4761-9d2b-ada9c6b3dc52",
   "metadata": {},
   "source": [
    "# Advanced Astronomical Observations #\n",
    "\n",
    "## Session 02: Using Numpy ##\n",
    "\n",
    "## Kinoshita Daisuke ##\n",
    "\n",
    "## Institute of Astronomy, Natinal Central University ##\n",
    "\n",
    "## 24/Feb/2023 ##"
   ]
  },
  {
   "cell_type": "code",
   "execution_count": null,
   "id": "5e2db59c-263a-4d8f-9ebd-0b43c92da89b",
   "metadata": {},
   "outputs": [],
   "source": []
  }
 ],
 "metadata": {
  "kernelspec": {
   "display_name": "Python 3 (ipykernel)",
   "language": "python",
   "name": "python3"
  },
  "language_info": {
   "codemirror_mode": {
    "name": "ipython",
    "version": 3
   },
   "file_extension": ".py",
   "mimetype": "text/x-python",
   "name": "python",
   "nbconvert_exporter": "python",
   "pygments_lexer": "ipython3",
   "version": "3.9.16"
  }
 },
 "nbformat": 4,
 "nbformat_minor": 5
}
