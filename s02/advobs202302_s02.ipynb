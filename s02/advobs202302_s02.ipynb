{
 "cells": [
  {
   "cell_type": "markdown",
   "id": "afa3f496-12c1-4761-9d2b-ada9c6b3dc52",
   "metadata": {},
   "source": [
    "# Advanced Astronomical Observations #\n",
    "\n",
    "## Session 02: Using Numpy ##\n",
    "\n",
    "## Kinoshita Daisuke ##\n",
    "\n",
    "## Institute of Astronomy, Natinal Central University ##\n",
    "\n",
    "## 24/Feb/2023 ##"
   ]
  },
  {
   "cell_type": "markdown",
   "id": "8f8dc90c-3b53-4109-b9b1-c5a4a4f633b6",
   "metadata": {},
   "source": [
    "### sample script 00-00 ###"
   ]
  },
  {
   "cell_type": "code",
   "execution_count": null,
   "id": "e153b7af-ef10-483c-8212-623fc6cf6fb6",
   "metadata": {},
   "outputs": [],
   "source": [
    "# run this cell to show the source code #\n",
    "\n",
    "!cat advobs202302_s02_00_00.py"
   ]
  },
  {
   "cell_type": "code",
   "execution_count": null,
   "id": "289233fa-d2f8-4189-a1e7-8e967357000c",
   "metadata": {},
   "outputs": [],
   "source": [
    "# run this cell to execute the script #\n",
    "\n",
    "!python3.9 advobs202302_s02_00_00.py"
   ]
  },
  {
   "cell_type": "markdown",
   "id": "e0e76b29-cb61-42d1-9b37-d1e26e0f2050",
   "metadata": {},
   "source": [
    "### sample script 00-01 ###"
   ]
  },
  {
   "cell_type": "code",
   "execution_count": null,
   "id": "5fe18009-bc7d-4e4a-b553-e7eab919936b",
   "metadata": {},
   "outputs": [],
   "source": [
    "# run this cell to show the source code #\n",
    "\n",
    "!cat advobs202302_s02_00_01.py"
   ]
  },
  {
   "cell_type": "code",
   "execution_count": null,
   "id": "3e5d89af-6625-42f8-88b1-b99e1e83eb7f",
   "metadata": {},
   "outputs": [],
   "source": [
    "# run this cell to execute the script #\n",
    "\n",
    "!python3.9 advobs202302_s02_00_01.py"
   ]
  },
  {
   "cell_type": "markdown",
   "id": "185ad838-44fc-4a43-a0f1-0ca8232e97e9",
   "metadata": {},
   "source": [
    "### sample script 00-02 ###"
   ]
  },
  {
   "cell_type": "code",
   "execution_count": null,
   "id": "b0a3c932-233e-4621-bdac-06db07bab706",
   "metadata": {},
   "outputs": [],
   "source": [
    "# run this cell to show the source code #\n",
    "\n",
    "!cat advobs202302_s02_00_02.py"
   ]
  },
  {
   "cell_type": "code",
   "execution_count": null,
   "id": "df953216-00e6-4dec-be6b-fa1bd3c59660",
   "metadata": {},
   "outputs": [],
   "source": [
    "# run this cell to execute the script #\n",
    "\n",
    "!python3.9 advobs202302_s02_00_02.py"
   ]
  },
  {
   "cell_type": "markdown",
   "id": "009888f5-c31c-4aec-8730-28097eea5758",
   "metadata": {},
   "source": [
    "### sample script 00-03 ###"
   ]
  },
  {
   "cell_type": "code",
   "execution_count": null,
   "id": "6d61cc8d-e436-419a-81e8-205bc7fcabac",
   "metadata": {},
   "outputs": [],
   "source": [
    "# run this cell to show the source code #\n",
    "\n",
    "!cat advobs202302_s02_00_03.py"
   ]
  },
  {
   "cell_type": "code",
   "execution_count": null,
   "id": "334f94d3-ca91-4d58-8bd7-0f1f457610b2",
   "metadata": {},
   "outputs": [],
   "source": [
    "# run this cell to execute the script #\n",
    "\n",
    "!python3.9 advobs202302_s02_00_03.py"
   ]
  },
  {
   "cell_type": "markdown",
   "id": "6fa33e42-e2c0-4da9-88e6-9033a384a3db",
   "metadata": {},
   "source": [
    "### sample script 00-04 ###"
   ]
  },
  {
   "cell_type": "code",
   "execution_count": null,
   "id": "9c177dd4-c825-4ca4-8db1-86d9044b9b02",
   "metadata": {},
   "outputs": [],
   "source": [
    "# run this cell to show the source code #\n",
    "\n",
    "!cat advobs202302_s02_00_04.py"
   ]
  },
  {
   "cell_type": "code",
   "execution_count": null,
   "id": "ebb59f04-6c0d-40cc-ad26-ba9d643dce15",
   "metadata": {},
   "outputs": [],
   "source": [
    "# run this cell to execute the script #\n",
    "\n",
    "!python3.9 advobs202302_s02_00_04.py"
   ]
  },
  {
   "cell_type": "markdown",
   "id": "b40d0b1e-f318-4209-8a7b-5bc0f75faa47",
   "metadata": {},
   "source": [
    "### sample script 00-05 ###"
   ]
  },
  {
   "cell_type": "code",
   "execution_count": null,
   "id": "4ac7ebf0-b2fc-4414-87d2-92a58c01fc16",
   "metadata": {},
   "outputs": [],
   "source": [
    "# run this cell to show the source code #\n",
    "\n",
    "!cat advobs202302_s02_00_05.py"
   ]
  },
  {
   "cell_type": "code",
   "execution_count": null,
   "id": "043254f5-86bb-476c-980e-c00f87b64303",
   "metadata": {},
   "outputs": [],
   "source": [
    "# run this cell to execute the script #\n",
    "\n",
    "!python3.9 advobs202302_s02_00_05.py"
   ]
  },
  {
   "cell_type": "markdown",
   "id": "e8735ab0-a826-4a8e-bbcd-fc65b4a03a44",
   "metadata": {},
   "source": [
    "### sample script 00-06 ###"
   ]
  },
  {
   "cell_type": "code",
   "execution_count": null,
   "id": "55172ee9-af23-4678-9c8d-0a3db3a4bb27",
   "metadata": {},
   "outputs": [],
   "source": [
    "# run this cell to show the source code #\n",
    "\n",
    "!cat advobs202302_s02_00_06.py"
   ]
  },
  {
   "cell_type": "code",
   "execution_count": null,
   "id": "277ce543-3443-4c53-bf30-263a83ea92e8",
   "metadata": {},
   "outputs": [],
   "source": [
    "# run this cell to execute the script #\n",
    "\n",
    "!python3.9 advobs202302_s02_00_06.py"
   ]
  },
  {
   "cell_type": "markdown",
   "id": "ae32aa71-a804-4d71-9452-0368dc330bf4",
   "metadata": {},
   "source": [
    "### sample script 00-07 ###"
   ]
  },
  {
   "cell_type": "code",
   "execution_count": null,
   "id": "e87fb2cd-92d4-464d-b247-7b02d4c4a888",
   "metadata": {},
   "outputs": [],
   "source": [
    "# run this cell to show the source code #\n",
    "\n",
    "!cat advobs202302_s02_00_07.py"
   ]
  },
  {
   "cell_type": "code",
   "execution_count": null,
   "id": "a441c4c9-2187-4f1f-adc4-76fe3c1d9b8c",
   "metadata": {},
   "outputs": [],
   "source": [
    "# run this cell to execute the script #\n",
    "\n",
    "!python3.9 advobs202302_s02_00_07.py"
   ]
  },
  {
   "cell_type": "markdown",
   "id": "92fdc1f6-b80b-45d4-b2fd-dc3e7ecd8eaf",
   "metadata": {},
   "source": [
    "### sample script 00-08 ###"
   ]
  },
  {
   "cell_type": "code",
   "execution_count": null,
   "id": "d2ab9bbd-f94a-4583-bb75-2704a399e734",
   "metadata": {},
   "outputs": [],
   "source": [
    "# run this cell to show the source code #\n",
    "\n",
    "!cat advobs202302_s02_00_08.py"
   ]
  },
  {
   "cell_type": "code",
   "execution_count": null,
   "id": "44f13811-14b8-46fd-8fa2-1f931947340b",
   "metadata": {},
   "outputs": [],
   "source": [
    "# run this cell to execute the script #\n",
    "\n",
    "!python3.9 advobs202302_s02_00_08.py"
   ]
  },
  {
   "cell_type": "markdown",
   "id": "3e318d69-9dab-4bcd-8ec2-31efc3f1af15",
   "metadata": {},
   "source": [
    "### sample script 00-09 ###"
   ]
  },
  {
   "cell_type": "code",
   "execution_count": null,
   "id": "1a423778-c399-485d-aedb-fb35627e1d8f",
   "metadata": {},
   "outputs": [],
   "source": [
    "# run this cell to show the source code #\n",
    "\n",
    "!cat advobs202302_s02_00_09.py"
   ]
  },
  {
   "cell_type": "code",
   "execution_count": null,
   "id": "868fdc65-b1fa-4531-8e4e-e05aa5f10478",
   "metadata": {},
   "outputs": [],
   "source": [
    "# run this cell to execute the script #\n",
    "\n",
    "!python3.9 advobs202302_s02_00_09.py"
   ]
  },
  {
   "cell_type": "markdown",
   "id": "03de80d2-1676-450b-b07e-1855b4de54b4",
   "metadata": {},
   "source": [
    "### sample script 00-10 ###"
   ]
  },
  {
   "cell_type": "code",
   "execution_count": null,
   "id": "f2a9da80-1e07-48ba-8f74-5a5d826edc2c",
   "metadata": {},
   "outputs": [],
   "source": [
    "# run this cell to show the source code #\n",
    "\n",
    "!cat advobs202302_s02_00_10.py"
   ]
  },
  {
   "cell_type": "code",
   "execution_count": null,
   "id": "8ff62656-5472-4bd2-9d8f-16172e724f24",
   "metadata": {},
   "outputs": [],
   "source": [
    "# run this cell to execute the script #\n",
    "\n",
    "!python3.9 advobs202302_s02_00_10.py"
   ]
  },
  {
   "cell_type": "markdown",
   "id": "6b21a1b7-2db3-4e27-a00c-9e9243598ca5",
   "metadata": {},
   "source": [
    "### sample script 00-11 ###"
   ]
  },
  {
   "cell_type": "code",
   "execution_count": null,
   "id": "8c550760-7f11-445d-939b-b793e7a3ed4a",
   "metadata": {},
   "outputs": [],
   "source": [
    "# run this cell to show the source code #\n",
    "\n",
    "!cat advobs202302_s02_00_11.py"
   ]
  },
  {
   "cell_type": "code",
   "execution_count": null,
   "id": "768df47f-f66a-4379-b6f2-db63725f9570",
   "metadata": {},
   "outputs": [],
   "source": [
    "# run this cell to execute the script #\n",
    "\n",
    "!python3.9 advobs202302_s02_00_11.py"
   ]
  },
  {
   "cell_type": "markdown",
   "id": "219cad19-9245-4a81-950f-319eda45e2a4",
   "metadata": {},
   "source": [
    "### sample script 00-12 ###"
   ]
  },
  {
   "cell_type": "code",
   "execution_count": null,
   "id": "4b78de2a-1b76-4b5f-9a05-4f0d0bac73a7",
   "metadata": {},
   "outputs": [],
   "source": [
    "# run this cell to show the source code #\n",
    "\n",
    "!cat advobs202302_s02_00_12.py"
   ]
  },
  {
   "cell_type": "code",
   "execution_count": null,
   "id": "c2c78b18-89fe-4018-8437-7dcfc13f78e0",
   "metadata": {},
   "outputs": [],
   "source": [
    "# run this cell to execute the script #\n",
    "\n",
    "!python3.9 advobs202302_s02_00_12.py"
   ]
  },
  {
   "cell_type": "markdown",
   "id": "1ed6e530-f882-4304-9b53-65c42eba4385",
   "metadata": {},
   "source": [
    "### sample script 00-13 ###"
   ]
  },
  {
   "cell_type": "code",
   "execution_count": null,
   "id": "62ee97b6-0606-402e-a7e0-18db67806fa8",
   "metadata": {},
   "outputs": [],
   "source": [
    "# run this cell to show the source code #\n",
    "\n",
    "!cat advobs202302_s02_00_13.py"
   ]
  },
  {
   "cell_type": "code",
   "execution_count": null,
   "id": "fafc2b0f-0353-4b5b-9b81-9a4edec92c3e",
   "metadata": {},
   "outputs": [],
   "source": [
    "# run this cell to execute the script #\n",
    "\n",
    "!python3.9 advobs202302_s02_00_13.py"
   ]
  },
  {
   "cell_type": "markdown",
   "id": "8223e244-ebf1-4119-ae36-52c0445cff0b",
   "metadata": {},
   "source": [
    "### sample script 00-14 ###"
   ]
  },
  {
   "cell_type": "code",
   "execution_count": null,
   "id": "7fcb3daf-996f-4923-ab13-1339c1b28934",
   "metadata": {},
   "outputs": [],
   "source": [
    "# run this cell to show the source code #\n",
    "\n",
    "!cat advobs202302_s02_00_14.py"
   ]
  },
  {
   "cell_type": "code",
   "execution_count": null,
   "id": "8c3d04c6-510b-46c5-8b60-eb9a9090e4f7",
   "metadata": {},
   "outputs": [],
   "source": [
    "# run this cell to execute the script #\n",
    "\n",
    "!python3.9 advobs202302_s02_00_14.py"
   ]
  },
  {
   "cell_type": "markdown",
   "id": "b4017fdd-223f-4873-b038-6ba06f7b4b2d",
   "metadata": {},
   "source": [
    "### sample script 00-15 ###"
   ]
  },
  {
   "cell_type": "code",
   "execution_count": null,
   "id": "186d9706-5aaf-43e6-8f6d-fd92970d9737",
   "metadata": {},
   "outputs": [],
   "source": [
    "# run this cell to show the source code #\n",
    "\n",
    "!cat advobs202302_s02_00_15.py"
   ]
  },
  {
   "cell_type": "code",
   "execution_count": null,
   "id": "a3ba0190-d95a-4005-b3e4-00ab71e45955",
   "metadata": {},
   "outputs": [],
   "source": [
    "# run this cell to execute the script #\n",
    "\n",
    "!python3.9 advobs202302_s02_00_15.py"
   ]
  },
  {
   "cell_type": "markdown",
   "id": "e45041c9-be65-40bf-a241-150e45fb089e",
   "metadata": {},
   "source": [
    "### sample script 00-16 ###"
   ]
  },
  {
   "cell_type": "code",
   "execution_count": null,
   "id": "93f7cc07-3de5-4d74-ab14-c47d3a298d38",
   "metadata": {},
   "outputs": [],
   "source": [
    "# run this cell to show the source code #\n",
    "\n",
    "!cat advobs202302_s02_00_16.py"
   ]
  },
  {
   "cell_type": "code",
   "execution_count": null,
   "id": "66f46d70-e6c7-44f6-9eaa-11dcca4c5c45",
   "metadata": {},
   "outputs": [],
   "source": [
    "# run this cell to execute the script #\n",
    "\n",
    "!python3.9 advobs202302_s02_00_16.py"
   ]
  },
  {
   "cell_type": "markdown",
   "id": "6f8a8156-1c7b-4aee-b9d1-138ca73b5400",
   "metadata": {},
   "source": [
    "### sample script 00-17 ###"
   ]
  },
  {
   "cell_type": "code",
   "execution_count": null,
   "id": "0278816f-e531-45aa-91f1-345103c2b4f0",
   "metadata": {},
   "outputs": [],
   "source": [
    "# run this cell to show the source code #\n",
    "\n",
    "!cat advobs202302_s02_00_17.py"
   ]
  },
  {
   "cell_type": "code",
   "execution_count": null,
   "id": "4358ee27-c672-49b7-8893-87d19fbe9f62",
   "metadata": {},
   "outputs": [],
   "source": [
    "# run this cell to execute the script #\n",
    "\n",
    "!python3.9 advobs202302_s02_00_17.py"
   ]
  },
  {
   "cell_type": "markdown",
   "id": "2ceddb4e-2a0e-43cd-9088-12604eb52f54",
   "metadata": {},
   "source": [
    "### sample script 00-18 ###"
   ]
  },
  {
   "cell_type": "code",
   "execution_count": null,
   "id": "6e99657b-5dc9-4583-b750-bd671cb70ff3",
   "metadata": {},
   "outputs": [],
   "source": [
    "# run this cell to show the source code #\n",
    "\n",
    "!cat advobs202302_s02_00_18.py"
   ]
  },
  {
   "cell_type": "code",
   "execution_count": null,
   "id": "085131eb-6ea7-4ba4-a369-2570500f9223",
   "metadata": {},
   "outputs": [],
   "source": [
    "# run this cell to execute the script #\n",
    "\n",
    "!python3.9 advobs202302_s02_00_18.py"
   ]
  },
  {
   "cell_type": "markdown",
   "id": "aecbad48-b3b7-4858-93d3-23e9113f5a28",
   "metadata": {},
   "source": [
    "### sample script 00-19 ###"
   ]
  },
  {
   "cell_type": "code",
   "execution_count": null,
   "id": "446c7856-2188-4121-8fd8-c64ecdf3e42c",
   "metadata": {},
   "outputs": [],
   "source": [
    "# run this cell to show the source code #\n",
    "\n",
    "!cat advobs202302_s02_00_19.py"
   ]
  },
  {
   "cell_type": "code",
   "execution_count": null,
   "id": "1b2de85e-4c00-41d8-9b40-e09fa1603163",
   "metadata": {},
   "outputs": [],
   "source": [
    "# run this cell to execute the script #\n",
    "\n",
    "!python3.9 advobs202302_s02_00_19.py"
   ]
  },
  {
   "cell_type": "markdown",
   "id": "45cf2cb5-5dd1-434e-9f6c-e37ac33b2425",
   "metadata": {},
   "source": [
    "### sample script 00-20 ###"
   ]
  },
  {
   "cell_type": "code",
   "execution_count": null,
   "id": "afab8525-3cce-42e4-9622-1eba1839e72f",
   "metadata": {},
   "outputs": [],
   "source": [
    "# run this cell to show the source code #\n",
    "\n",
    "!cat advobs202302_s02_00_20.py"
   ]
  },
  {
   "cell_type": "code",
   "execution_count": null,
   "id": "7ccd3578-c242-418e-ba87-fcf138edb0f3",
   "metadata": {},
   "outputs": [],
   "source": [
    "# run this cell to execute the script #\n",
    "\n",
    "!python3.9 advobs202302_s02_00_20.py"
   ]
  },
  {
   "cell_type": "markdown",
   "id": "ec6e9922-46dd-4b90-b7fe-11b22ba135f9",
   "metadata": {},
   "source": [
    "### sample script 00-21 ###"
   ]
  },
  {
   "cell_type": "code",
   "execution_count": null,
   "id": "5f27479d-d457-4700-9427-e292c10a0438",
   "metadata": {},
   "outputs": [],
   "source": [
    "# run this cell to show the source code #\n",
    "\n",
    "!cat advobs202302_s02_00_21.py"
   ]
  },
  {
   "cell_type": "code",
   "execution_count": null,
   "id": "2b372f1e-9a64-4078-b0d0-e2c60006cc18",
   "metadata": {},
   "outputs": [],
   "source": [
    "# run this cell to execute the script #\n",
    "\n",
    "!python3.9 advobs202302_s02_00_21.py"
   ]
  },
  {
   "cell_type": "markdown",
   "id": "763d5ca7-f8c0-41b5-ac87-b7aea5b4381d",
   "metadata": {},
   "source": [
    "### sample script 00-22 ###"
   ]
  },
  {
   "cell_type": "code",
   "execution_count": null,
   "id": "3fc3868d-c4f4-4655-aa86-77d099273874",
   "metadata": {},
   "outputs": [],
   "source": [
    "# run this cell to show the source code #\n",
    "\n",
    "!cat advobs202302_s02_00_22.py"
   ]
  },
  {
   "cell_type": "code",
   "execution_count": null,
   "id": "1af134ce-41a6-43cb-b1e8-79f2405411f4",
   "metadata": {},
   "outputs": [],
   "source": [
    "# run this cell to execute the script #\n",
    "\n",
    "!python3.9 advobs202302_s02_00_22.py"
   ]
  },
  {
   "cell_type": "markdown",
   "id": "c3d9c5dc-2f48-4622-814a-07b1178ca058",
   "metadata": {},
   "source": [
    "### sample script 01-00 ###"
   ]
  },
  {
   "cell_type": "code",
   "execution_count": null,
   "id": "7bd5d016-a667-4792-a7fd-f711079f2e70",
   "metadata": {},
   "outputs": [],
   "source": [
    "# run this cell to show the source code #\n",
    "\n",
    "!cat advobs202302_s02_01_00.py"
   ]
  },
  {
   "cell_type": "code",
   "execution_count": null,
   "id": "dda969d7-ed5e-4385-8b80-84f9a6832a08",
   "metadata": {},
   "outputs": [],
   "source": [
    "# run this cell to execute the script #\n",
    "\n",
    "!python3.9 advobs202302_s02_01_00.py"
   ]
  },
  {
   "cell_type": "markdown",
   "id": "c6e1c1e8-a5a7-49ef-9c70-664dcf6a198b",
   "metadata": {},
   "source": [
    "### sample script 01-01 ###"
   ]
  },
  {
   "cell_type": "code",
   "execution_count": null,
   "id": "3702a015-2c0c-45a0-a633-3a2c0392f024",
   "metadata": {},
   "outputs": [],
   "source": [
    "# run this cell to show the source code #\n",
    "\n",
    "!cat advobs202302_s02_01_01.py"
   ]
  },
  {
   "cell_type": "code",
   "execution_count": null,
   "id": "3b8ea1eb-6f91-4e8d-9f74-c0885078e334",
   "metadata": {},
   "outputs": [],
   "source": [
    "# run this cell to execute the script #\n",
    "\n",
    "!python3.9 advobs202302_s02_01_01.py"
   ]
  },
  {
   "cell_type": "markdown",
   "id": "7d03514f-1423-47cc-b4ff-c73deeee331c",
   "metadata": {},
   "source": [
    "### sample script 01-02 ###"
   ]
  },
  {
   "cell_type": "code",
   "execution_count": null,
   "id": "5343028e-79a0-4b70-b1a5-edb71399d983",
   "metadata": {},
   "outputs": [],
   "source": [
    "# run this cell to show the source code #\n",
    "\n",
    "!cat advobs202302_s02_01_02.py"
   ]
  },
  {
   "cell_type": "code",
   "execution_count": null,
   "id": "e4e9f8b0-749b-49a6-938d-50ccc5345994",
   "metadata": {},
   "outputs": [],
   "source": [
    "# run this cell to execute the script #\n",
    "\n",
    "!python3.9 advobs202302_s02_01_02.py"
   ]
  },
  {
   "cell_type": "markdown",
   "id": "d6448987-d60f-4187-8b83-edd950a325db",
   "metadata": {},
   "source": [
    "### sample script 01-03 ###"
   ]
  },
  {
   "cell_type": "code",
   "execution_count": null,
   "id": "5c5f4b95-3a09-4887-a265-796b88e2ca03",
   "metadata": {},
   "outputs": [],
   "source": [
    "# run this cell to show the source code #\n",
    "\n",
    "!cat advobs202302_s02_01_03.py"
   ]
  },
  {
   "cell_type": "code",
   "execution_count": null,
   "id": "1166e292-c234-4d15-8f85-606667441c0e",
   "metadata": {},
   "outputs": [],
   "source": [
    "# run this cell to execute the script #\n",
    "\n",
    "!python3.9 advobs202302_s02_01_03.py"
   ]
  },
  {
   "cell_type": "markdown",
   "id": "853a46da-3a08-44f1-8637-fb9b824a3ca5",
   "metadata": {},
   "source": [
    "### sample script 01-04 ###"
   ]
  },
  {
   "cell_type": "code",
   "execution_count": null,
   "id": "90d156fa-a664-4c48-8fd8-29ed419dbc4a",
   "metadata": {},
   "outputs": [],
   "source": [
    "# run this cell to show the source code #\n",
    "\n",
    "!cat advobs202302_s02_01_04.py"
   ]
  },
  {
   "cell_type": "code",
   "execution_count": null,
   "id": "07f0159e-2525-4c00-a416-9e1756698133",
   "metadata": {},
   "outputs": [],
   "source": [
    "# run this cell to execute the script #\n",
    "\n",
    "!python3.9 advobs202302_s02_01_04.py"
   ]
  },
  {
   "cell_type": "markdown",
   "id": "5975ed94-885b-4a46-9ff8-46c10a28040e",
   "metadata": {},
   "source": [
    "### sample script 01-05 ###"
   ]
  },
  {
   "cell_type": "code",
   "execution_count": null,
   "id": "7d8f17b3-8150-4594-aa08-193ff3938e3b",
   "metadata": {},
   "outputs": [],
   "source": [
    "# run this cell to show the source code #\n",
    "\n",
    "!cat advobs202302_s02_01_05.py"
   ]
  },
  {
   "cell_type": "code",
   "execution_count": null,
   "id": "6873485f-96e4-440d-9c79-ddac468f5a23",
   "metadata": {},
   "outputs": [],
   "source": [
    "# run this cell to execute the script #\n",
    "\n",
    "!python3.9 advobs202302_s02_01_05.py"
   ]
  },
  {
   "cell_type": "markdown",
   "id": "4bb939d5-8ac4-4834-be3b-6078153002d9",
   "metadata": {},
   "source": [
    "### sample script 01-06 ###"
   ]
  },
  {
   "cell_type": "code",
   "execution_count": null,
   "id": "1726391e-644d-425f-8df7-ee2c8788ac11",
   "metadata": {},
   "outputs": [],
   "source": [
    "# run this cell to show the source code #\n",
    "\n",
    "!cat advobs202302_s02_01_06.py"
   ]
  },
  {
   "cell_type": "code",
   "execution_count": null,
   "id": "89f13802-bc0e-4a63-9f4b-851d614276a3",
   "metadata": {},
   "outputs": [],
   "source": [
    "# run this cell to execute the script #\n",
    "\n",
    "!python3.9 advobs202302_s02_01_06.py"
   ]
  },
  {
   "cell_type": "markdown",
   "id": "7af21406-834b-4e00-a60a-ade593dc2193",
   "metadata": {},
   "source": [
    "### sample script 01-07 ###"
   ]
  },
  {
   "cell_type": "code",
   "execution_count": null,
   "id": "a0bf7175-1b55-48de-8dba-70583cce05f2",
   "metadata": {},
   "outputs": [],
   "source": [
    "# run this cell to show the source code #\n",
    "\n",
    "!cat advobs202302_s02_01_07.py"
   ]
  },
  {
   "cell_type": "code",
   "execution_count": null,
   "id": "af58a420-09c2-4ead-8a18-ea748a00ab6a",
   "metadata": {},
   "outputs": [],
   "source": [
    "# run this cell to execute the script #\n",
    "\n",
    "!python3.9 advobs202302_s02_01_07.py"
   ]
  },
  {
   "cell_type": "markdown",
   "id": "582493ab-18e9-4fef-8d51-b14b83c35785",
   "metadata": {},
   "source": [
    "### sample script 01-08 ###"
   ]
  },
  {
   "cell_type": "code",
   "execution_count": null,
   "id": "8817082d-4b26-430b-b7f0-18beab0d8148",
   "metadata": {},
   "outputs": [],
   "source": [
    "# run this cell to show the source code #\n",
    "\n",
    "!cat advobs202302_s02_01_08.py"
   ]
  },
  {
   "cell_type": "code",
   "execution_count": null,
   "id": "c648c12e-b4fc-4290-a11c-63e6e35511ea",
   "metadata": {},
   "outputs": [],
   "source": [
    "# run this cell to execute the script #\n",
    "\n",
    "!python3.9 advobs202302_s02_01_08.py"
   ]
  },
  {
   "cell_type": "markdown",
   "id": "cf9d471f-6432-42a5-a126-de6f089c2a34",
   "metadata": {},
   "source": [
    "### sample script 01-09 ###"
   ]
  },
  {
   "cell_type": "code",
   "execution_count": null,
   "id": "36845bbd-dd70-4fa0-bcb7-235daf4bf55d",
   "metadata": {},
   "outputs": [],
   "source": [
    "# run this cell to show the source code #\n",
    "\n",
    "!cat advobs202302_s02_01_09.py"
   ]
  },
  {
   "cell_type": "code",
   "execution_count": null,
   "id": "2e54a654-e3b0-41bb-9727-c1d9bc938c45",
   "metadata": {},
   "outputs": [],
   "source": [
    "# run this cell to execute the script #\n",
    "\n",
    "!python3.9 advobs202302_s02_01_09.py"
   ]
  },
  {
   "cell_type": "markdown",
   "id": "201197d7-6675-4284-aacb-5d9b38f63f79",
   "metadata": {},
   "source": [
    "### sample script 01-10 ###"
   ]
  },
  {
   "cell_type": "code",
   "execution_count": null,
   "id": "4bb63109-1929-477e-aac8-7305d1dcb178",
   "metadata": {},
   "outputs": [],
   "source": [
    "# run this cell to show the source code #\n",
    "\n",
    "!cat advobs202302_s02_01_10.py"
   ]
  },
  {
   "cell_type": "code",
   "execution_count": null,
   "id": "fa484cdc-688b-410b-9b67-981f08bc6033",
   "metadata": {},
   "outputs": [],
   "source": [
    "# run this cell to execute the script #\n",
    "\n",
    "!python3.9 advobs202302_s02_01_10.py"
   ]
  },
  {
   "cell_type": "markdown",
   "id": "744a4935-9a96-4fcf-8138-473326dc8ac7",
   "metadata": {},
   "source": [
    "### sample script 01-11 ###"
   ]
  },
  {
   "cell_type": "code",
   "execution_count": null,
   "id": "1bd92ebd-4159-4cad-a859-4e3d6a0ba432",
   "metadata": {},
   "outputs": [],
   "source": [
    "# run this cell to show the source code #\n",
    "\n",
    "!cat advobs202302_s02_01_11.py"
   ]
  },
  {
   "cell_type": "code",
   "execution_count": null,
   "id": "4df80d08-3cd2-46ae-830d-f32eb05b8c4b",
   "metadata": {},
   "outputs": [],
   "source": [
    "# run this cell to execute the script #\n",
    "\n",
    "!python3.9 advobs202302_s02_01_11.py"
   ]
  },
  {
   "cell_type": "markdown",
   "id": "be028db0-63fb-4039-abef-034d6b710931",
   "metadata": {},
   "source": [
    "### sample script 01-12 ###"
   ]
  },
  {
   "cell_type": "code",
   "execution_count": null,
   "id": "2f19d2e8-3683-4f96-ae0c-6b3a686813d8",
   "metadata": {},
   "outputs": [],
   "source": [
    "# run this cell to show the source code #\n",
    "\n",
    "!cat advobs202302_s02_01_12.py"
   ]
  },
  {
   "cell_type": "code",
   "execution_count": null,
   "id": "962f6158-cb0a-4c71-8001-21bddad3818e",
   "metadata": {},
   "outputs": [],
   "source": [
    "# run this cell to execute the script #\n",
    "\n",
    "!python3.9 advobs202302_s02_01_12.py"
   ]
  },
  {
   "cell_type": "markdown",
   "id": "607e2465-e8a9-4545-948d-15b548f2a21e",
   "metadata": {},
   "source": [
    "### sample script 01-13 ###"
   ]
  },
  {
   "cell_type": "code",
   "execution_count": null,
   "id": "23379b35-595b-43c6-8e68-3aec0d886a90",
   "metadata": {},
   "outputs": [],
   "source": [
    "# run this cell to show the source code #\n",
    "\n",
    "!cat advobs202302_s02_01_13.py"
   ]
  },
  {
   "cell_type": "code",
   "execution_count": null,
   "id": "d52fbb19-6715-4111-8f1c-ca8f4d1d90e0",
   "metadata": {},
   "outputs": [],
   "source": [
    "# run this cell to execute the script #\n",
    "\n",
    "!python3.9 advobs202302_s02_01_13.py"
   ]
  },
  {
   "cell_type": "markdown",
   "id": "9bff3789-ccff-40ec-b249-6fdecb22c399",
   "metadata": {},
   "source": [
    "### sample script 01-14 ###"
   ]
  },
  {
   "cell_type": "code",
   "execution_count": null,
   "id": "986424e8-7b02-413c-bce2-51603922d631",
   "metadata": {},
   "outputs": [],
   "source": [
    "# run this cell to show the source code #\n",
    "\n",
    "!cat advobs202302_s02_01_14.py"
   ]
  },
  {
   "cell_type": "code",
   "execution_count": null,
   "id": "494f0f19-94f9-434b-8cab-cb5183766c83",
   "metadata": {},
   "outputs": [],
   "source": [
    "# run this cell to execute the script #\n",
    "\n",
    "!python3.9 advobs202302_s02_01_14.py"
   ]
  },
  {
   "cell_type": "markdown",
   "id": "6b876b99-5846-463d-b3a4-b59c449c742b",
   "metadata": {},
   "source": [
    "### sample script 01-15 ###"
   ]
  },
  {
   "cell_type": "code",
   "execution_count": null,
   "id": "ab7cbbb7-4d0d-4a6a-9d24-a52712e60f2b",
   "metadata": {},
   "outputs": [],
   "source": [
    "# run this cell to show the source code #\n",
    "\n",
    "!cat advobs202302_s02_01_15.py"
   ]
  },
  {
   "cell_type": "code",
   "execution_count": null,
   "id": "0ce2f579-7374-42a2-b381-61a912640b64",
   "metadata": {},
   "outputs": [],
   "source": [
    "# run this cell to execute the script #\n",
    "\n",
    "!python3.9 advobs202302_s02_01_15.py"
   ]
  },
  {
   "cell_type": "markdown",
   "id": "b6413b08-a0eb-4b81-b8cc-34d712162079",
   "metadata": {},
   "source": [
    "### sample script 01-16 ###"
   ]
  },
  {
   "cell_type": "code",
   "execution_count": null,
   "id": "01778cd5-49ee-42d2-bd4c-a795345a522d",
   "metadata": {},
   "outputs": [],
   "source": [
    "# run this cell to show the source code #\n",
    "\n",
    "!cat advobs202302_s02_01_16.py"
   ]
  },
  {
   "cell_type": "code",
   "execution_count": null,
   "id": "db3c89b1-16ad-4267-9f35-54e459c89681",
   "metadata": {},
   "outputs": [],
   "source": [
    "# run this cell to execute the script #\n",
    "\n",
    "!python3.9 advobs202302_s02_01_16.py"
   ]
  },
  {
   "cell_type": "markdown",
   "id": "01a5f97c-46cb-4b42-9856-dc8d3a60dd8e",
   "metadata": {},
   "source": [
    "### sample script 01-17 ###"
   ]
  },
  {
   "cell_type": "code",
   "execution_count": null,
   "id": "a38463bc-2014-4aa3-9704-90c8e88bd90a",
   "metadata": {},
   "outputs": [],
   "source": [
    "# run this cell to show the source code #\n",
    "\n",
    "!cat advobs202302_s02_01_17.py"
   ]
  },
  {
   "cell_type": "code",
   "execution_count": null,
   "id": "3df3063c-ba97-4c45-8d00-be51b31a0419",
   "metadata": {},
   "outputs": [],
   "source": [
    "# run this cell to execute the script #\n",
    "\n",
    "!python3.9 advobs202302_s02_01_17.py"
   ]
  },
  {
   "cell_type": "markdown",
   "id": "07fc7cc2-e21a-4f34-9f07-b896c514852c",
   "metadata": {},
   "source": [
    "### sample script 01-18 ###"
   ]
  },
  {
   "cell_type": "code",
   "execution_count": null,
   "id": "51a38403-d549-4583-bcd3-396d833d7ee7",
   "metadata": {},
   "outputs": [],
   "source": [
    "# run this cell to show the source code #\n",
    "\n",
    "!cat advobs202302_s02_01_18.py"
   ]
  },
  {
   "cell_type": "code",
   "execution_count": null,
   "id": "b0b5f578-bc8a-4b3d-9386-bc7ec900c27c",
   "metadata": {},
   "outputs": [],
   "source": [
    "# run this cell to execute the script #\n",
    "\n",
    "!python3.9 advobs202302_s02_01_18.py"
   ]
  },
  {
   "cell_type": "markdown",
   "id": "4f3606b2-d853-406b-b2d3-625e5da45470",
   "metadata": {},
   "source": [
    "### sample script 01-19 ###"
   ]
  },
  {
   "cell_type": "code",
   "execution_count": null,
   "id": "6b46311a-a82e-4946-8a13-912e08db7d62",
   "metadata": {},
   "outputs": [],
   "source": [
    "# run this cell to show the source code #\n",
    "\n",
    "!cat advobs202302_s02_01_19.py"
   ]
  },
  {
   "cell_type": "code",
   "execution_count": null,
   "id": "6df47a88-63e9-4f24-9632-b70f872363cc",
   "metadata": {},
   "outputs": [],
   "source": [
    "# run this cell to execute the script #\n",
    "\n",
    "!python3.9 advobs202302_s02_01_19.py"
   ]
  },
  {
   "cell_type": "markdown",
   "id": "a2747a98-3011-4350-8516-2f64e583c8ee",
   "metadata": {},
   "source": [
    "### sample script 01-20 ###"
   ]
  },
  {
   "cell_type": "code",
   "execution_count": null,
   "id": "9e93b9d6-d02b-4b56-990d-7f40de137e99",
   "metadata": {},
   "outputs": [],
   "source": [
    "# run this cell to show the source code #\n",
    "\n",
    "!cat advobs202302_s02_01_20.py"
   ]
  },
  {
   "cell_type": "code",
   "execution_count": null,
   "id": "116aaef5-b8af-4911-a56d-c419b1557436",
   "metadata": {},
   "outputs": [],
   "source": [
    "# run this cell to execute the script #\n",
    "\n",
    "!python3.9 advobs202302_s02_01_20.py"
   ]
  },
  {
   "cell_type": "markdown",
   "id": "5879123c-960d-42b9-b0ec-bcdf4d857310",
   "metadata": {},
   "source": [
    "### sample script 01-21 ###"
   ]
  },
  {
   "cell_type": "code",
   "execution_count": null,
   "id": "17a6cd64-2346-4048-bba8-2f1e362c6629",
   "metadata": {},
   "outputs": [],
   "source": [
    "# run this cell to show the source code #\n",
    "\n",
    "!cat advobs202302_s02_01_21.py"
   ]
  },
  {
   "cell_type": "code",
   "execution_count": null,
   "id": "b74afe38-bbbb-4db6-9f3f-fd0b83c5efa3",
   "metadata": {},
   "outputs": [],
   "source": [
    "# run this cell to execute the script #\n",
    "\n",
    "!python3.9 advobs202302_s02_01_21.py"
   ]
  },
  {
   "cell_type": "markdown",
   "id": "d264b8cc-dab8-4767-a304-6b350056e2aa",
   "metadata": {},
   "source": [
    "### sample script 01-22 ###"
   ]
  },
  {
   "cell_type": "code",
   "execution_count": null,
   "id": "353e51b3-e8cf-4fba-abf2-44fd147dfd10",
   "metadata": {},
   "outputs": [],
   "source": [
    "# run this cell to show the source code #\n",
    "\n",
    "!cat advobs202302_s02_01_22.py"
   ]
  },
  {
   "cell_type": "code",
   "execution_count": null,
   "id": "91b04f6c-ae7c-4101-a386-09c97ea0d21f",
   "metadata": {},
   "outputs": [],
   "source": [
    "# run this cell to execute the script #\n",
    "\n",
    "!python3.9 advobs202302_s02_01_22.py"
   ]
  },
  {
   "cell_type": "markdown",
   "id": "9cff554c-810a-4bb4-a220-5563139d5c23",
   "metadata": {},
   "source": [
    "### sample script 01-23 ###"
   ]
  },
  {
   "cell_type": "code",
   "execution_count": null,
   "id": "6a0ea2a4-27ed-41ac-88a3-374cc903ecfe",
   "metadata": {},
   "outputs": [],
   "source": [
    "# run this cell to show the source code #\n",
    "\n",
    "!cat advobs202302_s02_01_23.py"
   ]
  },
  {
   "cell_type": "code",
   "execution_count": null,
   "id": "344985f4-9fdb-48da-a6da-9fa5185dd372",
   "metadata": {},
   "outputs": [],
   "source": [
    "# run this cell to execute the script #\n",
    "\n",
    "!python3.9 advobs202302_s02_01_23.py"
   ]
  },
  {
   "cell_type": "markdown",
   "id": "296b9eba-0ba0-4343-aad0-7e8670a55028",
   "metadata": {},
   "source": [
    "### sample script 01-24 ###"
   ]
  },
  {
   "cell_type": "code",
   "execution_count": null,
   "id": "671b5383-29f1-4427-90e0-72f83291651c",
   "metadata": {},
   "outputs": [],
   "source": [
    "# run this cell to show the source code #\n",
    "\n",
    "!cat advobs202302_s02_01_24.py"
   ]
  },
  {
   "cell_type": "code",
   "execution_count": null,
   "id": "cb1f5bdd-55ba-476e-89c4-7228e848bdca",
   "metadata": {},
   "outputs": [],
   "source": [
    "# run this cell to execute the script #\n",
    "\n",
    "!python3.9 advobs202302_s02_01_24.py"
   ]
  },
  {
   "cell_type": "markdown",
   "id": "19a1a4f7-bf21-47d6-8311-238a49c726a6",
   "metadata": {},
   "source": [
    "### sample script 01-25 ###"
   ]
  },
  {
   "cell_type": "code",
   "execution_count": null,
   "id": "5d2a835a-e3e7-4823-8d65-62806c1d15e5",
   "metadata": {},
   "outputs": [],
   "source": [
    "# run this cell to show the source code #\n",
    "\n",
    "!cat advobs202302_s02_01_25.py"
   ]
  },
  {
   "cell_type": "code",
   "execution_count": null,
   "id": "17db8319-cdb3-4273-a53f-92ab3f0517a3",
   "metadata": {},
   "outputs": [],
   "source": [
    "# run this cell to execute the script #\n",
    "\n",
    "!python3.9 advobs202302_s02_01_25.py"
   ]
  },
  {
   "cell_type": "markdown",
   "id": "2a81b80d-d627-4490-b893-c30c3c0f0145",
   "metadata": {},
   "source": [
    "### sample script 01-26 ###"
   ]
  },
  {
   "cell_type": "code",
   "execution_count": null,
   "id": "8e429c49-7fc3-491e-a06e-c5fd88d23934",
   "metadata": {},
   "outputs": [],
   "source": [
    "# run this cell to show the source code #\n",
    "\n",
    "!cat advobs202302_s02_01_26.py"
   ]
  },
  {
   "cell_type": "code",
   "execution_count": null,
   "id": "5a26530c-d621-4d99-8936-6b47268ffee1",
   "metadata": {},
   "outputs": [],
   "source": [
    "# run this cell to execute the script #\n",
    "\n",
    "!python3.9 advobs202302_s02_01_26.py"
   ]
  },
  {
   "cell_type": "markdown",
   "id": "7dcdf2ff-764d-4ef3-b7ce-f37b57d2036d",
   "metadata": {},
   "source": [
    "### sample script 01-27 ###"
   ]
  },
  {
   "cell_type": "code",
   "execution_count": null,
   "id": "b3521e95-4278-4803-9bd3-4f0ebe1ecf47",
   "metadata": {},
   "outputs": [],
   "source": [
    "# run this cell to show the source code #\n",
    "\n",
    "!cat advobs202302_s02_01_27.py"
   ]
  },
  {
   "cell_type": "code",
   "execution_count": null,
   "id": "9e426e66-845c-43ab-a91d-a1aa4ce8ab59",
   "metadata": {},
   "outputs": [],
   "source": [
    "# run this cell to execute the script #\n",
    "\n",
    "!python3.9 advobs202302_s02_01_27.py"
   ]
  },
  {
   "cell_type": "markdown",
   "id": "16ca0012-35ba-44c5-bb5a-3f7bedc6493a",
   "metadata": {},
   "source": [
    "### sample script 02-00 ###"
   ]
  },
  {
   "cell_type": "code",
   "execution_count": null,
   "id": "fb498637-a90e-48f4-b34b-ce723bcad91b",
   "metadata": {},
   "outputs": [],
   "source": [
    "# run this cell to show the source code #\n",
    "\n",
    "!cat advobs202302_s02_02_00.py"
   ]
  },
  {
   "cell_type": "code",
   "execution_count": null,
   "id": "e3196efa-dc72-40ae-add5-2ead6dc84cbf",
   "metadata": {},
   "outputs": [],
   "source": [
    "# run this cell to execute the script #\n",
    "\n",
    "!python3.9 advobs202302_s02_02_00.py"
   ]
  },
  {
   "cell_type": "markdown",
   "id": "c94133dd-f3c5-4265-851b-1f9ca6afb346",
   "metadata": {},
   "source": [
    "### sample script 02-01 ###"
   ]
  },
  {
   "cell_type": "code",
   "execution_count": null,
   "id": "2d464afe-9ff1-421b-9a04-66e4235aad64",
   "metadata": {},
   "outputs": [],
   "source": [
    "# run this cell to show the source code #\n",
    "\n",
    "!cat advobs202302_s02_02_01.py"
   ]
  },
  {
   "cell_type": "code",
   "execution_count": null,
   "id": "f60d53c6-3655-42a8-a1f3-90e87b9f6d17",
   "metadata": {},
   "outputs": [],
   "source": [
    "# run this cell to execute the script #\n",
    "\n",
    "!python3.9 advobs202302_s02_02_01.py"
   ]
  },
  {
   "cell_type": "markdown",
   "id": "b34b35fa-8f11-4fdc-a4ee-c3a8cb260be3",
   "metadata": {},
   "source": [
    "### sample script 02-02 ###"
   ]
  },
  {
   "cell_type": "code",
   "execution_count": null,
   "id": "e0ec46e5-a0db-4ce3-8997-22edced070ba",
   "metadata": {},
   "outputs": [],
   "source": [
    "# run this cell to show the source code #\n",
    "\n",
    "!cat advobs202302_s02_02_02.py"
   ]
  },
  {
   "cell_type": "code",
   "execution_count": null,
   "id": "782e8bef-cdd3-4d5f-9ff8-3509d55ec721",
   "metadata": {},
   "outputs": [],
   "source": [
    "# run this cell to execute the script #\n",
    "\n",
    "!python3.9 advobs202302_s02_02_02.py"
   ]
  },
  {
   "cell_type": "markdown",
   "id": "ac2fa5cb-dd1d-4065-bc4c-dfac5c395f14",
   "metadata": {},
   "source": [
    "### sample script 02-03 ###"
   ]
  },
  {
   "cell_type": "code",
   "execution_count": null,
   "id": "db24e55e-a502-40d5-8cbe-80bf90ce6089",
   "metadata": {},
   "outputs": [],
   "source": [
    "# run this cell to show the source code #\n",
    "\n",
    "!cat advobs202302_s02_02_03.py"
   ]
  },
  {
   "cell_type": "code",
   "execution_count": null,
   "id": "9f9e5284-caf9-4ca0-8397-bb00da155b9a",
   "metadata": {},
   "outputs": [],
   "source": [
    "# run this cell to execute the script #\n",
    "\n",
    "!python3.9 advobs202302_s02_02_03.py"
   ]
  },
  {
   "cell_type": "markdown",
   "id": "0b1102aa-54cd-4dac-b2a9-5741fa4ad78c",
   "metadata": {},
   "source": [
    "### sample script 03-00 ###"
   ]
  },
  {
   "cell_type": "code",
   "execution_count": null,
   "id": "e691f1d9-bfea-421b-b235-dc503e912354",
   "metadata": {},
   "outputs": [],
   "source": [
    "# run this cell to show the source code #\n",
    "\n",
    "!cat advobs202302_s02_03_00.py"
   ]
  },
  {
   "cell_type": "code",
   "execution_count": null,
   "id": "b38d254d-0c69-4718-a4eb-f092b2797958",
   "metadata": {},
   "outputs": [],
   "source": [
    "# run this cell to execute the script #\n",
    "\n",
    "!python3.9 advobs202302_s02_03_00.py"
   ]
  },
  {
   "cell_type": "markdown",
   "id": "4b57ae74-778f-480b-b87d-2a653b1cef71",
   "metadata": {},
   "source": [
    "### sample script 03-01 ###"
   ]
  },
  {
   "cell_type": "code",
   "execution_count": null,
   "id": "73bba1d4-d2d6-46a4-951d-108a290a2a4f",
   "metadata": {},
   "outputs": [],
   "source": [
    "# run this cell to show the source code #\n",
    "\n",
    "!cat advobs202302_s02_03_01.py"
   ]
  },
  {
   "cell_type": "code",
   "execution_count": null,
   "id": "a13da6ec-357b-4b48-8e4d-58c26f817df8",
   "metadata": {},
   "outputs": [],
   "source": [
    "# run this cell to execute the script #\n",
    "\n",
    "!python3.9 advobs202302_s02_03_01.py"
   ]
  },
  {
   "cell_type": "markdown",
   "id": "636a3dee-bd1b-4d8e-992f-455ceca0956e",
   "metadata": {},
   "source": [
    "### sample script 04-00 ###"
   ]
  },
  {
   "cell_type": "code",
   "execution_count": null,
   "id": "4835e373-e6a0-4cdc-98be-05c717fb5bf2",
   "metadata": {},
   "outputs": [],
   "source": [
    "# run this cell to show the source code #\n",
    "\n",
    "!cat advobs202302_s02_04_00.py"
   ]
  },
  {
   "cell_type": "code",
   "execution_count": null,
   "id": "b62e3249-ec5b-434a-b5c2-3a2106d8d61e",
   "metadata": {},
   "outputs": [],
   "source": [
    "# run this cell to execute the script #\n",
    "\n",
    "!python3.9 advobs202302_s02_04_00.py"
   ]
  },
  {
   "cell_type": "markdown",
   "id": "02d19025-70e7-42e6-813c-bc029c125287",
   "metadata": {},
   "source": [
    "### sample script 04-01 ###"
   ]
  },
  {
   "cell_type": "code",
   "execution_count": null,
   "id": "8d4a7aff-23f7-4242-bcf9-42def4ce4796",
   "metadata": {},
   "outputs": [],
   "source": [
    "# run this cell to show the source code #\n",
    "\n",
    "!cat advobs202302_s02_04_01.py"
   ]
  },
  {
   "cell_type": "code",
   "execution_count": null,
   "id": "501e71b0-0c49-4df2-add6-d259b00e7881",
   "metadata": {},
   "outputs": [],
   "source": [
    "# run this cell to execute the script #\n",
    "\n",
    "!python3.9 advobs202302_s02_04_01.py"
   ]
  },
  {
   "cell_type": "markdown",
   "id": "07264dc5-903e-4c88-9983-2f4eefb9fe56",
   "metadata": {},
   "source": [
    "### sample script 04-02 ###"
   ]
  },
  {
   "cell_type": "code",
   "execution_count": null,
   "id": "c382ce81-c830-4a05-8cc9-66c8934f1166",
   "metadata": {},
   "outputs": [],
   "source": [
    "# run this cell to show the source code #\n",
    "\n",
    "!cat advobs202302_s02_04_02.py"
   ]
  },
  {
   "cell_type": "code",
   "execution_count": null,
   "id": "a1cf99fd-38b1-40da-8047-6f223146d2f6",
   "metadata": {},
   "outputs": [],
   "source": [
    "# run this cell to execute the script #\n",
    "\n",
    "!python3.9 advobs202302_s02_04_02.py"
   ]
  },
  {
   "cell_type": "markdown",
   "id": "ca2c8971-c77f-4ad8-8069-59ad489bc4b2",
   "metadata": {},
   "source": [
    "### sample script 04-03 ###"
   ]
  },
  {
   "cell_type": "code",
   "execution_count": null,
   "id": "481d0ebc-a2cb-436b-b303-fb70c98b3a90",
   "metadata": {},
   "outputs": [],
   "source": [
    "# run this cell to show the source code #\n",
    "\n",
    "!cat advobs202302_s02_04_03.py"
   ]
  },
  {
   "cell_type": "code",
   "execution_count": null,
   "id": "bda5f769-7e00-4782-abc5-ad68d6c45499",
   "metadata": {},
   "outputs": [],
   "source": [
    "# run this cell to execute the script #\n",
    "\n",
    "!python3.9 advobs202302_s02_04_03.py"
   ]
  },
  {
   "cell_type": "markdown",
   "id": "09e21e6a-19d1-465c-93a9-f11b96da6580",
   "metadata": {},
   "source": [
    "### sample script 05-00 ###"
   ]
  },
  {
   "cell_type": "code",
   "execution_count": null,
   "id": "fe7562f6-9e10-484e-be01-ba3cbb182ffa",
   "metadata": {},
   "outputs": [],
   "source": [
    "# run this cell to show the source code #\n",
    "\n",
    "!cat advobs202302_s02_05_00.py"
   ]
  },
  {
   "cell_type": "code",
   "execution_count": null,
   "id": "cd93041b-b160-40dc-bec2-eff3bacf003d",
   "metadata": {},
   "outputs": [],
   "source": [
    "# run this cell to execute the script #\n",
    "\n",
    "!python3.9 advobs202302_s02_05_00.py"
   ]
  },
  {
   "cell_type": "markdown",
   "id": "cf213df9-f8e9-45a8-89b9-cd965df3474e",
   "metadata": {},
   "source": [
    "### sample script 05-01 ###"
   ]
  },
  {
   "cell_type": "code",
   "execution_count": null,
   "id": "368746d5-c698-491e-b0f8-22176e5877ea",
   "metadata": {},
   "outputs": [],
   "source": [
    "# run this cell to show the source code #\n",
    "\n",
    "!cat advobs202302_s02_05_01.py"
   ]
  },
  {
   "cell_type": "code",
   "execution_count": null,
   "id": "678c09a6-1b18-4963-baa3-990efcdfb5dc",
   "metadata": {},
   "outputs": [],
   "source": [
    "# run this cell to execute the script #\n",
    "\n",
    "!python3.9 advobs202302_s02_05_01.py"
   ]
  },
  {
   "cell_type": "markdown",
   "id": "c836953f-5927-4cfd-be39-0ce38a7cece9",
   "metadata": {},
   "source": [
    "### sample script 05-02 ###"
   ]
  },
  {
   "cell_type": "code",
   "execution_count": null,
   "id": "232a5495-ab39-4e86-aef7-0e057c6e50ad",
   "metadata": {},
   "outputs": [],
   "source": [
    "# run this cell to show the source code #\n",
    "\n",
    "!cat advobs202302_s02_05_02.py"
   ]
  },
  {
   "cell_type": "code",
   "execution_count": null,
   "id": "1d958348-0c7f-4eec-b6d6-c7508da4dc0c",
   "metadata": {},
   "outputs": [],
   "source": [
    "# run this cell to execute the script #\n",
    "\n",
    "!python3.9 advobs202302_s02_05_02.py"
   ]
  },
  {
   "cell_type": "markdown",
   "id": "d7712946-0839-417c-9e96-32eceeef8d0a",
   "metadata": {},
   "source": [
    "### sample script 05-03 ###"
   ]
  },
  {
   "cell_type": "code",
   "execution_count": null,
   "id": "e6af5841-fb4c-454f-bb17-703200e498ff",
   "metadata": {},
   "outputs": [],
   "source": [
    "# run this cell to show the source code #\n",
    "\n",
    "!cat advobs202302_s02_05_03.py"
   ]
  },
  {
   "cell_type": "code",
   "execution_count": null,
   "id": "8a825909-24c2-4108-b093-7043358463fa",
   "metadata": {},
   "outputs": [],
   "source": [
    "# run this cell to execute the script #\n",
    "\n",
    "!python3.9 advobs202302_s02_05_03.py"
   ]
  },
  {
   "cell_type": "markdown",
   "id": "a5d3a15a-65f7-4678-9dae-b9bfb527c929",
   "metadata": {},
   "source": [
    "### sample script 06-00 ###"
   ]
  },
  {
   "cell_type": "code",
   "execution_count": null,
   "id": "2f5e0bec-b93d-4626-80f1-191f0603b45d",
   "metadata": {},
   "outputs": [],
   "source": [
    "# run this cell to show the source code #\n",
    "\n",
    "!cat advobs202302_s02_06_00.py"
   ]
  },
  {
   "cell_type": "code",
   "execution_count": null,
   "id": "58f9a102-3196-496a-b063-893212659915",
   "metadata": {},
   "outputs": [],
   "source": [
    "# run this cell to execute the script #\n",
    "\n",
    "!python3.9 advobs202302_s02_06_00.py"
   ]
  },
  {
   "cell_type": "markdown",
   "id": "078c9d21-f6e4-4b4d-b8bf-68cce515775b",
   "metadata": {},
   "source": [
    "### sample script 06-01 ###"
   ]
  },
  {
   "cell_type": "code",
   "execution_count": null,
   "id": "4c8d477d-039a-47a0-aa6b-8113c33a0b6f",
   "metadata": {},
   "outputs": [],
   "source": [
    "# run this cell to show the source code #\n",
    "\n",
    "!cat advobs202302_s02_06_01.py"
   ]
  },
  {
   "cell_type": "code",
   "execution_count": null,
   "id": "fa80e7f9-f9e4-4dd4-93f9-2d987733939a",
   "metadata": {},
   "outputs": [],
   "source": [
    "# run this cell to execute the script #\n",
    "\n",
    "!python3.9 advobs202302_s02_06_01.py"
   ]
  },
  {
   "cell_type": "markdown",
   "id": "e2ff7711-0573-4e6e-8809-e3444c754067",
   "metadata": {},
   "source": [
    "### sample script 06-02 ###"
   ]
  },
  {
   "cell_type": "code",
   "execution_count": null,
   "id": "a85391ff-af60-497a-b510-af65aeb0d609",
   "metadata": {},
   "outputs": [],
   "source": [
    "# run this cell to show the source code #\n",
    "\n",
    "!cat advobs202302_s02_06_02.py"
   ]
  },
  {
   "cell_type": "code",
   "execution_count": null,
   "id": "bab38d5f-b699-44b4-9f66-936206e8634d",
   "metadata": {},
   "outputs": [],
   "source": [
    "# run this cell to execute the script #\n",
    "\n",
    "!python3.9 advobs202302_s02_06_02.py"
   ]
  },
  {
   "cell_type": "markdown",
   "id": "456f2379-da53-425c-a8fc-0425374b338d",
   "metadata": {},
   "source": [
    "### sample script 06-03 ###"
   ]
  },
  {
   "cell_type": "code",
   "execution_count": null,
   "id": "8bfe6cc9-707f-43ea-b0ca-57d7dd49b5ec",
   "metadata": {},
   "outputs": [],
   "source": [
    "# run this cell to show the source code #\n",
    "\n",
    "!cat advobs202302_s02_06_03.py"
   ]
  },
  {
   "cell_type": "code",
   "execution_count": null,
   "id": "c7981cce-e6ed-489a-b1df-2645ad18e7c2",
   "metadata": {},
   "outputs": [],
   "source": [
    "# run this cell to execute the script #\n",
    "\n",
    "!python3.9 advobs202302_s02_06_03.py"
   ]
  },
  {
   "cell_type": "markdown",
   "id": "a8762a5c-a732-4562-a69a-1a8d20e92fa3",
   "metadata": {},
   "source": [
    "### sample script 07-00 ###"
   ]
  },
  {
   "cell_type": "code",
   "execution_count": null,
   "id": "4cb0b126-885a-413d-adec-f56b6da203da",
   "metadata": {},
   "outputs": [],
   "source": [
    "# run this cell to show the source code #\n",
    "\n",
    "!cat advobs202302_s02_07_00.py"
   ]
  },
  {
   "cell_type": "code",
   "execution_count": null,
   "id": "404ccc55-92b4-4737-91d9-d982ab8dbe79",
   "metadata": {},
   "outputs": [],
   "source": [
    "# run this cell to execute the script #\n",
    "\n",
    "!python3.9 advobs202302_s02_07_00.py"
   ]
  },
  {
   "cell_type": "markdown",
   "id": "ba99fd14-755e-4ff3-a134-301cc790dfc4",
   "metadata": {},
   "source": [
    "### sample script 07-01 ###"
   ]
  },
  {
   "cell_type": "code",
   "execution_count": null,
   "id": "a62fd316-928c-48fb-8f83-3cab6dee65d5",
   "metadata": {},
   "outputs": [],
   "source": [
    "# run this cell to show the source code #\n",
    "\n",
    "!cat advobs202302_s02_07_01.py"
   ]
  },
  {
   "cell_type": "code",
   "execution_count": null,
   "id": "fbfc9563-a180-4c41-8733-ab45d4985fdc",
   "metadata": {},
   "outputs": [],
   "source": [
    "# run this cell to execute the script #\n",
    "\n",
    "!python3.9 advobs202302_s02_07_01.py"
   ]
  },
  {
   "cell_type": "markdown",
   "id": "e2b427d6-d2a2-4750-9b0f-642cf7657d30",
   "metadata": {},
   "source": [
    "### sample script 07-02 ###"
   ]
  },
  {
   "cell_type": "code",
   "execution_count": null,
   "id": "dbec4c13-d86c-42e7-a0da-818a1a7c5fe9",
   "metadata": {},
   "outputs": [],
   "source": [
    "# run this cell to show the source code #\n",
    "\n",
    "!cat advobs202302_s02_07_02.py"
   ]
  },
  {
   "cell_type": "code",
   "execution_count": null,
   "id": "dc418f47-95ae-4d0e-9f6e-d28b6f4cf1dc",
   "metadata": {},
   "outputs": [],
   "source": [
    "# run this cell to execute the script #\n",
    "\n",
    "!python3.9 advobs202302_s02_07_02.py"
   ]
  },
  {
   "cell_type": "markdown",
   "id": "b45abbb2-c130-47ca-8d69-7a1b4fcc19a7",
   "metadata": {},
   "source": [
    "### sample script 07-03 ###"
   ]
  },
  {
   "cell_type": "code",
   "execution_count": null,
   "id": "c0c4a6d8-68ea-4ba7-991b-955612e12ccd",
   "metadata": {},
   "outputs": [],
   "source": [
    "# run this cell to show the source code #\n",
    "\n",
    "!cat advobs202302_s02_07_03.py"
   ]
  },
  {
   "cell_type": "code",
   "execution_count": null,
   "id": "e7b689f8-f532-4dd8-b3a5-700560d0f64e",
   "metadata": {},
   "outputs": [],
   "source": [
    "# run this cell to execute the script #\n",
    "\n",
    "!python3.9 advobs202302_s02_07_03.py"
   ]
  },
  {
   "cell_type": "markdown",
   "id": "72127229-1b19-4cfc-99d3-ec414838dc46",
   "metadata": {},
   "source": [
    "### end of this notebook ###"
   ]
  },
  {
   "cell_type": "code",
   "execution_count": null,
   "id": "f7286d62-09ab-4b49-8fbb-aa61f85c5991",
   "metadata": {},
   "outputs": [],
   "source": []
  }
 ],
 "metadata": {
  "kernelspec": {
   "display_name": "Python 3 (ipykernel)",
   "language": "python",
   "name": "python3"
  },
  "language_info": {
   "codemirror_mode": {
    "name": "ipython",
    "version": 3
   },
   "file_extension": ".py",
   "mimetype": "text/x-python",
   "name": "python",
   "nbconvert_exporter": "python",
   "pygments_lexer": "ipython3",
   "version": "3.9.16"
  }
 },
 "nbformat": 4,
 "nbformat_minor": 5
}
