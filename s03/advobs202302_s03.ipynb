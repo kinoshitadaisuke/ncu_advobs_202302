{
 "cells": [
  {
   "cell_type": "markdown",
   "id": "ef785025-b241-4c5b-9a19-ee0eec6280d0",
   "metadata": {},
   "source": [
    "# Advanced Astronomical Observations #\n",
    "\n",
    "## 2nd semester, academic year 2022 (from Feb/2023 to Jun/2023) ##\n",
    "\n",
    "## Session 03: Using Matplotlib ##\n",
    "\n",
    "## Kinoshita Daisuke ##\n",
    "\n",
    "## Institute of Astronomy, National Central University ##"
   ]
  },
  {
   "cell_type": "markdown",
   "id": "540f2321-461f-4927-89cc-38363f6d36bb",
   "metadata": {},
   "source": [
    "### Sample script 00-00 ###"
   ]
  },
  {
   "cell_type": "code",
   "execution_count": null,
   "id": "ec925987-41de-44a4-911b-aa9f5add1071",
   "metadata": {},
   "outputs": [],
   "source": [
    "# run this cell to show the source code of the script #\n",
    "\n",
    "!cat advobs202302_s03_00_00.py"
   ]
  },
  {
   "cell_type": "code",
   "execution_count": null,
   "id": "06b45297-b5c5-4ff6-964b-f227bef5384d",
   "metadata": {},
   "outputs": [],
   "source": [
    "# run this cell to execute the script #\n",
    "\n",
    "!python3.9 advobs202302_s03_00_00.py"
   ]
  },
  {
   "cell_type": "code",
   "execution_count": null,
   "id": "567d6ee6-d7e2-4db0-98b7-1a6ad7f19bac",
   "metadata": {},
   "outputs": [],
   "source": [
    "# run this cell to display the plot #\n",
    "\n",
    "import IPython.display\n",
    "\n",
    "IPython.display.Image ('advobs202302_s03_00_00.png')"
   ]
  },
  {
   "cell_type": "markdown",
   "id": "432d959d-2d7d-46c3-aff0-9618b93aaa80",
   "metadata": {},
   "source": [
    "### Sample script 00-01 ###"
   ]
  },
  {
   "cell_type": "code",
   "execution_count": null,
   "id": "3aea2b39-b075-4626-89c4-61282bf927c3",
   "metadata": {},
   "outputs": [],
   "source": [
    "# run this cell to show the source code of the script #\n",
    "\n",
    "!cat advobs202302_s03_00_01.py"
   ]
  },
  {
   "cell_type": "code",
   "execution_count": null,
   "id": "c110559f-ac5c-436e-b8bc-73fc9899c59b",
   "metadata": {},
   "outputs": [],
   "source": [
    "# run this cell to execute the script #\n",
    "\n",
    "!python3.9 advobs202302_s03_00_01.py"
   ]
  },
  {
   "cell_type": "code",
   "execution_count": null,
   "id": "8ad770be-caac-466c-be90-5ff83cb3bf1e",
   "metadata": {},
   "outputs": [],
   "source": [
    "# run this cell to display the plot #\n",
    "\n",
    "import IPython.display\n",
    "\n",
    "IPython.display.Image ('advobs202302_s03_00_01.png')"
   ]
  },
  {
   "cell_type": "markdown",
   "id": "251d7ada-c8de-4738-b9a6-61cf275c59bd",
   "metadata": {},
   "source": [
    "### Sample script 00-02 ###"
   ]
  },
  {
   "cell_type": "code",
   "execution_count": null,
   "id": "3b657b5e-edb1-4624-a85a-be0ac5e128e3",
   "metadata": {},
   "outputs": [],
   "source": [
    "# run this cell to show the source code of the script #\n",
    "\n",
    "!cat advobs202302_s03_00_02.py"
   ]
  },
  {
   "cell_type": "code",
   "execution_count": null,
   "id": "97181e6d-460a-420b-bef8-14a65c28f794",
   "metadata": {},
   "outputs": [],
   "source": [
    "# run this cell to execute the script #\n",
    "\n",
    "!python3.9 advobs202302_s03_00_02.py"
   ]
  },
  {
   "cell_type": "code",
   "execution_count": null,
   "id": "8bb22367-1676-4eda-bdac-62bbea0d1570",
   "metadata": {},
   "outputs": [],
   "source": [
    "# run this cell to display the plot #\n",
    "\n",
    "import IPython.display\n",
    "\n",
    "IPython.display.Image ('advobs202302_s03_00_02.png')"
   ]
  },
  {
   "cell_type": "markdown",
   "id": "a9370898-5f10-49f8-bf03-9f68f6161b97",
   "metadata": {},
   "source": [
    "### Sample script 00-03 ###"
   ]
  },
  {
   "cell_type": "code",
   "execution_count": null,
   "id": "766f8b5c-b5c0-4b82-a8a0-8f5a9572993e",
   "metadata": {},
   "outputs": [],
   "source": [
    "# run this cell to show the source code of the script #\n",
    "\n",
    "!cat advobs202302_s03_00_03.py"
   ]
  },
  {
   "cell_type": "code",
   "execution_count": null,
   "id": "82223f3a-ab43-4dcb-9553-45a9a1ffe1b9",
   "metadata": {},
   "outputs": [],
   "source": [
    "# run this cell to execute the script #\n",
    "\n",
    "!python3.9 advobs202302_s03_00_03.py"
   ]
  },
  {
   "cell_type": "code",
   "execution_count": null,
   "id": "d5c1c7b8-039a-4f6a-957e-ca8a0e008127",
   "metadata": {},
   "outputs": [],
   "source": [
    "# run this cell to display the plot #\n",
    "\n",
    "import IPython.display\n",
    "\n",
    "IPython.display.Image ('advobs202302_s03_00_03.png')"
   ]
  },
  {
   "cell_type": "markdown",
   "id": "5c17b107-250a-40ac-a319-907f8e512d34",
   "metadata": {},
   "source": [
    "### Sample script 01-00 ###"
   ]
  },
  {
   "cell_type": "code",
   "execution_count": null,
   "id": "ec55e275-27d5-460a-bbf7-32c98bf303f8",
   "metadata": {},
   "outputs": [],
   "source": [
    "# run this cell to show the source code of the script #\n",
    "\n",
    "!cat advobs202302_s03_01_00.py"
   ]
  },
  {
   "cell_type": "code",
   "execution_count": null,
   "id": "c2a9ff72-0bcf-4499-8c28-0f434c4e4202",
   "metadata": {},
   "outputs": [],
   "source": [
    "# run this cell to execute the script #\n",
    "\n",
    "!python3.9 advobs202302_s03_01_00.py"
   ]
  },
  {
   "cell_type": "code",
   "execution_count": null,
   "id": "8c081de0-e462-4cbc-8451-140bff07b943",
   "metadata": {},
   "outputs": [],
   "source": [
    "# run this cell to display the plot #\n",
    "\n",
    "import IPython.display\n",
    "\n",
    "IPython.display.Image ('advobs202302_s03_01_00.png')"
   ]
  },
  {
   "cell_type": "markdown",
   "id": "a44186b4-df4e-4672-8596-7355d1cf6b15",
   "metadata": {},
   "source": [
    "### Sample script 01-01 ###"
   ]
  },
  {
   "cell_type": "code",
   "execution_count": null,
   "id": "ee54c253-20bd-4c04-87da-765fab85550b",
   "metadata": {},
   "outputs": [],
   "source": [
    "# run this cell to show the source code of the script #\n",
    "\n",
    "!cat advobs202302_s03_01_01.py"
   ]
  },
  {
   "cell_type": "code",
   "execution_count": null,
   "id": "f7486d3c-8de8-4e47-8c27-089035a6c00d",
   "metadata": {},
   "outputs": [],
   "source": [
    "# run this cell to execute the script #\n",
    "\n",
    "!python3.9 advobs202302_s03_01_01.py"
   ]
  },
  {
   "cell_type": "code",
   "execution_count": null,
   "id": "a2c3c8f1-fa06-4451-a3be-ab32042c5d1e",
   "metadata": {},
   "outputs": [],
   "source": [
    "# run this cell to display the plot #\n",
    "\n",
    "import IPython.display\n",
    "\n",
    "IPython.display.Image ('advobs202302_s03_01_01.png')"
   ]
  },
  {
   "cell_type": "markdown",
   "id": "542db6c9-adfc-491b-9387-6cd5eff6fa6a",
   "metadata": {},
   "source": [
    "### Sample script 01-02 ###"
   ]
  },
  {
   "cell_type": "code",
   "execution_count": null,
   "id": "8808560d-795e-4d83-ab9d-e74beab2e698",
   "metadata": {},
   "outputs": [],
   "source": [
    "# run this cell to show the source code of the script #\n",
    "\n",
    "!cat advobs202302_s03_01_02.py"
   ]
  },
  {
   "cell_type": "code",
   "execution_count": null,
   "id": "339e2489-84bd-46df-9286-c5e28245d682",
   "metadata": {},
   "outputs": [],
   "source": [
    "# run this cell to execute the script #\n",
    "\n",
    "!python3.9 advobs202302_s03_01_02.py"
   ]
  },
  {
   "cell_type": "code",
   "execution_count": null,
   "id": "9b04b39d-f269-43aa-8e68-f94e2e2cd6df",
   "metadata": {},
   "outputs": [],
   "source": [
    "# run this cell to display the plot #\n",
    "\n",
    "import IPython.display\n",
    "\n",
    "IPython.display.Image ('advobs202302_s03_01_02.png')"
   ]
  },
  {
   "cell_type": "markdown",
   "id": "d244f4fb-39fd-4d97-8e74-98773f6f973f",
   "metadata": {},
   "source": [
    "### Sample script 01-03 ###"
   ]
  },
  {
   "cell_type": "code",
   "execution_count": null,
   "id": "a984d9a2-369d-49cd-9ad0-78d799d91580",
   "metadata": {},
   "outputs": [],
   "source": [
    "# run this cell to show the source code of the script #\n",
    "\n",
    "!cat advobs202302_s03_01_03.py"
   ]
  },
  {
   "cell_type": "code",
   "execution_count": null,
   "id": "e0b1cc38-8f6a-4d68-a6a8-2373b43570bc",
   "metadata": {},
   "outputs": [],
   "source": [
    "# run this cell to execute the script #\n",
    "\n",
    "!python3.9 advobs202302_s03_01_03.py"
   ]
  },
  {
   "cell_type": "code",
   "execution_count": null,
   "id": "04f56829-3298-433d-ae56-0e0d3c1a425a",
   "metadata": {},
   "outputs": [],
   "source": [
    "# run this cell to display the plot #\n",
    "\n",
    "import IPython.display\n",
    "\n",
    "IPython.display.Image ('advobs202302_s03_01_03.png')"
   ]
  },
  {
   "cell_type": "markdown",
   "id": "479fa4aa-ef81-4cd9-9f33-254b72447e1a",
   "metadata": {},
   "source": [
    "### Sample script 01-04 ###"
   ]
  },
  {
   "cell_type": "code",
   "execution_count": null,
   "id": "92365732-d1b9-4cee-82f3-f1d4e21f795a",
   "metadata": {},
   "outputs": [],
   "source": [
    "# run this cell to show the source code of the script #\n",
    "\n",
    "!cat advobs202302_s03_01_04.py"
   ]
  },
  {
   "cell_type": "code",
   "execution_count": null,
   "id": "89ba23d8-8cc9-47fc-b43a-3f6b0e529c62",
   "metadata": {},
   "outputs": [],
   "source": [
    "# run this cell to execute the script #\n",
    "\n",
    "!python3.9 advobs202302_s03_01_04.py"
   ]
  },
  {
   "cell_type": "code",
   "execution_count": null,
   "id": "2049b9c1-fb0c-41e1-a18f-5506c49a245a",
   "metadata": {},
   "outputs": [],
   "source": [
    "# run this cell to display the plot #\n",
    "\n",
    "import IPython.display\n",
    "\n",
    "IPython.display.Image ('advobs202302_s03_01_04.png')"
   ]
  },
  {
   "cell_type": "markdown",
   "id": "d2a73b65-68bc-40c5-804b-37572e9d1de5",
   "metadata": {},
   "source": [
    "### Sample script 01-05 ###"
   ]
  },
  {
   "cell_type": "code",
   "execution_count": null,
   "id": "9aa0fc6f-1d7d-4584-b705-fa1d8c7787cf",
   "metadata": {},
   "outputs": [],
   "source": [
    "# run this cell to show the source code of the script #\n",
    "\n",
    "!cat advobs202302_s03_01_05.py"
   ]
  },
  {
   "cell_type": "code",
   "execution_count": null,
   "id": "ec8edea4-da6f-4221-866b-fb04ead78134",
   "metadata": {},
   "outputs": [],
   "source": [
    "# run this cell to execute the script #\n",
    "\n",
    "!python3.9 advobs202302_s03_01_05.py"
   ]
  },
  {
   "cell_type": "code",
   "execution_count": null,
   "id": "d50e4d45-3489-4eb3-9896-cf38276c04b2",
   "metadata": {},
   "outputs": [],
   "source": [
    "# run this cell to display the plot #\n",
    "\n",
    "import IPython.display\n",
    "\n",
    "IPython.display.Image ('advobs202302_s03_01_05.png')"
   ]
  },
  {
   "cell_type": "markdown",
   "id": "9c3d295d-74a4-4657-a22b-595f4169d751",
   "metadata": {},
   "source": [
    "### Sample script 02-00 ###"
   ]
  },
  {
   "cell_type": "code",
   "execution_count": null,
   "id": "bef0c651-f13c-4904-a4c5-c37aa8022ed4",
   "metadata": {},
   "outputs": [],
   "source": [
    "# run this cell to show the source code of the script #\n",
    "\n",
    "!cat advobs202302_s03_02_00.py"
   ]
  },
  {
   "cell_type": "code",
   "execution_count": null,
   "id": "134b7db4-0123-41f7-a92f-23f131b324b2",
   "metadata": {},
   "outputs": [],
   "source": [
    "# run this cell to execute the script #\n",
    "\n",
    "!python3.9 advobs202302_s03_02_00.py"
   ]
  },
  {
   "cell_type": "code",
   "execution_count": null,
   "id": "111696b4-a4c9-4702-8109-2042122e5f96",
   "metadata": {},
   "outputs": [],
   "source": [
    "# run this cell to display the plot #\n",
    "\n",
    "import IPython.display\n",
    "\n",
    "IPython.display.Image ('advobs202302_s03_02_00.png')"
   ]
  },
  {
   "cell_type": "markdown",
   "id": "f3a5daea-33d3-4e1b-95d4-3c4697edc182",
   "metadata": {},
   "source": [
    "### Sample script 02-01 ###"
   ]
  },
  {
   "cell_type": "code",
   "execution_count": null,
   "id": "7d22e0a2-c323-4ddf-abfc-15e8a7514cf3",
   "metadata": {},
   "outputs": [],
   "source": [
    "# run this cell to show the source code of the script #\n",
    "\n",
    "!cat advobs202302_s03_02_01.py"
   ]
  },
  {
   "cell_type": "code",
   "execution_count": null,
   "id": "3c87270a-9402-4651-a738-ee0afaaaeba2",
   "metadata": {},
   "outputs": [],
   "source": [
    "# run this cell to execute the script #\n",
    "\n",
    "!python3.9 advobs202302_s03_02_01.py"
   ]
  },
  {
   "cell_type": "code",
   "execution_count": null,
   "id": "104c4bbb-9df3-426f-a7ce-42537603efd5",
   "metadata": {},
   "outputs": [],
   "source": [
    "# run this cell to display the plot #\n",
    "\n",
    "import IPython.display\n",
    "\n",
    "IPython.display.Image ('advobs202302_s03_02_01.png')"
   ]
  },
  {
   "cell_type": "markdown",
   "id": "e4d454df-fe5f-4ed9-8002-86f29e3b85df",
   "metadata": {},
   "source": [
    "### Sample script 02-02 ###"
   ]
  },
  {
   "cell_type": "code",
   "execution_count": null,
   "id": "37743368-bd44-4c03-9632-c7e6baa9c0b7",
   "metadata": {},
   "outputs": [],
   "source": [
    "# run this cell to show the source code of the script #\n",
    "\n",
    "!cat advobs202302_s03_02_02.py"
   ]
  },
  {
   "cell_type": "code",
   "execution_count": null,
   "id": "2b85a126-5795-4f3a-91da-f205622df530",
   "metadata": {},
   "outputs": [],
   "source": [
    "# run this cell to execute the script #\n",
    "\n",
    "!python3.9 advobs202302_s03_02_02.py"
   ]
  },
  {
   "cell_type": "code",
   "execution_count": null,
   "id": "5d19bf43-b17e-4922-aeb3-75f87899d373",
   "metadata": {},
   "outputs": [],
   "source": [
    "# run this cell to display the plot #\n",
    "\n",
    "import IPython.display\n",
    "\n",
    "IPython.display.Image ('advobs202302_s03_02_02.png')"
   ]
  },
  {
   "cell_type": "markdown",
   "id": "7be3a064-5720-4e3d-80b5-1aa0ec3850e9",
   "metadata": {},
   "source": [
    "### Sample script 02-03 ###"
   ]
  },
  {
   "cell_type": "code",
   "execution_count": null,
   "id": "7a0d545d-ed5d-4313-b0e9-028a31fcc240",
   "metadata": {},
   "outputs": [],
   "source": [
    "# run this cell to show the source code of the script #\n",
    "\n",
    "!cat advobs202302_s03_02_03.py"
   ]
  },
  {
   "cell_type": "code",
   "execution_count": null,
   "id": "d43ccd39-fd00-448d-a5b0-bb43964129d3",
   "metadata": {},
   "outputs": [],
   "source": [
    "# run this cell to execute the script #\n",
    "\n",
    "!python3.9 advobs202302_s03_02_03.py"
   ]
  },
  {
   "cell_type": "code",
   "execution_count": null,
   "id": "a758961c-b275-4c83-8d12-5296d835a692",
   "metadata": {},
   "outputs": [],
   "source": [
    "# run this cell to display the plot #\n",
    "\n",
    "import IPython.display\n",
    "\n",
    "IPython.display.Image ('advobs202302_s03_02_03.png')"
   ]
  },
  {
   "cell_type": "markdown",
   "id": "32f57c4d-ab95-4073-b5ae-12e10e5fb2bc",
   "metadata": {},
   "source": [
    "### Sample script 03-00 ###"
   ]
  },
  {
   "cell_type": "code",
   "execution_count": null,
   "id": "bda7ada0-d2f7-40ca-a5ea-b7ce4508c7f4",
   "metadata": {},
   "outputs": [],
   "source": [
    "# run this cell to show the source code of the script #\n",
    "\n",
    "!cat advobs202302_s03_03_00.py"
   ]
  },
  {
   "cell_type": "code",
   "execution_count": null,
   "id": "a9957044-99b1-4987-8d7e-38c5a2e16a20",
   "metadata": {},
   "outputs": [],
   "source": [
    "# run this cell to execute the script #\n",
    "\n",
    "!python3.9 advobs202302_s03_03_00.py"
   ]
  },
  {
   "cell_type": "code",
   "execution_count": null,
   "id": "25b349fc-abff-4dcc-b0b2-5c549781a0f3",
   "metadata": {},
   "outputs": [],
   "source": [
    "# run this cell to display the plot #\n",
    "\n",
    "import IPython.display\n",
    "\n",
    "IPython.display.Image ('advobs202302_s03_03_00.png')"
   ]
  },
  {
   "cell_type": "markdown",
   "id": "cdb064ee-d252-48da-a9c8-f918d9bea77e",
   "metadata": {},
   "source": [
    "### Sample script 03-01 ###"
   ]
  },
  {
   "cell_type": "code",
   "execution_count": null,
   "id": "9d9963da-c0d1-493a-af14-9a90dfbb889c",
   "metadata": {},
   "outputs": [],
   "source": [
    "# run this cell to show the source code of the script #\n",
    "\n",
    "!cat advobs202302_s03_03_01.py"
   ]
  },
  {
   "cell_type": "code",
   "execution_count": null,
   "id": "8dd78c89-6436-4c47-a935-3eabca95098d",
   "metadata": {},
   "outputs": [],
   "source": [
    "# run this cell to execute the script #\n",
    "\n",
    "!python3.9 advobs202302_s03_03_01.py"
   ]
  },
  {
   "cell_type": "code",
   "execution_count": null,
   "id": "36ea84a3-68af-4c50-8412-38ef3fd59815",
   "metadata": {},
   "outputs": [],
   "source": [
    "# run this cell to display the plot #\n",
    "\n",
    "import IPython.display\n",
    "\n",
    "IPython.display.Image ('advobs202302_s03_03_01.png')"
   ]
  },
  {
   "cell_type": "markdown",
   "id": "21d15423-8a47-475d-80f6-00931a32602d",
   "metadata": {},
   "source": [
    "### Sample script 03-02 ###"
   ]
  },
  {
   "cell_type": "code",
   "execution_count": null,
   "id": "ef3de2fc-c551-4ddc-8172-4c002279ed10",
   "metadata": {},
   "outputs": [],
   "source": [
    "# run this cell to show the source code of the script #\n",
    "\n",
    "!cat advobs202302_s03_03_02.py"
   ]
  },
  {
   "cell_type": "code",
   "execution_count": null,
   "id": "012b854e-6c1b-4e65-bec9-9da046164b9e",
   "metadata": {},
   "outputs": [],
   "source": [
    "# run this cell to execute the script #\n",
    "\n",
    "!python3.9 advobs202302_s03_03_02.py"
   ]
  },
  {
   "cell_type": "code",
   "execution_count": null,
   "id": "eee45c62-6dc0-4e95-8e7b-f616236ee816",
   "metadata": {},
   "outputs": [],
   "source": [
    "# run this cell to display the plot #\n",
    "\n",
    "import IPython.display\n",
    "\n",
    "IPython.display.Image ('advobs202302_s03_03_02.png')"
   ]
  },
  {
   "cell_type": "markdown",
   "id": "ea18386d-c5bc-4518-9e11-a8108cba5bbe",
   "metadata": {},
   "source": [
    "### Sample script 04-00 ###"
   ]
  },
  {
   "cell_type": "code",
   "execution_count": null,
   "id": "16b9a6a2-ffec-4d93-89d9-5c32add34ff9",
   "metadata": {},
   "outputs": [],
   "source": [
    "# run this cell to show the source code of the script #\n",
    "\n",
    "!cat advobs202302_s03_04_00.py"
   ]
  },
  {
   "cell_type": "code",
   "execution_count": null,
   "id": "c9246302-baa2-450d-82f8-4ffee260acc4",
   "metadata": {},
   "outputs": [],
   "source": [
    "# run this cell to execute the script #\n",
    "\n",
    "!python3.9 advobs202302_s03_04_00.py"
   ]
  },
  {
   "cell_type": "code",
   "execution_count": null,
   "id": "92761826-ab9c-4bbe-8bf8-8fa63bb8c282",
   "metadata": {},
   "outputs": [],
   "source": [
    "# run this cell to display the plot #\n",
    "\n",
    "import IPython.display\n",
    "\n",
    "IPython.display.Image ('advobs202302_s03_04_00.png')"
   ]
  },
  {
   "cell_type": "markdown",
   "id": "70cffde3-21a5-440f-bb26-523a768e6d24",
   "metadata": {},
   "source": [
    "### Sample script 04-01 ###"
   ]
  },
  {
   "cell_type": "code",
   "execution_count": null,
   "id": "6b40b425-58c1-421a-aceb-4ce84a74c9d5",
   "metadata": {},
   "outputs": [],
   "source": [
    "# run this cell to show the source code of the script #\n",
    "\n",
    "!cat advobs202302_s03_04_01.py"
   ]
  },
  {
   "cell_type": "code",
   "execution_count": null,
   "id": "9539e22a-be5c-4da5-8b24-bad24d3bead5",
   "metadata": {},
   "outputs": [],
   "source": [
    "# run this cell to execute the script #\n",
    "\n",
    "!python3.9 advobs202302_s03_04_01.py"
   ]
  },
  {
   "cell_type": "code",
   "execution_count": null,
   "id": "cb8d1548-5489-42cd-8f7e-4edf10f20447",
   "metadata": {},
   "outputs": [],
   "source": [
    "# run this cell to display the plot #\n",
    "\n",
    "import IPython.display\n",
    "\n",
    "IPython.display.Image ('advobs202302_s03_04_01.png')"
   ]
  },
  {
   "cell_type": "markdown",
   "id": "0f2ffb05-4d3d-45e6-b7f7-758a3acf355a",
   "metadata": {},
   "source": [
    "### Sample script 05-00 ###"
   ]
  },
  {
   "cell_type": "code",
   "execution_count": null,
   "id": "fcf5d662-dcd7-4595-ad68-795ffaf5f76f",
   "metadata": {},
   "outputs": [],
   "source": [
    "# run this cell to show the source code of the script #\n",
    "\n",
    "!cat advobs202302_s03_05_00.py"
   ]
  },
  {
   "cell_type": "code",
   "execution_count": null,
   "id": "c2875b76-2bf6-46a9-b011-19db803fe99c",
   "metadata": {},
   "outputs": [],
   "source": [
    "# run this cell to execute the script #\n",
    "\n",
    "!python3.9 advobs202302_s03_05_00.py"
   ]
  },
  {
   "cell_type": "code",
   "execution_count": null,
   "id": "6fbd3680-b26b-4b40-aeef-2c607f1aa74b",
   "metadata": {},
   "outputs": [],
   "source": [
    "# run this cell to display the plot #\n",
    "\n",
    "import IPython.display\n",
    "\n",
    "IPython.display.Image ('advobs202302_s03_05_00.png')"
   ]
  },
  {
   "cell_type": "markdown",
   "id": "4b7b19c2-0584-4e75-8d24-4f9d8bd749f5",
   "metadata": {},
   "source": [
    "### Sample script 05-01 ###"
   ]
  },
  {
   "cell_type": "code",
   "execution_count": null,
   "id": "1ddc9cba-6195-4a96-94ee-306dcf304b26",
   "metadata": {},
   "outputs": [],
   "source": [
    "# run this cell to show the source code of the script #\n",
    "\n",
    "!cat advobs202302_s03_05_01.py"
   ]
  },
  {
   "cell_type": "code",
   "execution_count": null,
   "id": "8d86d4cc-0414-4711-8592-55fa584aaca4",
   "metadata": {},
   "outputs": [],
   "source": [
    "# run this cell to execute the script #\n",
    "\n",
    "!python3.9 advobs202302_s03_05_01.py"
   ]
  },
  {
   "cell_type": "code",
   "execution_count": null,
   "id": "e2f2c5de-c5ee-4366-b8f1-8542a6d4f9dd",
   "metadata": {},
   "outputs": [],
   "source": [
    "# run this cell to display the plot #\n",
    "\n",
    "import IPython.display\n",
    "\n",
    "IPython.display.Image ('advobs202302_s03_05_01.png')"
   ]
  },
  {
   "cell_type": "markdown",
   "id": "41b01b1a-b436-4cce-895a-4c113e5f64ac",
   "metadata": {},
   "source": [
    "### Sample script 05-02 ###"
   ]
  },
  {
   "cell_type": "code",
   "execution_count": null,
   "id": "340c9bd4-4cbf-4188-ae33-9c3e1f316e0c",
   "metadata": {},
   "outputs": [],
   "source": [
    "# run this cell to show the source code of the script #\n",
    "\n",
    "!cat advobs202302_s03_05_02.py"
   ]
  },
  {
   "cell_type": "code",
   "execution_count": null,
   "id": "955cd5b2-49d1-4231-abfa-41b5c296dbe3",
   "metadata": {},
   "outputs": [],
   "source": [
    "# run this cell to execute the script #\n",
    "\n",
    "!python3.9 advobs202302_s03_05_02.py"
   ]
  },
  {
   "cell_type": "code",
   "execution_count": null,
   "id": "e6a81a24-d4a4-4d58-8b75-e75468e95d8f",
   "metadata": {},
   "outputs": [],
   "source": [
    "# run this cell to display the plot #\n",
    "\n",
    "import IPython.display\n",
    "\n",
    "IPython.display.Image ('advobs202302_s03_05_02.png')"
   ]
  },
  {
   "cell_type": "markdown",
   "id": "558e7913-f5f1-4c46-8596-a64df0a87dcc",
   "metadata": {},
   "source": [
    "### Sample script 06-00 ###"
   ]
  },
  {
   "cell_type": "code",
   "execution_count": null,
   "id": "d84fb844-4d30-4864-ad4e-8420362db8f5",
   "metadata": {},
   "outputs": [],
   "source": [
    "# run this cell to show the source code of the script #\n",
    "\n",
    "!cat advobs202302_s03_06_00.py"
   ]
  },
  {
   "cell_type": "code",
   "execution_count": null,
   "id": "77b5425e-6057-4d6f-8871-f4408736587d",
   "metadata": {},
   "outputs": [],
   "source": [
    "# run this cell to execute the script #\n",
    "\n",
    "!python3.9 advobs202302_s03_06_00.py"
   ]
  },
  {
   "cell_type": "code",
   "execution_count": null,
   "id": "70654cd4-48e7-4259-ac33-623eb621bd7c",
   "metadata": {},
   "outputs": [],
   "source": [
    "# run this cell to display the plot #\n",
    "\n",
    "import IPython.display\n",
    "\n",
    "IPython.display.Image ('advobs202302_s03_06_00.png')"
   ]
  },
  {
   "cell_type": "markdown",
   "id": "dfd464f0-6c14-4ec3-8234-162634099ab4",
   "metadata": {},
   "source": [
    "### Sample script 06-00 ###"
   ]
  },
  {
   "cell_type": "code",
   "execution_count": null,
   "id": "5311cd41-7546-486e-9fd4-c4ece17a43d7",
   "metadata": {},
   "outputs": [],
   "source": [
    "# run this cell to show the source code of the script #\n",
    "\n",
    "!cat advobs202302_s03_06_00.py"
   ]
  },
  {
   "cell_type": "code",
   "execution_count": null,
   "id": "9bfdcff7-bb5d-4101-8cb8-3f8f0914aaa5",
   "metadata": {},
   "outputs": [],
   "source": [
    "# run this cell to execute the script #\n",
    "\n",
    "!python3.9 advobs202302_s03_06_00.py"
   ]
  },
  {
   "cell_type": "code",
   "execution_count": null,
   "id": "2448bb24-ed40-4f6a-8844-f1b7931caa88",
   "metadata": {},
   "outputs": [],
   "source": [
    "# run this cell to check downloaded file #\n",
    "\n",
    "!ls -lF *.data\n",
    "\n",
    "!file alf_ori.data\n",
    "\n",
    "!head alf_ori.data"
   ]
  },
  {
   "cell_type": "markdown",
   "id": "84dbce9b-a2f1-4146-b7f9-549ad2ab0080",
   "metadata": {},
   "source": [
    "### Sample script 06-01 ###"
   ]
  },
  {
   "cell_type": "code",
   "execution_count": null,
   "id": "ff741f09-ff70-4ba2-af84-0f8d0ef75275",
   "metadata": {},
   "outputs": [],
   "source": [
    "# run this cell to show the source code of the script #\n",
    "\n",
    "!cat advobs202302_s03_06_01.py"
   ]
  },
  {
   "cell_type": "code",
   "execution_count": null,
   "id": "508bfb6b-ecb1-475c-9873-64a22ab60be0",
   "metadata": {},
   "outputs": [],
   "source": [
    "# run this cell to execute the script #\n",
    "\n",
    "!python3.9 advobs202302_s03_06_01.py"
   ]
  },
  {
   "cell_type": "markdown",
   "id": "0f9192ff-7257-4197-ac1b-3c419ed5a1e5",
   "metadata": {},
   "source": [
    "### Sample script 06-02 ###"
   ]
  },
  {
   "cell_type": "code",
   "execution_count": null,
   "id": "7555189b-0baa-47a4-af4c-c343a7891665",
   "metadata": {},
   "outputs": [],
   "source": [
    "# run this cell to show the source code of the script #\n",
    "\n",
    "!cat advobs202302_s03_06_02.py"
   ]
  },
  {
   "cell_type": "code",
   "execution_count": null,
   "id": "937470e8-068f-4679-833e-63ca51bdf6ab",
   "metadata": {},
   "outputs": [],
   "source": [
    "# run this cell to execute the script #\n",
    "\n",
    "!python3.9 advobs202302_s03_06_02.py"
   ]
  },
  {
   "cell_type": "code",
   "execution_count": null,
   "id": "85f6ec1d-d493-4250-b5a4-7572d0da99f6",
   "metadata": {},
   "outputs": [],
   "source": [
    "# run this cell to display the plot #\n",
    "\n",
    "import IPython.display\n",
    "\n",
    "IPython.display.Image ('advobs202302_s03_06_02.png')"
   ]
  },
  {
   "cell_type": "markdown",
   "id": "d7c006a1-9912-4c41-9f73-9d966c33a17e",
   "metadata": {},
   "source": [
    "### Sample script 06-03 ###"
   ]
  },
  {
   "cell_type": "code",
   "execution_count": null,
   "id": "98839cf2-f3e7-4b6d-a39e-86a2becf93c8",
   "metadata": {},
   "outputs": [],
   "source": [
    "# run this cell to show the source code of the script #\n",
    "\n",
    "!cat advobs202302_s03_06_03.py"
   ]
  },
  {
   "cell_type": "code",
   "execution_count": null,
   "id": "48c978a5-86d0-4f88-b97e-cb546822e844",
   "metadata": {},
   "outputs": [],
   "source": [
    "# run this cell to execute the script #\n",
    "\n",
    "!python3.9 advobs202302_s03_06_03.py"
   ]
  },
  {
   "cell_type": "code",
   "execution_count": null,
   "id": "94a6b647-dd9c-4d0d-95c1-62da525f8e6a",
   "metadata": {},
   "outputs": [],
   "source": [
    "# run this cell to display the plot #\n",
    "\n",
    "import IPython.display\n",
    "\n",
    "IPython.display.Image ('advobs202302_s03_06_03.png')"
   ]
  },
  {
   "cell_type": "markdown",
   "id": "ff8a1b5e-6b08-448e-8e68-a5d71a805f23",
   "metadata": {},
   "source": [
    "### Sample script 07-00 ###"
   ]
  },
  {
   "cell_type": "code",
   "execution_count": null,
   "id": "5b57a78d-e23e-4204-b925-d07997340ad1",
   "metadata": {},
   "outputs": [],
   "source": [
    "# run this cell to show the source code of the script #\n",
    "\n",
    "!cat advobs202302_s03_07_00.py"
   ]
  },
  {
   "cell_type": "code",
   "execution_count": null,
   "id": "80aa4c48-722a-4f24-b312-a6a067224559",
   "metadata": {},
   "outputs": [],
   "source": [
    "# run this cell to execute the script #\n",
    "\n",
    "!python3.9 advobs202302_s03_07_00.py"
   ]
  },
  {
   "cell_type": "markdown",
   "id": "147ff590-8f7c-49a0-8ded-4cd20fef895f",
   "metadata": {},
   "source": [
    "### Sample script 07-01 ###"
   ]
  },
  {
   "cell_type": "code",
   "execution_count": null,
   "id": "f10d3927-a943-4812-a3d5-33a71b133429",
   "metadata": {},
   "outputs": [],
   "source": [
    "# run this cell to show the source code of the script #\n",
    "\n",
    "!cat advobs202302_s03_07_01.py"
   ]
  },
  {
   "cell_type": "code",
   "execution_count": null,
   "id": "f7857fa9-9ef0-4887-aaf1-73b832b1cf32",
   "metadata": {},
   "outputs": [],
   "source": [
    "# run this cell to execute the script #\n",
    "\n",
    "!python3.9 advobs202302_s03_07_01.py"
   ]
  },
  {
   "cell_type": "code",
   "execution_count": null,
   "id": "79a67e60-f199-4080-b6e8-b36cf80d6df9",
   "metadata": {},
   "outputs": [],
   "source": [
    "# run this cell to display the plot #\n",
    "\n",
    "import IPython.display\n",
    "\n",
    "IPython.display.Image ('advobs202302_s03_07_01.png')"
   ]
  },
  {
   "cell_type": "markdown",
   "id": "db557ee7-1c51-4c80-82a0-b6e9fc19fe69",
   "metadata": {},
   "source": [
    "### Sample script 07-02 ###"
   ]
  },
  {
   "cell_type": "code",
   "execution_count": null,
   "id": "900076fe-2f94-4a59-9a75-81c19d55c61e",
   "metadata": {},
   "outputs": [],
   "source": [
    "# run this cell to show the source code of the script #\n",
    "\n",
    "!cat advobs202302_s03_07_02.py"
   ]
  },
  {
   "cell_type": "code",
   "execution_count": null,
   "id": "ab5a1b03-4131-4026-969b-d76f7b98a48c",
   "metadata": {},
   "outputs": [],
   "source": [
    "# run this cell to execute the script #\n",
    "\n",
    "!python3.9 advobs202302_s03_07_02.py"
   ]
  },
  {
   "cell_type": "code",
   "execution_count": null,
   "id": "e38099dc-d943-44f5-a46f-3b9209bfaecd",
   "metadata": {},
   "outputs": [],
   "source": [
    "# run this cell to display the plot #\n",
    "\n",
    "import IPython.display\n",
    "\n",
    "IPython.display.Image ('advobs202302_s03_07_02.png')"
   ]
  },
  {
   "cell_type": "markdown",
   "id": "03d14872-211d-4ad2-82fd-cf06b4de9eac",
   "metadata": {},
   "source": [
    "### Sample script 08-00 ###"
   ]
  },
  {
   "cell_type": "code",
   "execution_count": null,
   "id": "e3e37e56-8785-4e34-9c01-bf29d71494ca",
   "metadata": {},
   "outputs": [],
   "source": [
    "# run this cell to show the source code of the script #\n",
    "\n",
    "!cat advobs202302_s03_08_00.py"
   ]
  },
  {
   "cell_type": "code",
   "execution_count": null,
   "id": "7c124064-9d34-4792-84d8-569fdcafc9b6",
   "metadata": {},
   "outputs": [],
   "source": [
    "# run this cell to execute the script #\n",
    "\n",
    "!python3.9 advobs202302_s03_08_00.py"
   ]
  },
  {
   "cell_type": "code",
   "execution_count": null,
   "id": "f68629b0-691e-4264-85e1-b0d0f6f59d97",
   "metadata": {},
   "outputs": [],
   "source": [
    "# run this cell to check downloaded file #\n",
    "\n",
    "!ls -lF catalog.gz\n",
    "\n",
    "!file catalog.gz"
   ]
  },
  {
   "cell_type": "markdown",
   "id": "7d136c7a-5585-43bf-bdba-eaa927c2a656",
   "metadata": {},
   "source": [
    "### Sample script 08-01 ###"
   ]
  },
  {
   "cell_type": "code",
   "execution_count": null,
   "id": "97e79810-44bc-402e-9a6d-ff61ea078e21",
   "metadata": {},
   "outputs": [],
   "source": [
    "# run this cell to show the source code of the script #\n",
    "\n",
    "!cat advobs202302_s03_08_01.py"
   ]
  },
  {
   "cell_type": "code",
   "execution_count": null,
   "id": "4294e4a3-c608-43de-b746-7bd134e20a80",
   "metadata": {},
   "outputs": [],
   "source": [
    "# run this cell to execute the script #\n",
    "\n",
    "!python3.9 advobs202302_s03_08_01.py"
   ]
  },
  {
   "cell_type": "markdown",
   "id": "4cbab2f1-2f15-4979-b71b-812e02522abe",
   "metadata": {},
   "source": [
    "### Sample script 08-02 ###"
   ]
  },
  {
   "cell_type": "code",
   "execution_count": null,
   "id": "a210a3d7-84b7-43a7-bcf2-3344f269e476",
   "metadata": {},
   "outputs": [],
   "source": [
    "# run this cell to show the source code of the script #\n",
    "\n",
    "!cat advobs202302_s03_08_02.py"
   ]
  },
  {
   "cell_type": "code",
   "execution_count": null,
   "id": "fa533cc1-c9b1-49cd-8675-9282aa4fb57f",
   "metadata": {},
   "outputs": [],
   "source": [
    "# run this cell to execute the script #\n",
    "\n",
    "!python3.9 advobs202302_s03_08_02.py"
   ]
  },
  {
   "cell_type": "code",
   "execution_count": null,
   "id": "30c2797a-5b35-4c97-84b4-b383ae55cb27",
   "metadata": {},
   "outputs": [],
   "source": [
    "# run this cell to display the plot #\n",
    "\n",
    "import IPython.display\n",
    "\n",
    "IPython.display.Image ('advobs202302_s03_08_02.png')"
   ]
  },
  {
   "cell_type": "markdown",
   "id": "874e5742-9fb8-48f1-b82b-1deceb03f3b5",
   "metadata": {},
   "source": [
    "### Sample script 08-03 ###"
   ]
  },
  {
   "cell_type": "code",
   "execution_count": null,
   "id": "30d5f5a5-b7ac-4854-8bec-d45a4d3f656c",
   "metadata": {},
   "outputs": [],
   "source": [
    "# run this cell to show the source code of the script #\n",
    "\n",
    "!cat advobs202302_s03_08_03.py"
   ]
  },
  {
   "cell_type": "code",
   "execution_count": null,
   "id": "016b43d7-c206-4bf4-a32f-026139c5305d",
   "metadata": {},
   "outputs": [],
   "source": [
    "# run this cell to execute the script #\n",
    "\n",
    "!python3.9 advobs202302_s03_08_03.py"
   ]
  },
  {
   "cell_type": "code",
   "execution_count": null,
   "id": "233f17a4-31ba-4d85-936b-d6b428b6443e",
   "metadata": {},
   "outputs": [],
   "source": [
    "# run this cell to display the plot #\n",
    "\n",
    "import IPython.display\n",
    "\n",
    "IPython.display.Image ('advobs202302_s03_08_03.png')"
   ]
  },
  {
   "cell_type": "markdown",
   "id": "a726a2b6-91dc-454f-9e99-2371fa846308",
   "metadata": {},
   "source": [
    "### Sample script 08-04 ###"
   ]
  },
  {
   "cell_type": "code",
   "execution_count": null,
   "id": "38cd5bb4-c8db-4c16-b2a7-c67d6a591796",
   "metadata": {},
   "outputs": [],
   "source": [
    "# run this cell to show the source code of the script #\n",
    "\n",
    "!cat advobs202302_s03_08_04.py"
   ]
  },
  {
   "cell_type": "code",
   "execution_count": null,
   "id": "8dd2bcdf-dafe-42b7-9340-c4edb581afaf",
   "metadata": {},
   "outputs": [],
   "source": [
    "# run this cell to execute the script #\n",
    "\n",
    "!python3.9 advobs202302_s03_08_04.py"
   ]
  },
  {
   "cell_type": "code",
   "execution_count": null,
   "id": "b92e65a9-6a01-417b-8c79-c6dcd77e25ef",
   "metadata": {},
   "outputs": [],
   "source": [
    "# run this cell to display the plot #\n",
    "\n",
    "import IPython.display\n",
    "\n",
    "IPython.display.Image ('advobs202302_s03_08_04.png')"
   ]
  },
  {
   "cell_type": "markdown",
   "id": "0e9ed65c-1b32-42a2-9bb6-68b9f6c49321",
   "metadata": {},
   "source": [
    "### Sample script 08-05 ###"
   ]
  },
  {
   "cell_type": "code",
   "execution_count": null,
   "id": "3406fbbf-7941-465a-92f8-00aee1712e74",
   "metadata": {},
   "outputs": [],
   "source": [
    "# run this cell to show the source code of the script #\n",
    "\n",
    "!cat advobs202302_s03_08_05.py"
   ]
  },
  {
   "cell_type": "code",
   "execution_count": null,
   "id": "a4046476-3bdc-4415-8add-d3d42dec889f",
   "metadata": {},
   "outputs": [],
   "source": [
    "# run this cell to execute the script #\n",
    "\n",
    "!python3.9 advobs202302_s03_08_05.py"
   ]
  },
  {
   "cell_type": "code",
   "execution_count": null,
   "id": "f58b4d5a-c3b2-425c-aecb-1e54c239942e",
   "metadata": {},
   "outputs": [],
   "source": [
    "# run this cell to display the plot #\n",
    "\n",
    "import IPython.display\n",
    "\n",
    "IPython.display.Image ('advobs202302_s03_08_05.png')"
   ]
  },
  {
   "cell_type": "markdown",
   "id": "e7d8e1e6-c7f3-46c8-b53c-923513b2c22c",
   "metadata": {},
   "source": [
    "### Sample script 09-00 ###"
   ]
  },
  {
   "cell_type": "code",
   "execution_count": null,
   "id": "74c43642-3535-4f5d-a4fb-dc74b10aa5f6",
   "metadata": {},
   "outputs": [],
   "source": [
    "# run this cell to show the source code of the script #\n",
    "\n",
    "!cat advobs202302_s03_09_00.py"
   ]
  },
  {
   "cell_type": "code",
   "execution_count": null,
   "id": "d8e2c8f6-1cf4-4ba6-9a64-d9e895d28363",
   "metadata": {},
   "outputs": [],
   "source": [
    "# run this cell to execute the script #\n",
    "\n",
    "!python3.9 advobs202302_s03_09_00.py"
   ]
  },
  {
   "cell_type": "code",
   "execution_count": null,
   "id": "20a16076-963e-4b39-9d4a-1e33a7c92391",
   "metadata": {},
   "outputs": [],
   "source": [
    "# run this cell to display the plot #\n",
    "\n",
    "import IPython.display\n",
    "\n",
    "IPython.display.Image ('advobs202302_s03_09_00.png')"
   ]
  },
  {
   "cell_type": "markdown",
   "id": "c6ad25fb-6194-4bd2-89ad-5260599299ad",
   "metadata": {},
   "source": [
    "### Sample script 09-01 ###"
   ]
  },
  {
   "cell_type": "code",
   "execution_count": null,
   "id": "3170e7dc-dd92-47ed-a3c2-2d14c942a099",
   "metadata": {},
   "outputs": [],
   "source": [
    "# run this cell to show the source code of the script #\n",
    "\n",
    "!cat advobs202302_s03_09_01.py"
   ]
  },
  {
   "cell_type": "code",
   "execution_count": null,
   "id": "248d690f-1a25-4ffc-998b-08e8520c7ede",
   "metadata": {},
   "outputs": [],
   "source": [
    "# run this cell to execute the script #\n",
    "\n",
    "!python3.9 advobs202302_s03_09_01.py"
   ]
  },
  {
   "cell_type": "code",
   "execution_count": null,
   "id": "233c69d6-96ac-4c36-99b4-1d814f834c26",
   "metadata": {},
   "outputs": [],
   "source": [
    "# run this cell to display the plot #\n",
    "\n",
    "import IPython.display\n",
    "\n",
    "IPython.display.Video ('advobs202302_s03_09_01.mp4')"
   ]
  },
  {
   "cell_type": "markdown",
   "id": "af15e951-290c-4048-9470-004c700bf60a",
   "metadata": {},
   "source": [
    "### Sample script 09-02 ###"
   ]
  },
  {
   "cell_type": "code",
   "execution_count": null,
   "id": "45a6994b-a153-4b51-ba10-6de676d9a652",
   "metadata": {},
   "outputs": [],
   "source": [
    "# run this cell to show the source code of the script #\n",
    "\n",
    "!cat advobs202302_s03_09_02.py"
   ]
  },
  {
   "cell_type": "code",
   "execution_count": null,
   "id": "4a2ee495-ee88-4aa9-9105-0d99222f6d32",
   "metadata": {},
   "outputs": [],
   "source": [
    "# run this cell to execute the script #\n",
    "\n",
    "!python3.9 advobs202302_s03_09_02.py"
   ]
  },
  {
   "cell_type": "markdown",
   "id": "664e9bf1-3079-473b-865d-45aed6e3979a",
   "metadata": {},
   "source": [
    "### Sample script 09-03 ###"
   ]
  },
  {
   "cell_type": "code",
   "execution_count": null,
   "id": "c446284c-1873-4797-9a3e-5b4408509fb2",
   "metadata": {},
   "outputs": [],
   "source": [
    "# run this cell to show the source code of the script #\n",
    "\n",
    "!cat advobs202302_s03_09_03.py"
   ]
  },
  {
   "cell_type": "code",
   "execution_count": null,
   "id": "a8c9a8bf-6cb4-424c-92b3-60ecd3438631",
   "metadata": {},
   "outputs": [],
   "source": [
    "# run this cell to execute the script #\n",
    "\n",
    "!python3.9 advobs202302_s03_09_03.py"
   ]
  },
  {
   "cell_type": "markdown",
   "id": "bcfd2528-116f-410a-b5ce-a406aa4a5726",
   "metadata": {},
   "source": [
    "### Sample script 09-04 ###"
   ]
  },
  {
   "cell_type": "code",
   "execution_count": null,
   "id": "6c3573e8-d225-4f17-b030-3a2be704a94a",
   "metadata": {},
   "outputs": [],
   "source": [
    "# run this cell to show the source code of the script #\n",
    "\n",
    "!cat advobs202302_s03_09_04.py"
   ]
  },
  {
   "cell_type": "code",
   "execution_count": null,
   "id": "b8906a54-1124-4f94-b068-07e709f3042a",
   "metadata": {},
   "outputs": [],
   "source": [
    "# run this cell to execute the script #\n",
    "\n",
    "!python3.9 advobs202302_s03_09_04.py"
   ]
  },
  {
   "cell_type": "code",
   "execution_count": null,
   "id": "b9b25b80-b5ac-4973-ad62-3ec9a0a1810c",
   "metadata": {},
   "outputs": [],
   "source": [
    "# run this cell to display the plot #\n",
    "\n",
    "import IPython.display\n",
    "\n",
    "IPython.display.Image ('advobs202302_s03_09_04.png')"
   ]
  },
  {
   "cell_type": "markdown",
   "id": "e420b9eb-5341-4f8e-b351-0ed64819ed6a",
   "metadata": {},
   "source": [
    "### Sample script 09-05 ###"
   ]
  },
  {
   "cell_type": "code",
   "execution_count": null,
   "id": "f2fc4ccf-f7bf-4733-a951-ce381240e3fb",
   "metadata": {},
   "outputs": [],
   "source": [
    "# run this cell to show the source code of the script #\n",
    "\n",
    "!cat advobs202302_s03_09_05.py"
   ]
  },
  {
   "cell_type": "code",
   "execution_count": null,
   "id": "08636d5f-64e8-4863-b4d1-a1e70ffcff36",
   "metadata": {},
   "outputs": [],
   "source": [
    "# run this cell to execute the script #\n",
    "\n",
    "!python3.9 advobs202302_s03_09_05.py"
   ]
  },
  {
   "cell_type": "code",
   "execution_count": null,
   "id": "026734ea-c039-465a-b04b-d665dcdb1e4a",
   "metadata": {},
   "outputs": [],
   "source": [
    "# run this cell to display the plot #\n",
    "\n",
    "import IPython.display\n",
    "\n",
    "IPython.display.Video ('advobs202302_s03_09_05.mp4')"
   ]
  },
  {
   "cell_type": "markdown",
   "id": "aecc94a7-9d80-4d7f-8c82-2b2f1dcfce7b",
   "metadata": {},
   "source": [
    "### Sample script 10-00 ###"
   ]
  },
  {
   "cell_type": "code",
   "execution_count": null,
   "id": "af23ea98-bcda-46c2-bfcb-c6ecbc988181",
   "metadata": {},
   "outputs": [],
   "source": [
    "# run this cell to show the source code of the script #\n",
    "\n",
    "!cat advobs202302_s03_10_00.py"
   ]
  },
  {
   "cell_type": "code",
   "execution_count": null,
   "id": "8bdabbff-a93d-4593-915a-ac5231f553d7",
   "metadata": {},
   "outputs": [],
   "source": [
    "# run this cell to execute the script #\n",
    "\n",
    "!python3.9 advobs202302_s03_10_00.py"
   ]
  },
  {
   "cell_type": "code",
   "execution_count": null,
   "id": "46159b2a-ea47-46f3-98bc-e97daa4b3f8c",
   "metadata": {},
   "outputs": [],
   "source": [
    "# run this cell to display the plot #\n",
    "\n",
    "import IPython.display\n",
    "\n",
    "IPython.display.Image ('advobs202302_s03_10_00.png')"
   ]
  },
  {
   "cell_type": "markdown",
   "id": "147741b7-b9e0-49a2-b644-a4ac44d9ccae",
   "metadata": {},
   "source": [
    "### Sample script 10-01 ###"
   ]
  },
  {
   "cell_type": "code",
   "execution_count": null,
   "id": "3d3dc70b-48a6-42d7-84e9-0874351f841a",
   "metadata": {},
   "outputs": [],
   "source": [
    "# run this cell to show the source code of the script #\n",
    "\n",
    "!cat advobs202302_s03_10_01.py"
   ]
  },
  {
   "cell_type": "code",
   "execution_count": null,
   "id": "5104d16c-9f54-44e4-ac84-9d5c2c18e525",
   "metadata": {},
   "outputs": [],
   "source": [
    "# run this cell to execute the script #\n",
    "\n",
    "!python3.9 advobs202302_s03_10_01.py"
   ]
  },
  {
   "cell_type": "code",
   "execution_count": null,
   "id": "bda1e99b-2800-4196-a96e-0f82ff36cd30",
   "metadata": {},
   "outputs": [],
   "source": [
    "# run this cell to display the plot #\n",
    "\n",
    "import IPython.display\n",
    "\n",
    "IPython.display.Image ('advobs202302_s03_10_01.png')"
   ]
  },
  {
   "cell_type": "markdown",
   "id": "0ab6a0f7-0cb1-4278-a364-231e8eb870ec",
   "metadata": {},
   "source": [
    "### Sample script 11-00 ###"
   ]
  },
  {
   "cell_type": "code",
   "execution_count": null,
   "id": "9be5336b-61b8-4580-836b-1189906b5f0d",
   "metadata": {},
   "outputs": [],
   "source": [
    "# run this cell to show the source code of the script #\n",
    "\n",
    "!cat advobs202302_s03_11_00.py"
   ]
  },
  {
   "cell_type": "code",
   "execution_count": null,
   "id": "56d8879d-a437-45bf-93af-691cf15e764a",
   "metadata": {},
   "outputs": [],
   "source": [
    "# run this cell to execute the script #\n",
    "\n",
    "!python3.9 advobs202302_s03_11_00.py"
   ]
  },
  {
   "cell_type": "code",
   "execution_count": null,
   "id": "84055a65-9ddd-451a-81e6-ddc3deb25a85",
   "metadata": {},
   "outputs": [],
   "source": [
    "# run this cell to make a movie file #\n",
    "\n",
    "!ffmpeg5 -f image2 -start_number 0 -framerate 30 -i solsys_3d_struct_%06d.png -an -vcodec libx264 -pix_fmt yuv420p -threads 4 solsys_3d_struct.mp4"
   ]
  },
  {
   "cell_type": "code",
   "execution_count": null,
   "id": "9219b02c-a215-4c1e-bf49-9ca45e67ffe9",
   "metadata": {},
   "outputs": [],
   "source": [
    "# run this cell to display the plot #\n",
    "\n",
    "import IPython.display\n",
    "\n",
    "IPython.display.Video ('solsys_3d_struct.mp4')"
   ]
  },
  {
   "cell_type": "markdown",
   "id": "27d7b910-2793-49cb-9f87-e951754fb8e9",
   "metadata": {},
   "source": [
    "### Sample script 11-01 ###"
   ]
  },
  {
   "cell_type": "code",
   "execution_count": null,
   "id": "d36b1591-d8bf-41c8-8755-a66f780a759e",
   "metadata": {},
   "outputs": [],
   "source": [
    "# run this cell to show the source code of the script #\n",
    "\n",
    "!cat advobs202302_s03_11_01.py"
   ]
  },
  {
   "cell_type": "code",
   "execution_count": null,
   "id": "d2aed75a-853f-4750-964e-caf76e1a733c",
   "metadata": {},
   "outputs": [],
   "source": [
    "# run this cell to execute the script #\n",
    "\n",
    "!python3.9 advobs202302_s03_11_01.py"
   ]
  },
  {
   "cell_type": "code",
   "execution_count": null,
   "id": "134c62d3-3f68-4296-8dd8-9cf219af271c",
   "metadata": {},
   "outputs": [],
   "source": [
    "# run this cell to make a movie file #\n",
    "\n",
    "!ffmpeg5 -f image2 -start_number 0 -framerate 30 -i solsys_3d_struct2_%06d.png -an -vcodec libx264 -pix_fmt yuv420p -threads 4 solsys_3d_struct2.mp4"
   ]
  },
  {
   "cell_type": "code",
   "execution_count": null,
   "id": "fb3f40b0-6bb1-4e78-8244-3f72b8aa8c25",
   "metadata": {},
   "outputs": [],
   "source": [
    "# run this cell to display the plot #\n",
    "\n",
    "import IPython.display\n",
    "\n",
    "IPython.display.Video ('solsys_3d_struct2.mp4')"
   ]
  },
  {
   "cell_type": "markdown",
   "id": "bbba6cf0-2b40-4719-ad87-4c53e46d40ac",
   "metadata": {},
   "source": [
    "### Sample script 11-02 ###"
   ]
  },
  {
   "cell_type": "code",
   "execution_count": null,
   "id": "8ad17ac2-8ebd-4ff2-83cf-b5c3c475a8d2",
   "metadata": {},
   "outputs": [],
   "source": [
    "# run this cell to show the source code of the script #\n",
    "\n",
    "!cat advobs202302_s03_11_02.py"
   ]
  },
  {
   "cell_type": "code",
   "execution_count": null,
   "id": "1965aa67-449d-4abc-ba6e-8d803cd6c8d6",
   "metadata": {},
   "outputs": [],
   "source": [
    "# run this cell to execute the script #\n",
    "\n",
    "!python3.9 advobs202302_s03_11_02.py"
   ]
  },
  {
   "cell_type": "code",
   "execution_count": null,
   "id": "f6f4f603-697c-4a13-9811-00b51b02fd09",
   "metadata": {},
   "outputs": [],
   "source": [
    "# run this cell to make a movie file #\n",
    "\n",
    "!ffmpeg5 -f image2 -start_number 0 -framerate 30 -i solsys_3d_struct3_%06d.png -an -vcodec libx264 -pix_fmt yuv420p -threads 4 solsys_3d_struct3.mp4"
   ]
  },
  {
   "cell_type": "code",
   "execution_count": null,
   "id": "ae01579d-83e7-4180-84f5-a68857ddf0de",
   "metadata": {},
   "outputs": [],
   "source": [
    "# run this cell to display the plot #\n",
    "\n",
    "import IPython.display\n",
    "\n",
    "IPython.display.Video ('solsys_3d_struct3.mp4')"
   ]
  },
  {
   "cell_type": "markdown",
   "id": "33760a6f-6dae-4c4a-8fb2-1caeae6d2ab3",
   "metadata": {},
   "source": [
    "### end of this notebook ###"
   ]
  },
  {
   "cell_type": "code",
   "execution_count": null,
   "id": "c67a12ab-b00f-498e-8da7-609b2804357b",
   "metadata": {},
   "outputs": [],
   "source": []
  }
 ],
 "metadata": {
  "kernelspec": {
   "display_name": "Python 3 (ipykernel)",
   "language": "python",
   "name": "python3"
  },
  "language_info": {
   "codemirror_mode": {
    "name": "ipython",
    "version": 3
   },
   "file_extension": ".py",
   "mimetype": "text/x-python",
   "name": "python",
   "nbconvert_exporter": "python",
   "pygments_lexer": "ipython3",
   "version": "3.9.16"
  }
 },
 "nbformat": 4,
 "nbformat_minor": 5
}
