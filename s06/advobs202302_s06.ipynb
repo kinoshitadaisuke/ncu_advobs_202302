{
 "cells": [
  {
   "cell_type": "markdown",
   "id": "288c5ec8-2422-4674-aafc-c882ae010faa",
   "metadata": {},
   "source": [
    "# Advanced Astronomical Observations #\n",
    "\n",
    "## 2nd semester, academic year 2022 ##\n",
    "\n",
    "## from Feb/2023 to Jun/2023 ##\n",
    "\n",
    "## Session 06: Examining Bias Frames ##\n",
    "\n",
    "## Kinoshita Daisuke ##\n",
    "\n",
    "## 24/Mar/2023 ##"
   ]
  },
  {
   "cell_type": "markdown",
   "id": "763b4d97-9937-4b52-9ed9-b0950a019c84",
   "metadata": {},
   "source": [
    "## Downloading data ##"
   ]
  },
  {
   "cell_type": "code",
   "execution_count": null,
   "id": "b00e79d8-0fff-44b6-85c3-6c6951b07e6b",
   "metadata": {},
   "outputs": [],
   "source": [
    "# run this cell to show the source code #\n",
    "\n",
    "!cat advobs202302_s06_00_00.py"
   ]
  },
  {
   "cell_type": "code",
   "execution_count": null,
   "id": "02906cd0-98f4-420c-9c12-614f2229c348",
   "metadata": {},
   "outputs": [],
   "source": [
    "# run this cell to execute the script #\n",
    "\n",
    "!python3.9 advobs202302_s06_00_00.py"
   ]
  },
  {
   "cell_type": "code",
   "execution_count": null,
   "id": "ce0996b3-95f1-45d7-9447-b4814f236993",
   "metadata": {},
   "outputs": [],
   "source": [
    "# run this cell to check downloaded file #\n",
    "\n",
    "!ls -lF data_s06.tar.xz"
   ]
  },
  {
   "cell_type": "code",
   "execution_count": null,
   "id": "825b8048-f5df-45ad-92b7-a9dde08776df",
   "metadata": {},
   "outputs": [],
   "source": [
    "# run this cell to check downloade file #\n",
    "\n",
    "!file data_s06.tar.xz"
   ]
  },
  {
   "cell_type": "markdown",
   "id": "6d66edd2-572a-40bf-aa79-fb77f797bc62",
   "metadata": {},
   "source": [
    "## Extracting data ##"
   ]
  },
  {
   "cell_type": "code",
   "execution_count": null,
   "id": "3d441143-e730-4d16-a00e-0cc3552edeb0",
   "metadata": {},
   "outputs": [],
   "source": [
    "# run this cell to extract data #\n",
    "\n",
    "!tar xJvf data_s06.tar.xz"
   ]
  },
  {
   "cell_type": "code",
   "execution_count": null,
   "id": "0128f659-17c6-4d2d-b4af-1bf4000f20e4",
   "metadata": {},
   "outputs": [],
   "source": [
    "# run this cell to check extracted data #\n",
    "\n",
    "!ls -lF"
   ]
  },
  {
   "cell_type": "code",
   "execution_count": null,
   "id": "50fb6463-52fd-4919-8725-caeaa422cba8",
   "metadata": {},
   "outputs": [],
   "source": [
    "# run this cell to check extracted FITS files #\n",
    "\n",
    "!ls -lF data_s06"
   ]
  },
  {
   "cell_type": "code",
   "execution_count": null,
   "id": "4419f468-78f4-43c0-bb2e-d296417d6c00",
   "metadata": {},
   "outputs": [],
   "source": [
    "# run this cell to check extracted FITS files #\n",
    "\n",
    "!ls -lF data_s06/*.fits | wc"
   ]
  },
  {
   "cell_type": "markdown",
   "id": "4db65f48-e582-4856-9b0a-8d308f9fffdf",
   "metadata": {},
   "source": [
    "## Sample script 01-00 ##"
   ]
  },
  {
   "cell_type": "code",
   "execution_count": null,
   "id": "2b2747a8-4f3b-4fa9-899b-c586bc4a8752",
   "metadata": {},
   "outputs": [],
   "source": [
    "# run this cell to show the source code #\n",
    "\n",
    "!cat advobs202302_s06_01_00.py"
   ]
  },
  {
   "cell_type": "code",
   "execution_count": null,
   "id": "13e7a3bc-f4a9-4f18-b3f2-877bd17d32eb",
   "metadata": {},
   "outputs": [],
   "source": [
    "# run this cell to execute the script #\n",
    "\n",
    "!python3.9 advobs202302_s06_01_00.py -h"
   ]
  },
  {
   "cell_type": "code",
   "execution_count": null,
   "id": "3fc7b85b-51b0-4fef-88b8-65374cb6e830",
   "metadata": {},
   "outputs": [],
   "source": [
    "# run this cell to execute the script #\n",
    "\n",
    "!python3.9 advobs202302_s06_01_00.py data_s06/lot_20210212_0079.fits"
   ]
  },
  {
   "cell_type": "markdown",
   "id": "011fc493-ac63-4b29-a304-07073adb8333",
   "metadata": {},
   "source": [
    "## Sample script 01-01 ##"
   ]
  },
  {
   "cell_type": "code",
   "execution_count": null,
   "id": "e6412385-61b9-40e3-9cda-e84600e7998b",
   "metadata": {},
   "outputs": [],
   "source": [
    "# run this cell to show the source code #\n",
    "\n",
    "!cat advobs202302_s06_01_01.py"
   ]
  },
  {
   "cell_type": "code",
   "execution_count": null,
   "id": "6db91061-4930-4c87-8b30-8d09527d0b24",
   "metadata": {},
   "outputs": [],
   "source": [
    "# run this cell to execute the script #\n",
    "\n",
    "!python3.9 advobs202302_s06_01_01.py -h"
   ]
  },
  {
   "cell_type": "code",
   "execution_count": null,
   "id": "9fd28be7-7816-4294-865d-0052e4e1e594",
   "metadata": {},
   "outputs": [],
   "source": [
    "# run this cell to execute the script #\n",
    "\n",
    "!python3.9 advobs202302_s06_01_01.py data_s06/lot_20210212_0079.fits"
   ]
  },
  {
   "cell_type": "markdown",
   "id": "875ef735-cb5c-4c74-9a1f-6c1ebb89ee9b",
   "metadata": {},
   "source": [
    "## Sample script 01-02 ##"
   ]
  },
  {
   "cell_type": "code",
   "execution_count": null,
   "id": "af07d102-11d0-42fe-b57c-76be51d83505",
   "metadata": {},
   "outputs": [],
   "source": [
    "# run this cell to show the source code #\n",
    "\n",
    "!cat advobs202302_s06_01_02.py"
   ]
  },
  {
   "cell_type": "code",
   "execution_count": null,
   "id": "3570d546-c211-4daf-8264-69d21ec0d0a5",
   "metadata": {},
   "outputs": [],
   "source": [
    "# run this cell to execute the script #\n",
    "\n",
    "!python3.9 advobs202302_s06_01_02.py -h"
   ]
  },
  {
   "cell_type": "code",
   "execution_count": null,
   "id": "e9ce5cd8-afe6-42bf-8a06-a8403a3aa01d",
   "metadata": {},
   "outputs": [],
   "source": [
    "# run this cell to execute the script #\n",
    "\n",
    "!python3.9 advobs202302_s06_01_02.py data_s06/lot_20210212_*.fits"
   ]
  },
  {
   "cell_type": "markdown",
   "id": "b9c18fa6-bc44-461a-b6aa-adf923ea7f48",
   "metadata": {},
   "source": [
    "## Sample script 01-03 ##"
   ]
  },
  {
   "cell_type": "code",
   "execution_count": null,
   "id": "0bb914bd-fbd8-4139-9742-d84d4a16eaa0",
   "metadata": {},
   "outputs": [],
   "source": [
    "# run this cell to show the source code #\n",
    "\n",
    "!cat advobs202302_s06_01_03.py"
   ]
  },
  {
   "cell_type": "code",
   "execution_count": null,
   "id": "1d2638f9-a986-49a3-a169-de6e022764e4",
   "metadata": {},
   "outputs": [],
   "source": [
    "# run this cell to execute the script #\n",
    "\n",
    "!python3.9 advobs202302_s06_01_03.py -h"
   ]
  },
  {
   "cell_type": "code",
   "execution_count": null,
   "id": "37c634be-2c70-48b4-94c8-a20ad8213f9e",
   "metadata": {},
   "outputs": [],
   "source": [
    "# run this cell to execute the script #\n",
    "\n",
    "!python3.9 advobs202302_s06_01_03.py data_s06/lot_20210212_0079.fits"
   ]
  },
  {
   "cell_type": "markdown",
   "id": "0bccc867-1ed6-494a-96e7-7465332eeb73",
   "metadata": {},
   "source": [
    "## Sample script 01-04 ##"
   ]
  },
  {
   "cell_type": "code",
   "execution_count": null,
   "id": "c925a82d-3d7f-4581-9b8b-1866798dca09",
   "metadata": {},
   "outputs": [],
   "source": [
    "# run this cell to show the source code #\n",
    "\n",
    "!cat advobs202302_s06_01_04.py"
   ]
  },
  {
   "cell_type": "code",
   "execution_count": null,
   "id": "ca9bfec5-8714-44eb-a2f5-b023e09528bb",
   "metadata": {},
   "outputs": [],
   "source": [
    "# run this cell to execute the script #\n",
    "\n",
    "!python3.9 advobs202302_s06_01_04.py -h"
   ]
  },
  {
   "cell_type": "code",
   "execution_count": null,
   "id": "cb6e5c8e-1d4d-4a52-a554-3e3a1b49b948",
   "metadata": {},
   "outputs": [],
   "source": [
    "# run this cell to execute the script #\n",
    "\n",
    "!python3.9 advobs202302_s06_01_04.py data_s06/lot_20210212_0079.fits"
   ]
  },
  {
   "cell_type": "markdown",
   "id": "ef94168c-ba64-4103-b02f-74c7e492d03d",
   "metadata": {},
   "source": [
    "## Sample script 01-05 ##"
   ]
  },
  {
   "cell_type": "code",
   "execution_count": null,
   "id": "fbcbc987-d6c5-4d66-a285-1939df078598",
   "metadata": {},
   "outputs": [],
   "source": [
    "# run this cell to show the source code #\n",
    "\n",
    "!cat advobs202302_s06_01_05.py"
   ]
  },
  {
   "cell_type": "code",
   "execution_count": null,
   "id": "4980f450-efae-4263-a72a-4bfcaf56e0ca",
   "metadata": {},
   "outputs": [],
   "source": [
    "# run this cell to execute the script #\n",
    "\n",
    "!python3.9 advobs202302_s06_01_05.py -h"
   ]
  },
  {
   "cell_type": "code",
   "execution_count": null,
   "id": "ec942b3c-83b1-4b67-a3cf-be11a86b3456",
   "metadata": {},
   "outputs": [],
   "source": [
    "# run this cell to execute the script #\n",
    "\n",
    "!python3.9 advobs202302_s06_01_05.py data_s06/lot_20210212_0079.fits"
   ]
  },
  {
   "cell_type": "markdown",
   "id": "abce996f-a394-40f7-a08f-4aa0bcb2d291",
   "metadata": {},
   "source": [
    "## Sample script 01-06 ##"
   ]
  },
  {
   "cell_type": "code",
   "execution_count": null,
   "id": "2f689499-b373-45da-8713-0e37641a0a33",
   "metadata": {},
   "outputs": [],
   "source": [
    "# run this cell to show the source code #\n",
    "\n",
    "!cat advobs202302_s06_01_06.py"
   ]
  },
  {
   "cell_type": "code",
   "execution_count": null,
   "id": "beb2ee54-501b-46d4-8427-8d67733dc5c7",
   "metadata": {},
   "outputs": [],
   "source": [
    "# run this cell to execute the script #\n",
    "\n",
    "!python3.9 advobs202302_s06_01_06.py"
   ]
  },
  {
   "cell_type": "markdown",
   "id": "632b407a-ee9a-4db3-831b-016422f11ae0",
   "metadata": {},
   "source": [
    "## Sample script 01-07 ##"
   ]
  },
  {
   "cell_type": "code",
   "execution_count": null,
   "id": "2a0b6ace-6a82-4650-ba9c-67215c8dc7d9",
   "metadata": {},
   "outputs": [],
   "source": [
    "# run this cell to show the source code #\n",
    "\n",
    "!cat advobs202302_s06_01_07.py"
   ]
  },
  {
   "cell_type": "code",
   "execution_count": null,
   "id": "2372c6f2-ccaf-41dd-963b-ea5f2c26ca04",
   "metadata": {},
   "outputs": [],
   "source": [
    "# run this cell to execute the script #\n",
    "\n",
    "!python3.9 advobs202302_s06_01_07.py"
   ]
  },
  {
   "cell_type": "markdown",
   "id": "2bf64679-6c59-4cc8-9efe-ce654d5c8609",
   "metadata": {},
   "source": [
    "## Sample script 01-08 ##"
   ]
  },
  {
   "cell_type": "code",
   "execution_count": null,
   "id": "6036ac97-691b-497a-856e-f167576068b5",
   "metadata": {},
   "outputs": [],
   "source": [
    "# run this cell to show the source code #\n",
    "\n",
    "!cat advobs202302_s06_01_08.py"
   ]
  },
  {
   "cell_type": "code",
   "execution_count": null,
   "id": "86fd1d2d-0819-45b9-9588-1abc9d86f93c",
   "metadata": {},
   "outputs": [],
   "source": [
    "# run this cell to execute the script #\n",
    "\n",
    "!python3.9 advobs202302_s06_01_08.py"
   ]
  },
  {
   "cell_type": "markdown",
   "id": "8d28e874-be36-44d0-b863-89d088bfc62f",
   "metadata": {},
   "source": [
    "## Sample script 01-09 ##"
   ]
  },
  {
   "cell_type": "code",
   "execution_count": null,
   "id": "7e3b9d54-06a0-484b-8daa-6a377ebd6cbc",
   "metadata": {},
   "outputs": [],
   "source": [
    "# run this cell to show the source code #\n",
    "\n",
    "!cat advobs202302_s06_01_09.py"
   ]
  },
  {
   "cell_type": "code",
   "execution_count": null,
   "id": "1b9d734a-cb09-488e-b56a-e445b7bd7543",
   "metadata": {},
   "outputs": [],
   "source": [
    "# run this cell to execute the script #\n",
    "\n",
    "!python3.9 advobs202302_s06_01_09.py"
   ]
  },
  {
   "cell_type": "markdown",
   "id": "32954241-d83b-44c1-95ea-eafedf688de9",
   "metadata": {},
   "source": [
    "## Sample script 01-10 ##"
   ]
  },
  {
   "cell_type": "code",
   "execution_count": null,
   "id": "25488977-f072-44f8-9e2a-2826f8213c6c",
   "metadata": {},
   "outputs": [],
   "source": [
    "# run this cell to show the source code #\n",
    "\n",
    "!cat advobs202302_s06_01_10.py"
   ]
  },
  {
   "cell_type": "code",
   "execution_count": null,
   "id": "c5133b5c-6ec9-438b-ab75-380d6b07d84a",
   "metadata": {},
   "outputs": [],
   "source": [
    "# run this cell to execute the script #\n",
    "\n",
    "!python3.9 advobs202302_s06_01_10.py"
   ]
  },
  {
   "cell_type": "markdown",
   "id": "6fbf7d2b-1171-4b78-90a1-2622c02a788b",
   "metadata": {},
   "source": [
    "## Sample script 01-11 ##"
   ]
  },
  {
   "cell_type": "code",
   "execution_count": null,
   "id": "4301c8e5-e204-4c23-8535-47422fee7544",
   "metadata": {},
   "outputs": [],
   "source": [
    "# run this cell to show the source code #\n",
    "\n",
    "!cat advobs202302_s06_01_11.py"
   ]
  },
  {
   "cell_type": "code",
   "execution_count": null,
   "id": "4fdfc4c7-1a97-449f-8a8e-bf1f4cbfd079",
   "metadata": {},
   "outputs": [],
   "source": [
    "# run this cell to execute the script #\n",
    "\n",
    "!python3.9 advobs202302_s06_01_11.py"
   ]
  },
  {
   "cell_type": "markdown",
   "id": "7805d86b-d5d5-4724-a697-51e96e3513e4",
   "metadata": {},
   "source": [
    "## Sample script 02-00 ##"
   ]
  },
  {
   "cell_type": "code",
   "execution_count": null,
   "id": "7d5bffaa-2058-4dce-af36-e2cf564ff783",
   "metadata": {},
   "outputs": [],
   "source": [
    "# run this cell to show the source code #\n",
    "\n",
    "!cat advobs202302_s06_02_00.py"
   ]
  },
  {
   "cell_type": "code",
   "execution_count": null,
   "id": "59bce550-2a0a-4c88-9739-83f07c3c41a9",
   "metadata": {},
   "outputs": [],
   "source": [
    "# run this cell to execute the script #\n",
    "\n",
    "!python3.9 advobs202302_s06_02_00.py -h"
   ]
  },
  {
   "cell_type": "code",
   "execution_count": null,
   "id": "35c36a84-6ddc-45de-9269-73277ce777a7",
   "metadata": {},
   "outputs": [],
   "source": [
    "# run this cell to execute the script #\n",
    "\n",
    "!python3.9 advobs202302_s06_02_00.py data_s06/lot_20210212_0079.fits"
   ]
  },
  {
   "cell_type": "markdown",
   "id": "f6ecfe2c-2da7-4864-b97f-8f44fd8a3c8d",
   "metadata": {},
   "source": [
    "## Sample script 02-01 ##"
   ]
  },
  {
   "cell_type": "code",
   "execution_count": null,
   "id": "6804e3c2-c6e9-4c31-9421-966eba23c16c",
   "metadata": {},
   "outputs": [],
   "source": [
    "# run this cell to show the source code #\n",
    "\n",
    "!cat advobs202302_s06_02_01.py"
   ]
  },
  {
   "cell_type": "code",
   "execution_count": null,
   "id": "4a32866d-a90b-4f17-9537-3c99ecc045aa",
   "metadata": {},
   "outputs": [],
   "source": [
    "# run this cell to execute the script #\n",
    "\n",
    "!python3.9 advobs202302_s06_02_01.py -h"
   ]
  },
  {
   "cell_type": "code",
   "execution_count": null,
   "id": "2da1d46e-e36f-45d9-8e7b-e83c8d648d67",
   "metadata": {},
   "outputs": [],
   "source": [
    "# run this cell to execute the script #\n",
    "\n",
    "!python3.9 advobs202302_s06_02_01.py data_s06/lot_20210212_0079.fits"
   ]
  },
  {
   "cell_type": "markdown",
   "id": "c7e43263-5fdb-442c-9cdf-168e6d0f3415",
   "metadata": {},
   "source": [
    "## Sample script 02-02 ##"
   ]
  },
  {
   "cell_type": "code",
   "execution_count": null,
   "id": "54974221-e2c4-43ed-a352-966caa55f8f8",
   "metadata": {},
   "outputs": [],
   "source": [
    "# run this cell to show the source code #\n",
    "\n",
    "!cat advobs202302_s06_02_02.py"
   ]
  },
  {
   "cell_type": "code",
   "execution_count": null,
   "id": "4497b5fc-fcd3-4d0b-adfd-109262e1bcdc",
   "metadata": {},
   "outputs": [],
   "source": [
    "# run this cell to execute the script #\n",
    "\n",
    "!python3.9 advobs202302_s06_02_02.py -h"
   ]
  },
  {
   "cell_type": "code",
   "execution_count": null,
   "id": "f14006f5-b664-42eb-b06a-83752c8aeff3",
   "metadata": {},
   "outputs": [],
   "source": [
    "# run this cell to execute the script #\n",
    "\n",
    "!python3.9 advobs202302_s06_02_02.py -x 300 -y 500 data_s06/lot_20210212_0079.fits"
   ]
  },
  {
   "cell_type": "markdown",
   "id": "aefaa8be-6e4d-423b-8c33-66d481d5eaa9",
   "metadata": {},
   "source": [
    "## Sample script 03-00 ##"
   ]
  },
  {
   "cell_type": "code",
   "execution_count": null,
   "id": "a641ea4f-2cbd-4a6d-ae09-366087c959b5",
   "metadata": {},
   "outputs": [],
   "source": [
    "# run this cell to show the source code #\n",
    "\n",
    "!cat advobs202302_s06_03_00.py"
   ]
  },
  {
   "cell_type": "code",
   "execution_count": null,
   "id": "1c955fe3-d350-4ef5-b842-2630861551c2",
   "metadata": {},
   "outputs": [],
   "source": [
    "# run this cell to execute the script #\n",
    "\n",
    "!python3.9 advobs202302_s06_03_00.py -h"
   ]
  },
  {
   "cell_type": "code",
   "execution_count": null,
   "id": "128c7b3d-76dd-4e86-93a0-77ccffcca7fa",
   "metadata": {},
   "outputs": [],
   "source": [
    "# run this cell to execute the script #\n",
    "\n",
    "!python3.9 advobs202302_s06_03_00.py -o 0080_0.png data_s06/lot_20210212_0080.fits"
   ]
  },
  {
   "cell_type": "code",
   "execution_count": null,
   "id": "e6a4b50f-d6e8-4e08-b22a-d4d230df9852",
   "metadata": {},
   "outputs": [],
   "source": [
    "# run this cell to display the plot #\n",
    "\n",
    "import IPython.display\n",
    "\n",
    "IPython.display.Image ('0080_0.png')"
   ]
  },
  {
   "cell_type": "markdown",
   "id": "a3d35ff4-c6ce-4da5-8b67-f2ae14825cd7",
   "metadata": {},
   "source": [
    "## Sample script 03-01 ##"
   ]
  },
  {
   "cell_type": "code",
   "execution_count": null,
   "id": "07e41136-dcc8-443f-953d-089479f12a40",
   "metadata": {},
   "outputs": [],
   "source": [
    "# run this cell to show the source code #\n",
    "\n",
    "!cat advobs202302_s06_03_01.py"
   ]
  },
  {
   "cell_type": "code",
   "execution_count": null,
   "id": "5ab9a6a9-760b-4201-8ee2-eadada98dea8",
   "metadata": {},
   "outputs": [],
   "source": [
    "# run this cell to execute the script #\n",
    "\n",
    "!python3.9 advobs202302_s06_03_01.py -h"
   ]
  },
  {
   "cell_type": "code",
   "execution_count": null,
   "id": "54defb4a-f892-44be-a1b5-a54603bb02e2",
   "metadata": {},
   "outputs": [],
   "source": [
    "# run this cell to execute the script #\n",
    "\n",
    "!python3.9 advobs202302_s06_03_01.py -o 0080_1.png -r 200 data_s06/lot_20210212_0080.fits"
   ]
  },
  {
   "cell_type": "code",
   "execution_count": null,
   "id": "345387af-6cc9-4629-992d-e7f0da9880da",
   "metadata": {},
   "outputs": [],
   "source": [
    "# run this cell to display the plot #\n",
    "\n",
    "import IPython.display\n",
    "\n",
    "IPython.display.Image ('0080_1.png')"
   ]
  },
  {
   "cell_type": "markdown",
   "id": "44fd199a-97de-4307-9a46-9ded5c4f1de8",
   "metadata": {},
   "source": [
    "## Sample script 03-02 ##"
   ]
  },
  {
   "cell_type": "code",
   "execution_count": null,
   "id": "a736583e-f83f-48ca-8aef-5c32cfeba8f7",
   "metadata": {},
   "outputs": [],
   "source": [
    "# run this cell to show the source code #\n",
    "\n",
    "!cat advobs202302_s06_03_02.py"
   ]
  },
  {
   "cell_type": "code",
   "execution_count": null,
   "id": "92f1a5e2-0d8b-4e0b-933b-4fb1b24eff0a",
   "metadata": {},
   "outputs": [],
   "source": [
    "# run this cell to execute the script #\n",
    "\n",
    "!python3.9 advobs202302_s06_03_02.py -h"
   ]
  },
  {
   "cell_type": "code",
   "execution_count": null,
   "id": "4a7d0064-003e-42ba-b6cb-e26aac4ec621",
   "metadata": {},
   "outputs": [],
   "source": [
    "# run this cell to execute the script #\n",
    "\n",
    "!python3.9 advobs202302_s06_03_02.py -o 0080_2.png -r 250 -c cool data_s06/lot_20210212_0080.fits"
   ]
  },
  {
   "cell_type": "code",
   "execution_count": null,
   "id": "050bf207-4a6e-4f04-b500-aa5e62807aa4",
   "metadata": {},
   "outputs": [],
   "source": [
    "# run this cell to display the plot #\n",
    "\n",
    "import IPython.display\n",
    "\n",
    "IPython.display.Image ('0080_2.png')"
   ]
  },
  {
   "cell_type": "markdown",
   "id": "a876ad55-1b47-4952-9299-c16b7b1fa344",
   "metadata": {},
   "source": [
    "## Sample script 03-03 ##"
   ]
  },
  {
   "cell_type": "code",
   "execution_count": null,
   "id": "de475a2e-29f9-4f90-a584-fc544c4c551c",
   "metadata": {},
   "outputs": [],
   "source": [
    "# run this cell to show the source code #\n",
    "\n",
    "!cat advobs202302_s06_03_03.py"
   ]
  },
  {
   "cell_type": "code",
   "execution_count": null,
   "id": "88f1e0d2-f76e-4f71-a456-0108459571eb",
   "metadata": {},
   "outputs": [],
   "source": [
    "# run this cell to execute the script #\n",
    "\n",
    "!python3.9 advobs202302_s06_03_03.py -h"
   ]
  },
  {
   "cell_type": "code",
   "execution_count": null,
   "id": "74b8563a-dc8a-48e8-8e59-6a962608558c",
   "metadata": {},
   "outputs": [],
   "source": [
    "# run this cell to execute the script #\n",
    "\n",
    "!python3.9 advobs202302_s06_03_03.py -o 0080_3.png -r 225 -c plasma -a 0 -b 1000 data_s06/lot_20210212_0080.fits"
   ]
  },
  {
   "cell_type": "code",
   "execution_count": null,
   "id": "ee693c45-096b-4cfc-8737-481a1e453eac",
   "metadata": {},
   "outputs": [],
   "source": [
    "# run this cell to display the plot #\n",
    "\n",
    "import IPython.display\n",
    "\n",
    "IPython.display.Image ('0080_3.png')"
   ]
  },
  {
   "cell_type": "code",
   "execution_count": null,
   "id": "2407b983-885b-4bfe-8ca3-2a5a3faa10c4",
   "metadata": {},
   "outputs": [],
   "source": [
    "# run this cell to execute the script #\n",
    "\n",
    "!python3.9 advobs202302_s06_03_03.py -o 0080_4.png -r 225 -c plasma -a 590 -b 610 data_s06/lot_20210212_0080.fits"
   ]
  },
  {
   "cell_type": "code",
   "execution_count": null,
   "id": "ee7428c0-152a-431c-bf24-663991967206",
   "metadata": {},
   "outputs": [],
   "source": [
    "# run this cell to display the plot #\n",
    "\n",
    "import IPython.display\n",
    "\n",
    "IPython.display.Image ('0080_4.png')"
   ]
  },
  {
   "cell_type": "markdown",
   "id": "9c065cdf-2fc5-4bbe-9385-c338130e143a",
   "metadata": {},
   "source": [
    "## Sample script 04-00 ##"
   ]
  },
  {
   "cell_type": "code",
   "execution_count": null,
   "id": "efa30b44-cdda-4fa9-b5e7-87438e2a5a6c",
   "metadata": {},
   "outputs": [],
   "source": [
    "# run this cell to show the source code #\n",
    "\n",
    "!cat advobs202302_s06_04_00.py"
   ]
  },
  {
   "cell_type": "code",
   "execution_count": null,
   "id": "4f739100-b99d-4a2d-83f3-e789eaa4a052",
   "metadata": {},
   "outputs": [],
   "source": [
    "# run this cell to execute the script #\n",
    "\n",
    "!python3.9 advobs202302_s06_04_00.py -h"
   ]
  },
  {
   "cell_type": "code",
   "execution_count": null,
   "id": "10dedcbb-49f2-415b-b190-c25e0e843a66",
   "metadata": {},
   "outputs": [],
   "source": [
    "# run this cell to execute the script #\n",
    "\n",
    "!python3.9 advobs202302_s06_04_00.py data_s06/lot_20210212_0079.fits"
   ]
  },
  {
   "cell_type": "markdown",
   "id": "769c2cb5-1304-4ab0-8557-17aa1cb0c59b",
   "metadata": {},
   "source": [
    "## Sample script 04-01 ##"
   ]
  },
  {
   "cell_type": "code",
   "execution_count": null,
   "id": "73d6eeec-8b93-4e98-9ee1-d020c6e59b8e",
   "metadata": {},
   "outputs": [],
   "source": [
    "# run this cell to show the source code #\n",
    "\n",
    "!cat advobs202302_s06_04_01.py"
   ]
  },
  {
   "cell_type": "code",
   "execution_count": null,
   "id": "1e2b34f2-f9b0-41a0-b594-87cb5af1b669",
   "metadata": {},
   "outputs": [],
   "source": [
    "# run this cell to execute the script #\n",
    "\n",
    "!python3.9 advobs202302_s06_04_01.py -h"
   ]
  },
  {
   "cell_type": "code",
   "execution_count": null,
   "id": "3430099d-7881-4dd6-8c75-33973d28af8a",
   "metadata": {},
   "outputs": [],
   "source": [
    "# run this cell to execute the script #\n",
    "\n",
    "!python3.9 advobs202302_s06_04_01.py data_s06/lot_20210212_0079.fits"
   ]
  },
  {
   "cell_type": "markdown",
   "id": "6508567e-7bf3-4da2-88c1-45c15e94dc14",
   "metadata": {},
   "source": [
    "## Sample script 04-02 ##"
   ]
  },
  {
   "cell_type": "code",
   "execution_count": null,
   "id": "974fc851-514d-4d30-8377-92852f421336",
   "metadata": {},
   "outputs": [],
   "source": [
    "# run this cell to show the source code #\n",
    "\n",
    "!cat advobs202302_s06_04_02.py"
   ]
  },
  {
   "cell_type": "code",
   "execution_count": null,
   "id": "e1c58d74-db2c-47ce-a5a7-05ec79de57bb",
   "metadata": {},
   "outputs": [],
   "source": [
    "# run this cell to execute the script #\n",
    "\n",
    "!python3.9 advobs202302_s06_04_02.py -h"
   ]
  },
  {
   "cell_type": "code",
   "execution_count": null,
   "id": "513f83e2-2f45-499e-9615-97bd43048968",
   "metadata": {},
   "outputs": [],
   "source": [
    "# run this cell to execute the script #\n",
    "\n",
    "!python3.9 advobs202302_s06_04_02.py data_s06/lot_20210212_00??.fits"
   ]
  },
  {
   "cell_type": "markdown",
   "id": "bf359548-77d4-4c3c-a0c7-1a9f59a1faf5",
   "metadata": {},
   "source": [
    "## Sample script 04-03 ##"
   ]
  },
  {
   "cell_type": "code",
   "execution_count": null,
   "id": "959b9f62-d5e2-49a8-85d5-004922ba011e",
   "metadata": {},
   "outputs": [],
   "source": [
    "# run this cell to show the source code #\n",
    "\n",
    "!cat advobs202302_s06_04_03.py"
   ]
  },
  {
   "cell_type": "code",
   "execution_count": null,
   "id": "90f9c128-a326-4d02-baa8-81807a2ad2e7",
   "metadata": {},
   "outputs": [],
   "source": [
    "# run this cell to execute the script #\n",
    "\n",
    "!python3.9 advobs202302_s06_04_03.py -h"
   ]
  },
  {
   "cell_type": "code",
   "execution_count": null,
   "id": "28ac1203-f8ac-4699-b53b-72d963952801",
   "metadata": {},
   "outputs": [],
   "source": [
    "# run this cell to execute the script #\n",
    "\n",
    "!python3.9 advobs202302_s06_04_03.py data_s06/lot_20210212_00??.fits"
   ]
  },
  {
   "cell_type": "markdown",
   "id": "5a603c61-302b-46ca-b35d-5ed60d2c3823",
   "metadata": {},
   "source": [
    "## Sample script 04-04 ##"
   ]
  },
  {
   "cell_type": "code",
   "execution_count": null,
   "id": "d13c1fd8-18d4-4dd2-b122-02d221a00b9f",
   "metadata": {},
   "outputs": [],
   "source": [
    "# run this cell to show the source code #\n",
    "\n",
    "!cat advobs202302_s06_04_04.py"
   ]
  },
  {
   "cell_type": "code",
   "execution_count": null,
   "id": "51326548-266d-4aca-ad32-8addacbcf10e",
   "metadata": {},
   "outputs": [],
   "source": [
    "# run this cell to execute the script #\n",
    "\n",
    "!python3.9 advobs202302_s06_04_04.py -h"
   ]
  },
  {
   "cell_type": "code",
   "execution_count": null,
   "id": "c4d3b9c0-4ecb-4549-90c4-720624cce75b",
   "metadata": {},
   "outputs": [],
   "source": [
    "# run this cell to execute the script #\n",
    "\n",
    "!python3.9 advobs202302_s06_04_04.py data_s06/lot_20210212_00??.fits"
   ]
  },
  {
   "cell_type": "markdown",
   "id": "16da8ea5-515f-4468-859f-effda6e71875",
   "metadata": {},
   "source": [
    "## Sample script 05-00 ##"
   ]
  },
  {
   "cell_type": "code",
   "execution_count": null,
   "id": "afa5f7d1-a730-4663-a095-47cdd44287b5",
   "metadata": {},
   "outputs": [],
   "source": [
    "# run this cell to show the source code #\n",
    "\n",
    "!cat advobs202302_s06_05_00.py"
   ]
  },
  {
   "cell_type": "code",
   "execution_count": null,
   "id": "0d04c698-1436-478c-bc4a-2821e319d95f",
   "metadata": {},
   "outputs": [],
   "source": [
    "# run this cell to execute the script #\n",
    "\n",
    "!python3.9 advobs202302_s06_05_00.py -h"
   ]
  },
  {
   "cell_type": "code",
   "execution_count": null,
   "id": "a6986c22-05be-438f-9e09-b0f8a3fac1c6",
   "metadata": {},
   "outputs": [],
   "source": [
    "# run this cell to execute the script #\n",
    "\n",
    "!python3.9 advobs202302_s06_05_00.py -o hist_0080_0.png data_s06/lot_20210212_0080.fits"
   ]
  },
  {
   "cell_type": "code",
   "execution_count": null,
   "id": "e9096bd3-1545-4c4b-ba1c-19354de29832",
   "metadata": {},
   "outputs": [],
   "source": [
    "# run this cell to display the plot #\n",
    "\n",
    "import IPython.display\n",
    "\n",
    "IPython.display.Image ('hist_0080_0.png')"
   ]
  },
  {
   "cell_type": "code",
   "execution_count": null,
   "id": "417bcb88-43bd-4a78-afd3-df04be2032a0",
   "metadata": {},
   "outputs": [],
   "source": [
    "# run this cell to execute the script #\n",
    "\n",
    "!python3.9 advobs202302_s06_05_00.py -o hist_0080_1.png -a 500 -b 700 -w 5 data_s06/lot_20210212_0080.fits"
   ]
  },
  {
   "cell_type": "code",
   "execution_count": null,
   "id": "4e1d2ed6-8650-4ac1-b76c-2915b517826e",
   "metadata": {},
   "outputs": [],
   "source": [
    "# run this cell to display the plot #\n",
    "\n",
    "import IPython.display\n",
    "\n",
    "IPython.display.Image ('hist_0080_1.png')"
   ]
  },
  {
   "cell_type": "code",
   "execution_count": null,
   "id": "f0cff117-6617-4e63-a7d0-15501d54c8df",
   "metadata": {},
   "outputs": [],
   "source": [
    "# run this cell to execute the script #\n",
    "\n",
    "!python3.9 advobs202302_s06_05_00.py -o hist_0080_2.png -a 650 -b 700 -w 2 data_s06/lot_20210212_0080.fits"
   ]
  },
  {
   "cell_type": "code",
   "execution_count": null,
   "id": "134b1716-cc9b-4dce-a242-31c97a8cf945",
   "metadata": {},
   "outputs": [],
   "source": [
    "# run this cell to display the plot #\n",
    "\n",
    "import IPython.display\n",
    "\n",
    "IPython.display.Image ('hist_0080_2.png')"
   ]
  },
  {
   "cell_type": "markdown",
   "id": "08dc0a9f-34f9-4eed-9774-6ebb4b5f6435",
   "metadata": {},
   "source": [
    "## Sample script 05-01 ##"
   ]
  },
  {
   "cell_type": "code",
   "execution_count": null,
   "id": "a31352af-7f84-4701-a0dd-a96ca40036ce",
   "metadata": {},
   "outputs": [],
   "source": [
    "# run this cell to show the source code #\n",
    "\n",
    "!cat advobs202302_s06_05_01.py"
   ]
  },
  {
   "cell_type": "code",
   "execution_count": null,
   "id": "19df4743-0dab-4dd2-b1ca-cc2cbd207855",
   "metadata": {},
   "outputs": [],
   "source": [
    "# run this cell to execute the script #\n",
    "\n",
    "!python3.9 advobs202302_s06_05_01.py -h"
   ]
  },
  {
   "cell_type": "code",
   "execution_count": null,
   "id": "f5b17e60-5c2c-41ce-b01b-ece4a7e6c31b",
   "metadata": {},
   "outputs": [],
   "source": [
    "# run this cell to execute the script #\n",
    "\n",
    "!python3.9 advobs202302_s06_05_01.py -o hist_0080_3.png -a 550 -b 650 -w 1 data_s06/lot_20210212_0080.fits"
   ]
  },
  {
   "cell_type": "code",
   "execution_count": null,
   "id": "e76fbc8e-a5ad-494b-b72b-19a4d072ae71",
   "metadata": {},
   "outputs": [],
   "source": [
    "# run this cell to display the plot #\n",
    "\n",
    "import IPython.display\n",
    "\n",
    "IPython.display.Image ('hist_0080_3.png')"
   ]
  },
  {
   "cell_type": "markdown",
   "id": "79222239-0373-4379-8a44-7e7dd2c84b75",
   "metadata": {},
   "source": [
    "## Sample script 06-00 ##"
   ]
  },
  {
   "cell_type": "code",
   "execution_count": null,
   "id": "2caad2e4-b698-4118-ab3b-c78395eff866",
   "metadata": {},
   "outputs": [],
   "source": [
    "# run this cell to show the source code #\n",
    "\n",
    "!cat advobs202302_s06_06_00.py"
   ]
  },
  {
   "cell_type": "code",
   "execution_count": null,
   "id": "9e6d8659-26bd-49ef-a035-220ef3582af5",
   "metadata": {},
   "outputs": [],
   "source": [
    "# run this cell to execute the script #\n",
    "\n",
    "!python3.9 advobs202302_s06_06_00.py -h"
   ]
  },
  {
   "cell_type": "code",
   "execution_count": null,
   "id": "45911faa-1542-46d4-9530-a44661323894",
   "metadata": {},
   "outputs": [],
   "source": [
    "# run this cell to execute the script #\n",
    "\n",
    "!python3.9 advobs202302_s06_06_00.py data_s06/lot_20210212_0079.fits"
   ]
  },
  {
   "cell_type": "code",
   "execution_count": null,
   "id": "6e760568-b9f4-43ef-a8f2-223aa71ee668",
   "metadata": {},
   "outputs": [],
   "source": [
    "# run this cell to execute the script #\n",
    "\n",
    "!python3.9 advobs202302_s06_06_00.py data_s06/lot_20210212_0080.fits data_s06/lot_20210212_0084.fits data_s06/lot_20210212_0113.fits"
   ]
  },
  {
   "cell_type": "markdown",
   "id": "b479768b-7760-41b6-96be-d4479687a78a",
   "metadata": {},
   "source": [
    "## Sample script 06-01 ##"
   ]
  },
  {
   "cell_type": "code",
   "execution_count": null,
   "id": "a61171c9-3e73-45e7-85b0-b1c9d2329b3f",
   "metadata": {},
   "outputs": [],
   "source": [
    "# run this cell to show the source code #\n",
    "\n",
    "!cat advobs202302_s06_06_01.py"
   ]
  },
  {
   "cell_type": "code",
   "execution_count": null,
   "id": "8bdc9441-645b-4460-9bc6-323f76052c8a",
   "metadata": {},
   "outputs": [],
   "source": [
    "# run this cell to execute the script #\n",
    "\n",
    "!python3.9 advobs202302_s06_06_01.py -h"
   ]
  },
  {
   "cell_type": "code",
   "execution_count": null,
   "id": "0d8d19f3-c424-4fb3-a25d-b9429604e58f",
   "metadata": {},
   "outputs": [],
   "source": [
    "# run this cell to execute the script #\n",
    "\n",
    "!python3.9 advobs202302_s06_06_01.py -n 15 data_s06/lot_20210212_0113.fits"
   ]
  },
  {
   "cell_type": "markdown",
   "id": "8adbe477-cd4a-4d8b-a64c-b2a5fd8ad260",
   "metadata": {},
   "source": [
    "## Sample script 06-02 ##"
   ]
  },
  {
   "cell_type": "code",
   "execution_count": null,
   "id": "94356f99-05e5-46c7-8d27-5e93511e53af",
   "metadata": {},
   "outputs": [],
   "source": [
    "# run this cell to show the source code #\n",
    "\n",
    "!cat advobs202302_s06_06_02.py"
   ]
  },
  {
   "cell_type": "code",
   "execution_count": null,
   "id": "be5fb474-1ce5-4ada-96f0-488ab249834f",
   "metadata": {},
   "outputs": [],
   "source": [
    "# run this cell to execute the script #\n",
    "\n",
    "!python3.9 advobs202302_s06_06_02.py -h"
   ]
  },
  {
   "cell_type": "code",
   "execution_count": null,
   "id": "1c7dbcae-9d11-48e0-92ed-6ea3635bf51d",
   "metadata": {},
   "outputs": [],
   "source": [
    "# run this cell to execute the script #\n",
    "\n",
    "!python3.9 advobs202302_s06_06_02.py data_s06/lot_20210212_0113.fits"
   ]
  },
  {
   "cell_type": "code",
   "execution_count": null,
   "id": "7aa304d9-9263-4b66-a109-11708345ac5b",
   "metadata": {},
   "outputs": [],
   "source": [
    "# run this cell to execute the script #\n",
    "\n",
    "!python3.9 advobs202302_s06_06_02.py data_s06/lot_20210212_0288.fits"
   ]
  },
  {
   "cell_type": "markdown",
   "id": "f7e1939f-f42e-4212-a5a4-3e0574383078",
   "metadata": {},
   "source": [
    "## Sample script 06-03 ##"
   ]
  },
  {
   "cell_type": "code",
   "execution_count": null,
   "id": "5fd69546-e269-4705-80f1-89f21a171843",
   "metadata": {},
   "outputs": [],
   "source": [
    "# run this cell to show the source code #\n",
    "\n",
    "!cat advobs202302_s06_06_03.py"
   ]
  },
  {
   "cell_type": "code",
   "execution_count": null,
   "id": "d257fb09-c19d-488d-998b-4494fba5fc67",
   "metadata": {},
   "outputs": [],
   "source": [
    "# run this cell to execute the script #\n",
    "\n",
    "!python3.9 advobs202302_s06_06_03.py -h"
   ]
  },
  {
   "cell_type": "code",
   "execution_count": null,
   "id": "06c111e7-3753-473c-9f42-18425d755ad7",
   "metadata": {},
   "outputs": [],
   "source": [
    "# run this cell to execute the script #\n",
    "\n",
    "!python3.9 advobs202302_s06_06_03.py data_s06/lot_20210212_0113.fits"
   ]
  },
  {
   "cell_type": "code",
   "execution_count": null,
   "id": "995b1b68-d5e2-4a55-9b3b-9c69cfacdb8f",
   "metadata": {},
   "outputs": [],
   "source": [
    "# run this cell to execute the script #\n",
    "\n",
    "!python3.9 advobs202302_s06_06_03.py data_s06/lot_20210212_0288.fits"
   ]
  },
  {
   "cell_type": "markdown",
   "id": "c1270ecb-f865-4128-8e6a-10864bc98c02",
   "metadata": {},
   "source": [
    "## Sample script 07-00 ##"
   ]
  },
  {
   "cell_type": "code",
   "execution_count": null,
   "id": "edd4d971-38e5-43fd-9ab4-4d7e413a3b3b",
   "metadata": {},
   "outputs": [],
   "source": [
    "# run this cell to show the source code #\n",
    "\n",
    "!cat advobs202302_s06_07_00.py"
   ]
  },
  {
   "cell_type": "code",
   "execution_count": null,
   "id": "1cdaa088-523c-4d15-a735-e47d4343450d",
   "metadata": {},
   "outputs": [],
   "source": [
    "# run this cell to execute the script #\n",
    "\n",
    "!python3.9 advobs202302_s06_07_00.py -h"
   ]
  },
  {
   "cell_type": "code",
   "execution_count": null,
   "id": "aab9f32a-a9a2-4e65-aec9-43225dd474c9",
   "metadata": {},
   "outputs": [],
   "source": [
    "# run this cell to execute the script #\n",
    "\n",
    "!python3.9 advobs202302_s06_07_00.py data_s06/lot_20210212_0079.fits data_s06/lot_20210212_0080.fits"
   ]
  },
  {
   "cell_type": "code",
   "execution_count": null,
   "id": "9be647f0-c48e-4fcf-a7fa-a5c4cb6ede8a",
   "metadata": {},
   "outputs": [],
   "source": [
    "# run this cell to execute the script #\n",
    "\n",
    "!python3.9 advobs202302_s06_07_00.py data_s06/lot_20210212_008[12].fits"
   ]
  },
  {
   "cell_type": "code",
   "execution_count": null,
   "id": "aa768079-eafa-4a01-94cc-c15304676900",
   "metadata": {},
   "outputs": [],
   "source": [
    "# run this cell to execute the script #\n",
    "\n",
    "!python3.9 advobs202302_s06_07_00.py data_s06/lot_20210212_008[34].fits"
   ]
  },
  {
   "cell_type": "code",
   "execution_count": null,
   "id": "f02d3df9-96c3-4673-a1fa-a0d5a726a2e6",
   "metadata": {},
   "outputs": [],
   "source": [
    "# run this cell to execute the script #\n",
    "\n",
    "!python3.9 advobs202302_s06_07_00.py data_s06/lot_20210212_060[01].fits"
   ]
  },
  {
   "cell_type": "markdown",
   "id": "821adc5e-99de-4522-8959-50b4d5ef5bea",
   "metadata": {},
   "source": [
    "## Sample script 08-00 ##"
   ]
  },
  {
   "cell_type": "code",
   "execution_count": null,
   "id": "b81d0abf-6dd0-442a-b4f5-aa1df5955ac1",
   "metadata": {},
   "outputs": [],
   "source": [
    "# run this cell to show the source code #\n",
    "\n",
    "!cat advobs202302_s06_08_00.py"
   ]
  },
  {
   "cell_type": "code",
   "execution_count": null,
   "id": "cde229b4-2866-45f0-9541-1c69e9b4d39f",
   "metadata": {},
   "outputs": [],
   "source": [
    "# run this cell to execute the script #\n",
    "\n",
    "!python3.9 advobs202302_s06_08_00.py -h"
   ]
  },
  {
   "cell_type": "code",
   "execution_count": null,
   "id": "70762426-ed7d-49d2-9600-fdaa07448942",
   "metadata": {},
   "outputs": [],
   "source": [
    "# run this cell to execute the script #\n",
    "\n",
    "!python3.9 advobs202302_s06_08_00.py -o bias_timevar.png data_s06/lot_20210212_*.fits"
   ]
  },
  {
   "cell_type": "code",
   "execution_count": null,
   "id": "8b831068-4c09-495a-86c4-a6b314ac13fb",
   "metadata": {},
   "outputs": [],
   "source": [
    "# run this cell to display the plot #\n",
    "\n",
    "import IPython.display\n",
    "\n",
    "IPython.display.Image ('bias_timevar.png')"
   ]
  },
  {
   "cell_type": "markdown",
   "id": "2f3c9fda-4ab4-4176-9883-fa7ddf51cfec",
   "metadata": {},
   "source": [
    "## end of this notebook ##"
   ]
  },
  {
   "cell_type": "code",
   "execution_count": null,
   "id": "6651ab66-79ec-4f4d-a570-3451b3b0ec6e",
   "metadata": {},
   "outputs": [],
   "source": []
  }
 ],
 "metadata": {
  "kernelspec": {
   "display_name": "Python 3 (ipykernel)",
   "language": "python",
   "name": "python3"
  },
  "language_info": {
   "codemirror_mode": {
    "name": "ipython",
    "version": 3
   },
   "file_extension": ".py",
   "mimetype": "text/x-python",
   "name": "python",
   "nbconvert_exporter": "python",
   "pygments_lexer": "ipython3",
   "version": "3.9.14"
  }
 },
 "nbformat": 4,
 "nbformat_minor": 5
}
