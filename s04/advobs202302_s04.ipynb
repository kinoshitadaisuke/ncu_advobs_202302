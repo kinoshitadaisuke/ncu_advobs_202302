{
 "cells": [
  {
   "cell_type": "markdown",
   "id": "bc131cb0-9336-4598-ad94-3dec622897bf",
   "metadata": {},
   "source": [
    "# Advanced Astronomical Observations #\n",
    "\n",
    "## 2nd semester, academic year 2022 ##\n",
    "\n",
    "## from Feb/2023 to Jun/2023 ##\n",
    "\n",
    "## Session 03: Using SciPy ##\n",
    "\n",
    "## Kinoshita Daisuke ##\n",
    "\n",
    "## Institute of Astronomy, National Central University ##"
   ]
  },
  {
   "cell_type": "markdown",
   "id": "345a4ed3-c420-4310-a2c7-f57e0725481f",
   "metadata": {},
   "source": [
    "## Sample script 00-00 #"
   ]
  },
  {
   "cell_type": "code",
   "execution_count": null,
   "id": "930cb646-2b82-4a4e-8c8e-83c8b412bba3",
   "metadata": {},
   "outputs": [],
   "source": [
    "# run this cell to show the source code #\n",
    "\n",
    "!cat advobs202302_s04_00_00.py"
   ]
  },
  {
   "cell_type": "code",
   "execution_count": null,
   "id": "3062bd75-9e19-4cdb-b7fd-32120bed5311",
   "metadata": {},
   "outputs": [],
   "source": [
    "# run this cell to execute the script #\n",
    "\n",
    "!python3.9 advobs202302_s04_00_00.py"
   ]
  },
  {
   "cell_type": "markdown",
   "id": "d3e68b8a-9a5d-4d10-9c5f-904650f304a7",
   "metadata": {},
   "source": [
    "## Sample script 00-01 #"
   ]
  },
  {
   "cell_type": "code",
   "execution_count": null,
   "id": "1e8b597a-f072-4a78-ab54-280776010044",
   "metadata": {},
   "outputs": [],
   "source": [
    "# run this cell to show the source code #\n",
    "\n",
    "!cat advobs202302_s04_00_01.py"
   ]
  },
  {
   "cell_type": "code",
   "execution_count": null,
   "id": "3f57522f-005d-4156-9b73-cd795fca1879",
   "metadata": {},
   "outputs": [],
   "source": [
    "# run this cell to execute the script #\n",
    "\n",
    "!python3.9 advobs202302_s04_00_01.py"
   ]
  },
  {
   "cell_type": "markdown",
   "id": "05cca7fb-1bf7-4aa9-b890-757d22e5a1d4",
   "metadata": {},
   "source": [
    "## Sample script 00-02 #"
   ]
  },
  {
   "cell_type": "code",
   "execution_count": null,
   "id": "690261b6-1e7c-4d88-8863-2bb690c1e363",
   "metadata": {},
   "outputs": [],
   "source": [
    "# run this cell to show the source code #\n",
    "\n",
    "!cat advobs202302_s04_00_02.py"
   ]
  },
  {
   "cell_type": "code",
   "execution_count": null,
   "id": "e4978f77-3ab2-4753-8d42-2889c01dd8b2",
   "metadata": {},
   "outputs": [],
   "source": [
    "# run this cell to execute the script #\n",
    "\n",
    "!python3.9 advobs202302_s04_00_02.py"
   ]
  },
  {
   "cell_type": "markdown",
   "id": "5d8ecd0c-67e3-48bd-b266-0480fd322c71",
   "metadata": {},
   "source": [
    "## Sample script 00-03 #"
   ]
  },
  {
   "cell_type": "code",
   "execution_count": null,
   "id": "6770e9a3-7175-48af-8144-a0ec46534293",
   "metadata": {},
   "outputs": [],
   "source": [
    "# run this cell to show the source code #\n",
    "\n",
    "!cat advobs202302_s04_00_03.py"
   ]
  },
  {
   "cell_type": "code",
   "execution_count": null,
   "id": "04d0df67-380c-4f4d-9ae3-797a1f699a30",
   "metadata": {},
   "outputs": [],
   "source": [
    "# run this cell to execute the script #\n",
    "\n",
    "!python3.9 advobs202302_s04_00_03.py"
   ]
  },
  {
   "cell_type": "markdown",
   "id": "f9b2a9dd-2be7-48f8-8fc7-b9ccdef1ab3b",
   "metadata": {},
   "source": [
    "## Sample script 00-04 #"
   ]
  },
  {
   "cell_type": "code",
   "execution_count": null,
   "id": "447f52f3-430b-44e2-aba4-8e38511d5c6c",
   "metadata": {},
   "outputs": [],
   "source": [
    "# run this cell to show the source code #\n",
    "\n",
    "!cat advobs202302_s04_00_04.py"
   ]
  },
  {
   "cell_type": "code",
   "execution_count": null,
   "id": "24848c50-cc13-4af3-9264-5fda7ed01876",
   "metadata": {},
   "outputs": [],
   "source": [
    "# run this cell to execute the script #\n",
    "\n",
    "!python3.9 advobs202302_s04_00_04.py"
   ]
  },
  {
   "cell_type": "markdown",
   "id": "20ef352c-1222-4578-bda7-554fcafcdb43",
   "metadata": {},
   "source": [
    "## Sample script 00-05 #"
   ]
  },
  {
   "cell_type": "code",
   "execution_count": null,
   "id": "3ec14940-71d9-4e1c-ab85-99f79d2fe041",
   "metadata": {},
   "outputs": [],
   "source": [
    "# run this cell to show the source code #\n",
    "\n",
    "!cat advobs202302_s04_00_05.py"
   ]
  },
  {
   "cell_type": "code",
   "execution_count": null,
   "id": "1a7cbc18-7859-4293-b4ea-608ee2e2abf6",
   "metadata": {},
   "outputs": [],
   "source": [
    "# run this cell to execute the script #\n",
    "\n",
    "!python3.9 advobs202302_s04_00_05.py"
   ]
  },
  {
   "cell_type": "markdown",
   "id": "7e141a48-00bd-46c5-b476-54f9e8ca8b99",
   "metadata": {},
   "source": [
    "## Sample script 01-00 #"
   ]
  },
  {
   "cell_type": "code",
   "execution_count": null,
   "id": "b27ef305-ad5f-4e08-9334-54a1e9a5b75a",
   "metadata": {},
   "outputs": [],
   "source": [
    "# run this cell to show the source code #\n",
    "\n",
    "!cat advobs202302_s04_01_00.py"
   ]
  },
  {
   "cell_type": "code",
   "execution_count": null,
   "id": "8b4f41d1-8511-442c-9d70-96b87b1a47d0",
   "metadata": {},
   "outputs": [],
   "source": [
    "# run this cell to execute the script #\n",
    "\n",
    "!python3.9 advobs202302_s04_01_00.py"
   ]
  },
  {
   "cell_type": "markdown",
   "id": "e9c2febc-aa8b-4797-a0eb-ffc79e96b746",
   "metadata": {},
   "source": [
    "## Sample script 01-01 #"
   ]
  },
  {
   "cell_type": "code",
   "execution_count": null,
   "id": "b1052903-07c9-4b26-a484-9c1700c545d6",
   "metadata": {},
   "outputs": [],
   "source": [
    "# run this cell to show the source code #\n",
    "\n",
    "!cat advobs202302_s04_01_01.py"
   ]
  },
  {
   "cell_type": "code",
   "execution_count": null,
   "id": "17045efb-3d09-48b1-8f4e-7f45b28834eb",
   "metadata": {},
   "outputs": [],
   "source": [
    "# run this cell to execute the script #\n",
    "\n",
    "!python3.9 advobs202302_s04_01_01.py"
   ]
  },
  {
   "cell_type": "markdown",
   "id": "2554a395-900c-4c48-9aa0-aeb35a195b78",
   "metadata": {},
   "source": [
    "## Sample script 01-02 #"
   ]
  },
  {
   "cell_type": "code",
   "execution_count": null,
   "id": "d0ea9c56-ee90-447a-81a8-15e534829088",
   "metadata": {},
   "outputs": [],
   "source": [
    "# run this cell to show the source code #\n",
    "\n",
    "!cat advobs202302_s04_01_02.py"
   ]
  },
  {
   "cell_type": "code",
   "execution_count": null,
   "id": "e327a926-0496-4105-aa92-ae4161f29dbc",
   "metadata": {},
   "outputs": [],
   "source": [
    "# run this cell to execute the script #\n",
    "\n",
    "!python3.9 advobs202302_s04_01_02.py"
   ]
  },
  {
   "cell_type": "markdown",
   "id": "0a86c372-5e42-47b3-92ad-7673698306f0",
   "metadata": {},
   "source": [
    "## Sample script 02-00 #"
   ]
  },
  {
   "cell_type": "code",
   "execution_count": null,
   "id": "61d65010-3418-49a8-bb9e-3db4126f727a",
   "metadata": {},
   "outputs": [],
   "source": [
    "# run this cell to show the source code #\n",
    "\n",
    "!cat advobs202302_s04_02_00.py"
   ]
  },
  {
   "cell_type": "code",
   "execution_count": null,
   "id": "0f525574-0224-45d4-9fbb-799748fdfae9",
   "metadata": {},
   "outputs": [],
   "source": [
    "# run this cell to execute the script #\n",
    "\n",
    "!python3.9 advobs202302_s04_02_00.py"
   ]
  },
  {
   "cell_type": "markdown",
   "id": "ec9fca9d-835a-4a4e-9b2a-178649aed236",
   "metadata": {},
   "source": [
    "## Sample script 02-01 #"
   ]
  },
  {
   "cell_type": "code",
   "execution_count": null,
   "id": "46afcbb7-7456-484e-af2e-879b2d63eeb1",
   "metadata": {},
   "outputs": [],
   "source": [
    "# run this cell to show the source code #\n",
    "\n",
    "!cat advobs202302_s04_02_01.py"
   ]
  },
  {
   "cell_type": "code",
   "execution_count": null,
   "id": "63574133-30dd-4d1b-85c9-149a1905efa3",
   "metadata": {},
   "outputs": [],
   "source": [
    "# run this cell to execute the script #\n",
    "\n",
    "!python3.9 advobs202302_s04_02_01.py"
   ]
  },
  {
   "cell_type": "markdown",
   "id": "c46716be-3771-4d6c-ba21-1bbe2594164d",
   "metadata": {},
   "source": [
    "## Sample script 02-02 #"
   ]
  },
  {
   "cell_type": "code",
   "execution_count": null,
   "id": "b35fde8a-bfb5-48be-9348-03f4effdc3a3",
   "metadata": {},
   "outputs": [],
   "source": [
    "# run this cell to show the source code #\n",
    "\n",
    "!cat advobs202302_s04_02_02.py"
   ]
  },
  {
   "cell_type": "code",
   "execution_count": null,
   "id": "6f1a0824-4b09-4d44-95d7-fab4de2aa93a",
   "metadata": {},
   "outputs": [],
   "source": [
    "# run this cell to execute the script #\n",
    "\n",
    "!python3.9 advobs202302_s04_02_02.py"
   ]
  },
  {
   "cell_type": "markdown",
   "id": "330902e5-972a-4b0e-8268-62a200afe240",
   "metadata": {},
   "source": [
    "## Sample script 02-03 #"
   ]
  },
  {
   "cell_type": "code",
   "execution_count": null,
   "id": "5c46ba5e-f6c6-449f-807a-88303965ae18",
   "metadata": {},
   "outputs": [],
   "source": [
    "# run this cell to show the source code #\n",
    "\n",
    "!cat advobs202302_s04_02_03.py"
   ]
  },
  {
   "cell_type": "code",
   "execution_count": null,
   "id": "c87a97bf-8bba-4205-995b-b9ce92d46141",
   "metadata": {},
   "outputs": [],
   "source": [
    "# run this cell to execute the script #\n",
    "\n",
    "!python3.9 advobs202302_s04_02_03.py"
   ]
  },
  {
   "cell_type": "markdown",
   "id": "34e643c1-9804-4797-8b51-4ea54c0530b6",
   "metadata": {},
   "source": [
    "## Sample script 02-04 #"
   ]
  },
  {
   "cell_type": "code",
   "execution_count": null,
   "id": "aa02892a-488d-4e3b-a7c9-e0256e10501a",
   "metadata": {},
   "outputs": [],
   "source": [
    "# run this cell to show the source code #\n",
    "\n",
    "!cat advobs202302_s04_02_04.py"
   ]
  },
  {
   "cell_type": "code",
   "execution_count": null,
   "id": "40011cd0-6879-455e-ad02-eebd1bffc3ee",
   "metadata": {},
   "outputs": [],
   "source": [
    "# run this cell to execute the script #\n",
    "\n",
    "!python3.9 advobs202302_s04_02_04.py"
   ]
  },
  {
   "cell_type": "markdown",
   "id": "b56ff35c-a101-4f51-9a2a-65b5c09ca8cd",
   "metadata": {},
   "source": [
    "## Sample script 02-05 #"
   ]
  },
  {
   "cell_type": "code",
   "execution_count": null,
   "id": "0a09d16f-46e3-4087-8428-0b1da6da89c6",
   "metadata": {},
   "outputs": [],
   "source": [
    "# run this cell to show the source code #\n",
    "\n",
    "!cat advobs202302_s04_02_05.py"
   ]
  },
  {
   "cell_type": "code",
   "execution_count": null,
   "id": "5f55b12f-1cc7-4cae-8e0f-093cca99f4af",
   "metadata": {},
   "outputs": [],
   "source": [
    "# run this cell to execute the script #\n",
    "\n",
    "!python3.9 advobs202302_s04_02_05.py"
   ]
  },
  {
   "cell_type": "markdown",
   "id": "e058fd92-fa3c-4998-b203-bae39fb1edf1",
   "metadata": {},
   "source": [
    "## Sample script 02-06 #"
   ]
  },
  {
   "cell_type": "code",
   "execution_count": null,
   "id": "ee0c3951-9aee-4f65-b01c-95b3ecb82027",
   "metadata": {},
   "outputs": [],
   "source": [
    "# run this cell to show the source code #\n",
    "\n",
    "!cat advobs202302_s04_02_06.py"
   ]
  },
  {
   "cell_type": "code",
   "execution_count": null,
   "id": "378c8064-59a9-42b6-9111-15eee227b078",
   "metadata": {},
   "outputs": [],
   "source": [
    "# run this cell to execute the script #\n",
    "\n",
    "!python3.9 advobs202302_s04_02_06.py"
   ]
  },
  {
   "cell_type": "markdown",
   "id": "96807d26-6d60-47ac-aeb6-87216db8295a",
   "metadata": {},
   "source": [
    "## Sample script 02-07 #"
   ]
  },
  {
   "cell_type": "code",
   "execution_count": null,
   "id": "df5eeb3c-7315-446c-8f93-80ca3c7e4772",
   "metadata": {},
   "outputs": [],
   "source": [
    "# run this cell to show the source code #\n",
    "\n",
    "!cat advobs202302_s04_02_07.py"
   ]
  },
  {
   "cell_type": "code",
   "execution_count": null,
   "id": "fd12c865-b936-4900-8911-d0df45ead1ff",
   "metadata": {},
   "outputs": [],
   "source": [
    "# run this cell to execute the script #\n",
    "\n",
    "!python3.9 advobs202302_s04_02_07.py"
   ]
  },
  {
   "cell_type": "markdown",
   "id": "751eaba5-fcd7-49d4-b39c-3c23839a71e3",
   "metadata": {},
   "source": [
    "## Sample script 03-00 #"
   ]
  },
  {
   "cell_type": "code",
   "execution_count": null,
   "id": "eeed11f6-2e03-4c08-b7a1-4910adf16cf9",
   "metadata": {},
   "outputs": [],
   "source": [
    "# run this cell to show the source code #\n",
    "\n",
    "!cat advobs202302_s04_03_00.py"
   ]
  },
  {
   "cell_type": "code",
   "execution_count": null,
   "id": "0e6aa90e-45ae-4978-bcb5-a68538426ffc",
   "metadata": {},
   "outputs": [],
   "source": [
    "# run this cell to execute the script #\n",
    "\n",
    "!python3.9 advobs202302_s04_03_00.py"
   ]
  },
  {
   "cell_type": "markdown",
   "id": "12213675-1561-4489-b756-5b2ecea5ae48",
   "metadata": {},
   "source": [
    "## Sample script 03-01 #"
   ]
  },
  {
   "cell_type": "code",
   "execution_count": null,
   "id": "dbdc9e1a-b872-41be-ae22-1c4349a1836f",
   "metadata": {},
   "outputs": [],
   "source": [
    "# run this cell to show the source code #\n",
    "\n",
    "!cat advobs202302_s04_03_01.py"
   ]
  },
  {
   "cell_type": "code",
   "execution_count": null,
   "id": "c59cb861-0b0c-46c5-bde5-3ddb3d4455db",
   "metadata": {},
   "outputs": [],
   "source": [
    "# run this cell to execute the script #\n",
    "\n",
    "!python3.9 advobs202302_s04_03_01.py"
   ]
  },
  {
   "cell_type": "markdown",
   "id": "6956eb55-b6d3-4130-b696-8a43b3f6e116",
   "metadata": {},
   "source": [
    "## Sample script 04-00 #"
   ]
  },
  {
   "cell_type": "code",
   "execution_count": null,
   "id": "b6298fff-ec57-4d75-abbb-fb48f06339d9",
   "metadata": {},
   "outputs": [],
   "source": [
    "# run this cell to show the source code #\n",
    "\n",
    "!cat advobs202302_s04_04_00.py"
   ]
  },
  {
   "cell_type": "code",
   "execution_count": null,
   "id": "7a8bc053-83c4-47d8-a666-af64b77284b9",
   "metadata": {},
   "outputs": [],
   "source": [
    "# run this cell to execute the script #\n",
    "\n",
    "!python3.9 advobs202302_s04_04_00.py"
   ]
  },
  {
   "cell_type": "code",
   "execution_count": null,
   "id": "12810277-b3f3-478d-aa88-98ec75ba2347",
   "metadata": {},
   "outputs": [],
   "source": [
    "# run this cell to display the plot #\n",
    "\n",
    "import IPython.display\n",
    "\n",
    "IPython.display.Image ('advobs202302_s04_04_00.png')"
   ]
  },
  {
   "cell_type": "markdown",
   "id": "6cb0871e-c1f2-493c-9d9f-88c374079f4d",
   "metadata": {},
   "source": [
    "## Sample script 04-01 #"
   ]
  },
  {
   "cell_type": "code",
   "execution_count": null,
   "id": "a47f7ebc-bcbf-4507-a0b0-4eb0af28033d",
   "metadata": {},
   "outputs": [],
   "source": [
    "# run this cell to show the source code #\n",
    "\n",
    "!cat advobs202302_s04_04_01.py"
   ]
  },
  {
   "cell_type": "code",
   "execution_count": null,
   "id": "868d885e-7620-45f5-9834-1e0262f6c585",
   "metadata": {},
   "outputs": [],
   "source": [
    "# run this cell to execute the script #\n",
    "\n",
    "!python3.9 advobs202302_s04_04_01.py"
   ]
  },
  {
   "cell_type": "code",
   "execution_count": null,
   "id": "8f04762a-f8e5-44ea-9e16-50d951c6a97d",
   "metadata": {},
   "outputs": [],
   "source": [
    "# run this cell to display the plot #\n",
    "\n",
    "import IPython.display\n",
    "\n",
    "IPython.display.Image ('advobs202302_s04_04_01.png')"
   ]
  },
  {
   "cell_type": "markdown",
   "id": "d19afb88-b346-4b59-b4f3-bd5e3eb72a4e",
   "metadata": {},
   "source": [
    "## Sample script 04-02 #"
   ]
  },
  {
   "cell_type": "code",
   "execution_count": null,
   "id": "cec225ba-b895-4f9a-b152-e632350bbb1f",
   "metadata": {},
   "outputs": [],
   "source": [
    "# run this cell to show the source code #\n",
    "\n",
    "!cat advobs202302_s04_04_02.py"
   ]
  },
  {
   "cell_type": "code",
   "execution_count": null,
   "id": "154a7a59-97de-48c9-b1d4-0371d1a915d0",
   "metadata": {},
   "outputs": [],
   "source": [
    "# run this cell to execute the script #\n",
    "\n",
    "!python3.9 advobs202302_s04_04_02.py"
   ]
  },
  {
   "cell_type": "code",
   "execution_count": null,
   "id": "4c1c04e7-7e5a-4959-b67a-9f7b96370013",
   "metadata": {},
   "outputs": [],
   "source": [
    "# run this cell to display the plot #\n",
    "\n",
    "import IPython.display\n",
    "\n",
    "IPython.display.Image ('advobs202302_s04_04_02.png')"
   ]
  },
  {
   "cell_type": "markdown",
   "id": "aa49a546-7b1b-49e5-864a-21c23a917c61",
   "metadata": {},
   "source": [
    "## Sample script 04-03 #"
   ]
  },
  {
   "cell_type": "code",
   "execution_count": null,
   "id": "e4f4685e-e6a7-48da-91aa-525a2df74373",
   "metadata": {},
   "outputs": [],
   "source": [
    "# run this cell to show the source code #\n",
    "\n",
    "!cat advobs202302_s04_04_03.py"
   ]
  },
  {
   "cell_type": "code",
   "execution_count": null,
   "id": "4ab08f96-afb2-4ef1-b503-8f796cf37a92",
   "metadata": {},
   "outputs": [],
   "source": [
    "# run this cell to execute the script #\n",
    "\n",
    "!python3.9 advobs202302_s04_04_03.py"
   ]
  },
  {
   "cell_type": "code",
   "execution_count": null,
   "id": "b9b51bb1-3b02-477b-8566-4f509adce49f",
   "metadata": {},
   "outputs": [],
   "source": [
    "# run this cell to display the plot #\n",
    "\n",
    "import IPython.display\n",
    "\n",
    "IPython.display.Image ('advobs202302_s04_04_03.png')"
   ]
  },
  {
   "cell_type": "markdown",
   "id": "e2965c0f-4646-427b-b48e-07dd9dc19a19",
   "metadata": {},
   "source": [
    "## Sample script 04-04 #"
   ]
  },
  {
   "cell_type": "code",
   "execution_count": null,
   "id": "9fd764e3-e016-4b00-aa91-d1f2d4fb2fc8",
   "metadata": {},
   "outputs": [],
   "source": [
    "# run this cell to show the source code #\n",
    "\n",
    "!cat advobs202302_s04_04_04.py"
   ]
  },
  {
   "cell_type": "code",
   "execution_count": null,
   "id": "9a6ebb90-7255-4d00-b83e-a2301d09bfd8",
   "metadata": {},
   "outputs": [],
   "source": [
    "# run this cell to execute the script #\n",
    "\n",
    "!python3.9 advobs202302_s04_04_04.py"
   ]
  },
  {
   "cell_type": "code",
   "execution_count": null,
   "id": "542c02a6-933f-4ff9-8426-b27628e5f104",
   "metadata": {},
   "outputs": [],
   "source": [
    "# run this cell to display the plot #\n",
    "\n",
    "import IPython.display\n",
    "\n",
    "IPython.display.Image ('advobs202302_s04_04_04.png')"
   ]
  },
  {
   "cell_type": "markdown",
   "id": "22b48109-0cea-4b37-9ee3-3e505a5f408c",
   "metadata": {},
   "source": [
    "## Sample script 04-05 #"
   ]
  },
  {
   "cell_type": "code",
   "execution_count": null,
   "id": "2dcdaa2b-e65d-4787-9833-9a730e5d1e43",
   "metadata": {},
   "outputs": [],
   "source": [
    "# run this cell to show the source code #\n",
    "\n",
    "!cat advobs202302_s04_04_05.py"
   ]
  },
  {
   "cell_type": "code",
   "execution_count": null,
   "id": "a9bc2e2e-bca1-4b8a-9bbf-856157d894a6",
   "metadata": {},
   "outputs": [],
   "source": [
    "# run this cell to execute the script #\n",
    "\n",
    "!python3.9 advobs202302_s04_04_05.py"
   ]
  },
  {
   "cell_type": "code",
   "execution_count": null,
   "id": "47ec87fc-49c9-47d8-8576-1eadcdd158cb",
   "metadata": {},
   "outputs": [],
   "source": [
    "# run this cell to display the plot #\n",
    "\n",
    "import IPython.display\n",
    "\n",
    "IPython.display.Image ('advobs202302_s04_04_05.png')"
   ]
  },
  {
   "cell_type": "markdown",
   "id": "d0c9db7c-e458-40ca-a65d-133265fcf145",
   "metadata": {},
   "source": [
    "## Sample script 04-06 #"
   ]
  },
  {
   "cell_type": "code",
   "execution_count": null,
   "id": "b8964b98-b6d4-4a66-bd5f-162a3f19229d",
   "metadata": {},
   "outputs": [],
   "source": [
    "# run this cell to show the source code #\n",
    "\n",
    "!cat advobs202302_s04_04_06.py"
   ]
  },
  {
   "cell_type": "code",
   "execution_count": null,
   "id": "7017220c-0274-4b23-810d-f1571af4237e",
   "metadata": {},
   "outputs": [],
   "source": [
    "# run this cell to execute the script #\n",
    "\n",
    "!python3.9 advobs202302_s04_04_06.py"
   ]
  },
  {
   "cell_type": "code",
   "execution_count": null,
   "id": "59303db7-c45d-4087-a86a-a006d40969df",
   "metadata": {},
   "outputs": [],
   "source": [
    "# run this cell to display the plot #\n",
    "\n",
    "import IPython.display\n",
    "\n",
    "IPython.display.Image ('advobs202302_s04_04_06.png')"
   ]
  },
  {
   "cell_type": "markdown",
   "id": "673528fe-f69c-4ea3-b566-487092955a4a",
   "metadata": {},
   "source": [
    "## Sample script 05-00 #"
   ]
  },
  {
   "cell_type": "code",
   "execution_count": null,
   "id": "0d91ad36-141b-49e0-8396-2be75daf0c1b",
   "metadata": {},
   "outputs": [],
   "source": [
    "# run this cell to show the source code #\n",
    "\n",
    "!cat advobs202302_s04_05_00.py"
   ]
  },
  {
   "cell_type": "code",
   "execution_count": null,
   "id": "a476f9e1-3107-4f34-b294-f54c6deb92fc",
   "metadata": {},
   "outputs": [],
   "source": [
    "# run this cell to execute the script #\n",
    "\n",
    "!python3.9 advobs202302_s04_05_00.py"
   ]
  },
  {
   "cell_type": "markdown",
   "id": "59385ddd-186a-43a7-a6a1-7cb150ccea33",
   "metadata": {},
   "source": [
    "## Sample script 05-01 #"
   ]
  },
  {
   "cell_type": "code",
   "execution_count": null,
   "id": "9d7936b3-dadd-4f94-b70d-3e9e16ab8c82",
   "metadata": {},
   "outputs": [],
   "source": [
    "# run this cell to show the source code #\n",
    "\n",
    "!cat advobs202302_s04_05_01.py"
   ]
  },
  {
   "cell_type": "code",
   "execution_count": null,
   "id": "8a5fddd4-836c-45db-946d-c892de28104b",
   "metadata": {},
   "outputs": [],
   "source": [
    "# run this cell to execute the script #\n",
    "\n",
    "!python3.9 advobs202302_s04_05_01.py"
   ]
  },
  {
   "cell_type": "markdown",
   "id": "bc24d00f-2dff-4910-a1b9-969595bcbe26",
   "metadata": {},
   "source": [
    "## Sample script 05-02 #"
   ]
  },
  {
   "cell_type": "code",
   "execution_count": null,
   "id": "79da480f-6b60-4e19-8a4e-c073787d0cc0",
   "metadata": {},
   "outputs": [],
   "source": [
    "# run this cell to show the source code #\n",
    "\n",
    "!cat advobs202302_s04_05_02.py"
   ]
  },
  {
   "cell_type": "code",
   "execution_count": null,
   "id": "aa108883-1151-4b2f-b470-727594fb46b5",
   "metadata": {},
   "outputs": [],
   "source": [
    "# run this cell to execute the script #\n",
    "\n",
    "!python3.9 advobs202302_s04_05_02.py"
   ]
  },
  {
   "cell_type": "markdown",
   "id": "6412cc75-1c26-417a-96bc-7b88111ca025",
   "metadata": {},
   "source": [
    "## Sample script 05-03 #"
   ]
  },
  {
   "cell_type": "code",
   "execution_count": null,
   "id": "d773ab87-893e-440f-9a3b-da7da25a7b83",
   "metadata": {},
   "outputs": [],
   "source": [
    "# run this cell to show the source code #\n",
    "\n",
    "!cat advobs202302_s04_05_03.py"
   ]
  },
  {
   "cell_type": "code",
   "execution_count": null,
   "id": "83b5a25a-b1ef-464a-8841-0629233f79ff",
   "metadata": {},
   "outputs": [],
   "source": [
    "# run this cell to execute the script #\n",
    "\n",
    "!python3.9 advobs202302_s04_05_03.py"
   ]
  },
  {
   "cell_type": "markdown",
   "id": "05002c37-620a-430d-95a7-d2cebd73ef52",
   "metadata": {},
   "source": [
    "## Sample script 05-04 #"
   ]
  },
  {
   "cell_type": "code",
   "execution_count": null,
   "id": "ebb5b157-225e-4407-b243-5340147fbe16",
   "metadata": {},
   "outputs": [],
   "source": [
    "# run this cell to show the source code #\n",
    "\n",
    "!cat advobs202302_s04_05_04.py"
   ]
  },
  {
   "cell_type": "code",
   "execution_count": null,
   "id": "a776373b-7585-4659-b8b3-5d494205e358",
   "metadata": {},
   "outputs": [],
   "source": [
    "# run this cell to execute the script #\n",
    "\n",
    "!python3.9 advobs202302_s04_05_04.py"
   ]
  },
  {
   "cell_type": "markdown",
   "id": "0d01240f-fec3-4074-9b69-2ab3c758ea59",
   "metadata": {},
   "source": [
    "## Sample script 05-05 #"
   ]
  },
  {
   "cell_type": "code",
   "execution_count": null,
   "id": "34834dc7-6f8e-4a0c-8e38-777aee5ed22b",
   "metadata": {},
   "outputs": [],
   "source": [
    "# run this cell to show the source code #\n",
    "\n",
    "!cat advobs202302_s04_05_05.py"
   ]
  },
  {
   "cell_type": "code",
   "execution_count": null,
   "id": "7ed36eac-aa28-487a-bc3f-96e5fb737a5f",
   "metadata": {},
   "outputs": [],
   "source": [
    "# run this cell to execute the script #\n",
    "\n",
    "!python3.9 advobs202302_s04_05_05.py"
   ]
  },
  {
   "cell_type": "markdown",
   "id": "eb3b714a-1230-4ca8-903d-229938b7b983",
   "metadata": {},
   "source": [
    "## Sample script 05-06 #"
   ]
  },
  {
   "cell_type": "code",
   "execution_count": null,
   "id": "a354641a-94ca-473c-ad61-fae16e1e46a2",
   "metadata": {},
   "outputs": [],
   "source": [
    "# run this cell to show the source code #\n",
    "\n",
    "!cat advobs202302_s04_05_06.py"
   ]
  },
  {
   "cell_type": "code",
   "execution_count": null,
   "id": "cc87858d-cfa8-4fe3-a7a0-0329dd26a3aa",
   "metadata": {},
   "outputs": [],
   "source": [
    "# run this cell to execute the script #\n",
    "\n",
    "!python3.9 advobs202302_s04_05_06.py"
   ]
  },
  {
   "cell_type": "markdown",
   "id": "7d08e894-c435-4e52-b68c-f891d42bda86",
   "metadata": {},
   "source": [
    "## Sample script 06-00 #"
   ]
  },
  {
   "cell_type": "code",
   "execution_count": null,
   "id": "8305f1e5-cfc6-4bb5-8374-79a22209651b",
   "metadata": {},
   "outputs": [],
   "source": [
    "# run this cell to show the source code #\n",
    "\n",
    "!cat advobs202302_s04_06_00.py"
   ]
  },
  {
   "cell_type": "code",
   "execution_count": null,
   "id": "f656ec0b-53fe-4340-9266-1dd1b41fbbbb",
   "metadata": {},
   "outputs": [],
   "source": [
    "# run this cell to execute the script #\n",
    "\n",
    "!python3.9 advobs202302_s04_06_00.py"
   ]
  },
  {
   "cell_type": "code",
   "execution_count": null,
   "id": "038ad868-d630-464f-8d61-ddf62f0e8317",
   "metadata": {},
   "outputs": [],
   "source": [
    "# run this cell to display the plot #\n",
    "\n",
    "import IPython.display\n",
    "\n",
    "IPython.display.Image ('advobs202302_s04_06_00.png')"
   ]
  },
  {
   "cell_type": "markdown",
   "id": "8b468e75-079d-41e5-8a14-61233dd9d914",
   "metadata": {},
   "source": [
    "## Sample script 06-01 #"
   ]
  },
  {
   "cell_type": "code",
   "execution_count": null,
   "id": "b0545c4d-ed7f-4794-b427-e02a4f74d666",
   "metadata": {},
   "outputs": [],
   "source": [
    "# run this cell to show the source code #\n",
    "\n",
    "!cat advobs202302_s04_06_01.py"
   ]
  },
  {
   "cell_type": "code",
   "execution_count": null,
   "id": "448b9a85-cb4d-4bba-b2ae-108f1b1f62da",
   "metadata": {},
   "outputs": [],
   "source": [
    "# run this cell to execute the script #\n",
    "\n",
    "!python3.9 advobs202302_s04_06_01.py"
   ]
  },
  {
   "cell_type": "code",
   "execution_count": null,
   "id": "d093070b-2604-4e19-9ac9-a3107c851080",
   "metadata": {},
   "outputs": [],
   "source": [
    "# run this cell to display the plot #\n",
    "\n",
    "import IPython.display\n",
    "\n",
    "IPython.display.Image ('advobs202302_s04_06_01.png')"
   ]
  },
  {
   "cell_type": "markdown",
   "id": "401c1061-0ca3-4ef2-a52e-e0c10a23d2c1",
   "metadata": {},
   "source": [
    "## Sample script 06-02 #"
   ]
  },
  {
   "cell_type": "code",
   "execution_count": null,
   "id": "cd10aaaf-673a-4c31-8fe6-b494e1ddcdc8",
   "metadata": {},
   "outputs": [],
   "source": [
    "# run this cell to show the source code #\n",
    "\n",
    "!cat advobs202302_s04_06_02.py"
   ]
  },
  {
   "cell_type": "code",
   "execution_count": null,
   "id": "6ee1fbb6-bc05-4f29-803a-f7a2d31fc45e",
   "metadata": {},
   "outputs": [],
   "source": [
    "# run this cell to execute the script #\n",
    "\n",
    "!python3.9 advobs202302_s04_06_02.py"
   ]
  },
  {
   "cell_type": "code",
   "execution_count": null,
   "id": "3d672951-d1e4-4cef-a2e7-c8d9770ddce8",
   "metadata": {},
   "outputs": [],
   "source": [
    "# run this cell to display the plot #\n",
    "\n",
    "import IPython.display\n",
    "\n",
    "IPython.display.Image ('advobs202302_s04_06_02.png')"
   ]
  },
  {
   "cell_type": "markdown",
   "id": "ea992200-9b5b-4702-9b49-70be396797f2",
   "metadata": {},
   "source": [
    "## Sample script 06-03 #"
   ]
  },
  {
   "cell_type": "code",
   "execution_count": null,
   "id": "eaef805e-f5c3-4106-a0d2-6be4c24cc563",
   "metadata": {},
   "outputs": [],
   "source": [
    "# run this cell to show the source code #\n",
    "\n",
    "!cat advobs202302_s04_06_03.py"
   ]
  },
  {
   "cell_type": "code",
   "execution_count": null,
   "id": "b712498f-67cf-4b19-b660-79aaedca0fbf",
   "metadata": {},
   "outputs": [],
   "source": [
    "# run this cell to execute the script #\n",
    "\n",
    "!python3.9 advobs202302_s04_06_03.py"
   ]
  },
  {
   "cell_type": "code",
   "execution_count": null,
   "id": "2becc701-d3d3-4065-9436-1c374b469dd2",
   "metadata": {},
   "outputs": [],
   "source": [
    "# run this cell to display the plot #\n",
    "\n",
    "import IPython.display\n",
    "\n",
    "IPython.display.Video ('advobs202302_s04_06_03.mp4')"
   ]
  },
  {
   "cell_type": "markdown",
   "id": "6e09d07f-46fe-4723-b1a3-8a360899acfe",
   "metadata": {},
   "source": [
    "## Sample script 07-00 #"
   ]
  },
  {
   "cell_type": "code",
   "execution_count": null,
   "id": "b51cc268-bfb0-4557-a03a-d9397109608c",
   "metadata": {},
   "outputs": [],
   "source": [
    "# run this cell to show the source code #\n",
    "\n",
    "!cat advobs202302_s04_07_00.py"
   ]
  },
  {
   "cell_type": "code",
   "execution_count": null,
   "id": "1b5abff9-42b5-4361-b1c3-93a0f4f162b5",
   "metadata": {},
   "outputs": [],
   "source": [
    "# run this cell to execute the script #\n",
    "\n",
    "!python3.9 advobs202302_s04_07_00.py"
   ]
  },
  {
   "cell_type": "code",
   "execution_count": null,
   "id": "780d50f1-263c-4c44-afc9-e14890655505",
   "metadata": {},
   "outputs": [],
   "source": [
    "# run this cell to display the plot #\n",
    "\n",
    "import IPython.display\n",
    "\n",
    "IPython.display.Image ('advobs202302_s04_07_00.png')"
   ]
  },
  {
   "cell_type": "markdown",
   "id": "7e608f01-0c04-4a3a-9982-ac041acfc0d0",
   "metadata": {},
   "source": [
    "## Sample script 07-01 #"
   ]
  },
  {
   "cell_type": "code",
   "execution_count": null,
   "id": "007c8bb5-2236-443a-96a6-01e1c7c34bb8",
   "metadata": {},
   "outputs": [],
   "source": [
    "# run this cell to show the source code #\n",
    "\n",
    "!cat advobs202302_s04_07_01.py"
   ]
  },
  {
   "cell_type": "code",
   "execution_count": null,
   "id": "7f0aa5ff-08b7-4a26-91a3-5699b1f7c588",
   "metadata": {},
   "outputs": [],
   "source": [
    "# run this cell to execute the script #\n",
    "\n",
    "!python3.9 advobs202302_s04_07_01.py"
   ]
  },
  {
   "cell_type": "code",
   "execution_count": null,
   "id": "3b57758d-d5db-4cdd-bc0d-4e9eb22308b2",
   "metadata": {},
   "outputs": [],
   "source": [
    "# run this cell to display the plot #\n",
    "\n",
    "import IPython.display\n",
    "\n",
    "IPython.display.Image ('advobs202302_s04_07_01.png')"
   ]
  },
  {
   "cell_type": "markdown",
   "id": "6fcc24cc-2f44-4023-b384-3c085e569d66",
   "metadata": {},
   "source": [
    "## Sample script 07-02 #"
   ]
  },
  {
   "cell_type": "code",
   "execution_count": null,
   "id": "8b8d60b7-ef92-4d82-90b8-fd276e0de813",
   "metadata": {},
   "outputs": [],
   "source": [
    "# run this cell to show the source code #\n",
    "\n",
    "!cat advobs202302_s04_07_02.py"
   ]
  },
  {
   "cell_type": "code",
   "execution_count": null,
   "id": "e01db208-4fd8-4909-8a1e-746ed932984f",
   "metadata": {},
   "outputs": [],
   "source": [
    "# run this cell to execute the script #\n",
    "\n",
    "!python3.9 advobs202302_s04_07_02.py"
   ]
  },
  {
   "cell_type": "code",
   "execution_count": null,
   "id": "79670995-40eb-42b2-a2f3-873f4103bc85",
   "metadata": {},
   "outputs": [],
   "source": [
    "# run this cell to display the plot #\n",
    "\n",
    "import IPython.display\n",
    "\n",
    "IPython.display.Image ('advobs202302_s04_07_02.png')"
   ]
  },
  {
   "cell_type": "markdown",
   "id": "8554488b-00dc-4f3b-ae66-32ea59d63f64",
   "metadata": {},
   "source": [
    "## Sample script 07-03 #"
   ]
  },
  {
   "cell_type": "code",
   "execution_count": null,
   "id": "5eeb7863-9db1-4da6-a5ff-26735d72221a",
   "metadata": {},
   "outputs": [],
   "source": [
    "# run this cell to show the source code #\n",
    "\n",
    "!cat advobs202302_s04_07_03.py"
   ]
  },
  {
   "cell_type": "code",
   "execution_count": null,
   "id": "06a3d473-0260-453b-8bcd-a0777f23ee41",
   "metadata": {},
   "outputs": [],
   "source": [
    "# run this cell to execute the script #\n",
    "\n",
    "!python3.9 advobs202302_s04_07_03.py"
   ]
  },
  {
   "cell_type": "code",
   "execution_count": null,
   "id": "0ec1f30d-1c22-47c0-9d7b-ba377659b3b9",
   "metadata": {},
   "outputs": [],
   "source": [
    "# run this cell to display the plot #\n",
    "\n",
    "import IPython.display\n",
    "\n",
    "IPython.display.Image ('advobs202302_s04_07_03.png')"
   ]
  },
  {
   "cell_type": "markdown",
   "id": "c404c625-b778-4993-901d-2dec77b88d4c",
   "metadata": {},
   "source": [
    "## Sample script 07-04 #"
   ]
  },
  {
   "cell_type": "code",
   "execution_count": null,
   "id": "5edcd71e-2df8-46ed-bec4-d7065adc32f8",
   "metadata": {},
   "outputs": [],
   "source": [
    "# run this cell to show the source code #\n",
    "\n",
    "!cat advobs202302_s04_07_04.py"
   ]
  },
  {
   "cell_type": "code",
   "execution_count": null,
   "id": "30107f15-6533-4b41-9e46-3085be8e7398",
   "metadata": {},
   "outputs": [],
   "source": [
    "# run this cell to execute the script #\n",
    "\n",
    "!python3.9 advobs202302_s04_07_04.py"
   ]
  },
  {
   "cell_type": "code",
   "execution_count": null,
   "id": "09675744-83b6-4622-b169-76b04edc0bf1",
   "metadata": {},
   "outputs": [],
   "source": [
    "# run this cell to display the plot #\n",
    "\n",
    "import IPython.display\n",
    "\n",
    "IPython.display.Image ('advobs202302_s04_07_04.png')"
   ]
  },
  {
   "cell_type": "markdown",
   "id": "584bab77-5a4f-4e02-9989-a7816c32ad3d",
   "metadata": {},
   "source": [
    "## Sample script 07-05 #"
   ]
  },
  {
   "cell_type": "code",
   "execution_count": null,
   "id": "f9825748-fa20-467e-8648-cad154ef2fb7",
   "metadata": {},
   "outputs": [],
   "source": [
    "# run this cell to show the source code #\n",
    "\n",
    "!cat advobs202302_s04_07_05.py"
   ]
  },
  {
   "cell_type": "code",
   "execution_count": null,
   "id": "6f307e3c-16e0-4bdf-ae69-143ad8ce4679",
   "metadata": {},
   "outputs": [],
   "source": [
    "# run this cell to execute the script #\n",
    "\n",
    "!python3.9 advobs202302_s04_07_05.py"
   ]
  },
  {
   "cell_type": "code",
   "execution_count": null,
   "id": "8c2618a6-f1d4-4c86-afb6-ec9f22b6e2f4",
   "metadata": {},
   "outputs": [],
   "source": [
    "# run this cell to display the plot #\n",
    "\n",
    "import IPython.display\n",
    "\n",
    "IPython.display.Image ('advobs202302_s04_07_05.png')"
   ]
  },
  {
   "cell_type": "markdown",
   "id": "a8bdf69e-e102-4df4-b568-45d873803b39",
   "metadata": {},
   "source": [
    "## Sample script 08-00 #"
   ]
  },
  {
   "cell_type": "code",
   "execution_count": null,
   "id": "258941b1-2003-481b-b938-0fc36626c68c",
   "metadata": {},
   "outputs": [],
   "source": [
    "# run this cell to show the source code #\n",
    "\n",
    "!cat advobs202302_s04_08_00.py"
   ]
  },
  {
   "cell_type": "code",
   "execution_count": null,
   "id": "b40a6027-e5fb-4464-82c2-0c5ec468ab7f",
   "metadata": {},
   "outputs": [],
   "source": [
    "# run this cell to execute the script #\n",
    "\n",
    "!python3.9 advobs202302_s04_08_00.py"
   ]
  },
  {
   "cell_type": "code",
   "execution_count": null,
   "id": "f9c29d30-57b8-469f-9f9a-328aceaae6e8",
   "metadata": {},
   "outputs": [],
   "source": [
    "# run this cell to check generated file #\n",
    "\n",
    "!ls -lF *.data\n",
    "\n",
    "!file advobs202302_s04_08_00.data\n",
    "\n",
    "!cat advobs202302_s04_08_00.data"
   ]
  },
  {
   "cell_type": "markdown",
   "id": "15358748-b68e-4144-9928-b0bc941110eb",
   "metadata": {},
   "source": [
    "## Sample script 08-01 #"
   ]
  },
  {
   "cell_type": "code",
   "execution_count": null,
   "id": "7bb885f5-64c2-400f-a2c0-010fbac921d2",
   "metadata": {},
   "outputs": [],
   "source": [
    "# run this cell to show the source code #\n",
    "\n",
    "!cat advobs202302_s04_08_01.py"
   ]
  },
  {
   "cell_type": "code",
   "execution_count": null,
   "id": "7c86c53f-a7de-4886-b98c-745d0d5bc657",
   "metadata": {},
   "outputs": [],
   "source": [
    "# run this cell to execute the script #\n",
    "\n",
    "!python3.9 advobs202302_s04_08_01.py"
   ]
  },
  {
   "cell_type": "code",
   "execution_count": null,
   "id": "ebcc7764-a0b2-4e95-9624-0964189c7571",
   "metadata": {},
   "outputs": [],
   "source": [
    "# run this cell to display the plot #\n",
    "\n",
    "import IPython.display\n",
    "\n",
    "IPython.display.Image ('advobs202302_s04_08_01.png')"
   ]
  },
  {
   "cell_type": "markdown",
   "id": "c49f7bc7-1f60-4d12-80b4-f17d79cf1c4c",
   "metadata": {},
   "source": [
    "## Sample script 08-02 #"
   ]
  },
  {
   "cell_type": "code",
   "execution_count": null,
   "id": "d7c54021-d09e-4140-b919-42ea0c086474",
   "metadata": {},
   "outputs": [],
   "source": [
    "# run this cell to show the source code #\n",
    "\n",
    "!cat advobs202302_s04_08_02.py"
   ]
  },
  {
   "cell_type": "code",
   "execution_count": null,
   "id": "7673d40d-d51b-4275-89c4-246a596fb318",
   "metadata": {},
   "outputs": [],
   "source": [
    "# run this cell to execute the script #\n",
    "\n",
    "!python3.9 advobs202302_s04_08_02.py"
   ]
  },
  {
   "cell_type": "code",
   "execution_count": null,
   "id": "75076305-0d32-4b3d-923c-23e540ac9696",
   "metadata": {},
   "outputs": [],
   "source": [
    "# run this cell to display the plot #\n",
    "\n",
    "import IPython.display\n",
    "\n",
    "IPython.display.Image ('advobs202302_s04_08_02.png')"
   ]
  },
  {
   "cell_type": "markdown",
   "id": "c4352aea-06be-4b67-aff3-f935f4bb6d14",
   "metadata": {},
   "source": [
    "## Sample script 08-03 #"
   ]
  },
  {
   "cell_type": "code",
   "execution_count": null,
   "id": "9e51c881-a9ae-45cb-ab30-b7882f2bf971",
   "metadata": {},
   "outputs": [],
   "source": [
    "# run this cell to show the source code #\n",
    "\n",
    "!cat advobs202302_s04_08_03.py"
   ]
  },
  {
   "cell_type": "code",
   "execution_count": null,
   "id": "4650fc79-4972-4bdc-b952-26410ee194f7",
   "metadata": {},
   "outputs": [],
   "source": [
    "# run this cell to execute the script #\n",
    "\n",
    "!python3.9 advobs202302_s04_08_03.py"
   ]
  },
  {
   "cell_type": "code",
   "execution_count": null,
   "id": "dda85d82-a4fe-425d-becc-14348e6e04d2",
   "metadata": {},
   "outputs": [],
   "source": [
    "# run this cell to check generated file #\n",
    "\n",
    "!ls -lF *.data\n",
    "\n",
    "!file advobs202302_s04_08_03.data\n",
    "\n",
    "!cat advobs202302_s04_08_03.data"
   ]
  },
  {
   "cell_type": "markdown",
   "id": "38286b65-c3e8-4895-9940-7efebfc0a8f2",
   "metadata": {},
   "source": [
    "## Sample script 08-04 #"
   ]
  },
  {
   "cell_type": "code",
   "execution_count": null,
   "id": "f887cf06-fcfb-4e30-a1f6-6f449f68fa25",
   "metadata": {},
   "outputs": [],
   "source": [
    "# run this cell to show the source code #\n",
    "\n",
    "!cat advobs202302_s04_08_04.py"
   ]
  },
  {
   "cell_type": "code",
   "execution_count": null,
   "id": "365c4f58-971e-4376-812e-4f6c66c1d545",
   "metadata": {},
   "outputs": [],
   "source": [
    "# run this cell to execute the script #\n",
    "\n",
    "!python3.9 advobs202302_s04_08_04.py"
   ]
  },
  {
   "cell_type": "code",
   "execution_count": null,
   "id": "eaff5298-fd68-4e9a-8ae6-9924d27b2c7b",
   "metadata": {},
   "outputs": [],
   "source": [
    "# run this cell to display the plot #\n",
    "\n",
    "import IPython.display\n",
    "\n",
    "IPython.display.Image ('advobs202302_s04_08_04.png')"
   ]
  },
  {
   "cell_type": "markdown",
   "id": "94443034-6ecc-4a28-94a0-963a9ea35ed2",
   "metadata": {},
   "source": [
    "## Sample script 08-05 #"
   ]
  },
  {
   "cell_type": "code",
   "execution_count": null,
   "id": "09da460e-43cf-49c7-a7a9-6bf0201abecc",
   "metadata": {},
   "outputs": [],
   "source": [
    "# run this cell to show the source code #\n",
    "\n",
    "!cat advobs202302_s04_08_05.py"
   ]
  },
  {
   "cell_type": "code",
   "execution_count": null,
   "id": "48c6f992-2cd2-4ccc-b795-24e4d705e376",
   "metadata": {},
   "outputs": [],
   "source": [
    "# run this cell to execute the script #\n",
    "\n",
    "!python3.9 advobs202302_s04_08_05.py"
   ]
  },
  {
   "cell_type": "code",
   "execution_count": null,
   "id": "486050d8-4dbb-443b-a569-65016fb5b9af",
   "metadata": {},
   "outputs": [],
   "source": [
    "# run this cell to display the plot #\n",
    "\n",
    "import IPython.display\n",
    "\n",
    "IPython.display.Image ('advobs202302_s04_08_05.png')"
   ]
  },
  {
   "cell_type": "markdown",
   "id": "974c8f43-a2e3-48c9-a7a4-5afc6cc53924",
   "metadata": {},
   "source": [
    "## Sample script 08-06 #"
   ]
  },
  {
   "cell_type": "code",
   "execution_count": null,
   "id": "ae29d90b-8de8-4418-a5fa-3a5f33396ecb",
   "metadata": {},
   "outputs": [],
   "source": [
    "# run this cell to show the source code #\n",
    "\n",
    "!cat advobs202302_s04_08_06.py"
   ]
  },
  {
   "cell_type": "code",
   "execution_count": null,
   "id": "edfd9413-31d7-4ff5-b5f7-fb04f861d68d",
   "metadata": {},
   "outputs": [],
   "source": [
    "# run this cell to execute the script #\n",
    "\n",
    "!python3.9 advobs202302_s04_08_06.py"
   ]
  },
  {
   "cell_type": "code",
   "execution_count": null,
   "id": "5dd5761e-597e-424c-a368-6d49ebf731ee",
   "metadata": {},
   "outputs": [],
   "source": [
    "# run this cell to display the plot #\n",
    "\n",
    "import IPython.display\n",
    "\n",
    "IPython.display.Image ('advobs202302_s04_08_06.png')"
   ]
  },
  {
   "cell_type": "markdown",
   "id": "a2bd4083-5c24-436c-a4b4-9391e110ef70",
   "metadata": {},
   "source": [
    "## Sample script 08-07 #"
   ]
  },
  {
   "cell_type": "code",
   "execution_count": null,
   "id": "91aa2756-e239-455a-af74-00f266166c52",
   "metadata": {},
   "outputs": [],
   "source": [
    "# run this cell to show the source code #\n",
    "\n",
    "!cat advobs202302_s04_08_07.py"
   ]
  },
  {
   "cell_type": "code",
   "execution_count": null,
   "id": "903016a9-10c1-49ce-a32a-dd8c6f6c149e",
   "metadata": {},
   "outputs": [],
   "source": [
    "# run this cell to execute the script #\n",
    "\n",
    "!python3.9 advobs202302_s04_08_07.py"
   ]
  },
  {
   "cell_type": "code",
   "execution_count": null,
   "id": "ed931610-0e03-4e4a-ad29-29ebcb94df43",
   "metadata": {},
   "outputs": [],
   "source": [
    "# run this cell to check generated file #\n",
    "\n",
    "!ls -lF *.data\n",
    "\n",
    "!file advobs202302_s04_08_07.data\n",
    "\n",
    "!cat advobs202302_s04_08_07.data"
   ]
  },
  {
   "cell_type": "markdown",
   "id": "73497b23-b427-43fb-aa89-11c77428b811",
   "metadata": {},
   "source": [
    "## Sample script 08-08 #"
   ]
  },
  {
   "cell_type": "code",
   "execution_count": null,
   "id": "18eb3a12-8ea5-4df6-a9e1-6a43ed1e0e23",
   "metadata": {},
   "outputs": [],
   "source": [
    "# run this cell to show the source code #\n",
    "\n",
    "!cat advobs202302_s04_08_08.py"
   ]
  },
  {
   "cell_type": "code",
   "execution_count": null,
   "id": "691490df-b944-4d67-9d79-27a446fffd14",
   "metadata": {},
   "outputs": [],
   "source": [
    "# run this cell to execute the script #\n",
    "\n",
    "!python3.9 advobs202302_s04_08_08.py"
   ]
  },
  {
   "cell_type": "code",
   "execution_count": null,
   "id": "f3c2ea70-679e-4bc1-aa7f-cb10b4d97dc9",
   "metadata": {},
   "outputs": [],
   "source": [
    "# run this cell to display the plot #\n",
    "\n",
    "import IPython.display\n",
    "\n",
    "IPython.display.Image ('advobs202302_s04_08_08.png')"
   ]
  },
  {
   "cell_type": "markdown",
   "id": "86a28208-5745-4f3a-94bc-e5b9b09edc88",
   "metadata": {},
   "source": [
    "## Sample script 08-09 #"
   ]
  },
  {
   "cell_type": "code",
   "execution_count": null,
   "id": "bcb8fdbd-0fcf-48f1-8206-2a3b08edc957",
   "metadata": {},
   "outputs": [],
   "source": [
    "# run this cell to show the source code #\n",
    "\n",
    "!cat advobs202302_s04_08_09.py"
   ]
  },
  {
   "cell_type": "code",
   "execution_count": null,
   "id": "2ed80712-da55-4c30-aaa6-eac980c1a209",
   "metadata": {},
   "outputs": [],
   "source": [
    "# run this cell to execute the script #\n",
    "\n",
    "!python3.9 advobs202302_s04_08_09.py"
   ]
  },
  {
   "cell_type": "code",
   "execution_count": null,
   "id": "e4b937e6-2971-4c4f-8ff8-3c103827299f",
   "metadata": {},
   "outputs": [],
   "source": [
    "# run this cell to display the plot #\n",
    "\n",
    "import IPython.display\n",
    "\n",
    "IPython.display.Image ('advobs202302_s04_08_09.png')"
   ]
  },
  {
   "cell_type": "markdown",
   "id": "485c6ecb-47e1-4630-9f38-04f0ead9d01c",
   "metadata": {},
   "source": [
    "## Sample script 08-10 #"
   ]
  },
  {
   "cell_type": "code",
   "execution_count": null,
   "id": "bb14d956-c3fa-4b86-8ae4-393ac4fc0e0a",
   "metadata": {},
   "outputs": [],
   "source": [
    "# run this cell to show the source code #\n",
    "\n",
    "!cat advobs202302_s04_08_10.py"
   ]
  },
  {
   "cell_type": "code",
   "execution_count": null,
   "id": "061ed963-360c-4ccb-b766-bf894ed6ba27",
   "metadata": {},
   "outputs": [],
   "source": [
    "# run this cell to execute the script #\n",
    "\n",
    "!python3.9 advobs202302_s04_08_10.py"
   ]
  },
  {
   "cell_type": "code",
   "execution_count": null,
   "id": "9b0c41ad-df11-49d7-92fb-0f454ed36e7b",
   "metadata": {},
   "outputs": [],
   "source": [
    "# run this cell to check generated file #\n",
    "\n",
    "!ls -lF *.data\n",
    "\n",
    "!file advobs202302_s04_08_10.data\n",
    "\n",
    "!cat advobs202302_s04_08_10.data"
   ]
  },
  {
   "cell_type": "markdown",
   "id": "a38aa44d-5e6c-474c-8716-3838149f66ae",
   "metadata": {},
   "source": [
    "## Sample script 08-11 #"
   ]
  },
  {
   "cell_type": "code",
   "execution_count": null,
   "id": "bb2f1343-ba93-4a63-877b-9668e3d0e7ea",
   "metadata": {},
   "outputs": [],
   "source": [
    "# run this cell to show the source code #\n",
    "\n",
    "!cat advobs202302_s04_08_11.py"
   ]
  },
  {
   "cell_type": "code",
   "execution_count": null,
   "id": "195bfcb2-0ad8-4bbc-aee8-74b75099293f",
   "metadata": {},
   "outputs": [],
   "source": [
    "# run this cell to execute the script #\n",
    "\n",
    "!python3.9 advobs202302_s04_08_11.py"
   ]
  },
  {
   "cell_type": "code",
   "execution_count": null,
   "id": "de5768bd-f9d0-4195-8715-935bb67dd20b",
   "metadata": {},
   "outputs": [],
   "source": [
    "# run this cell to display the plot #\n",
    "\n",
    "import IPython.display\n",
    "\n",
    "IPython.display.Image ('advobs202302_s04_08_11.png')"
   ]
  },
  {
   "cell_type": "markdown",
   "id": "7d9344ba-eae2-46e3-bb52-06973c3214be",
   "metadata": {},
   "source": [
    "## Sample script 08-12 #"
   ]
  },
  {
   "cell_type": "code",
   "execution_count": null,
   "id": "6031b69d-eeb9-4a6f-88cd-05a763fb9471",
   "metadata": {},
   "outputs": [],
   "source": [
    "# run this cell to show the source code #\n",
    "\n",
    "!cat advobs202302_s04_08_12.py"
   ]
  },
  {
   "cell_type": "code",
   "execution_count": null,
   "id": "bfa1c5a4-8959-4a6b-88a8-f38f74984949",
   "metadata": {},
   "outputs": [],
   "source": [
    "# run this cell to execute the script #\n",
    "\n",
    "!python3.9 advobs202302_s04_08_12.py"
   ]
  },
  {
   "cell_type": "code",
   "execution_count": null,
   "id": "fab2d088-7ed0-4d0f-a751-621cb2809e90",
   "metadata": {},
   "outputs": [],
   "source": [
    "# run this cell to display the plot #\n",
    "\n",
    "import IPython.display\n",
    "\n",
    "IPython.display.Image ('advobs202302_s04_08_12.png')"
   ]
  },
  {
   "cell_type": "markdown",
   "id": "0c47d284-764c-4496-b2a6-cbfe1dc75a08",
   "metadata": {},
   "source": [
    "## Sample script 08-13 #"
   ]
  },
  {
   "cell_type": "code",
   "execution_count": null,
   "id": "bc532447-f90b-4b4f-8baf-f09c816bfe32",
   "metadata": {},
   "outputs": [],
   "source": [
    "# run this cell to show the source code #\n",
    "\n",
    "!cat advobs202302_s04_08_13.py"
   ]
  },
  {
   "cell_type": "code",
   "execution_count": null,
   "id": "f4339601-d876-4e3f-a095-63d0bf6f6262",
   "metadata": {},
   "outputs": [],
   "source": [
    "# run this cell to execute the script #\n",
    "\n",
    "!python3.9 advobs202302_s04_08_13.py"
   ]
  },
  {
   "cell_type": "code",
   "execution_count": null,
   "id": "2a9c2263-de4d-49c3-8a40-2d9ad5e1f439",
   "metadata": {},
   "outputs": [],
   "source": [
    "# run this cell to display the plot #\n",
    "\n",
    "import IPython.display\n",
    "\n",
    "IPython.display.Image ('advobs202302_s04_08_13.png')"
   ]
  },
  {
   "cell_type": "markdown",
   "id": "61f4192c-48ab-4c64-b5c6-4531757acba4",
   "metadata": {},
   "source": [
    "## Sample script 08-14 #"
   ]
  },
  {
   "cell_type": "code",
   "execution_count": null,
   "id": "11986bfb-4ce0-4fd3-8a30-88b1c658c09f",
   "metadata": {},
   "outputs": [],
   "source": [
    "# run this cell to show the source code #\n",
    "\n",
    "!cat advobs202302_s04_08_14.py"
   ]
  },
  {
   "cell_type": "code",
   "execution_count": null,
   "id": "ddc35a3b-df6a-407c-8545-fd750c628d4e",
   "metadata": {},
   "outputs": [],
   "source": [
    "# run this cell to execute the script #\n",
    "\n",
    "!python3.9 advobs202302_s04_08_14.py"
   ]
  },
  {
   "cell_type": "code",
   "execution_count": null,
   "id": "8632d4b3-4db7-4e45-afa7-b4c02f1e94d5",
   "metadata": {},
   "outputs": [],
   "source": [
    "# run this cell to check generated file #\n",
    "\n",
    "!ls -lF *.data\n",
    "\n",
    "!file advobs202302_s04_08_14.data\n",
    "\n",
    "!cat advobs202302_s04_08_14.data"
   ]
  },
  {
   "cell_type": "markdown",
   "id": "613221ae-5fe3-451a-8313-6aa02949dd19",
   "metadata": {},
   "source": [
    "## Sample script 08-15 #"
   ]
  },
  {
   "cell_type": "code",
   "execution_count": null,
   "id": "7ad204a2-c800-46c5-bde1-a38f63447f82",
   "metadata": {},
   "outputs": [],
   "source": [
    "# run this cell to show the source code #\n",
    "\n",
    "!cat advobs202302_s04_08_15.py"
   ]
  },
  {
   "cell_type": "code",
   "execution_count": null,
   "id": "7baa422f-230d-45fc-a0d7-d3dc17033aa4",
   "metadata": {},
   "outputs": [],
   "source": [
    "# run this cell to execute the script #\n",
    "\n",
    "!python3.9 advobs202302_s04_08_15.py"
   ]
  },
  {
   "cell_type": "code",
   "execution_count": null,
   "id": "f0fb3c85-4188-4fc2-8367-a9d8b3cb9a47",
   "metadata": {},
   "outputs": [],
   "source": [
    "# run this cell to display the plot #\n",
    "\n",
    "import IPython.display\n",
    "\n",
    "IPython.display.Image ('advobs202302_s04_08_15.png')"
   ]
  },
  {
   "cell_type": "markdown",
   "id": "43be4df8-cc35-4d37-8cfa-9360be325d94",
   "metadata": {},
   "source": [
    "## Sample script 08-16 #"
   ]
  },
  {
   "cell_type": "code",
   "execution_count": null,
   "id": "f5f02e47-6141-4bc9-8dea-949c066bf37b",
   "metadata": {},
   "outputs": [],
   "source": [
    "# run this cell to show the source code #\n",
    "\n",
    "!cat advobs202302_s04_08_16.py"
   ]
  },
  {
   "cell_type": "code",
   "execution_count": null,
   "id": "a09d54a6-0c64-4cde-a449-d8f587282318",
   "metadata": {},
   "outputs": [],
   "source": [
    "# run this cell to execute the script #\n",
    "\n",
    "!python3.9 advobs202302_s04_08_16.py"
   ]
  },
  {
   "cell_type": "markdown",
   "id": "8a806c8c-c8af-4c77-9ad1-c986c127a94e",
   "metadata": {},
   "source": [
    "## Sample script 08-17 #"
   ]
  },
  {
   "cell_type": "code",
   "execution_count": null,
   "id": "f46bc962-7f9b-41aa-9e57-4ba2018022dd",
   "metadata": {},
   "outputs": [],
   "source": [
    "# run this cell to show the source code #\n",
    "\n",
    "!cat advobs202302_s04_08_17.py"
   ]
  },
  {
   "cell_type": "code",
   "execution_count": null,
   "id": "32b306f6-a1d4-49f1-8661-b570e4886e5b",
   "metadata": {},
   "outputs": [],
   "source": [
    "# run this cell to execute the script #\n",
    "\n",
    "!python3.9 advobs202302_s04_08_17.py"
   ]
  },
  {
   "cell_type": "code",
   "execution_count": null,
   "id": "f67a6504-0dfc-4e41-8e3b-2e84bcccf447",
   "metadata": {},
   "outputs": [],
   "source": [
    "# run this cell to display the plot #\n",
    "\n",
    "import IPython.display\n",
    "\n",
    "IPython.display.Image ('advobs202302_s04_08_17.png')"
   ]
  },
  {
   "cell_type": "markdown",
   "id": "a65ac6a8-c276-45b2-a760-5310ef130ca7",
   "metadata": {},
   "source": [
    "## Sample script 08-18 #"
   ]
  },
  {
   "cell_type": "code",
   "execution_count": null,
   "id": "59cfd6a2-b89c-49bd-8c1f-ad1714693a99",
   "metadata": {},
   "outputs": [],
   "source": [
    "# run this cell to show the source code #\n",
    "\n",
    "!cat advobs202302_s04_08_18.py"
   ]
  },
  {
   "cell_type": "code",
   "execution_count": null,
   "id": "beaf9e70-7801-4d2a-a38d-c9e6de6dabdd",
   "metadata": {},
   "outputs": [],
   "source": [
    "# run this cell to execute the script #\n",
    "\n",
    "!python3.9 advobs202302_s04_08_18.py"
   ]
  },
  {
   "cell_type": "code",
   "execution_count": null,
   "id": "3b21ebc5-5dfb-4515-9c79-9976f231c597",
   "metadata": {},
   "outputs": [],
   "source": [
    "# run this cell to check generated file #\n",
    "\n",
    "!ls -lF *.data\n",
    "\n",
    "!file solsys.data\n",
    "\n",
    "!cat solsys.data"
   ]
  },
  {
   "cell_type": "markdown",
   "id": "e1336074-5369-4557-965e-5656be2cd754",
   "metadata": {},
   "source": [
    "## Sample script 08-19 #"
   ]
  },
  {
   "cell_type": "code",
   "execution_count": null,
   "id": "6ea8abf9-8d11-4268-b657-a7beddf381a5",
   "metadata": {},
   "outputs": [],
   "source": [
    "# run this cell to show the source code #\n",
    "\n",
    "!cat advobs202302_s04_08_19.py"
   ]
  },
  {
   "cell_type": "code",
   "execution_count": null,
   "id": "9520e4fd-0d58-448a-ace8-a070653a9f8b",
   "metadata": {},
   "outputs": [],
   "source": [
    "# run this cell to execute the script #\n",
    "\n",
    "!python3.9 advobs202302_s04_08_19.py"
   ]
  },
  {
   "cell_type": "code",
   "execution_count": null,
   "id": "3212b600-42b0-4edc-b2b9-138ce117aa4b",
   "metadata": {},
   "outputs": [],
   "source": [
    "# run this cell to display the plot #\n",
    "\n",
    "import IPython.display\n",
    "\n",
    "IPython.display.Image ('advobs202302_s04_08_19.png')"
   ]
  },
  {
   "cell_type": "markdown",
   "id": "8abc45db-5421-481d-b59e-f9f03a40cb1c",
   "metadata": {},
   "source": [
    "## Sample script 08-20 #"
   ]
  },
  {
   "cell_type": "code",
   "execution_count": null,
   "id": "7030a98e-5cd7-4377-83ad-7a7ba090a118",
   "metadata": {},
   "outputs": [],
   "source": [
    "# run this cell to show the source code #\n",
    "\n",
    "!cat advobs202302_s04_08_20.py"
   ]
  },
  {
   "cell_type": "code",
   "execution_count": null,
   "id": "8ae99e0b-d9b6-45ef-be0a-708a701c194b",
   "metadata": {},
   "outputs": [],
   "source": [
    "# run this cell to execute the script #\n",
    "\n",
    "!python3.9 advobs202302_s04_08_20.py"
   ]
  },
  {
   "cell_type": "code",
   "execution_count": null,
   "id": "de872f58-811b-4c24-afcc-4005ec5f54c2",
   "metadata": {},
   "outputs": [],
   "source": [
    "# run this cell to display the plot #\n",
    "\n",
    "import IPython.display\n",
    "\n",
    "IPython.display.Image ('advobs202302_s04_08_20.png')"
   ]
  },
  {
   "cell_type": "markdown",
   "id": "463e8620-1d57-49ca-a34c-1d6515e93d47",
   "metadata": {},
   "source": [
    "## end of this notebook ##"
   ]
  },
  {
   "cell_type": "code",
   "execution_count": null,
   "id": "8d7f4043-26c2-4f71-ad45-ec4fea733b88",
   "metadata": {},
   "outputs": [],
   "source": []
  }
 ],
 "metadata": {
  "kernelspec": {
   "display_name": "Python 3 (ipykernel)",
   "language": "python",
   "name": "python3"
  },
  "language_info": {
   "codemirror_mode": {
    "name": "ipython",
    "version": 3
   },
   "file_extension": ".py",
   "mimetype": "text/x-python",
   "name": "python",
   "nbconvert_exporter": "python",
   "pygments_lexer": "ipython3",
   "version": "3.9.16"
  }
 },
 "nbformat": 4,
 "nbformat_minor": 5
}
