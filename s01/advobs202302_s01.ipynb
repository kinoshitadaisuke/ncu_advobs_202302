{
 "cells": [
  {
   "cell_type": "markdown",
   "id": "0aa9fe00-f298-461a-94c5-b46a0a5c61f1",
   "metadata": {},
   "source": [
    "# Advanced Astronomical Observations #\n",
    "\n",
    "## Session #01: Basic Python Programming ##\n",
    "\n",
    "Kinoshita Daisuke\n",
    "\n",
    "Institute of Astronomy, National Central University\n",
    "\n",
    "17/Feb/2023"
   ]
  },
  {
   "cell_type": "markdown",
   "id": "e6c37be3-0c45-4faf-bae5-4c8509254604",
   "metadata": {},
   "source": [
    "### sample script 00-00 ###"
   ]
  },
  {
   "cell_type": "code",
   "execution_count": null,
   "id": "d466a331-7b73-406c-825a-99384a671e4c",
   "metadata": {},
   "outputs": [],
   "source": [
    "# run this cell to show the source code #\n",
    "\n",
    "!cat advobs202302_s01_00_00.py"
   ]
  },
  {
   "cell_type": "code",
   "execution_count": null,
   "id": "55521e45-8b33-491e-af7c-df4e911e457b",
   "metadata": {},
   "outputs": [],
   "source": [
    "# run this cell to execute the script #\n",
    "\n",
    "!python3.9 advobs202302_s01_00_00.py"
   ]
  },
  {
   "cell_type": "markdown",
   "id": "cd319c41-7a5b-4452-9c35-a472a276ff50",
   "metadata": {},
   "source": [
    "### sample script 00-01 ###"
   ]
  },
  {
   "cell_type": "code",
   "execution_count": null,
   "id": "b8e46c94-3123-41e6-9b13-4b5020e9cb95",
   "metadata": {},
   "outputs": [],
   "source": [
    "# run this cell to show the source code #\n",
    "\n",
    "!cat advobs202302_s01_00_01.py"
   ]
  },
  {
   "cell_type": "code",
   "execution_count": null,
   "id": "bf3937c2-114c-4fbc-933c-8570e18ce8c1",
   "metadata": {},
   "outputs": [],
   "source": [
    "# run this cell to execute the script #\n",
    "\n",
    "!python3.9 advobs202302_s01_00_01.py"
   ]
  },
  {
   "cell_type": "markdown",
   "id": "a8b13fec-b7eb-4e82-8237-72907a2740a1",
   "metadata": {},
   "source": [
    "### sample script 00-02 ###"
   ]
  },
  {
   "cell_type": "code",
   "execution_count": null,
   "id": "9a4ff816-6c21-43eb-a3a1-fc0aa0841ab7",
   "metadata": {},
   "outputs": [],
   "source": [
    "# run this cell to show the source code #\n",
    "\n",
    "!cat advobs202302_s01_00_02.py"
   ]
  },
  {
   "cell_type": "code",
   "execution_count": null,
   "id": "c81ccef3-11d4-44c9-8341-1d5e20993c63",
   "metadata": {},
   "outputs": [],
   "source": [
    "# run this cell to execute the script #\n",
    "\n",
    "!python3.9 advobs202302_s01_00_02.py"
   ]
  },
  {
   "cell_type": "markdown",
   "id": "65dd5b6e-96f9-44e0-91c6-dbc07d21339f",
   "metadata": {},
   "source": [
    "### sample script 00-03 ###"
   ]
  },
  {
   "cell_type": "code",
   "execution_count": null,
   "id": "94ffd6f5-e007-45dd-815d-6f5d89a47ce1",
   "metadata": {},
   "outputs": [],
   "source": [
    "# run this cell to show the source code #\n",
    "\n",
    "!cat advobs202302_s01_00_03.py"
   ]
  },
  {
   "cell_type": "code",
   "execution_count": null,
   "id": "8cafe50a-1389-411d-b5ea-7d3c4b4331a7",
   "metadata": {},
   "outputs": [],
   "source": [
    "# run this cell to execute the script #\n",
    "\n",
    "!python3.9 advobs202302_s01_00_03.py"
   ]
  },
  {
   "cell_type": "markdown",
   "id": "7eb95d2b-dd58-458e-b49d-32752fc5b4af",
   "metadata": {},
   "source": [
    "### sample script 00-04 ###"
   ]
  },
  {
   "cell_type": "code",
   "execution_count": null,
   "id": "59cd8dc5-68d2-41ea-8505-0f6eae132aec",
   "metadata": {},
   "outputs": [],
   "source": [
    "# run this cell to show the source code #\n",
    "\n",
    "!cat advobs202302_s01_00_04.py"
   ]
  },
  {
   "cell_type": "code",
   "execution_count": null,
   "id": "042d0f94-7180-4305-842c-da962f063c3e",
   "metadata": {},
   "outputs": [],
   "source": [
    "# run this cell to execute the script #\n",
    "\n",
    "!python3.9 advobs202302_s01_00_04.py"
   ]
  },
  {
   "cell_type": "markdown",
   "id": "4dc9a059-f7f8-4ea0-8e34-aed236c4de29",
   "metadata": {},
   "source": [
    "### sample script 00-05 ###"
   ]
  },
  {
   "cell_type": "code",
   "execution_count": null,
   "id": "ac6bfc8f-1452-4eae-8002-125b260c5655",
   "metadata": {},
   "outputs": [],
   "source": [
    "# run this cell to show the source code #\n",
    "\n",
    "!cat advobs202302_s01_00_05.py"
   ]
  },
  {
   "cell_type": "code",
   "execution_count": null,
   "id": "7752ae37-e433-4efe-8394-472df166b293",
   "metadata": {},
   "outputs": [],
   "source": [
    "# run this cell to execute the script #\n",
    "\n",
    "!python3.9 advobs202302_s01_00_05.py"
   ]
  },
  {
   "cell_type": "markdown",
   "id": "94f4a215-8b19-4191-93cd-6f39f711ce97",
   "metadata": {},
   "source": [
    "### sample script 00-06 ###"
   ]
  },
  {
   "cell_type": "code",
   "execution_count": null,
   "id": "a259067f-4b8e-451f-a854-55e9d5f27834",
   "metadata": {},
   "outputs": [],
   "source": [
    "# run this cell to show the source code #\n",
    "\n",
    "!cat advobs202302_s01_00_06.py"
   ]
  },
  {
   "cell_type": "code",
   "execution_count": null,
   "id": "fb9cff27-047d-4b98-bfec-64b9567f795a",
   "metadata": {},
   "outputs": [],
   "source": [
    "# run this cell to execute the script #\n",
    "\n",
    "!python3.9 advobs202302_s01_00_06.py"
   ]
  },
  {
   "cell_type": "markdown",
   "id": "b17f92c6-33f8-4b2c-96a0-8086944f8902",
   "metadata": {},
   "source": [
    "### sample script 00-07 ###"
   ]
  },
  {
   "cell_type": "code",
   "execution_count": null,
   "id": "55c072b9-f011-4960-8a50-ae8c66c804ad",
   "metadata": {},
   "outputs": [],
   "source": [
    "# run this cell to show the source code #\n",
    "\n",
    "!cat advobs202302_s01_00_07.py"
   ]
  },
  {
   "cell_type": "code",
   "execution_count": null,
   "id": "894fe0f8-2544-4a1a-a059-7d15be6c39d1",
   "metadata": {},
   "outputs": [],
   "source": [
    "# run this cell to execute the script #\n",
    "\n",
    "!python3.9 advobs202302_s01_00_07.py"
   ]
  },
  {
   "cell_type": "markdown",
   "id": "c6ac3077-777f-4fdb-8386-a65cb3a59d92",
   "metadata": {},
   "source": [
    "### sample script 00-08 ###"
   ]
  },
  {
   "cell_type": "code",
   "execution_count": null,
   "id": "fe63bc76-8633-4428-b88d-08cdf179de28",
   "metadata": {},
   "outputs": [],
   "source": [
    "# run this cell to show the source code #\n",
    "\n",
    "!cat advobs202302_s01_00_08.py"
   ]
  },
  {
   "cell_type": "code",
   "execution_count": null,
   "id": "e2e455fb-7da2-4ccf-a17e-a2ad2511c869",
   "metadata": {},
   "outputs": [],
   "source": [
    "# run this cell to execute the script #\n",
    "\n",
    "!python3.9 advobs202302_s01_00_08.py"
   ]
  },
  {
   "cell_type": "markdown",
   "id": "f0beb452-bf00-4a3a-a6b9-b26e34ffd5c4",
   "metadata": {},
   "source": [
    "### sample script 00-09 ###"
   ]
  },
  {
   "cell_type": "code",
   "execution_count": null,
   "id": "fbc65f39-6157-4e90-9c4c-89cd7cdc8cd5",
   "metadata": {},
   "outputs": [],
   "source": [
    "# run this cell to show the source code #\n",
    "\n",
    "!cat advobs202302_s01_00_09.py"
   ]
  },
  {
   "cell_type": "code",
   "execution_count": null,
   "id": "fe5082bb-f96b-450c-88c0-529a2e842d69",
   "metadata": {},
   "outputs": [],
   "source": [
    "# run this cell to execute the script #\n",
    "\n",
    "!python3.9 advobs202302_s01_00_09.py"
   ]
  },
  {
   "cell_type": "markdown",
   "id": "31b35fc7-23c9-46b8-bbf6-829d7a134f15",
   "metadata": {},
   "source": [
    "### sample script 00-10 ###"
   ]
  },
  {
   "cell_type": "code",
   "execution_count": null,
   "id": "f6e5abf6-8b60-4e43-8d14-5189eea14b24",
   "metadata": {},
   "outputs": [],
   "source": [
    "# run this cell to show the source code #\n",
    "\n",
    "!cat advobs202302_s01_00_10.py"
   ]
  },
  {
   "cell_type": "code",
   "execution_count": null,
   "id": "70bebca0-d47b-4000-bc29-abe8e12905bb",
   "metadata": {},
   "outputs": [],
   "source": [
    "# run this cell to execute the script #\n",
    "\n",
    "!python3.9 advobs202302_s01_00_10.py"
   ]
  },
  {
   "cell_type": "markdown",
   "id": "88bc6e38-36af-49b4-b35f-d526ecd565ba",
   "metadata": {},
   "source": [
    "### sample script 00-11 ###"
   ]
  },
  {
   "cell_type": "code",
   "execution_count": null,
   "id": "098af6ef-ea49-48e0-8d07-77dcf4cbb46c",
   "metadata": {},
   "outputs": [],
   "source": [
    "# run this cell to show the source code #\n",
    "\n",
    "!cat advobs202302_s01_00_11.py"
   ]
  },
  {
   "cell_type": "code",
   "execution_count": null,
   "id": "446f1f16-6a66-4414-a4d7-a580abf29c3c",
   "metadata": {},
   "outputs": [],
   "source": [
    "# run this cell to execute the script #\n",
    "\n",
    "!python3.9 advobs202302_s01_00_11.py"
   ]
  },
  {
   "cell_type": "markdown",
   "id": "23a0e70b-b2d0-42b3-87b5-8fdd3abe822e",
   "metadata": {},
   "source": [
    "### sample script 00-12 ###"
   ]
  },
  {
   "cell_type": "code",
   "execution_count": null,
   "id": "e3372bf5-5f78-4678-8eb8-17388881686c",
   "metadata": {},
   "outputs": [],
   "source": [
    "# run this cell to show the source code #\n",
    "\n",
    "!cat advobs202302_s01_00_12.py"
   ]
  },
  {
   "cell_type": "code",
   "execution_count": null,
   "id": "d551c367-4d10-4f89-ac51-8b2d209a9115",
   "metadata": {},
   "outputs": [],
   "source": [
    "# run this cell to execute the script #\n",
    "\n",
    "!python3.9 advobs202302_s01_00_12.py"
   ]
  },
  {
   "cell_type": "markdown",
   "id": "491acaad-1b35-4944-addb-15e9bcc7b636",
   "metadata": {},
   "source": [
    "### sample script 00-13 ###"
   ]
  },
  {
   "cell_type": "code",
   "execution_count": null,
   "id": "12a4f563-e6f0-4136-b2a7-fa054db5b46a",
   "metadata": {},
   "outputs": [],
   "source": [
    "# run this cell to show the source code #\n",
    "\n",
    "!cat advobs202302_s01_00_13.py"
   ]
  },
  {
   "cell_type": "code",
   "execution_count": null,
   "id": "aaec12c6-7f5f-441f-8d88-b8dcff7f7952",
   "metadata": {},
   "outputs": [],
   "source": [
    "# run this cell to execute the script #\n",
    "\n",
    "!python3.9 advobs202302_s01_00_13.py"
   ]
  },
  {
   "cell_type": "markdown",
   "id": "004fd7a0-f546-47f8-89e0-b3f08527d1ec",
   "metadata": {},
   "source": [
    "### sample script 01-00 ###"
   ]
  },
  {
   "cell_type": "code",
   "execution_count": null,
   "id": "4b94e886-7a9c-406f-8b35-05e9e31ac986",
   "metadata": {},
   "outputs": [],
   "source": [
    "# run this cell to show the source code #\n",
    "\n",
    "!cat advobs202302_s01_01_00.py"
   ]
  },
  {
   "cell_type": "code",
   "execution_count": null,
   "id": "48573721-2452-4394-85d7-4e4501cc90de",
   "metadata": {},
   "outputs": [],
   "source": [
    "# run this cell to execute the script #\n",
    "\n",
    "!python3.9 advobs202302_s01_01_00.py"
   ]
  },
  {
   "cell_type": "markdown",
   "id": "9ff07c93-327d-4c24-89c8-6d598b7d65ca",
   "metadata": {},
   "source": [
    "### sample script 01-01 ###"
   ]
  },
  {
   "cell_type": "code",
   "execution_count": null,
   "id": "2b80020a-67dc-457c-80fd-3a4bd2fff7a0",
   "metadata": {},
   "outputs": [],
   "source": [
    "# run this cell to show the source code #\n",
    "\n",
    "!cat advobs202302_s01_01_01.py"
   ]
  },
  {
   "cell_type": "code",
   "execution_count": null,
   "id": "7e6c4a23-c445-48a4-8935-9ccbb55d780a",
   "metadata": {},
   "outputs": [],
   "source": [
    "# run this cell to execute the script #\n",
    "\n",
    "!python3.9 advobs202302_s01_01_01.py"
   ]
  },
  {
   "cell_type": "markdown",
   "id": "adc676e6-7d5c-4c75-abf9-f24e91d06cd3",
   "metadata": {},
   "source": [
    "### sample script 01-02 ###"
   ]
  },
  {
   "cell_type": "code",
   "execution_count": null,
   "id": "cf55f4cc-4ed0-4ce6-95d9-f0731d1a47c2",
   "metadata": {},
   "outputs": [],
   "source": [
    "# run this cell to show the source code #\n",
    "\n",
    "!cat advobs202302_s01_01_02.py"
   ]
  },
  {
   "cell_type": "code",
   "execution_count": null,
   "id": "1e95e32f-b57a-42a5-91f4-1fdf2b6b08a4",
   "metadata": {},
   "outputs": [],
   "source": [
    "# run this cell to execute the script #\n",
    "\n",
    "!python3.9 advobs202302_s01_01_02.py"
   ]
  },
  {
   "cell_type": "markdown",
   "id": "3decc17a-6d97-468f-ae24-1f83942dd2ee",
   "metadata": {},
   "source": [
    "### sample script 01-03 ###"
   ]
  },
  {
   "cell_type": "code",
   "execution_count": null,
   "id": "fa4b592b-2b57-4567-8803-0adc42f20b9f",
   "metadata": {},
   "outputs": [],
   "source": [
    "# run this cell to show the source code #\n",
    "\n",
    "!cat advobs202302_s01_01_03.py"
   ]
  },
  {
   "cell_type": "code",
   "execution_count": null,
   "id": "a4fe89a7-4117-413d-9262-839372c0fc65",
   "metadata": {},
   "outputs": [],
   "source": [
    "# run this cell to execute the script #\n",
    "\n",
    "!python3.9 advobs202302_s01_01_03.py"
   ]
  },
  {
   "cell_type": "markdown",
   "id": "dd71a0cc-ccc9-401f-838c-4ebf1c4c8dcf",
   "metadata": {},
   "source": [
    "### sample script 01-04 ###"
   ]
  },
  {
   "cell_type": "code",
   "execution_count": null,
   "id": "fed6405d-ca4e-402e-89b2-0d0a9c769f2c",
   "metadata": {},
   "outputs": [],
   "source": [
    "# run this cell to show the source code #\n",
    "\n",
    "!cat advobs202302_s01_01_04.py"
   ]
  },
  {
   "cell_type": "code",
   "execution_count": null,
   "id": "a26203c3-54ea-4879-b433-b7bbd80fd836",
   "metadata": {},
   "outputs": [],
   "source": [
    "# run this cell to execute the script #\n",
    "\n",
    "!python3.9 advobs202302_s01_01_04.py"
   ]
  },
  {
   "cell_type": "markdown",
   "id": "8331d25d-6515-448d-9f81-cff80c22bd8f",
   "metadata": {},
   "source": [
    "### sample script 01-05 ###"
   ]
  },
  {
   "cell_type": "code",
   "execution_count": null,
   "id": "4fd7bc53-f021-471a-a4d2-e14e9c1ba5c0",
   "metadata": {},
   "outputs": [],
   "source": [
    "# run this cell to show the source code #\n",
    "\n",
    "!cat advobs202302_s01_01_05.py"
   ]
  },
  {
   "cell_type": "code",
   "execution_count": null,
   "id": "f91fae58-adca-4fc4-a968-6801795c8011",
   "metadata": {},
   "outputs": [],
   "source": [
    "# run this cell to execute the script #\n",
    "\n",
    "!python3.9 advobs202302_s01_01_05.py"
   ]
  },
  {
   "cell_type": "markdown",
   "id": "e12c2dda-5497-455d-979e-da140d3a302f",
   "metadata": {},
   "source": [
    "### sample script 01-06 ###"
   ]
  },
  {
   "cell_type": "code",
   "execution_count": null,
   "id": "612ecc25-527a-40b0-8c3a-97eaf65345e3",
   "metadata": {},
   "outputs": [],
   "source": [
    "# run this cell to show the source code #\n",
    "\n",
    "!cat advobs202302_s01_01_06.py"
   ]
  },
  {
   "cell_type": "code",
   "execution_count": null,
   "id": "5ad347c4-d724-4488-ae13-9559c7007785",
   "metadata": {},
   "outputs": [],
   "source": [
    "# run this cell to execute the script #\n",
    "\n",
    "!python3.9 advobs202302_s01_01_06.py"
   ]
  },
  {
   "cell_type": "markdown",
   "id": "1325c135-e78d-46f2-94bb-d071de3d9477",
   "metadata": {},
   "source": [
    "### sample script 01-07 ###"
   ]
  },
  {
   "cell_type": "code",
   "execution_count": null,
   "id": "49ecd345-c3c0-4aef-a033-2f288591f538",
   "metadata": {},
   "outputs": [],
   "source": [
    "# run this cell to show the source code #\n",
    "\n",
    "!cat advobs202302_s01_01_07.py"
   ]
  },
  {
   "cell_type": "code",
   "execution_count": null,
   "id": "87f6c0f1-175b-4e30-9dc5-98d7756c87fa",
   "metadata": {},
   "outputs": [],
   "source": [
    "# run this cell to execute the script #\n",
    "\n",
    "!python3.9 advobs202302_s01_01_07.py"
   ]
  },
  {
   "cell_type": "markdown",
   "id": "3bb9fbc0-7b26-431b-9ca4-401b47fab3fd",
   "metadata": {},
   "source": [
    "### sample script 01-08 ###"
   ]
  },
  {
   "cell_type": "code",
   "execution_count": null,
   "id": "ed278960-d964-49df-8f72-c658f4d9aeee",
   "metadata": {},
   "outputs": [],
   "source": [
    "# run this cell to show the source code #\n",
    "\n",
    "!cat advobs202302_s01_01_08.py"
   ]
  },
  {
   "cell_type": "code",
   "execution_count": null,
   "id": "101c99d7-c28f-46a1-9b7c-9bd9c710adab",
   "metadata": {},
   "outputs": [],
   "source": [
    "# run this cell to execute the script #\n",
    "\n",
    "!python3.9 advobs202302_s01_01_08.py"
   ]
  },
  {
   "cell_type": "markdown",
   "id": "da27a83a-d1d0-41c1-97e6-bac3a3c976d1",
   "metadata": {},
   "source": [
    "### sample script 01-09 ###"
   ]
  },
  {
   "cell_type": "code",
   "execution_count": null,
   "id": "1e811b3f-f36c-414a-aa67-0afaf8cc07c5",
   "metadata": {},
   "outputs": [],
   "source": [
    "# run this cell to show the source code #\n",
    "\n",
    "!cat advobs202302_s01_01_09.py"
   ]
  },
  {
   "cell_type": "code",
   "execution_count": null,
   "id": "ffd421cf-a70a-4565-81dd-8acd60645c93",
   "metadata": {},
   "outputs": [],
   "source": [
    "# run this cell to execute the script #\n",
    "\n",
    "!python3.9 advobs202302_s01_01_09.py"
   ]
  },
  {
   "cell_type": "markdown",
   "id": "cbe752ea-0133-46be-afd6-2f9eb12d5663",
   "metadata": {},
   "source": [
    "### sample script 01-10 ###"
   ]
  },
  {
   "cell_type": "code",
   "execution_count": null,
   "id": "3e37bd8b-3983-41e5-aba6-cb73e6303a9a",
   "metadata": {},
   "outputs": [],
   "source": [
    "# run this cell to show the source code #\n",
    "\n",
    "!cat advobs202302_s01_01_10.py"
   ]
  },
  {
   "cell_type": "code",
   "execution_count": null,
   "id": "12d4c630-4acc-4491-9330-f744bd789e2b",
   "metadata": {},
   "outputs": [],
   "source": [
    "# run this cell to execute the script #\n",
    "\n",
    "!python3.9 advobs202302_s01_01_10.py"
   ]
  },
  {
   "cell_type": "markdown",
   "id": "9ebde7ef-c0f3-46e0-b701-b84ceb4520b6",
   "metadata": {},
   "source": [
    "### sample script 01-11 ###"
   ]
  },
  {
   "cell_type": "code",
   "execution_count": null,
   "id": "8ce834d5-d608-4e32-af6f-8ecbac0331fc",
   "metadata": {},
   "outputs": [],
   "source": [
    "# run this cell to show the source code #\n",
    "\n",
    "!cat advobs202302_s01_01_11.py"
   ]
  },
  {
   "cell_type": "code",
   "execution_count": null,
   "id": "44f911ec-8255-4276-9509-fa2b9dc901cd",
   "metadata": {},
   "outputs": [],
   "source": [
    "# run this cell to execute the script #\n",
    "\n",
    "!python3.9 advobs202302_s01_01_11.py"
   ]
  },
  {
   "cell_type": "markdown",
   "id": "f59396c6-b503-426c-8331-c34556929d46",
   "metadata": {},
   "source": [
    "### sample script 01-12 ###"
   ]
  },
  {
   "cell_type": "code",
   "execution_count": null,
   "id": "ddcd4511-2d12-4610-b4f2-81bcdf211a61",
   "metadata": {},
   "outputs": [],
   "source": [
    "# run this cell to show the source code #\n",
    "\n",
    "!cat advobs202302_s01_01_12.py"
   ]
  },
  {
   "cell_type": "code",
   "execution_count": null,
   "id": "b6ab001f-6186-41bf-a8b9-2685e39a90f8",
   "metadata": {},
   "outputs": [],
   "source": [
    "# run this cell to execute the script #\n",
    "\n",
    "!python3.9 advobs202302_s01_01_12.py"
   ]
  },
  {
   "cell_type": "markdown",
   "id": "96d799fa-2f8d-4bd1-9f7c-5e29c26c1f0b",
   "metadata": {},
   "source": [
    "### sample script 01-13 ###"
   ]
  },
  {
   "cell_type": "code",
   "execution_count": null,
   "id": "1c88fa9f-f365-4beb-8424-4b93e9217aea",
   "metadata": {},
   "outputs": [],
   "source": [
    "# run this cell to show the source code #\n",
    "\n",
    "!cat advobs202302_s01_01_13.py"
   ]
  },
  {
   "cell_type": "code",
   "execution_count": null,
   "id": "46aed4d3-7405-4442-923a-75ac0518e622",
   "metadata": {},
   "outputs": [],
   "source": [
    "# run this cell to execute the script #\n",
    "\n",
    "!python3.9 advobs202302_s01_01_13.py"
   ]
  },
  {
   "cell_type": "markdown",
   "id": "64f2e2b0-766b-4993-aaad-344c51a62411",
   "metadata": {},
   "source": [
    "### sample script 01-14 ###"
   ]
  },
  {
   "cell_type": "code",
   "execution_count": null,
   "id": "02435b55-1869-468e-bcb4-82ea446c6df5",
   "metadata": {},
   "outputs": [],
   "source": [
    "# run this cell to show the source code #\n",
    "\n",
    "!cat advobs202302_s01_01_14.py"
   ]
  },
  {
   "cell_type": "code",
   "execution_count": null,
   "id": "a5af5bf9-88e7-4769-b0a9-7dec28d65d2c",
   "metadata": {},
   "outputs": [],
   "source": [
    "# run this cell to execute the script #\n",
    "\n",
    "!python3.9 advobs202302_s01_01_14.py"
   ]
  },
  {
   "cell_type": "markdown",
   "id": "2861eff6-7a07-420f-a921-9cbd949f1247",
   "metadata": {},
   "source": [
    "### sample script 01-15 ###"
   ]
  },
  {
   "cell_type": "code",
   "execution_count": null,
   "id": "70f8996e-437f-4c79-8aec-b41a80b14195",
   "metadata": {},
   "outputs": [],
   "source": [
    "# run this cell to show the source code #\n",
    "\n",
    "!cat advobs202302_s01_01_15.py"
   ]
  },
  {
   "cell_type": "code",
   "execution_count": null,
   "id": "efd10d99-869a-4417-b4a0-828db9e0c9e8",
   "metadata": {},
   "outputs": [],
   "source": [
    "# run this cell to execute the script #\n",
    "\n",
    "!python3.9 advobs202302_s01_01_15.py"
   ]
  },
  {
   "cell_type": "markdown",
   "id": "9caa7cfd-365a-4049-85ea-a5de044a8f0b",
   "metadata": {},
   "source": [
    "### sample script 02-00 ###"
   ]
  },
  {
   "cell_type": "code",
   "execution_count": null,
   "id": "968e0261-5285-4816-8d4c-612cdfddf803",
   "metadata": {},
   "outputs": [],
   "source": [
    "# run this cell to show the source code #\n",
    "\n",
    "!cat advobs202302_s01_02_00.py"
   ]
  },
  {
   "cell_type": "code",
   "execution_count": null,
   "id": "268ee120-863e-42d2-bf6c-f7cb6a32a4fa",
   "metadata": {},
   "outputs": [],
   "source": [
    "# run this cell to execute the script #\n",
    "\n",
    "!python3.9 advobs202302_s01_02_00.py"
   ]
  },
  {
   "cell_type": "markdown",
   "id": "e6fffeea-1325-44fc-9f68-01450338859a",
   "metadata": {},
   "source": [
    "### sample script 02-01 ###"
   ]
  },
  {
   "cell_type": "code",
   "execution_count": null,
   "id": "094c56e5-74de-4bcb-afc5-9864f8cffb1b",
   "metadata": {},
   "outputs": [],
   "source": [
    "# run this cell to show the source code #\n",
    "\n",
    "!cat advobs202302_s01_02_01.py"
   ]
  },
  {
   "cell_type": "code",
   "execution_count": null,
   "id": "8f81c33f-72f9-4041-9573-91d25e4680da",
   "metadata": {},
   "outputs": [],
   "source": [
    "# run this cell to execute the script #\n",
    "\n",
    "!python3.9 advobs202302_s01_02_01.py"
   ]
  },
  {
   "cell_type": "markdown",
   "id": "3f75c6f1-8f57-4bfb-995a-80296daf1ea4",
   "metadata": {},
   "source": [
    "### sample script 02-02 ###"
   ]
  },
  {
   "cell_type": "code",
   "execution_count": null,
   "id": "6ef63c3a-8143-4599-a7f7-0a8faa386f81",
   "metadata": {},
   "outputs": [],
   "source": [
    "# run this cell to show the source code #\n",
    "\n",
    "!cat advobs202302_s01_02_02.py"
   ]
  },
  {
   "cell_type": "code",
   "execution_count": null,
   "id": "41c40228-cea5-464d-8b4b-94851e6512f9",
   "metadata": {},
   "outputs": [],
   "source": [
    "# run this cell to execute the script #\n",
    "\n",
    "!python3.9 advobs202302_s01_02_02.py"
   ]
  },
  {
   "cell_type": "markdown",
   "id": "6a393753-74fd-488c-9cb7-a20d12376ecc",
   "metadata": {},
   "source": [
    "### sample script 02-03 ###"
   ]
  },
  {
   "cell_type": "code",
   "execution_count": null,
   "id": "88dd3c45-1a79-4140-8319-7292d5676df1",
   "metadata": {},
   "outputs": [],
   "source": [
    "# run this cell to show the source code #\n",
    "\n",
    "!cat advobs202302_s01_02_03.py"
   ]
  },
  {
   "cell_type": "code",
   "execution_count": null,
   "id": "bece9a44-4118-4610-90d4-0a9b874f4c7a",
   "metadata": {},
   "outputs": [],
   "source": [
    "# run this cell to execute the script #\n",
    "\n",
    "!python3.9 advobs202302_s01_02_03.py"
   ]
  },
  {
   "cell_type": "markdown",
   "id": "bf6d3e2c-5b2a-44d5-bc51-72e30f5ceaa6",
   "metadata": {},
   "source": [
    "### sample script 02-04 ###"
   ]
  },
  {
   "cell_type": "code",
   "execution_count": null,
   "id": "6996bdde-a24c-41ff-aaf6-4afed0eaf3ea",
   "metadata": {},
   "outputs": [],
   "source": [
    "# run this cell to show the source code #\n",
    "\n",
    "!cat advobs202302_s01_02_04.py"
   ]
  },
  {
   "cell_type": "code",
   "execution_count": null,
   "id": "a57c923d-5871-40a4-9927-05f05d4b892e",
   "metadata": {},
   "outputs": [],
   "source": [
    "# run this cell to execute the script #\n",
    "\n",
    "!python3.9 advobs202302_s01_02_04.py"
   ]
  },
  {
   "cell_type": "markdown",
   "id": "127eca3d-2638-40d4-aaa8-2742c823a355",
   "metadata": {},
   "source": [
    "### sample script 02-05 ###"
   ]
  },
  {
   "cell_type": "code",
   "execution_count": null,
   "id": "190f2559-7b17-46dc-a83b-ddbd08ef2e48",
   "metadata": {},
   "outputs": [],
   "source": [
    "# run this cell to show the source code #\n",
    "\n",
    "!cat advobs202302_s01_02_05.py"
   ]
  },
  {
   "cell_type": "code",
   "execution_count": null,
   "id": "d46f64a2-f50e-4788-afb8-91c2ac906afd",
   "metadata": {},
   "outputs": [],
   "source": [
    "# run this cell to execute the script #\n",
    "\n",
    "!python3.9 advobs202302_s01_02_05.py"
   ]
  },
  {
   "cell_type": "markdown",
   "id": "79ae4840-0022-45c4-946b-9862299931ff",
   "metadata": {},
   "source": [
    "### sample script 02-06 ###"
   ]
  },
  {
   "cell_type": "code",
   "execution_count": null,
   "id": "7078bcba-e038-4378-a067-689658837091",
   "metadata": {},
   "outputs": [],
   "source": [
    "# run this cell to show the source code #\n",
    "\n",
    "!cat advobs202302_s01_02_06.py"
   ]
  },
  {
   "cell_type": "code",
   "execution_count": null,
   "id": "b788fc43-bb1b-43a1-b32f-0b613e4949da",
   "metadata": {},
   "outputs": [],
   "source": [
    "# run this cell to execute the script #\n",
    "\n",
    "!python3.9 advobs202302_s01_02_06.py"
   ]
  },
  {
   "cell_type": "markdown",
   "id": "9be43703-9858-4ea6-9f96-52c2d8b3cc0e",
   "metadata": {},
   "source": [
    "### sample script 02-07 ###"
   ]
  },
  {
   "cell_type": "code",
   "execution_count": null,
   "id": "fc617b9f-3f5b-4561-867b-34826ee78423",
   "metadata": {},
   "outputs": [],
   "source": [
    "# run this cell to show the source code #\n",
    "\n",
    "!cat advobs202302_s01_02_07.py"
   ]
  },
  {
   "cell_type": "code",
   "execution_count": null,
   "id": "0fe37b4a-59ef-42de-9483-49d123bab56c",
   "metadata": {},
   "outputs": [],
   "source": [
    "# run this cell to execute the script #\n",
    "\n",
    "!python3.9 advobs202302_s01_02_07.py"
   ]
  },
  {
   "cell_type": "markdown",
   "id": "cc11a770-a7f8-4f7d-8ecf-6e0e1e842245",
   "metadata": {},
   "source": [
    "### sample script 03-00 ###"
   ]
  },
  {
   "cell_type": "code",
   "execution_count": null,
   "id": "22604614-5596-40d3-9321-b11db76b2ec6",
   "metadata": {},
   "outputs": [],
   "source": [
    "# run this cell to show the source code #\n",
    "\n",
    "!cat advobs202302_s01_03_00.py"
   ]
  },
  {
   "cell_type": "code",
   "execution_count": null,
   "id": "f174d36c-c3cb-4356-921c-3ee1ea0b2a96",
   "metadata": {},
   "outputs": [],
   "source": [
    "# run this cell to execute the script #\n",
    "\n",
    "!python3.9 advobs202302_s01_03_00.py"
   ]
  },
  {
   "cell_type": "markdown",
   "id": "9858bde8-6504-4546-9804-1bc9b58c3df6",
   "metadata": {},
   "source": [
    "### sample script 03-01 ###"
   ]
  },
  {
   "cell_type": "code",
   "execution_count": null,
   "id": "86e87df5-c696-4c78-a62e-4ad800f44211",
   "metadata": {},
   "outputs": [],
   "source": [
    "# run this cell to show the source code #\n",
    "\n",
    "!cat advobs202302_s01_03_01.py"
   ]
  },
  {
   "cell_type": "code",
   "execution_count": null,
   "id": "88512051-d3e6-4681-9af9-d9492fcce083",
   "metadata": {},
   "outputs": [],
   "source": [
    "# run this cell to execute the script #\n",
    "\n",
    "!python3.9 advobs202302_s01_03_01.py"
   ]
  },
  {
   "cell_type": "markdown",
   "id": "147a9054-fbf1-4691-b1c0-81cf66791690",
   "metadata": {},
   "source": [
    "### sample script 04-00 ###"
   ]
  },
  {
   "cell_type": "code",
   "execution_count": null,
   "id": "775eef56-32af-4caa-b361-daebddeb17b4",
   "metadata": {},
   "outputs": [],
   "source": [
    "# run this cell to show the source code #\n",
    "\n",
    "!cat advobs202302_s01_04_00.py"
   ]
  },
  {
   "cell_type": "code",
   "execution_count": null,
   "id": "54b60380-a492-46a2-97ec-6728bc5bf754",
   "metadata": {},
   "outputs": [],
   "source": [
    "# run this cell to execute the script #\n",
    "\n",
    "!python3.9 advobs202302_s01_04_00.py"
   ]
  },
  {
   "cell_type": "markdown",
   "id": "bf671dc9-f4f5-4a6c-8289-8189c014a433",
   "metadata": {},
   "source": [
    "### sample script 04-01 ###"
   ]
  },
  {
   "cell_type": "code",
   "execution_count": null,
   "id": "59ca5a15-8a36-4264-8ea9-7d12beba0f8e",
   "metadata": {},
   "outputs": [],
   "source": [
    "# run this cell to show the source code #\n",
    "\n",
    "!cat advobs202302_s01_04_01.py"
   ]
  },
  {
   "cell_type": "code",
   "execution_count": null,
   "id": "878ac501-a525-4a7a-ba6f-e55e87b5de8b",
   "metadata": {},
   "outputs": [],
   "source": [
    "# run this cell to execute the script #\n",
    "\n",
    "!python3.9 advobs202302_s01_04_01.py"
   ]
  },
  {
   "cell_type": "markdown",
   "id": "1b471323-5909-40ca-ba73-76d9d141ea06",
   "metadata": {},
   "source": [
    "### sample script 04-02 ###"
   ]
  },
  {
   "cell_type": "code",
   "execution_count": null,
   "id": "5fc1c5cc-3195-478e-a346-3e7561726f8d",
   "metadata": {},
   "outputs": [],
   "source": [
    "# run this cell to show the source code #\n",
    "\n",
    "!cat advobs202302_s01_04_02.py"
   ]
  },
  {
   "cell_type": "code",
   "execution_count": null,
   "id": "1f6ebb58-9778-448f-860e-45de3b97f63c",
   "metadata": {},
   "outputs": [],
   "source": [
    "# run this cell to execute the script #\n",
    "\n",
    "!python3.9 advobs202302_s01_04_02.py"
   ]
  },
  {
   "cell_type": "markdown",
   "id": "a0eb9081-7b6d-430b-8010-91de07dd6fec",
   "metadata": {},
   "source": [
    "### sample script 04-03 ###"
   ]
  },
  {
   "cell_type": "code",
   "execution_count": null,
   "id": "e1b90d9e-9511-4698-ae4a-5ec9cde0cf6a",
   "metadata": {},
   "outputs": [],
   "source": [
    "# run this cell to show the source code #\n",
    "\n",
    "!cat advobs202302_s01_04_03.py"
   ]
  },
  {
   "cell_type": "code",
   "execution_count": null,
   "id": "db8c43ea-c407-4d6a-aec0-4d1a159782a2",
   "metadata": {},
   "outputs": [],
   "source": [
    "# run this cell to execute the script #\n",
    "\n",
    "!python3.9 advobs202302_s01_04_03.py"
   ]
  },
  {
   "cell_type": "markdown",
   "id": "4961e185-d48b-4f37-80dd-bdda977d6cf2",
   "metadata": {},
   "source": [
    "### sample script 04-04 ###"
   ]
  },
  {
   "cell_type": "code",
   "execution_count": null,
   "id": "b4630c66-29b7-4095-9914-490ebf8459fd",
   "metadata": {},
   "outputs": [],
   "source": [
    "# run this cell to show the source code #\n",
    "\n",
    "!cat advobs202302_s01_04_04.py"
   ]
  },
  {
   "cell_type": "code",
   "execution_count": null,
   "id": "1c1fa0cc-b712-4a36-b1b0-49e087eb6ef1",
   "metadata": {},
   "outputs": [],
   "source": [
    "# run this cell to execute the script #\n",
    "\n",
    "!python3.9 advobs202302_s01_04_04.py"
   ]
  },
  {
   "cell_type": "markdown",
   "id": "69bf409a-b8d9-4173-9e9e-47fc38b8c9db",
   "metadata": {},
   "source": [
    "### sample script 05-00 ###"
   ]
  },
  {
   "cell_type": "code",
   "execution_count": null,
   "id": "0ffde5cd-da81-4f4e-a999-85cb8baf6998",
   "metadata": {},
   "outputs": [],
   "source": [
    "# run this cell to download the data file #\n",
    "\n",
    "!curl -k -o prime.txt https://primes.utm.edu/lists/small/1000.txt"
   ]
  },
  {
   "cell_type": "code",
   "execution_count": null,
   "id": "a9fe0c45-f110-4a02-8cfe-69b35ea1e315",
   "metadata": {},
   "outputs": [],
   "source": [
    "# run this cell to check downloaded file #\n",
    "\n",
    "!ls -lF prime.txt"
   ]
  },
  {
   "cell_type": "code",
   "execution_count": null,
   "id": "d0449d8f-23af-461f-bbc0-8a25d269b63d",
   "metadata": {},
   "outputs": [],
   "source": [
    "# run this cell to show the source code #\n",
    "\n",
    "!cat advobs202302_s01_05_00.py"
   ]
  },
  {
   "cell_type": "code",
   "execution_count": null,
   "id": "cc242d6d-dddd-434d-8ee9-ffe531f4664e",
   "metadata": {},
   "outputs": [],
   "source": [
    "# run this cell to execute the script #\n",
    "\n",
    "!python3.9 advobs202302_s01_05_00.py"
   ]
  },
  {
   "cell_type": "markdown",
   "id": "89628924-4cf9-4b6a-b0dc-7bce5976ed17",
   "metadata": {},
   "source": [
    "### sample script 05-01 ###"
   ]
  },
  {
   "cell_type": "code",
   "execution_count": null,
   "id": "a822d016-bc86-4e03-82a3-337bbfa3ee2b",
   "metadata": {},
   "outputs": [],
   "source": [
    "# run this cell to download the data file #\n",
    "\n",
    "!curl -k -o fruits.data https://s3b.astro.ncu.edu.tw/advobs_202302/data/fruits.data"
   ]
  },
  {
   "cell_type": "code",
   "execution_count": null,
   "id": "0c26731e-fc92-49de-bfb2-722490e65a14",
   "metadata": {},
   "outputs": [],
   "source": [
    "# run this cell to check downloaded file #\n",
    "\n",
    "!ls -lF fruits.data"
   ]
  },
  {
   "cell_type": "code",
   "execution_count": null,
   "id": "21f9ebc7-e26d-4815-9a3b-faf3b7c214a1",
   "metadata": {},
   "outputs": [],
   "source": [
    "# run this cell to show the source code #\n",
    "\n",
    "!cat advobs202302_s01_05_01.py"
   ]
  },
  {
   "cell_type": "code",
   "execution_count": null,
   "id": "619d345f-024c-4afb-906f-a2c4fc767be2",
   "metadata": {},
   "outputs": [],
   "source": [
    "# run this cell to execute the script #\n",
    "\n",
    "!python3.9 advobs202302_s01_05_01.py"
   ]
  },
  {
   "cell_type": "markdown",
   "id": "4595e95e-98de-4f80-b345-d9509dd9e36b",
   "metadata": {},
   "source": [
    "### sample script 05-02 ###"
   ]
  },
  {
   "cell_type": "code",
   "execution_count": null,
   "id": "96153482-8cce-411b-aa85-8b2b33841fad",
   "metadata": {},
   "outputs": [],
   "source": [
    "# run this cell to show the source code #\n",
    "\n",
    "!cat advobs202302_s01_05_02.py"
   ]
  },
  {
   "cell_type": "code",
   "execution_count": null,
   "id": "540090d7-9ef9-4a8b-bdbd-57432f5168cf",
   "metadata": {},
   "outputs": [],
   "source": [
    "# run this cell to execute the script #\n",
    "\n",
    "!python3.9 advobs202302_s01_05_02.py"
   ]
  },
  {
   "cell_type": "code",
   "execution_count": null,
   "id": "9d153545-b347-4256-a6a0-4e50d937b079",
   "metadata": {},
   "outputs": [],
   "source": [
    "# run this cell to check created file #\n",
    "\n",
    "!ls -lF primenumbers.data"
   ]
  },
  {
   "cell_type": "code",
   "execution_count": null,
   "id": "b61c612f-68cb-4ae1-944c-e991920ded56",
   "metadata": {},
   "outputs": [],
   "source": [
    "# run this cell to print first a few of created file #\n",
    "\n",
    "!head primenumbers.data"
   ]
  },
  {
   "cell_type": "markdown",
   "id": "a4b9c7fc-16dd-4565-89f5-586d1e872010",
   "metadata": {},
   "source": [
    "### sample script 06-00 ###"
   ]
  },
  {
   "cell_type": "code",
   "execution_count": null,
   "id": "88ea5576-2fcb-48be-86c6-a2fe35bb3b68",
   "metadata": {},
   "outputs": [],
   "source": [
    "# run this cell to show the source code #\n",
    "\n",
    "!cat advobs202302_s01_06_00.py"
   ]
  },
  {
   "cell_type": "code",
   "execution_count": null,
   "id": "4204629b-671e-41dd-b25c-2ba2c7e635e3",
   "metadata": {},
   "outputs": [],
   "source": [
    "# run this cell to execute the script #\n",
    "\n",
    "!python3.9 advobs202302_s01_06_00.py"
   ]
  },
  {
   "cell_type": "markdown",
   "id": "cf1b14f1-f7e3-4057-b9cb-6a97fa8242b2",
   "metadata": {},
   "source": [
    "### sample script 07-00 ###"
   ]
  },
  {
   "cell_type": "code",
   "execution_count": null,
   "id": "34c27f45-ccdb-4a4d-817e-5e439b6475d8",
   "metadata": {},
   "outputs": [],
   "source": [
    "# run this cell to show the source code #\n",
    "\n",
    "!cat advobs202302_s01_07_00.py"
   ]
  },
  {
   "cell_type": "code",
   "execution_count": null,
   "id": "11104261-b68b-41e1-bdb2-b3e170e5e7b6",
   "metadata": {},
   "outputs": [],
   "source": [
    "# run this cell to execute the script #\n",
    "\n",
    "!python3.9 advobs202302_s01_07_00.py"
   ]
  },
  {
   "cell_type": "markdown",
   "id": "d14ee9d9-d0f9-4398-87cb-912da9d886aa",
   "metadata": {},
   "source": [
    "### sample script 07-01 ###"
   ]
  },
  {
   "cell_type": "code",
   "execution_count": null,
   "id": "df2854b6-d5b3-4395-b591-9d9ea448445f",
   "metadata": {},
   "outputs": [],
   "source": [
    "# run this cell to show the source code #\n",
    "\n",
    "!cat advobs202302_s01_07_01.py"
   ]
  },
  {
   "cell_type": "code",
   "execution_count": null,
   "id": "51886b5f-05f2-4d87-a3d9-3d078ab20b05",
   "metadata": {},
   "outputs": [],
   "source": [
    "# run this cell to execute the script #\n",
    "\n",
    "!python3.9 advobs202302_s01_07_01.py"
   ]
  },
  {
   "cell_type": "markdown",
   "id": "0f6848fc-aa22-4df6-b827-e02c0f3d2ea2",
   "metadata": {},
   "source": [
    "### sample script 07-02 ###"
   ]
  },
  {
   "cell_type": "code",
   "execution_count": null,
   "id": "01f51c00-fd70-4678-bcdd-9c77383a3f3e",
   "metadata": {},
   "outputs": [],
   "source": [
    "# run this cell to show the source code #\n",
    "\n",
    "!cat advobs202302_s01_07_02.py"
   ]
  },
  {
   "cell_type": "code",
   "execution_count": null,
   "id": "6b8c9bbf-e8ce-438e-a9c1-8e58d791f241",
   "metadata": {},
   "outputs": [],
   "source": [
    "# run this cell to execute the script #\n",
    "\n",
    "!python3.9 advobs202302_s01_07_02.py"
   ]
  },
  {
   "cell_type": "markdown",
   "id": "a7b833ce-11a9-4387-a65a-f2fef1636da0",
   "metadata": {},
   "source": [
    "### sample script 07-03 ###"
   ]
  },
  {
   "cell_type": "code",
   "execution_count": null,
   "id": "bcc404ac-af87-44b3-b981-f342b311fb6b",
   "metadata": {},
   "outputs": [],
   "source": [
    "# run this cell to show the source code #\n",
    "\n",
    "!cat advobs202302_s01_07_03.py"
   ]
  },
  {
   "cell_type": "code",
   "execution_count": null,
   "id": "5001401f-2770-42e7-bc81-f2c2c69626a2",
   "metadata": {},
   "outputs": [],
   "source": [
    "# run this cell to execute the script #\n",
    "\n",
    "!python3.9 advobs202302_s01_07_03.py"
   ]
  },
  {
   "cell_type": "markdown",
   "id": "13077810-468f-4571-a74c-7798089b5bde",
   "metadata": {},
   "source": [
    "### end of this notebook ###"
   ]
  },
  {
   "cell_type": "code",
   "execution_count": null,
   "id": "f060158d-ccbd-4224-aceb-32413e353d99",
   "metadata": {},
   "outputs": [],
   "source": []
  }
 ],
 "metadata": {
  "kernelspec": {
   "display_name": "Python 3 (ipykernel)",
   "language": "python",
   "name": "python3"
  },
  "language_info": {
   "codemirror_mode": {
    "name": "ipython",
    "version": 3
   },
   "file_extension": ".py",
   "mimetype": "text/x-python",
   "name": "python",
   "nbconvert_exporter": "python",
   "pygments_lexer": "ipython3",
   "version": "3.9.14"
  }
 },
 "nbformat": 4,
 "nbformat_minor": 5
}
